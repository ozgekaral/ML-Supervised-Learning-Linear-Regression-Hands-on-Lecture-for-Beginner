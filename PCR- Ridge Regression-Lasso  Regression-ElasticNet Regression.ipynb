{
 "cells": [
  {
   "cell_type": "markdown",
   "id": "a1b78bfc",
   "metadata": {},
   "source": [
    "### Principal Component Regression - PCR ### "
   ]
  },
  {
   "cell_type": "markdown",
   "id": "b7e7ccf1",
   "metadata": {},
   "source": [
    "In statistics, principal component regression (PCR) is a regression analysis technique that is based on principal component analysis (PCA)"
   ]
  },
  {
   "cell_type": "code",
   "execution_count": 119,
   "id": "9051b480",
   "metadata": {},
   "outputs": [],
   "source": [
    "import pandas as pd\n",
    "import numpy as np\n",
    "import seaborn as sns"
   ]
  },
  {
   "cell_type": "code",
   "execution_count": 211,
   "id": "93a404a2",
   "metadata": {
    "scrolled": true
   },
   "outputs": [
    {
     "data": {
      "text/html": [
       "<div>\n",
       "<style scoped>\n",
       "    .dataframe tbody tr th:only-of-type {\n",
       "        vertical-align: middle;\n",
       "    }\n",
       "\n",
       "    .dataframe tbody tr th {\n",
       "        vertical-align: top;\n",
       "    }\n",
       "\n",
       "    .dataframe thead th {\n",
       "        text-align: right;\n",
       "    }\n",
       "</style>\n",
       "<table border=\"1\" class=\"dataframe\">\n",
       "  <thead>\n",
       "    <tr style=\"text-align: right;\">\n",
       "      <th></th>\n",
       "      <th>mean_radius</th>\n",
       "      <th>mean_texture</th>\n",
       "      <th>mean_perimeter</th>\n",
       "      <th>mean_area</th>\n",
       "      <th>mean_smoothness</th>\n",
       "      <th>diagnosis</th>\n",
       "    </tr>\n",
       "  </thead>\n",
       "  <tbody>\n",
       "    <tr>\n",
       "      <th>0</th>\n",
       "      <td>17.99</td>\n",
       "      <td>10.38</td>\n",
       "      <td>122.80</td>\n",
       "      <td>1001.0</td>\n",
       "      <td>0.11840</td>\n",
       "      <td>0</td>\n",
       "    </tr>\n",
       "    <tr>\n",
       "      <th>1</th>\n",
       "      <td>20.57</td>\n",
       "      <td>17.77</td>\n",
       "      <td>132.90</td>\n",
       "      <td>1326.0</td>\n",
       "      <td>0.08474</td>\n",
       "      <td>0</td>\n",
       "    </tr>\n",
       "    <tr>\n",
       "      <th>2</th>\n",
       "      <td>19.69</td>\n",
       "      <td>21.25</td>\n",
       "      <td>130.00</td>\n",
       "      <td>1203.0</td>\n",
       "      <td>0.10960</td>\n",
       "      <td>0</td>\n",
       "    </tr>\n",
       "    <tr>\n",
       "      <th>3</th>\n",
       "      <td>11.42</td>\n",
       "      <td>20.38</td>\n",
       "      <td>77.58</td>\n",
       "      <td>386.1</td>\n",
       "      <td>0.14250</td>\n",
       "      <td>0</td>\n",
       "    </tr>\n",
       "    <tr>\n",
       "      <th>4</th>\n",
       "      <td>20.29</td>\n",
       "      <td>14.34</td>\n",
       "      <td>135.10</td>\n",
       "      <td>1297.0</td>\n",
       "      <td>0.10030</td>\n",
       "      <td>0</td>\n",
       "    </tr>\n",
       "  </tbody>\n",
       "</table>\n",
       "</div>"
      ],
      "text/plain": [
       "   mean_radius  mean_texture  mean_perimeter  mean_area  mean_smoothness  \\\n",
       "0        17.99         10.38          122.80     1001.0          0.11840   \n",
       "1        20.57         17.77          132.90     1326.0          0.08474   \n",
       "2        19.69         21.25          130.00     1203.0          0.10960   \n",
       "3        11.42         20.38           77.58      386.1          0.14250   \n",
       "4        20.29         14.34          135.10     1297.0          0.10030   \n",
       "\n",
       "   diagnosis  \n",
       "0          0  \n",
       "1          0  \n",
       "2          0  \n",
       "3          0  \n",
       "4          0  "
      ]
     },
     "execution_count": 211,
     "metadata": {},
     "output_type": "execute_result"
    }
   ],
   "source": [
    "df=pd.read_csv('Breast_cancer_data.csv')\n",
    "df.head(5)"
   ]
  },
  {
   "cell_type": "code",
   "execution_count": 212,
   "id": "0f670b83",
   "metadata": {},
   "outputs": [
    {
     "data": {
      "text/plain": [
       "mean_radius        0\n",
       "mean_texture       0\n",
       "mean_perimeter     0\n",
       "mean_area          0\n",
       "mean_smoothness    0\n",
       "diagnosis          0\n",
       "dtype: int64"
      ]
     },
     "execution_count": 212,
     "metadata": {},
     "output_type": "execute_result"
    }
   ],
   "source": [
    "df.isnull().sum()"
   ]
  },
  {
   "cell_type": "code",
   "execution_count": 213,
   "id": "3e60aad9",
   "metadata": {},
   "outputs": [
    {
     "data": {
      "text/html": [
       "<div>\n",
       "<style scoped>\n",
       "    .dataframe tbody tr th:only-of-type {\n",
       "        vertical-align: middle;\n",
       "    }\n",
       "\n",
       "    .dataframe tbody tr th {\n",
       "        vertical-align: top;\n",
       "    }\n",
       "\n",
       "    .dataframe thead th {\n",
       "        text-align: right;\n",
       "    }\n",
       "</style>\n",
       "<table border=\"1\" class=\"dataframe\">\n",
       "  <thead>\n",
       "    <tr style=\"text-align: right;\">\n",
       "      <th></th>\n",
       "      <th>count</th>\n",
       "      <th>mean</th>\n",
       "      <th>std</th>\n",
       "      <th>min</th>\n",
       "      <th>25%</th>\n",
       "      <th>50%</th>\n",
       "      <th>75%</th>\n",
       "      <th>max</th>\n",
       "    </tr>\n",
       "  </thead>\n",
       "  <tbody>\n",
       "    <tr>\n",
       "      <th>mean_radius</th>\n",
       "      <td>569.0</td>\n",
       "      <td>14.127292</td>\n",
       "      <td>3.524049</td>\n",
       "      <td>6.98100</td>\n",
       "      <td>11.70000</td>\n",
       "      <td>13.37000</td>\n",
       "      <td>15.7800</td>\n",
       "      <td>28.1100</td>\n",
       "    </tr>\n",
       "    <tr>\n",
       "      <th>mean_texture</th>\n",
       "      <td>569.0</td>\n",
       "      <td>19.289649</td>\n",
       "      <td>4.301036</td>\n",
       "      <td>9.71000</td>\n",
       "      <td>16.17000</td>\n",
       "      <td>18.84000</td>\n",
       "      <td>21.8000</td>\n",
       "      <td>39.2800</td>\n",
       "    </tr>\n",
       "    <tr>\n",
       "      <th>mean_perimeter</th>\n",
       "      <td>569.0</td>\n",
       "      <td>91.969033</td>\n",
       "      <td>24.298981</td>\n",
       "      <td>43.79000</td>\n",
       "      <td>75.17000</td>\n",
       "      <td>86.24000</td>\n",
       "      <td>104.1000</td>\n",
       "      <td>188.5000</td>\n",
       "    </tr>\n",
       "    <tr>\n",
       "      <th>mean_area</th>\n",
       "      <td>569.0</td>\n",
       "      <td>654.889104</td>\n",
       "      <td>351.914129</td>\n",
       "      <td>143.50000</td>\n",
       "      <td>420.30000</td>\n",
       "      <td>551.10000</td>\n",
       "      <td>782.7000</td>\n",
       "      <td>2501.0000</td>\n",
       "    </tr>\n",
       "    <tr>\n",
       "      <th>mean_smoothness</th>\n",
       "      <td>569.0</td>\n",
       "      <td>0.096360</td>\n",
       "      <td>0.014064</td>\n",
       "      <td>0.05263</td>\n",
       "      <td>0.08637</td>\n",
       "      <td>0.09587</td>\n",
       "      <td>0.1053</td>\n",
       "      <td>0.1634</td>\n",
       "    </tr>\n",
       "    <tr>\n",
       "      <th>diagnosis</th>\n",
       "      <td>569.0</td>\n",
       "      <td>0.627417</td>\n",
       "      <td>0.483918</td>\n",
       "      <td>0.00000</td>\n",
       "      <td>0.00000</td>\n",
       "      <td>1.00000</td>\n",
       "      <td>1.0000</td>\n",
       "      <td>1.0000</td>\n",
       "    </tr>\n",
       "  </tbody>\n",
       "</table>\n",
       "</div>"
      ],
      "text/plain": [
       "                 count        mean         std        min        25%  \\\n",
       "mean_radius      569.0   14.127292    3.524049    6.98100   11.70000   \n",
       "mean_texture     569.0   19.289649    4.301036    9.71000   16.17000   \n",
       "mean_perimeter   569.0   91.969033   24.298981   43.79000   75.17000   \n",
       "mean_area        569.0  654.889104  351.914129  143.50000  420.30000   \n",
       "mean_smoothness  569.0    0.096360    0.014064    0.05263    0.08637   \n",
       "diagnosis        569.0    0.627417    0.483918    0.00000    0.00000   \n",
       "\n",
       "                       50%       75%        max  \n",
       "mean_radius       13.37000   15.7800    28.1100  \n",
       "mean_texture      18.84000   21.8000    39.2800  \n",
       "mean_perimeter    86.24000  104.1000   188.5000  \n",
       "mean_area        551.10000  782.7000  2501.0000  \n",
       "mean_smoothness    0.09587    0.1053     0.1634  \n",
       "diagnosis          1.00000    1.0000     1.0000  "
      ]
     },
     "execution_count": 213,
     "metadata": {},
     "output_type": "execute_result"
    }
   ],
   "source": [
    "df.describe().T"
   ]
  },
  {
   "cell_type": "code",
   "execution_count": 214,
   "id": "bfc05d98",
   "metadata": {},
   "outputs": [
    {
     "name": "stdout",
     "output_type": "stream",
     "text": [
      "<class 'pandas.core.frame.DataFrame'>\n",
      "RangeIndex: 569 entries, 0 to 568\n",
      "Data columns (total 6 columns):\n",
      " #   Column           Non-Null Count  Dtype  \n",
      "---  ------           --------------  -----  \n",
      " 0   mean_radius      569 non-null    float64\n",
      " 1   mean_texture     569 non-null    float64\n",
      " 2   mean_perimeter   569 non-null    float64\n",
      " 3   mean_area        569 non-null    float64\n",
      " 4   mean_smoothness  569 non-null    float64\n",
      " 5   diagnosis        569 non-null    int64  \n",
      "dtypes: float64(5), int64(1)\n",
      "memory usage: 26.8 KB\n"
     ]
    }
   ],
   "source": [
    "df.info()"
   ]
  },
  {
   "cell_type": "code",
   "execution_count": 215,
   "id": "dfc289a9",
   "metadata": {},
   "outputs": [
    {
     "data": {
      "text/html": [
       "<div>\n",
       "<style scoped>\n",
       "    .dataframe tbody tr th:only-of-type {\n",
       "        vertical-align: middle;\n",
       "    }\n",
       "\n",
       "    .dataframe tbody tr th {\n",
       "        vertical-align: top;\n",
       "    }\n",
       "\n",
       "    .dataframe thead th {\n",
       "        text-align: right;\n",
       "    }\n",
       "</style>\n",
       "<table border=\"1\" class=\"dataframe\">\n",
       "  <thead>\n",
       "    <tr style=\"text-align: right;\">\n",
       "      <th></th>\n",
       "      <th>mean_radius</th>\n",
       "      <th>mean_texture</th>\n",
       "      <th>mean_perimeter</th>\n",
       "      <th>mean_area</th>\n",
       "      <th>mean_smoothness</th>\n",
       "      <th>diagnosis</th>\n",
       "    </tr>\n",
       "  </thead>\n",
       "  <tbody>\n",
       "    <tr>\n",
       "      <th>0</th>\n",
       "      <td>17.99</td>\n",
       "      <td>10.38</td>\n",
       "      <td>122.80</td>\n",
       "      <td>1001.0</td>\n",
       "      <td>0.11840</td>\n",
       "      <td>0</td>\n",
       "    </tr>\n",
       "    <tr>\n",
       "      <th>1</th>\n",
       "      <td>20.57</td>\n",
       "      <td>17.77</td>\n",
       "      <td>132.90</td>\n",
       "      <td>1326.0</td>\n",
       "      <td>0.08474</td>\n",
       "      <td>0</td>\n",
       "    </tr>\n",
       "    <tr>\n",
       "      <th>2</th>\n",
       "      <td>19.69</td>\n",
       "      <td>21.25</td>\n",
       "      <td>130.00</td>\n",
       "      <td>1203.0</td>\n",
       "      <td>0.10960</td>\n",
       "      <td>0</td>\n",
       "    </tr>\n",
       "    <tr>\n",
       "      <th>3</th>\n",
       "      <td>11.42</td>\n",
       "      <td>20.38</td>\n",
       "      <td>77.58</td>\n",
       "      <td>386.1</td>\n",
       "      <td>0.14250</td>\n",
       "      <td>0</td>\n",
       "    </tr>\n",
       "    <tr>\n",
       "      <th>4</th>\n",
       "      <td>20.29</td>\n",
       "      <td>14.34</td>\n",
       "      <td>135.10</td>\n",
       "      <td>1297.0</td>\n",
       "      <td>0.10030</td>\n",
       "      <td>0</td>\n",
       "    </tr>\n",
       "  </tbody>\n",
       "</table>\n",
       "</div>"
      ],
      "text/plain": [
       "   mean_radius  mean_texture  mean_perimeter  mean_area  mean_smoothness  \\\n",
       "0        17.99         10.38          122.80     1001.0          0.11840   \n",
       "1        20.57         17.77          132.90     1326.0          0.08474   \n",
       "2        19.69         21.25          130.00     1203.0          0.10960   \n",
       "3        11.42         20.38           77.58      386.1          0.14250   \n",
       "4        20.29         14.34          135.10     1297.0          0.10030   \n",
       "\n",
       "   diagnosis  \n",
       "0          0  \n",
       "1          0  \n",
       "2          0  \n",
       "3          0  \n",
       "4          0  "
      ]
     },
     "execution_count": 215,
     "metadata": {},
     "output_type": "execute_result"
    }
   ],
   "source": [
    "df[:5]"
   ]
  },
  {
   "cell_type": "code",
   "execution_count": 217,
   "id": "b7a4bdd5",
   "metadata": {},
   "outputs": [
    {
     "data": {
      "text/plain": [
       "0      0\n",
       "1      0\n",
       "2      0\n",
       "3      0\n",
       "4      0\n",
       "      ..\n",
       "564    0\n",
       "565    0\n",
       "566    0\n",
       "567    0\n",
       "568    1\n",
       "Name: diagnosis, Length: 569, dtype: int64"
      ]
     },
     "execution_count": 217,
     "metadata": {},
     "output_type": "execute_result"
    }
   ],
   "source": [
    "y=df['diagnosis']\n",
    "y"
   ]
  },
  {
   "cell_type": "code",
   "execution_count": 218,
   "id": "450c0fa7",
   "metadata": {},
   "outputs": [
    {
     "data": {
      "text/html": [
       "<div>\n",
       "<style scoped>\n",
       "    .dataframe tbody tr th:only-of-type {\n",
       "        vertical-align: middle;\n",
       "    }\n",
       "\n",
       "    .dataframe tbody tr th {\n",
       "        vertical-align: top;\n",
       "    }\n",
       "\n",
       "    .dataframe thead th {\n",
       "        text-align: right;\n",
       "    }\n",
       "</style>\n",
       "<table border=\"1\" class=\"dataframe\">\n",
       "  <thead>\n",
       "    <tr style=\"text-align: right;\">\n",
       "      <th></th>\n",
       "      <th>mean_radius</th>\n",
       "      <th>mean_texture</th>\n",
       "      <th>mean_perimeter</th>\n",
       "      <th>mean_area</th>\n",
       "      <th>mean_smoothness</th>\n",
       "    </tr>\n",
       "  </thead>\n",
       "  <tbody>\n",
       "    <tr>\n",
       "      <th>0</th>\n",
       "      <td>17.99</td>\n",
       "      <td>10.38</td>\n",
       "      <td>122.80</td>\n",
       "      <td>1001.0</td>\n",
       "      <td>0.11840</td>\n",
       "    </tr>\n",
       "    <tr>\n",
       "      <th>1</th>\n",
       "      <td>20.57</td>\n",
       "      <td>17.77</td>\n",
       "      <td>132.90</td>\n",
       "      <td>1326.0</td>\n",
       "      <td>0.08474</td>\n",
       "    </tr>\n",
       "    <tr>\n",
       "      <th>2</th>\n",
       "      <td>19.69</td>\n",
       "      <td>21.25</td>\n",
       "      <td>130.00</td>\n",
       "      <td>1203.0</td>\n",
       "      <td>0.10960</td>\n",
       "    </tr>\n",
       "    <tr>\n",
       "      <th>3</th>\n",
       "      <td>11.42</td>\n",
       "      <td>20.38</td>\n",
       "      <td>77.58</td>\n",
       "      <td>386.1</td>\n",
       "      <td>0.14250</td>\n",
       "    </tr>\n",
       "    <tr>\n",
       "      <th>4</th>\n",
       "      <td>20.29</td>\n",
       "      <td>14.34</td>\n",
       "      <td>135.10</td>\n",
       "      <td>1297.0</td>\n",
       "      <td>0.10030</td>\n",
       "    </tr>\n",
       "    <tr>\n",
       "      <th>...</th>\n",
       "      <td>...</td>\n",
       "      <td>...</td>\n",
       "      <td>...</td>\n",
       "      <td>...</td>\n",
       "      <td>...</td>\n",
       "    </tr>\n",
       "    <tr>\n",
       "      <th>564</th>\n",
       "      <td>21.56</td>\n",
       "      <td>22.39</td>\n",
       "      <td>142.00</td>\n",
       "      <td>1479.0</td>\n",
       "      <td>0.11100</td>\n",
       "    </tr>\n",
       "    <tr>\n",
       "      <th>565</th>\n",
       "      <td>20.13</td>\n",
       "      <td>28.25</td>\n",
       "      <td>131.20</td>\n",
       "      <td>1261.0</td>\n",
       "      <td>0.09780</td>\n",
       "    </tr>\n",
       "    <tr>\n",
       "      <th>566</th>\n",
       "      <td>16.60</td>\n",
       "      <td>28.08</td>\n",
       "      <td>108.30</td>\n",
       "      <td>858.1</td>\n",
       "      <td>0.08455</td>\n",
       "    </tr>\n",
       "    <tr>\n",
       "      <th>567</th>\n",
       "      <td>20.60</td>\n",
       "      <td>29.33</td>\n",
       "      <td>140.10</td>\n",
       "      <td>1265.0</td>\n",
       "      <td>0.11780</td>\n",
       "    </tr>\n",
       "    <tr>\n",
       "      <th>568</th>\n",
       "      <td>7.76</td>\n",
       "      <td>24.54</td>\n",
       "      <td>47.92</td>\n",
       "      <td>181.0</td>\n",
       "      <td>0.05263</td>\n",
       "    </tr>\n",
       "  </tbody>\n",
       "</table>\n",
       "<p>569 rows × 5 columns</p>\n",
       "</div>"
      ],
      "text/plain": [
       "     mean_radius  mean_texture  mean_perimeter  mean_area  mean_smoothness\n",
       "0          17.99         10.38          122.80     1001.0          0.11840\n",
       "1          20.57         17.77          132.90     1326.0          0.08474\n",
       "2          19.69         21.25          130.00     1203.0          0.10960\n",
       "3          11.42         20.38           77.58      386.1          0.14250\n",
       "4          20.29         14.34          135.10     1297.0          0.10030\n",
       "..           ...           ...             ...        ...              ...\n",
       "564        21.56         22.39          142.00     1479.0          0.11100\n",
       "565        20.13         28.25          131.20     1261.0          0.09780\n",
       "566        16.60         28.08          108.30      858.1          0.08455\n",
       "567        20.60         29.33          140.10     1265.0          0.11780\n",
       "568         7.76         24.54           47.92      181.0          0.05263\n",
       "\n",
       "[569 rows x 5 columns]"
      ]
     },
     "execution_count": 218,
     "metadata": {},
     "output_type": "execute_result"
    }
   ],
   "source": [
    "X = df.loc[:,df.columns!='diagnosis']\n",
    "X"
   ]
  },
  {
   "cell_type": "code",
   "execution_count": 219,
   "id": "a9e4ae58",
   "metadata": {},
   "outputs": [],
   "source": [
    "from sklearn.model_selection import train_test_split\n",
    "from sklearn.preprocessing import scale"
   ]
  },
  {
   "cell_type": "code",
   "execution_count": 220,
   "id": "155167e4",
   "metadata": {},
   "outputs": [],
   "source": [
    "X_train,X_test,y_train,y_test=train_test_split(X,y, test_size=0.20, random_state=42)"
   ]
  },
  {
   "cell_type": "markdown",
   "id": "88562388",
   "metadata": {},
   "source": [
    "PCR for train data"
   ]
  },
  {
   "cell_type": "code",
   "execution_count": 221,
   "id": "cec330fc",
   "metadata": {},
   "outputs": [],
   "source": [
    "from sklearn.decomposition import PCA"
   ]
  },
  {
   "cell_type": "code",
   "execution_count": 222,
   "id": "84a3a2b5",
   "metadata": {},
   "outputs": [],
   "source": [
    "X_reduced_train=PCA().fit_transform(scale(X_train))"
   ]
  },
  {
   "cell_type": "code",
   "execution_count": 223,
   "id": "80e838be",
   "metadata": {},
   "outputs": [
    {
     "data": {
      "text/plain": [
       "array([[-2.17588717e+00,  9.12520378e-01,  6.41453750e-01,\n",
       "         2.19045157e-01,  2.84567200e-02],\n",
       "       [ 3.88519608e+00,  2.50968399e-01,  1.12775580e+00,\n",
       "        -1.23701859e-01,  4.94438499e-02],\n",
       "       [-2.62862226e+00, -5.11159307e-01, -1.06057635e+00,\n",
       "         1.93038933e-01,  7.50586833e-02],\n",
       "       ...,\n",
       "       [-5.04280283e-01, -1.68212950e+00, -1.53119664e+00,\n",
       "        -6.87255806e-02, -1.52495522e-02],\n",
       "       [ 7.10501569e-03,  5.89084849e-01,  4.74614459e-01,\n",
       "        -8.98719056e-02, -1.66409865e-02],\n",
       "       [-1.03456418e+00, -1.12145392e+00, -2.73467219e-03,\n",
       "         1.27588164e-02, -1.39928059e-02]])"
      ]
     },
     "execution_count": 223,
     "metadata": {},
     "output_type": "execute_result"
    }
   ],
   "source": [
    "X_reduced_train"
   ]
  },
  {
   "cell_type": "markdown",
   "id": "0665e640",
   "metadata": {},
   "source": [
    "MODEL"
   ]
  },
  {
   "cell_type": "code",
   "execution_count": 224,
   "id": "3f48344b",
   "metadata": {},
   "outputs": [],
   "source": [
    "from sklearn.linear_model import LinearRegression"
   ]
  },
  {
   "cell_type": "code",
   "execution_count": 225,
   "id": "9976b674",
   "metadata": {},
   "outputs": [],
   "source": [
    "linearreg=LinearRegression()"
   ]
  },
  {
   "cell_type": "code",
   "execution_count": 261,
   "id": "56b9f099",
   "metadata": {},
   "outputs": [],
   "source": [
    "model_pcr=linearreg.fit(X_reduced_train, y_train)"
   ]
  },
  {
   "cell_type": "code",
   "execution_count": 262,
   "id": "48236949",
   "metadata": {},
   "outputs": [
    {
     "data": {
      "text/plain": [
       "0.6285714285714286"
      ]
     },
     "execution_count": 262,
     "metadata": {},
     "output_type": "execute_result"
    }
   ],
   "source": [
    "model_pcr.intercept_"
   ]
  },
  {
   "cell_type": "code",
   "execution_count": 263,
   "id": "69d69035",
   "metadata": {},
   "outputs": [
    {
     "data": {
      "text/plain": [
       "array([-0.20529945, -0.05208063, -0.10623176,  0.50655768, -0.65421029])"
      ]
     },
     "execution_count": 263,
     "metadata": {},
     "output_type": "execute_result"
    }
   ],
   "source": [
    "model_pcr.coef_"
   ]
  },
  {
   "cell_type": "markdown",
   "id": "7d9751ac",
   "metadata": {},
   "source": [
    "PREDİCT"
   ]
  },
  {
   "cell_type": "code",
   "execution_count": 264,
   "id": "d27a61e3",
   "metadata": {},
   "outputs": [],
   "source": [
    "y_predict=model_pcr.predict(X_reduced_train)"
   ]
  },
  {
   "cell_type": "code",
   "execution_count": 239,
   "id": "9d94922a",
   "metadata": {},
   "outputs": [
    {
     "data": {
      "text/plain": [
       "array([ 1.05195479, -0.39694005,  1.3561957 ,  0.80334715,  0.98454673])"
      ]
     },
     "execution_count": 239,
     "metadata": {},
     "output_type": "execute_result"
    }
   ],
   "source": [
    "y_predict[:5]"
   ]
  },
  {
   "cell_type": "markdown",
   "id": "f6f957a5",
   "metadata": {},
   "source": [
    "Error value for train data"
   ]
  },
  {
   "cell_type": "code",
   "execution_count": 245,
   "id": "14451b27",
   "metadata": {},
   "outputs": [],
   "source": [
    "from sklearn.metrics import mean_squared_error,r2_score"
   ]
  },
  {
   "cell_type": "code",
   "execution_count": 247,
   "id": "ec718878",
   "metadata": {},
   "outputs": [
    {
     "data": {
      "text/plain": [
       "0.2883501089891297"
      ]
     },
     "execution_count": 247,
     "metadata": {},
     "output_type": "execute_result"
    }
   ],
   "source": [
    "np.sqrt(mean_squared_error(y_train, y_predict))"
   ]
  },
  {
   "cell_type": "markdown",
   "id": "6389cc86",
   "metadata": {},
   "source": [
    "r2 train value"
   ]
  },
  {
   "cell_type": "code",
   "execution_count": 248,
   "id": "b07a47a5",
   "metadata": {},
   "outputs": [
    {
     "data": {
      "text/plain": [
       "0.6438685767178227"
      ]
     },
     "execution_count": 248,
     "metadata": {},
     "output_type": "execute_result"
    }
   ],
   "source": [
    "r2_score(y_train, y_predict)"
   ]
  },
  {
   "cell_type": "markdown",
   "id": "991186bf",
   "metadata": {},
   "source": [
    "PCR for test data"
   ]
  },
  {
   "cell_type": "code",
   "execution_count": 249,
   "id": "4ddc4442",
   "metadata": {},
   "outputs": [],
   "source": [
    "X_reduced_test=PCA().fit_transform(scale(X_test))"
   ]
  },
  {
   "cell_type": "code",
   "execution_count": 250,
   "id": "df0cfcb7",
   "metadata": {},
   "outputs": [
    {
     "data": {
      "text/plain": [
       "array([[-0.87192139,  0.12467108,  0.08975809, -0.03213548,  0.01138527],\n",
       "       [ 2.26938614, -0.5228911 , -0.75668948,  0.04829623, -0.02784657],\n",
       "       [ 0.63005612,  0.66912539,  0.19217461, -0.0793919 , -0.01061679],\n",
       "       [-0.91352202,  0.56997025,  0.16335679, -0.05888645,  0.02575056],\n",
       "       [-1.56129249,  0.63704042, -0.49838251,  0.0058322 ,  0.02162745]])"
      ]
     },
     "execution_count": 250,
     "metadata": {},
     "output_type": "execute_result"
    }
   ],
   "source": [
    "X_reduced_test[:5]"
   ]
  },
  {
   "cell_type": "markdown",
   "id": "1f8e5709",
   "metadata": {},
   "source": [
    "MODEL"
   ]
  },
  {
   "cell_type": "markdown",
   "id": "9e0bfbdd",
   "metadata": {},
   "source": [
    "We may use 'model_pcr' for test data and also use for train data."
   ]
  },
  {
   "cell_type": "code",
   "execution_count": 265,
   "id": "57042992",
   "metadata": {},
   "outputs": [
    {
     "data": {
      "text/plain": [
       "array([-0.20529945, -0.05208063, -0.10623176,  0.50655768, -0.65421029])"
      ]
     },
     "execution_count": 265,
     "metadata": {},
     "output_type": "execute_result"
    }
   ],
   "source": [
    "model_pcr.coef_"
   ]
  },
  {
   "cell_type": "code",
   "execution_count": 266,
   "id": "5fddef5c",
   "metadata": {},
   "outputs": [
    {
     "data": {
      "text/plain": [
       "0.6285714285714286"
      ]
     },
     "execution_count": 266,
     "metadata": {},
     "output_type": "execute_result"
    }
   ],
   "source": [
    "model_pcr.intercept_"
   ]
  },
  {
   "cell_type": "markdown",
   "id": "517ae19f",
   "metadata": {},
   "source": [
    "PREDİCT"
   ]
  },
  {
   "cell_type": "code",
   "execution_count": 267,
   "id": "42e689cf",
   "metadata": {},
   "outputs": [],
   "source": [
    "y_predict=model_pcr.predict(X_reduced_test)"
   ]
  },
  {
   "cell_type": "markdown",
   "id": "b239ae74",
   "metadata": {},
   "source": [
    "Error value for train data"
   ]
  },
  {
   "cell_type": "code",
   "execution_count": 255,
   "id": "d1c0541b",
   "metadata": {},
   "outputs": [
    {
     "data": {
      "text/plain": [
       "0.28317802915196744"
      ]
     },
     "execution_count": 255,
     "metadata": {},
     "output_type": "execute_result"
    }
   ],
   "source": [
    "np.sqrt(mean_squared_error(y_test, y_predict))"
   ]
  },
  {
   "cell_type": "markdown",
   "id": "2e9e113f",
   "metadata": {},
   "source": [
    "r2 train value"
   ]
  },
  {
   "cell_type": "code",
   "execution_count": 256,
   "id": "c0195f0d",
   "metadata": {},
   "outputs": [
    {
     "data": {
      "text/plain": [
       "0.6586483487250818"
      ]
     },
     "execution_count": 256,
     "metadata": {},
     "output_type": "execute_result"
    }
   ],
   "source": [
    "r2_score(y_test, y_predict)"
   ]
  },
  {
   "cell_type": "code",
   "execution_count": 257,
   "id": "ac8f69e3",
   "metadata": {},
   "outputs": [
    {
     "data": {
      "text/html": [
       "<div>\n",
       "<style scoped>\n",
       "    .dataframe tbody tr th:only-of-type {\n",
       "        vertical-align: middle;\n",
       "    }\n",
       "\n",
       "    .dataframe tbody tr th {\n",
       "        vertical-align: top;\n",
       "    }\n",
       "\n",
       "    .dataframe thead th {\n",
       "        text-align: right;\n",
       "    }\n",
       "</style>\n",
       "<table border=\"1\" class=\"dataframe\">\n",
       "  <thead>\n",
       "    <tr style=\"text-align: right;\">\n",
       "      <th></th>\n",
       "      <th>mean_radius</th>\n",
       "      <th>mean_texture</th>\n",
       "      <th>mean_perimeter</th>\n",
       "      <th>mean_area</th>\n",
       "      <th>mean_smoothness</th>\n",
       "    </tr>\n",
       "  </thead>\n",
       "  <tbody>\n",
       "    <tr>\n",
       "      <th>68</th>\n",
       "      <td>9.029</td>\n",
       "      <td>17.33</td>\n",
       "      <td>58.79</td>\n",
       "      <td>250.5</td>\n",
       "      <td>0.10660</td>\n",
       "    </tr>\n",
       "    <tr>\n",
       "      <th>181</th>\n",
       "      <td>21.090</td>\n",
       "      <td>26.57</td>\n",
       "      <td>142.70</td>\n",
       "      <td>1311.0</td>\n",
       "      <td>0.11410</td>\n",
       "    </tr>\n",
       "    <tr>\n",
       "      <th>63</th>\n",
       "      <td>9.173</td>\n",
       "      <td>13.86</td>\n",
       "      <td>59.20</td>\n",
       "      <td>260.9</td>\n",
       "      <td>0.07721</td>\n",
       "    </tr>\n",
       "    <tr>\n",
       "      <th>248</th>\n",
       "      <td>10.650</td>\n",
       "      <td>25.22</td>\n",
       "      <td>68.01</td>\n",
       "      <td>347.0</td>\n",
       "      <td>0.09657</td>\n",
       "    </tr>\n",
       "    <tr>\n",
       "      <th>60</th>\n",
       "      <td>10.170</td>\n",
       "      <td>14.88</td>\n",
       "      <td>64.55</td>\n",
       "      <td>311.9</td>\n",
       "      <td>0.11340</td>\n",
       "    </tr>\n",
       "    <tr>\n",
       "      <th>...</th>\n",
       "      <td>...</td>\n",
       "      <td>...</td>\n",
       "      <td>...</td>\n",
       "      <td>...</td>\n",
       "      <td>...</td>\n",
       "    </tr>\n",
       "    <tr>\n",
       "      <th>71</th>\n",
       "      <td>8.888</td>\n",
       "      <td>14.64</td>\n",
       "      <td>58.79</td>\n",
       "      <td>244.0</td>\n",
       "      <td>0.09783</td>\n",
       "    </tr>\n",
       "    <tr>\n",
       "      <th>106</th>\n",
       "      <td>11.640</td>\n",
       "      <td>18.33</td>\n",
       "      <td>75.17</td>\n",
       "      <td>412.5</td>\n",
       "      <td>0.11420</td>\n",
       "    </tr>\n",
       "    <tr>\n",
       "      <th>270</th>\n",
       "      <td>14.290</td>\n",
       "      <td>16.82</td>\n",
       "      <td>90.30</td>\n",
       "      <td>632.6</td>\n",
       "      <td>0.06429</td>\n",
       "    </tr>\n",
       "    <tr>\n",
       "      <th>435</th>\n",
       "      <td>13.980</td>\n",
       "      <td>19.62</td>\n",
       "      <td>91.12</td>\n",
       "      <td>599.5</td>\n",
       "      <td>0.10600</td>\n",
       "    </tr>\n",
       "    <tr>\n",
       "      <th>102</th>\n",
       "      <td>12.180</td>\n",
       "      <td>20.52</td>\n",
       "      <td>77.22</td>\n",
       "      <td>458.7</td>\n",
       "      <td>0.08013</td>\n",
       "    </tr>\n",
       "  </tbody>\n",
       "</table>\n",
       "<p>455 rows × 5 columns</p>\n",
       "</div>"
      ],
      "text/plain": [
       "     mean_radius  mean_texture  mean_perimeter  mean_area  mean_smoothness\n",
       "68         9.029         17.33           58.79      250.5          0.10660\n",
       "181       21.090         26.57          142.70     1311.0          0.11410\n",
       "63         9.173         13.86           59.20      260.9          0.07721\n",
       "248       10.650         25.22           68.01      347.0          0.09657\n",
       "60        10.170         14.88           64.55      311.9          0.11340\n",
       "..           ...           ...             ...        ...              ...\n",
       "71         8.888         14.64           58.79      244.0          0.09783\n",
       "106       11.640         18.33           75.17      412.5          0.11420\n",
       "270       14.290         16.82           90.30      632.6          0.06429\n",
       "435       13.980         19.62           91.12      599.5          0.10600\n",
       "102       12.180         20.52           77.22      458.7          0.08013\n",
       "\n",
       "[455 rows x 5 columns]"
      ]
     },
     "execution_count": 257,
     "metadata": {},
     "output_type": "execute_result"
    }
   ],
   "source": [
    "X_train"
   ]
  },
  {
   "cell_type": "markdown",
   "id": "84a00bed",
   "metadata": {},
   "source": [
    "Validation for Pcr"
   ]
  },
  {
   "cell_type": "code",
   "execution_count": 277,
   "id": "812fe9de",
   "metadata": {},
   "outputs": [
    {
     "data": {
      "text/plain": [
       "0.293248434382178"
      ]
     },
     "execution_count": 277,
     "metadata": {},
     "output_type": "execute_result"
    }
   ],
   "source": [
    "X_reduced_train[:,0:1]\n",
    "model_pcr=linearreg.fit(X_reduced_train[:,0:1], y_train)\n",
    "y_predict=model_pcr.predict(X_reduced_test[:,0:1])\n",
    "np.sqrt(mean_squared_error(y_test, y_predict))"
   ]
  },
  {
   "cell_type": "code",
   "execution_count": 278,
   "id": "49ba6bcb",
   "metadata": {},
   "outputs": [
    {
     "data": {
      "text/plain": [
       "0.28317802915196744"
      ]
     },
     "execution_count": 278,
     "metadata": {},
     "output_type": "execute_result"
    }
   ],
   "source": [
    "X_reduced_train[:,0:10]\n",
    "model_pcr=linearreg.fit(X_reduced_train[:,0:10], y_train)\n",
    "y_predict=model_pcr.predict(X_reduced_test[:,0:10])\n",
    "np.sqrt(mean_squared_error(y_test, y_predict))"
   ]
  },
  {
   "cell_type": "code",
   "execution_count": 308,
   "id": "b3353f1f",
   "metadata": {},
   "outputs": [],
   "source": [
    "from sklearn import model_selection"
   ]
  },
  {
   "cell_type": "code",
   "execution_count": 309,
   "id": "1ac73080",
   "metadata": {},
   "outputs": [],
   "source": [
    "cv=model_selection.KFold(n_splits=10,shuffle=True,random_state=1)"
   ]
  },
  {
   "cell_type": "code",
   "execution_count": 329,
   "id": "0f529f99",
   "metadata": {},
   "outputs": [],
   "source": [
    "lg=LinearRegression()"
   ]
  },
  {
   "cell_type": "code",
   "execution_count": 330,
   "id": "808c67a8",
   "metadata": {},
   "outputs": [],
   "source": [
    "RMSE= []"
   ]
  },
  {
   "cell_type": "code",
   "execution_count": 331,
   "id": "30ade774",
   "metadata": {},
   "outputs": [],
   "source": [
    "for i in np.arange(1, X_reduced_train.shape[1] + 1):\n",
    "    score=np.sqrt(-1*model_selection.cross_val_score(lg, X_reduced_train[:,:i], y_train.ravel(), cv=cv, scoring='neg_mean_squared_error'))\n",
    "    RMSE.append(score)"
   ]
  },
  {
   "cell_type": "code",
   "execution_count": 332,
   "id": "9f8652ac",
   "metadata": {},
   "outputs": [],
   "source": [
    "import matplotlib.pyplot as plt"
   ]
  },
  {
   "cell_type": "code",
   "execution_count": 335,
   "id": "ccbd9773",
   "metadata": {},
   "outputs": [
    {
     "data": {
      "image/png": "[encoded data removed]",
      "text/plain": [
       "<Figure size 432x288 with 1 Axes>"
      ]
     },
     "metadata": {
      "needs_background": "light"
     },
     "output_type": "display_data"
    }
   ],
   "source": [
    "plt.plot(RMSE, '-v')\n",
    "plt.xlabel('Number of Variable')\n",
    "plt.ylabel('RMSE');"
   ]
  },
  {
   "cell_type": "code",
   "execution_count": 336,
   "id": "5be766ce",
   "metadata": {},
   "outputs": [
    {
     "data": {
      "text/plain": [
       "array([[-2.17588717e+00,  9.12520378e-01,  6.41453750e-01],\n",
       "       [ 3.88519608e+00,  2.50968399e-01,  1.12775580e+00],\n",
       "       [-2.62862226e+00, -5.11159307e-01, -1.06057635e+00],\n",
       "       ...,\n",
       "       [-5.04280283e-01, -1.68212950e+00, -1.53119664e+00],\n",
       "       [ 7.10501569e-03,  5.89084849e-01,  4.74614459e-01],\n",
       "       [-1.03456418e+00, -1.12145392e+00, -2.73467219e-03]])"
      ]
     },
     "execution_count": 336,
     "metadata": {},
     "output_type": "execute_result"
    }
   ],
   "source": [
    "X_reduced_train[:,0:3]"
   ]
  },
  {
   "cell_type": "code",
   "execution_count": 338,
   "id": "e2beab17",
   "metadata": {},
   "outputs": [
    {
     "data": {
      "text/plain": [
       "0.2970047305398864"
      ]
     },
     "execution_count": 338,
     "metadata": {},
     "output_type": "execute_result"
    }
   ],
   "source": [
    "model_pcr=linearreg.fit(X_reduced_train[:,0:3], y_train)\n",
    "y_predict=model_pcr.predict(X_reduced_train[:,0:3])\n",
    "np.sqrt(mean_squared_error(y_train, y_predict))"
   ]
  },
  {
   "cell_type": "code",
   "execution_count": 339,
   "id": "eef3fc64",
   "metadata": {},
   "outputs": [
    {
     "data": {
      "text/plain": [
       "0.2845957530032231"
      ]
     },
     "execution_count": 339,
     "metadata": {},
     "output_type": "execute_result"
    }
   ],
   "source": [
    "y_predict=model_pcr.predict(X_reduced_test[:,0:3])\n",
    "np.sqrt(mean_squared_error(y_test, y_predict))"
   ]
  },
  {
   "cell_type": "markdown",
   "id": "5ab11f5a",
   "metadata": {},
   "source": [
    "### Partial Least Squares - PLS ###"
   ]
  },
  {
   "cell_type": "markdown",
   "id": "6ee1b876",
   "metadata": {},
   "source": [
    "Pls is used on supervised Machine Learning problems and Psr is used on unsupervised Machine Learning projects."
   ]
  },
  {
   "cell_type": "code",
   "execution_count": 341,
   "id": "335b28a1",
   "metadata": {},
   "outputs": [
    {
     "data": {
      "text/plain": [
       "(455, 5)"
      ]
     },
     "execution_count": 341,
     "metadata": {},
     "output_type": "execute_result"
    }
   ],
   "source": [
    "X_train.shape"
   ]
  },
  {
   "cell_type": "code",
   "execution_count": 342,
   "id": "eaa99da2",
   "metadata": {},
   "outputs": [
    {
     "data": {
      "text/plain": [
       "(114, 5)"
      ]
     },
     "execution_count": 342,
     "metadata": {},
     "output_type": "execute_result"
    }
   ],
   "source": [
    "X_test.shape"
   ]
  },
  {
   "cell_type": "code",
   "execution_count": 343,
   "id": "3df54bb9",
   "metadata": {},
   "outputs": [
    {
     "data": {
      "text/plain": [
       "(455,)"
      ]
     },
     "execution_count": 343,
     "metadata": {},
     "output_type": "execute_result"
    }
   ],
   "source": [
    "y_train.shape"
   ]
  },
  {
   "cell_type": "code",
   "execution_count": 344,
   "id": "e0fee60a",
   "metadata": {},
   "outputs": [
    {
     "data": {
      "text/plain": [
       "(114,)"
      ]
     },
     "execution_count": 344,
     "metadata": {},
     "output_type": "execute_result"
    }
   ],
   "source": [
    "y_test.shape"
   ]
  },
  {
   "cell_type": "markdown",
   "id": "ab3ee2bd",
   "metadata": {},
   "source": [
    "Create a model"
   ]
  },
  {
   "cell_type": "code",
   "execution_count": 345,
   "id": "40a868d1",
   "metadata": {},
   "outputs": [],
   "source": [
    "from sklearn.cross_decomposition import PLSRegression, PLSSVD"
   ]
  },
  {
   "cell_type": "code",
   "execution_count": 346,
   "id": "d9709188",
   "metadata": {},
   "outputs": [],
   "source": [
    "model_pls=PLSRegression().fit(X_train, y_train)"
   ]
  },
  {
   "cell_type": "code",
   "execution_count": 347,
   "id": "2d2842a6",
   "metadata": {},
   "outputs": [
    {
     "data": {
      "text/plain": [
       "array([[-0.09962718],\n",
       "       [-0.10624608],\n",
       "       [-0.10666163],\n",
       "       [-0.08473678],\n",
       "       [-0.12961871]])"
      ]
     },
     "execution_count": 347,
     "metadata": {},
     "output_type": "execute_result"
    }
   ],
   "source": [
    "model_pls.coef_"
   ]
  },
  {
   "cell_type": "markdown",
   "id": "7cb0fb29",
   "metadata": {},
   "source": [
    "Predict"
   ]
  },
  {
   "cell_type": "markdown",
   "id": "16319554",
   "metadata": {},
   "source": [
    "It means, there are my predict y values(y=df['diagnosis'])"
   ]
  },
  {
   "cell_type": "markdown",
   "id": "fcf8f267",
   "metadata": {},
   "source": [
    "Train Value Error"
   ]
  },
  {
   "cell_type": "code",
   "execution_count": 352,
   "id": "1d1f3658",
   "metadata": {},
   "outputs": [
    {
     "data": {
      "text/plain": [
       "array([[ 0.95862775],\n",
       "       [-0.30231245],\n",
       "       [ 1.31032229],\n",
       "       [ 0.74635576],\n",
       "       [ 0.88427234],\n",
       "       [ 0.21724634],\n",
       "       [ 0.66547533],\n",
       "       [ 0.93612142],\n",
       "       [ 0.9039172 ],\n",
       "       [ 0.06213141],\n",
       "       [ 0.78569134],\n",
       "       [ 0.01151311],\n",
       "       [ 0.44322223],\n",
       "       [ 1.05027317],\n",
       "       [ 0.90931475],\n",
       "       [ 0.03896597],\n",
       "       [ 0.30949664],\n",
       "       [ 0.16297506],\n",
       "       [ 0.93696522],\n",
       "       [ 0.9025894 ],\n",
       "       [ 0.83745783],\n",
       "       [ 0.55070125],\n",
       "       [ 0.59806279],\n",
       "       [ 0.79541557],\n",
       "       [ 0.53313777],\n",
       "       [ 0.55707676],\n",
       "       [ 0.82168926],\n",
       "       [ 0.05870466],\n",
       "       [ 1.06552841],\n",
       "       [ 1.13495043],\n",
       "       [ 0.51477722],\n",
       "       [ 0.95508862],\n",
       "       [ 0.07700909],\n",
       "       [ 0.07846912],\n",
       "       [ 0.5193842 ],\n",
       "       [ 0.82490126],\n",
       "       [ 0.54101669],\n",
       "       [ 0.97105286],\n",
       "       [ 1.22873283],\n",
       "       [ 0.6561876 ],\n",
       "       [ 0.91133255],\n",
       "       [-0.42750502],\n",
       "       [ 0.02477929],\n",
       "       [ 1.3815212 ],\n",
       "       [ 0.70631457],\n",
       "       [ 1.06829138],\n",
       "       [ 1.24489705],\n",
       "       [ 1.13777098],\n",
       "       [ 1.07619719],\n",
       "       [ 0.83507684],\n",
       "       [ 0.41549086],\n",
       "       [ 0.996853  ],\n",
       "       [ 0.79185211],\n",
       "       [ 0.56096947],\n",
       "       [ 0.967389  ],\n",
       "       [ 0.32639441],\n",
       "       [ 0.92971851],\n",
       "       [ 0.85581381],\n",
       "       [ 0.99765101],\n",
       "       [ 0.64539046],\n",
       "       [ 0.95972147],\n",
       "       [ 0.61238231],\n",
       "       [ 0.37554976],\n",
       "       [ 0.77566201],\n",
       "       [ 0.91320141],\n",
       "       [ 0.60855414],\n",
       "       [ 0.65456236],\n",
       "       [ 0.95900851],\n",
       "       [ 0.94393798],\n",
       "       [ 0.49122043],\n",
       "       [ 0.26829399],\n",
       "       [ 0.40914915],\n",
       "       [ 0.52501079],\n",
       "       [ 0.78638899],\n",
       "       [ 0.42728869],\n",
       "       [ 0.8722122 ],\n",
       "       [ 0.14521437],\n",
       "       [ 0.8736131 ],\n",
       "       [ 0.85623494],\n",
       "       [ 1.0354023 ],\n",
       "       [ 0.94166131],\n",
       "       [ 0.30308454],\n",
       "       [ 0.68933745],\n",
       "       [ 1.1701004 ],\n",
       "       [ 0.23255577],\n",
       "       [ 1.15440788],\n",
       "       [ 0.8778673 ],\n",
       "       [ 1.04474479],\n",
       "       [ 0.12782741],\n",
       "       [ 0.87235616],\n",
       "       [-0.02237186],\n",
       "       [ 0.12386553],\n",
       "       [ 0.93635046],\n",
       "       [ 0.9209531 ],\n",
       "       [ 0.82571378],\n",
       "       [ 0.57282876],\n",
       "       [ 1.06086909],\n",
       "       [ 0.96325843],\n",
       "       [ 0.70513229],\n",
       "       [ 1.07905868],\n",
       "       [ 0.6759519 ],\n",
       "       [ 0.73035681],\n",
       "       [ 0.73651208],\n",
       "       [ 0.94269312],\n",
       "       [ 1.12931337],\n",
       "       [ 1.01887792],\n",
       "       [ 0.36813309],\n",
       "       [ 0.55575643],\n",
       "       [ 0.21109295],\n",
       "       [ 0.23115128],\n",
       "       [ 0.82734203],\n",
       "       [ 0.86487181],\n",
       "       [-0.05805084],\n",
       "       [ 0.8922093 ],\n",
       "       [ 1.15665583],\n",
       "       [ 0.83376865],\n",
       "       [ 0.6524406 ],\n",
       "       [ 0.71754985],\n",
       "       [ 0.6951605 ],\n",
       "       [ 0.86500667],\n",
       "       [ 0.46306319],\n",
       "       [ 0.46088252],\n",
       "       [-0.71117961],\n",
       "       [ 0.86187223],\n",
       "       [ 1.02511492],\n",
       "       [-0.02993385],\n",
       "       [ 0.6233568 ],\n",
       "       [ 0.81627438],\n",
       "       [ 0.27128911],\n",
       "       [ 0.87268773],\n",
       "       [ 0.54708451],\n",
       "       [ 1.11296951],\n",
       "       [ 0.16836431],\n",
       "       [ 0.82309521],\n",
       "       [ 0.68265232],\n",
       "       [ 0.97095155],\n",
       "       [ 0.66268737],\n",
       "       [ 0.5422277 ],\n",
       "       [ 0.84145547],\n",
       "       [ 1.07375315],\n",
       "       [ 0.98399487],\n",
       "       [ 0.3663052 ],\n",
       "       [ 0.64680318],\n",
       "       [ 0.19963052],\n",
       "       [ 0.73416278],\n",
       "       [ 0.44529253],\n",
       "       [ 0.85145611],\n",
       "       [ 0.53011157],\n",
       "       [ 0.80516392],\n",
       "       [ 0.61690866],\n",
       "       [ 0.17247664],\n",
       "       [ 0.57561098],\n",
       "       [ 1.20686216],\n",
       "       [ 1.02804691],\n",
       "       [ 0.96224498],\n",
       "       [ 0.38540925],\n",
       "       [ 0.66543314],\n",
       "       [ 0.99512985],\n",
       "       [ 0.85334248],\n",
       "       [ 0.12698081],\n",
       "       [ 0.63073939],\n",
       "       [ 0.95597947],\n",
       "       [ 0.50555267],\n",
       "       [ 0.94907536],\n",
       "       [ 1.05695419],\n",
       "       [-0.09949142],\n",
       "       [ 0.89033385],\n",
       "       [ 0.76559488],\n",
       "       [ 0.9059572 ],\n",
       "       [ 0.93566437],\n",
       "       [ 0.88280285],\n",
       "       [ 0.72050605],\n",
       "       [ 1.01444111],\n",
       "       [ 0.4331028 ],\n",
       "       [ 1.04911808],\n",
       "       [ 0.84961318],\n",
       "       [ 0.77075682],\n",
       "       [ 0.60896058],\n",
       "       [ 1.09188352],\n",
       "       [ 0.32835497],\n",
       "       [ 0.46494238],\n",
       "       [ 0.65538692],\n",
       "       [ 0.94076398],\n",
       "       [ 0.53600303],\n",
       "       [ 0.80771595],\n",
       "       [ 0.38628   ],\n",
       "       [-0.08400494],\n",
       "       [ 1.21843758],\n",
       "       [ 0.68209254],\n",
       "       [ 0.22909572],\n",
       "       [ 0.99331301],\n",
       "       [ 0.35060895],\n",
       "       [ 0.44242998],\n",
       "       [ 0.81172475],\n",
       "       [ 0.52397622],\n",
       "       [ 0.89560855],\n",
       "       [ 0.6480467 ],\n",
       "       [ 0.44498739],\n",
       "       [ 0.74401236],\n",
       "       [ 1.3843453 ],\n",
       "       [ 0.22746032],\n",
       "       [ 0.97940222],\n",
       "       [ 0.74404019],\n",
       "       [ 0.80685756],\n",
       "       [ 0.71466717],\n",
       "       [ 0.6621775 ],\n",
       "       [-0.5186268 ],\n",
       "       [ 0.68348855],\n",
       "       [-0.40145644],\n",
       "       [ 0.74547961],\n",
       "       [ 0.89739153],\n",
       "       [-0.14611555],\n",
       "       [ 0.08400957],\n",
       "       [ 0.88630397],\n",
       "       [ 0.9732618 ],\n",
       "       [ 0.10988633],\n",
       "       [ 0.97195683],\n",
       "       [-0.0405471 ],\n",
       "       [-0.72806662],\n",
       "       [ 0.99980023],\n",
       "       [-0.52712108],\n",
       "       [-0.14111617],\n",
       "       [ 0.97871   ],\n",
       "       [ 0.52462641],\n",
       "       [ 0.08902459],\n",
       "       [ 0.12202963],\n",
       "       [ 0.05274083],\n",
       "       [ 0.83232343],\n",
       "       [ 0.72676901],\n",
       "       [ 0.78956706],\n",
       "       [ 0.85817962],\n",
       "       [ 0.42063015],\n",
       "       [ 0.90599442],\n",
       "       [ 0.13264286],\n",
       "       [-0.04146502],\n",
       "       [-0.02991868],\n",
       "       [ 0.60369593],\n",
       "       [ 1.20895166],\n",
       "       [ 0.78168981],\n",
       "       [ 0.79849186],\n",
       "       [ 0.62128898],\n",
       "       [ 0.73746263],\n",
       "       [ 0.73957905],\n",
       "       [ 0.87698873],\n",
       "       [ 0.68571545],\n",
       "       [-0.02504189],\n",
       "       [ 0.15175087],\n",
       "       [ 0.75448685],\n",
       "       [ 0.97694046],\n",
       "       [ 0.16587531],\n",
       "       [ 0.85118458],\n",
       "       [ 0.85172246],\n",
       "       [ 0.95932881],\n",
       "       [ 1.04968875],\n",
       "       [ 1.06817291],\n",
       "       [-0.07280285],\n",
       "       [ 0.89944377],\n",
       "       [ 0.73600591],\n",
       "       [-0.10507358],\n",
       "       [ 0.29828781],\n",
       "       [ 0.80230431],\n",
       "       [ 0.45578588],\n",
       "       [ 0.83404174],\n",
       "       [ 0.23525261],\n",
       "       [ 0.66940834],\n",
       "       [ 0.732625  ],\n",
       "       [ 1.0732024 ],\n",
       "       [ 0.94629352],\n",
       "       [ 0.9201971 ],\n",
       "       [ 0.86945198],\n",
       "       [ 0.24362768],\n",
       "       [ 1.0818654 ],\n",
       "       [ 0.76976699],\n",
       "       [ 0.3705481 ],\n",
       "       [ 0.74908071],\n",
       "       [ 0.8937679 ],\n",
       "       [ 1.05675366],\n",
       "       [ 0.84017148],\n",
       "       [ 0.89757965],\n",
       "       [ 0.59896568],\n",
       "       [-0.00141154],\n",
       "       [ 0.65505466],\n",
       "       [ 0.66172953],\n",
       "       [ 0.63457532],\n",
       "       [ 0.60754787],\n",
       "       [ 0.26421489],\n",
       "       [ 0.36786782],\n",
       "       [ 0.26634175],\n",
       "       [ 0.87309265],\n",
       "       [ 0.4078768 ],\n",
       "       [ 0.82158906],\n",
       "       [ 1.2363548 ],\n",
       "       [ 0.04139199],\n",
       "       [ 0.3602228 ],\n",
       "       [ 0.26299636],\n",
       "       [ 0.88534313],\n",
       "       [ 0.76684477],\n",
       "       [ 0.74128105],\n",
       "       [ 0.75734237],\n",
       "       [ 0.71188894],\n",
       "       [ 0.72546631],\n",
       "       [ 0.78260564],\n",
       "       [ 0.08273055],\n",
       "       [ 0.92898683],\n",
       "       [ 0.78403345],\n",
       "       [ 0.61033741],\n",
       "       [ 0.22424193],\n",
       "       [ 1.12162869],\n",
       "       [ 0.96743828],\n",
       "       [ 0.37945502],\n",
       "       [ 0.56821172],\n",
       "       [ 1.13046383],\n",
       "       [ 0.1914584 ],\n",
       "       [ 0.88601345],\n",
       "       [ 0.31408894],\n",
       "       [ 0.15868533],\n",
       "       [ 1.24032625],\n",
       "       [ 0.92474228],\n",
       "       [ 0.12783753],\n",
       "       [ 0.63423662],\n",
       "       [ 0.18996533],\n",
       "       [-0.04881873],\n",
       "       [ 0.90747649],\n",
       "       [ 0.43641256],\n",
       "       [ 0.54051099],\n",
       "       [ 0.92432464],\n",
       "       [ 0.51600105],\n",
       "       [ 0.16225887],\n",
       "       [ 0.96434345],\n",
       "       [ 0.73361047],\n",
       "       [ 1.0472423 ],\n",
       "       [ 0.76794343],\n",
       "       [ 0.65022942],\n",
       "       [ 0.74004956],\n",
       "       [ 0.59747473],\n",
       "       [ 0.53611249],\n",
       "       [ 0.05414649],\n",
       "       [ 0.30726629],\n",
       "       [ 0.77098492],\n",
       "       [ 1.01373612],\n",
       "       [ 0.7760168 ],\n",
       "       [ 0.22747641],\n",
       "       [ 0.25051179],\n",
       "       [ 0.87262665],\n",
       "       [ 0.22586663],\n",
       "       [-0.11280413],\n",
       "       [ 0.8970358 ],\n",
       "       [ 0.97628437],\n",
       "       [ 1.00301567],\n",
       "       [ 0.04498714],\n",
       "       [ 1.02358363],\n",
       "       [ 0.15103382],\n",
       "       [ 0.42279879],\n",
       "       [ 0.44793104],\n",
       "       [ 0.71300127],\n",
       "       [ 0.45267431],\n",
       "       [ 0.61342346],\n",
       "       [ 0.35200795],\n",
       "       [ 0.82768878],\n",
       "       [ 0.7399513 ],\n",
       "       [ 0.4773513 ],\n",
       "       [ 0.004616  ],\n",
       "       [ 0.4032445 ],\n",
       "       [ 0.15703522],\n",
       "       [ 0.76632906],\n",
       "       [ 0.63367916],\n",
       "       [ 0.85883602],\n",
       "       [ 1.13810195],\n",
       "       [ 0.84871852],\n",
       "       [ 0.89896717],\n",
       "       [ 0.76996944],\n",
       "       [ 0.95841324],\n",
       "       [ 0.94585659],\n",
       "       [ 0.2437478 ],\n",
       "       [-0.32809944],\n",
       "       [ 0.4572005 ],\n",
       "       [-0.78377635],\n",
       "       [ 0.85459791],\n",
       "       [ 0.433995  ],\n",
       "       [ 0.88253017],\n",
       "       [ 0.4141842 ],\n",
       "       [-0.89806048],\n",
       "       [ 0.44024448],\n",
       "       [ 0.32067423],\n",
       "       [ 0.82832509],\n",
       "       [ 1.07338724],\n",
       "       [ 0.75065327],\n",
       "       [ 0.68181029],\n",
       "       [ 0.59234433],\n",
       "       [ 0.41245771],\n",
       "       [ 0.37750253],\n",
       "       [ 0.59318273],\n",
       "       [ 1.12017639],\n",
       "       [ 1.0812654 ],\n",
       "       [ 0.41794975],\n",
       "       [ 0.65892717],\n",
       "       [ 0.97534876],\n",
       "       [ 0.0590541 ],\n",
       "       [ 0.38723361],\n",
       "       [ 0.03994293],\n",
       "       [ 0.24423393],\n",
       "       [ 0.80819219],\n",
       "       [ 0.66432482],\n",
       "       [ 0.68263184],\n",
       "       [ 0.42473049],\n",
       "       [ 0.57189553],\n",
       "       [ 0.89601299],\n",
       "       [ 0.90168854],\n",
       "       [-0.08574901],\n",
       "       [ 0.48500361],\n",
       "       [-0.40465453],\n",
       "       [ 1.01215384],\n",
       "       [ 1.03376847],\n",
       "       [ 0.48786604],\n",
       "       [ 0.92849485],\n",
       "       [ 0.97705054],\n",
       "       [ 1.1096862 ],\n",
       "       [ 1.12841196],\n",
       "       [-0.23147197],\n",
       "       [ 0.63032578],\n",
       "       [ 0.63069845],\n",
       "       [ 0.52277059],\n",
       "       [ 0.69733493],\n",
       "       [ 1.00348521],\n",
       "       [ 0.87529464],\n",
       "       [ 1.06768209],\n",
       "       [ 0.86755132],\n",
       "       [ 0.9271511 ],\n",
       "       [ 0.05535658],\n",
       "       [ 1.09374768],\n",
       "       [ 1.14117812],\n",
       "       [ 0.89425942],\n",
       "       [ 0.67323824],\n",
       "       [ 1.00011115],\n",
       "       [ 0.76631027],\n",
       "       [ 0.58420447],\n",
       "       [ 0.59561574],\n",
       "       [ 0.65311955],\n",
       "       [ 0.09343334],\n",
       "       [ 1.06010736],\n",
       "       [ 0.83218739],\n",
       "       [ 0.58039265],\n",
       "       [ 0.09403184],\n",
       "       [ 0.17386895],\n",
       "       [ 0.69691558],\n",
       "       [ 0.5798034 ],\n",
       "       [ 0.52781306],\n",
       "       [ 0.75505185],\n",
       "       [ 0.2317783 ],\n",
       "       [ 0.69440972],\n",
       "       [ 1.11279353],\n",
       "       [ 0.67889233],\n",
       "       [ 0.98758122],\n",
       "       [ 0.54258052],\n",
       "       [ 0.90629559]])"
      ]
     },
     "execution_count": 352,
     "metadata": {},
     "output_type": "execute_result"
    }
   ],
   "source": [
    "y_predict=model_pls.predict(X_train)\n",
    "y_predict"
   ]
  },
  {
   "cell_type": "code",
   "execution_count": 353,
   "id": "a244fc8d",
   "metadata": {},
   "outputs": [
    {
     "data": {
      "text/plain": [
       "0.2966810131502367"
      ]
     },
     "execution_count": 353,
     "metadata": {},
     "output_type": "execute_result"
    }
   ],
   "source": [
    "np.sqrt(mean_squared_error(y_train, y_predict))"
   ]
  },
  {
   "cell_type": "code",
   "execution_count": 354,
   "id": "0c795e1e",
   "metadata": {},
   "outputs": [
    {
     "data": {
      "text/plain": [
       "0.6229928710988901"
      ]
     },
     "execution_count": 354,
     "metadata": {},
     "output_type": "execute_result"
    }
   ],
   "source": [
    "r2_score(y_train, y_predict)"
   ]
  },
  {
   "cell_type": "markdown",
   "id": "e0ba17dd",
   "metadata": {},
   "source": [
    "Test Value Error"
   ]
  },
  {
   "cell_type": "code",
   "execution_count": 357,
   "id": "41f45c62",
   "metadata": {},
   "outputs": [
    {
     "data": {
      "text/plain": [
       "array([[ 0.74170754],\n",
       "       [ 0.23976613],\n",
       "       [ 0.39251074],\n",
       "       [ 0.71476181],\n",
       "       [ 0.91685079],\n",
       "       [-0.36930658],\n",
       "       [-0.19986937],\n",
       "       [ 0.4357289 ],\n",
       "       [ 0.67678367],\n",
       "       [ 0.98016405],\n",
       "       [ 0.63796321],\n",
       "       [ 0.49743619],\n",
       "       [ 0.67319572],\n",
       "       [ 0.19820352],\n",
       "       [ 1.00520771],\n",
       "       [-0.20578458],\n",
       "       [ 0.8049285 ],\n",
       "       [ 0.88846534],\n",
       "       [ 1.10796872],\n",
       "       [-0.03424132],\n",
       "       [ 0.69908328],\n",
       "       [ 0.76555974],\n",
       "       [-0.2646993 ],\n",
       "       [ 1.03593643],\n",
       "       [ 0.89696292],\n",
       "       [ 0.5800824 ],\n",
       "       [ 0.9546519 ],\n",
       "       [ 0.77172076],\n",
       "       [ 0.74753404],\n",
       "       [ 0.13960237],\n",
       "       [ 0.78778212],\n",
       "       [ 0.98667797],\n",
       "       [ 0.86245019],\n",
       "       [ 0.77660346],\n",
       "       [ 0.88316605],\n",
       "       [ 0.85718563],\n",
       "       [ 0.51969317],\n",
       "       [ 1.11976172],\n",
       "       [ 0.28909364],\n",
       "       [ 0.53612205],\n",
       "       [ 0.87287768],\n",
       "       [ 0.33455357],\n",
       "       [ 0.7872959 ],\n",
       "       [ 0.89017708],\n",
       "       [ 0.60870429],\n",
       "       [ 0.87771977],\n",
       "       [ 0.74573908],\n",
       "       [ 0.91393511],\n",
       "       [ 0.7522003 ],\n",
       "       [ 0.98058114],\n",
       "       [ 0.30417396],\n",
       "       [ 0.00678425],\n",
       "       [ 0.58308215],\n",
       "       [ 0.53414221],\n",
       "       [ 0.73616887],\n",
       "       [ 0.93688157],\n",
       "       [ 0.90602634],\n",
       "       [-0.56638456],\n",
       "       [ 0.58929427],\n",
       "       [ 0.98689663],\n",
       "       [ 0.73351343],\n",
       "       [-0.00699785],\n",
       "       [-0.21962875],\n",
       "       [ 0.6667278 ],\n",
       "       [ 0.90808816],\n",
       "       [ 0.79110337],\n",
       "       [ 0.21383123],\n",
       "       [-0.33553733],\n",
       "       [ 0.81884017],\n",
       "       [ 0.72188863],\n",
       "       [ 0.3563444 ],\n",
       "       [ 0.51974516],\n",
       "       [ 0.84267373],\n",
       "       [ 0.39664364],\n",
       "       [ 1.09506736],\n",
       "       [ 0.71454845],\n",
       "       [ 0.64791566],\n",
       "       [ 0.57158401],\n",
       "       [ 1.1692719 ],\n",
       "       [ 0.74968658],\n",
       "       [ 0.3654104 ],\n",
       "       [ 1.09019049],\n",
       "       [ 0.56493378],\n",
       "       [-0.09435972],\n",
       "       [ 0.27174685],\n",
       "       [ 0.22719179],\n",
       "       [ 0.41888859],\n",
       "       [ 0.25701041],\n",
       "       [ 0.95141778],\n",
       "       [ 0.72115681],\n",
       "       [ 0.87832119],\n",
       "       [ 0.59262837],\n",
       "       [ 0.59635601],\n",
       "       [ 0.81208363],\n",
       "       [ 0.75472746],\n",
       "       [ 0.94727002],\n",
       "       [-0.10298738],\n",
       "       [ 0.19814343],\n",
       "       [ 1.00471329],\n",
       "       [ 0.34472944],\n",
       "       [ 0.48621113],\n",
       "       [ 1.1835933 ],\n",
       "       [ 0.28509604],\n",
       "       [ 0.21540067],\n",
       "       [ 0.89576222],\n",
       "       [ 0.75356645],\n",
       "       [ 0.65037519],\n",
       "       [-0.12807257],\n",
       "       [ 0.67665881],\n",
       "       [ 0.7459216 ],\n",
       "       [ 0.50724489],\n",
       "       [ 0.89422751],\n",
       "       [ 0.54004244],\n",
       "       [-0.21987255]])"
      ]
     },
     "execution_count": 357,
     "metadata": {},
     "output_type": "execute_result"
    }
   ],
   "source": [
    "y_predict=model_pls.predict(X_test)\n",
    "y_predict"
   ]
  },
  {
   "cell_type": "code",
   "execution_count": 358,
   "id": "d8863a21",
   "metadata": {},
   "outputs": [
    {
     "data": {
      "text/plain": [
       "0.28799852018248084"
      ]
     },
     "execution_count": 358,
     "metadata": {},
     "output_type": "execute_result"
    }
   ],
   "source": [
    "np.sqrt(mean_squared_error(y_test, y_predict))"
   ]
  },
  {
   "cell_type": "markdown",
   "id": "c46c688c",
   "metadata": {},
   "source": [
    "Model Tunning"
   ]
  },
  {
   "cell_type": "markdown",
   "id": "e35d4675",
   "metadata": {},
   "source": [
    "Validation for Pcr"
   ]
  },
  {
   "cell_type": "markdown",
   "id": "01debfc0",
   "metadata": {},
   "source": [
    "Create a validation method"
   ]
  },
  {
   "cell_type": "code",
   "execution_count": 359,
   "id": "f6891c71",
   "metadata": {},
   "outputs": [],
   "source": [
    "cv=model_selection.KFold(n_splits=10, shuffle=True, random_state=1)"
   ]
  },
  {
   "cell_type": "markdown",
   "id": "b90a95cc",
   "metadata": {},
   "source": [
    "Calculating error value for each variable"
   ]
  },
  {
   "cell_type": "code",
   "execution_count": 361,
   "id": "2a131ac0",
   "metadata": {},
   "outputs": [],
   "source": [
    "pls=PLSRegression(n_components=i)"
   ]
  },
  {
   "cell_type": "code",
   "execution_count": 362,
   "id": "0bfd1d4e",
   "metadata": {},
   "outputs": [],
   "source": [
    "RMSE=[]"
   ]
  },
  {
   "cell_type": "code",
   "execution_count": 364,
   "id": "6a14390f",
   "metadata": {
    "collapsed": true
   },
   "outputs": [
    {
     "name": "stderr",
     "output_type": "stream",
     "text": [
      "c:\\users\\user202\\appdata\\local\\programs\\python\\python37\\lib\\site-packages\\sklearn\\cross_decomposition\\_pls.py:212: FutureWarning: As of version 0.24, n_components(5) should be in [1, n_features].n_components=1 will be used instead. In version 1.1 (renaming of 0.26), an error will be raised.\n",
      "  FutureWarning\n",
      "c:\\users\\user202\\appdata\\local\\programs\\python\\python37\\lib\\site-packages\\sklearn\\cross_decomposition\\_pls.py:212: FutureWarning: As of version 0.24, n_components(5) should be in [1, n_features].n_components=1 will be used instead. In version 1.1 (renaming of 0.26), an error will be raised.\n",
      "  FutureWarning\n",
      "c:\\users\\user202\\appdata\\local\\programs\\python\\python37\\lib\\site-packages\\sklearn\\cross_decomposition\\_pls.py:212: FutureWarning: As of version 0.24, n_components(5) should be in [1, n_features].n_components=1 will be used instead. In version 1.1 (renaming of 0.26), an error will be raised.\n",
      "  FutureWarning\n",
      "c:\\users\\user202\\appdata\\local\\programs\\python\\python37\\lib\\site-packages\\sklearn\\cross_decomposition\\_pls.py:212: FutureWarning: As of version 0.24, n_components(5) should be in [1, n_features].n_components=1 will be used instead. In version 1.1 (renaming of 0.26), an error will be raised.\n",
      "  FutureWarning\n",
      "c:\\users\\user202\\appdata\\local\\programs\\python\\python37\\lib\\site-packages\\sklearn\\cross_decomposition\\_pls.py:212: FutureWarning: As of version 0.24, n_components(5) should be in [1, n_features].n_components=1 will be used instead. In version 1.1 (renaming of 0.26), an error will be raised.\n",
      "  FutureWarning\n",
      "c:\\users\\user202\\appdata\\local\\programs\\python\\python37\\lib\\site-packages\\sklearn\\cross_decomposition\\_pls.py:212: FutureWarning: As of version 0.24, n_components(5) should be in [1, n_features].n_components=1 will be used instead. In version 1.1 (renaming of 0.26), an error will be raised.\n",
      "  FutureWarning\n",
      "c:\\users\\user202\\appdata\\local\\programs\\python\\python37\\lib\\site-packages\\sklearn\\cross_decomposition\\_pls.py:212: FutureWarning: As of version 0.24, n_components(5) should be in [1, n_features].n_components=1 will be used instead. In version 1.1 (renaming of 0.26), an error will be raised.\n",
      "  FutureWarning\n",
      "c:\\users\\user202\\appdata\\local\\programs\\python\\python37\\lib\\site-packages\\sklearn\\cross_decomposition\\_pls.py:212: FutureWarning: As of version 0.24, n_components(5) should be in [1, n_features].n_components=1 will be used instead. In version 1.1 (renaming of 0.26), an error will be raised.\n",
      "  FutureWarning\n",
      "c:\\users\\user202\\appdata\\local\\programs\\python\\python37\\lib\\site-packages\\sklearn\\cross_decomposition\\_pls.py:212: FutureWarning: As of version 0.24, n_components(5) should be in [1, n_features].n_components=1 will be used instead. In version 1.1 (renaming of 0.26), an error will be raised.\n",
      "  FutureWarning\n",
      "c:\\users\\user202\\appdata\\local\\programs\\python\\python37\\lib\\site-packages\\sklearn\\cross_decomposition\\_pls.py:212: FutureWarning: As of version 0.24, n_components(5) should be in [1, n_features].n_components=1 will be used instead. In version 1.1 (renaming of 0.26), an error will be raised.\n",
      "  FutureWarning\n",
      "c:\\users\\user202\\appdata\\local\\programs\\python\\python37\\lib\\site-packages\\sklearn\\cross_decomposition\\_pls.py:212: FutureWarning: As of version 0.24, n_components(5) should be in [1, n_features].n_components=2 will be used instead. In version 1.1 (renaming of 0.26), an error will be raised.\n",
      "  FutureWarning\n",
      "c:\\users\\user202\\appdata\\local\\programs\\python\\python37\\lib\\site-packages\\sklearn\\cross_decomposition\\_pls.py:212: FutureWarning: As of version 0.24, n_components(5) should be in [1, n_features].n_components=2 will be used instead. In version 1.1 (renaming of 0.26), an error will be raised.\n",
      "  FutureWarning\n",
      "c:\\users\\user202\\appdata\\local\\programs\\python\\python37\\lib\\site-packages\\sklearn\\cross_decomposition\\_pls.py:212: FutureWarning: As of version 0.24, n_components(5) should be in [1, n_features].n_components=2 will be used instead. In version 1.1 (renaming of 0.26), an error will be raised.\n",
      "  FutureWarning\n",
      "c:\\users\\user202\\appdata\\local\\programs\\python\\python37\\lib\\site-packages\\sklearn\\cross_decomposition\\_pls.py:212: FutureWarning: As of version 0.24, n_components(5) should be in [1, n_features].n_components=2 will be used instead. In version 1.1 (renaming of 0.26), an error will be raised.\n",
      "  FutureWarning\n",
      "c:\\users\\user202\\appdata\\local\\programs\\python\\python37\\lib\\site-packages\\sklearn\\cross_decomposition\\_pls.py:212: FutureWarning: As of version 0.24, n_components(5) should be in [1, n_features].n_components=2 will be used instead. In version 1.1 (renaming of 0.26), an error will be raised.\n",
      "  FutureWarning\n",
      "c:\\users\\user202\\appdata\\local\\programs\\python\\python37\\lib\\site-packages\\sklearn\\cross_decomposition\\_pls.py:212: FutureWarning: As of version 0.24, n_components(5) should be in [1, n_features].n_components=2 will be used instead. In version 1.1 (renaming of 0.26), an error will be raised.\n",
      "  FutureWarning\n",
      "c:\\users\\user202\\appdata\\local\\programs\\python\\python37\\lib\\site-packages\\sklearn\\cross_decomposition\\_pls.py:212: FutureWarning: As of version 0.24, n_components(5) should be in [1, n_features].n_components=2 will be used instead. In version 1.1 (renaming of 0.26), an error will be raised.\n",
      "  FutureWarning\n",
      "c:\\users\\user202\\appdata\\local\\programs\\python\\python37\\lib\\site-packages\\sklearn\\cross_decomposition\\_pls.py:212: FutureWarning: As of version 0.24, n_components(5) should be in [1, n_features].n_components=2 will be used instead. In version 1.1 (renaming of 0.26), an error will be raised.\n",
      "  FutureWarning\n",
      "c:\\users\\user202\\appdata\\local\\programs\\python\\python37\\lib\\site-packages\\sklearn\\cross_decomposition\\_pls.py:212: FutureWarning: As of version 0.24, n_components(5) should be in [1, n_features].n_components=2 will be used instead. In version 1.1 (renaming of 0.26), an error will be raised.\n",
      "  FutureWarning\n",
      "c:\\users\\user202\\appdata\\local\\programs\\python\\python37\\lib\\site-packages\\sklearn\\cross_decomposition\\_pls.py:212: FutureWarning: As of version 0.24, n_components(5) should be in [1, n_features].n_components=2 will be used instead. In version 1.1 (renaming of 0.26), an error will be raised.\n",
      "  FutureWarning\n",
      "c:\\users\\user202\\appdata\\local\\programs\\python\\python37\\lib\\site-packages\\sklearn\\cross_decomposition\\_pls.py:212: FutureWarning: As of version 0.24, n_components(5) should be in [1, n_features].n_components=3 will be used instead. In version 1.1 (renaming of 0.26), an error will be raised.\n",
      "  FutureWarning\n",
      "c:\\users\\user202\\appdata\\local\\programs\\python\\python37\\lib\\site-packages\\sklearn\\cross_decomposition\\_pls.py:212: FutureWarning: As of version 0.24, n_components(5) should be in [1, n_features].n_components=3 will be used instead. In version 1.1 (renaming of 0.26), an error will be raised.\n",
      "  FutureWarning\n",
      "c:\\users\\user202\\appdata\\local\\programs\\python\\python37\\lib\\site-packages\\sklearn\\cross_decomposition\\_pls.py:212: FutureWarning: As of version 0.24, n_components(5) should be in [1, n_features].n_components=3 will be used instead. In version 1.1 (renaming of 0.26), an error will be raised.\n",
      "  FutureWarning\n",
      "c:\\users\\user202\\appdata\\local\\programs\\python\\python37\\lib\\site-packages\\sklearn\\cross_decomposition\\_pls.py:212: FutureWarning: As of version 0.24, n_components(5) should be in [1, n_features].n_components=3 will be used instead. In version 1.1 (renaming of 0.26), an error will be raised.\n",
      "  FutureWarning\n",
      "c:\\users\\user202\\appdata\\local\\programs\\python\\python37\\lib\\site-packages\\sklearn\\cross_decomposition\\_pls.py:212: FutureWarning: As of version 0.24, n_components(5) should be in [1, n_features].n_components=3 will be used instead. In version 1.1 (renaming of 0.26), an error will be raised.\n",
      "  FutureWarning\n",
      "c:\\users\\user202\\appdata\\local\\programs\\python\\python37\\lib\\site-packages\\sklearn\\cross_decomposition\\_pls.py:212: FutureWarning: As of version 0.24, n_components(5) should be in [1, n_features].n_components=3 will be used instead. In version 1.1 (renaming of 0.26), an error will be raised.\n",
      "  FutureWarning\n",
      "c:\\users\\user202\\appdata\\local\\programs\\python\\python37\\lib\\site-packages\\sklearn\\cross_decomposition\\_pls.py:212: FutureWarning: As of version 0.24, n_components(5) should be in [1, n_features].n_components=3 will be used instead. In version 1.1 (renaming of 0.26), an error will be raised.\n",
      "  FutureWarning\n",
      "c:\\users\\user202\\appdata\\local\\programs\\python\\python37\\lib\\site-packages\\sklearn\\cross_decomposition\\_pls.py:212: FutureWarning: As of version 0.24, n_components(5) should be in [1, n_features].n_components=3 will be used instead. In version 1.1 (renaming of 0.26), an error will be raised.\n",
      "  FutureWarning\n",
      "c:\\users\\user202\\appdata\\local\\programs\\python\\python37\\lib\\site-packages\\sklearn\\cross_decomposition\\_pls.py:212: FutureWarning: As of version 0.24, n_components(5) should be in [1, n_features].n_components=3 will be used instead. In version 1.1 (renaming of 0.26), an error will be raised.\n",
      "  FutureWarning\n",
      "c:\\users\\user202\\appdata\\local\\programs\\python\\python37\\lib\\site-packages\\sklearn\\cross_decomposition\\_pls.py:212: FutureWarning: As of version 0.24, n_components(5) should be in [1, n_features].n_components=3 will be used instead. In version 1.1 (renaming of 0.26), an error will be raised.\n",
      "  FutureWarning\n",
      "c:\\users\\user202\\appdata\\local\\programs\\python\\python37\\lib\\site-packages\\sklearn\\cross_decomposition\\_pls.py:212: FutureWarning: As of version 0.24, n_components(5) should be in [1, n_features].n_components=4 will be used instead. In version 1.1 (renaming of 0.26), an error will be raised.\n",
      "  FutureWarning\n",
      "c:\\users\\user202\\appdata\\local\\programs\\python\\python37\\lib\\site-packages\\sklearn\\cross_decomposition\\_pls.py:212: FutureWarning: As of version 0.24, n_components(5) should be in [1, n_features].n_components=4 will be used instead. In version 1.1 (renaming of 0.26), an error will be raised.\n",
      "  FutureWarning\n",
      "c:\\users\\user202\\appdata\\local\\programs\\python\\python37\\lib\\site-packages\\sklearn\\cross_decomposition\\_pls.py:212: FutureWarning: As of version 0.24, n_components(5) should be in [1, n_features].n_components=4 will be used instead. In version 1.1 (renaming of 0.26), an error will be raised.\n",
      "  FutureWarning\n",
      "c:\\users\\user202\\appdata\\local\\programs\\python\\python37\\lib\\site-packages\\sklearn\\cross_decomposition\\_pls.py:212: FutureWarning: As of version 0.24, n_components(5) should be in [1, n_features].n_components=4 will be used instead. In version 1.1 (renaming of 0.26), an error will be raised.\n",
      "  FutureWarning\n",
      "c:\\users\\user202\\appdata\\local\\programs\\python\\python37\\lib\\site-packages\\sklearn\\cross_decomposition\\_pls.py:212: FutureWarning: As of version 0.24, n_components(5) should be in [1, n_features].n_components=4 will be used instead. In version 1.1 (renaming of 0.26), an error will be raised.\n",
      "  FutureWarning\n",
      "c:\\users\\user202\\appdata\\local\\programs\\python\\python37\\lib\\site-packages\\sklearn\\cross_decomposition\\_pls.py:212: FutureWarning: As of version 0.24, n_components(5) should be in [1, n_features].n_components=4 will be used instead. In version 1.1 (renaming of 0.26), an error will be raised.\n",
      "  FutureWarning\n",
      "c:\\users\\user202\\appdata\\local\\programs\\python\\python37\\lib\\site-packages\\sklearn\\cross_decomposition\\_pls.py:212: FutureWarning: As of version 0.24, n_components(5) should be in [1, n_features].n_components=4 will be used instead. In version 1.1 (renaming of 0.26), an error will be raised.\n",
      "  FutureWarning\n",
      "c:\\users\\user202\\appdata\\local\\programs\\python\\python37\\lib\\site-packages\\sklearn\\cross_decomposition\\_pls.py:212: FutureWarning: As of version 0.24, n_components(5) should be in [1, n_features].n_components=4 will be used instead. In version 1.1 (renaming of 0.26), an error will be raised.\n",
      "  FutureWarning\n",
      "c:\\users\\user202\\appdata\\local\\programs\\python\\python37\\lib\\site-packages\\sklearn\\cross_decomposition\\_pls.py:212: FutureWarning: As of version 0.24, n_components(5) should be in [1, n_features].n_components=4 will be used instead. In version 1.1 (renaming of 0.26), an error will be raised.\n",
      "  FutureWarning\n",
      "c:\\users\\user202\\appdata\\local\\programs\\python\\python37\\lib\\site-packages\\sklearn\\cross_decomposition\\_pls.py:212: FutureWarning: As of version 0.24, n_components(5) should be in [1, n_features].n_components=4 will be used instead. In version 1.1 (renaming of 0.26), an error will be raised.\n",
      "  FutureWarning\n"
     ]
    }
   ],
   "source": [
    "for i in np.arange(1, X_reduced_train.shape[1] + 1):\n",
    "    score=np.sqrt(-1*model_selection.cross_val_score(pls, X_reduced_train[:,:i], y_train.ravel(), cv=cv, scoring='neg_mean_squared_error'))\n",
    "    RMSE.append(score)"
   ]
  },
  {
   "cell_type": "code",
   "execution_count": 366,
   "id": "2dfe6e81",
   "metadata": {},
   "outputs": [
    {
     "data": {
      "image/png": "[encoded data removed]",
      "text/plain": [
       "<Figure size 432x288 with 1 Axes>"
      ]
     },
     "metadata": {
      "needs_background": "light"
     },
     "output_type": "display_data"
    }
   ],
   "source": [
    "plt.plot(RMSE, '-v')\n",
    "plt.xlabel('Number of Variable')\n",
    "plt.ylabel('RMSE');"
   ]
  },
  {
   "cell_type": "code",
   "execution_count": 369,
   "id": "93e3b01b",
   "metadata": {},
   "outputs": [],
   "source": [
    "model_pls=PLSRegression(n_components=1).fit(X_train, y_train)"
   ]
  },
  {
   "cell_type": "code",
   "execution_count": 371,
   "id": "d1c57af8",
   "metadata": {},
   "outputs": [],
   "source": [
    "y_predict=model_pls.predict(X_test)"
   ]
  },
  {
   "cell_type": "code",
   "execution_count": 372,
   "id": "33a7acd6",
   "metadata": {},
   "outputs": [
    {
     "data": {
      "text/plain": [
       "0.28649953066010636"
      ]
     },
     "execution_count": 372,
     "metadata": {},
     "output_type": "execute_result"
    }
   ],
   "source": [
    "np.sqrt(mean_squared_error(y_test, y_predict))"
   ]
  },
  {
   "cell_type": "markdown",
   "id": "530c547c",
   "metadata": {},
   "source": [
    "### Ridge Regression - L2 regularization - Tunning Parameter ###"
   ]
  },
  {
   "cell_type": "markdown",
   "id": "f754ca78",
   "metadata": {},
   "source": [
    "Ridge regression is a model tuning method that is used to analyse any data that suffers from multicollinearity. This method performs L2 regularization. When the issue of multicollinearity occurs, least-squares are unbiased, and variances are large, this results in predicted values being far away from the actual values."
   ]
  },
  {
   "cell_type": "markdown",
   "id": "35f0d5e3",
   "metadata": {},
   "source": [
    "The ridge regression method rather than OLS because it provides a better estimate than OLS when independent variables are related without omitting any of the independent variables."
   ]
  },
  {
   "cell_type": "code",
   "execution_count": 373,
   "id": "9aaaf7d9",
   "metadata": {},
   "outputs": [],
   "source": [
    "from sklearn.linear_model import Ridge "
   ]
  },
  {
   "cell_type": "code",
   "execution_count": 430,
   "id": "7899e05b",
   "metadata": {},
   "outputs": [],
   "source": [
    "model_ridge=Ridge(alpha=0.01).fit(X_train, y_train)"
   ]
  },
  {
   "cell_type": "code",
   "execution_count": 431,
   "id": "8cd987cf",
   "metadata": {},
   "outputs": [],
   "source": [
    "lambda_s=10**np.linspace(100,-25,1000)*0.05\n",
    "ridge=Ridge()\n",
    "coef_s=[]\n",
    "for i in lambda_s:\n",
    "    model_ridge.set_params(alpha=i)\n",
    "    model_ridge.fit(X_train, y_train)\n",
    "    coef_s.append(model_ridge.coef_)"
   ]
  },
  {
   "cell_type": "code",
   "execution_count": 432,
   "id": "e78c3251",
   "metadata": {},
   "outputs": [
    {
     "data": {
      "image/png": "[encoded data removed]",
      "text/plain": [
       "<Figure size 432x288 with 1 Axes>"
      ]
     },
     "metadata": {
      "needs_background": "light"
     },
     "output_type": "display_data"
    }
   ],
   "source": [
    "a=plt.gca()\n",
    "a.plot(lambda_s, coef_s)\n",
    "a.set_xscale('log')\n",
    "plt.xlabel=('lambda')\n",
    "plt.ylabel=('coef');"
   ]
  },
  {
   "cell_type": "markdown",
   "id": "8352eb1d",
   "metadata": {},
   "source": [
    "PREDİCT"
   ]
  },
  {
   "cell_type": "markdown",
   "id": "ba442b7d",
   "metadata": {},
   "source": [
    "We will predict on X_test data to find y_predict values,we can also predict on X_train data but does not give us optimum value,already do model tuning on X_test data to find optimum value/s for finally model."
   ]
  },
  {
   "cell_type": "code",
   "execution_count": 433,
   "id": "a8104d30",
   "metadata": {},
   "outputs": [
    {
     "data": {
      "text/plain": [
       "array([0.72791857, 0.25504394, 0.3554493 , 0.67972128, 0.91853721])"
      ]
     },
     "execution_count": 433,
     "metadata": {},
     "output_type": "execute_result"
    }
   ],
   "source": [
    "y_predict=model_ridge.predict(X_test)\n",
    "y_predict[:5]"
   ]
  },
  {
   "cell_type": "code",
   "execution_count": 434,
   "id": "1bf5ca1d",
   "metadata": {},
   "outputs": [
    {
     "data": {
      "text/plain": [
       "0.2852459599606076"
      ]
     },
     "execution_count": 434,
     "metadata": {},
     "output_type": "execute_result"
    }
   ],
   "source": [
    "np.sqrt(mean_squared_error(y_test, y_predict))"
   ]
  },
  {
   "cell_type": "markdown",
   "id": "8f565e0d",
   "metadata": {},
   "source": [
    "MODEL TUNİNG"
   ]
  },
  {
   "cell_type": "code",
   "execution_count": 435,
   "id": "881873c7",
   "metadata": {},
   "outputs": [],
   "source": [
    "lambda_ss=10**np.linspace(100,-25,1000)*0.05"
   ]
  },
  {
   "cell_type": "code",
   "execution_count": 436,
   "id": "0bedbe93",
   "metadata": {},
   "outputs": [],
   "source": [
    "from sklearn.linear_model import RidgeCV"
   ]
  },
  {
   "cell_type": "markdown",
   "id": "388b9cb1",
   "metadata": {},
   "source": [
    "We set on X_train data to find the optimum parameters for finally model"
   ]
  },
  {
   "cell_type": "code",
   "execution_count": 437,
   "id": "c5d5b4db",
   "metadata": {},
   "outputs": [],
   "source": [
    "ridge_cv=RidgeCV(alphas=lambda_ss, scoring='neg_mean_squared_error', normalize=True)"
   ]
  },
  {
   "cell_type": "code",
   "execution_count": 438,
   "id": "c0ea3f89",
   "metadata": {},
   "outputs": [
    {
     "data": {
      "text/plain": [
       "RidgeCV(alphas=array([5.00000000e+98, 3.74839094e+98, 2.81008692e+98, 2.10666087e+98,\n",
       "       1.57931770e+98, 1.18398003e+98, 8.87604006e+97, 6.65417362e+97,\n",
       "       4.98848882e+97, 3.73976126e+97, 2.80361744e+97, 2.10181084e+97,\n",
       "       1.57568174e+97, 1.18125423e+97, 8.85560532e+96, 6.63885415e+96,\n",
       "       4.97700414e+96, 3.73115145e+96, 2.79716285e+96, 2.09697198e+96,\n",
       "       1.57205415e+96, 1.17853471e+9...\n",
       "       1.19219524e-24, 8.93762763e-25, 6.70034448e-25, 5.02310211e-25,\n",
       "       3.76571008e-25, 2.82307071e-25, 2.11639453e-25, 1.58661482e-25,\n",
       "       1.18945052e-25, 8.91705110e-26, 6.68491871e-26, 5.01153774e-26,\n",
       "       3.75704053e-26, 2.81657134e-26, 2.11152209e-26, 1.58296206e-26,\n",
       "       1.18671213e-26, 8.89652195e-27, 6.66952845e-27, 5.00000000e-27]),\n",
       "        normalize=True, scoring='neg_mean_squared_error')"
      ]
     },
     "execution_count": 438,
     "metadata": {},
     "output_type": "execute_result"
    }
   ],
   "source": [
    "ridge_cv.fit(X_train,y_train)"
   ]
  },
  {
   "cell_type": "code",
   "execution_count": 439,
   "id": "c0e6b733",
   "metadata": {},
   "outputs": [
    {
     "data": {
      "text/plain": [
       "0.0007032636210526024"
      ]
     },
     "execution_count": 439,
     "metadata": {},
     "output_type": "execute_result"
    }
   ],
   "source": [
    "ridge_cv.alpha_"
   ]
  },
  {
   "cell_type": "markdown",
   "id": "726dce91",
   "metadata": {},
   "source": [
    "FİNALLY MODEL"
   ]
  },
  {
   "cell_type": "code",
   "execution_count": 440,
   "id": "845a32d1",
   "metadata": {},
   "outputs": [],
   "source": [
    "finally_model=Ridge(alpha=ridge_cv.alpha_, normalize=True).fit(X_train, y_train)"
   ]
  },
  {
   "cell_type": "code",
   "execution_count": 441,
   "id": "b0c3cdd7",
   "metadata": {},
   "outputs": [],
   "source": [
    "finally_model_predict=finally_model.predict(X_test)"
   ]
  },
  {
   "cell_type": "code",
   "execution_count": 442,
   "id": "1d7a9a65",
   "metadata": {},
   "outputs": [
    {
     "data": {
      "text/plain": [
       "0.28441643378814485"
      ]
     },
     "execution_count": 442,
     "metadata": {},
     "output_type": "execute_result"
    }
   ],
   "source": [
    "np.sqrt(mean_squared_error(y_test, finally_model_predict))"
   ]
  },
  {
   "cell_type": "markdown",
   "id": "697b61f5",
   "metadata": {},
   "source": [
    "### Lasso Regression ###"
   ]
  },
  {
   "cell_type": "markdown",
   "id": "50c3b207",
   "metadata": {},
   "source": [
    "This method is usually used in machine learning for the selection of the subset of variables. It provides greater prediction accuracy as compared to other regression models."
   ]
  },
  {
   "cell_type": "code",
   "execution_count": 443,
   "id": "12576559",
   "metadata": {},
   "outputs": [
    {
     "data": {
      "text/plain": [
       "(455, 5)"
      ]
     },
     "execution_count": 443,
     "metadata": {},
     "output_type": "execute_result"
    }
   ],
   "source": [
    "X_train.shape"
   ]
  },
  {
   "cell_type": "code",
   "execution_count": 444,
   "id": "95717162",
   "metadata": {},
   "outputs": [
    {
     "data": {
      "text/plain": [
       "(114, 5)"
      ]
     },
     "execution_count": 444,
     "metadata": {},
     "output_type": "execute_result"
    }
   ],
   "source": [
    "X_test.shape"
   ]
  },
  {
   "cell_type": "code",
   "execution_count": 445,
   "id": "a339ed6d",
   "metadata": {},
   "outputs": [
    {
     "data": {
      "text/plain": [
       "(455,)"
      ]
     },
     "execution_count": 445,
     "metadata": {},
     "output_type": "execute_result"
    }
   ],
   "source": [
    "y_train.shape"
   ]
  },
  {
   "cell_type": "code",
   "execution_count": 446,
   "id": "6baace46",
   "metadata": {},
   "outputs": [
    {
     "data": {
      "text/plain": [
       "(114,)"
      ]
     },
     "execution_count": 446,
     "metadata": {},
     "output_type": "execute_result"
    }
   ],
   "source": [
    "y_test.shape"
   ]
  },
  {
   "cell_type": "markdown",
   "id": "b60a161b",
   "metadata": {},
   "source": [
    "MODEL"
   ]
  },
  {
   "cell_type": "code",
   "execution_count": 447,
   "id": "239e6443",
   "metadata": {},
   "outputs": [],
   "source": [
    "from sklearn.linear_model import Lasso"
   ]
  },
  {
   "cell_type": "code",
   "execution_count": 448,
   "id": "89f4b39d",
   "metadata": {},
   "outputs": [],
   "source": [
    "model_lasso=Ridge(alpha=0.01).fit(X_train, y_train)"
   ]
  },
  {
   "cell_type": "code",
   "execution_count": 449,
   "id": "95cacb94",
   "metadata": {},
   "outputs": [
    {
     "data": {
      "text/plain": [
       "array([ 8.40699263e-02, -2.36718927e-02, -3.75227309e-02,  8.91485503e-04,\n",
       "       -6.28115015e+00])"
      ]
     },
     "execution_count": 449,
     "metadata": {},
     "output_type": "execute_result"
    }
   ],
   "source": [
    "model_lasso.coef_"
   ]
  },
  {
   "cell_type": "code",
   "execution_count": 473,
   "id": "37bff829",
   "metadata": {},
   "outputs": [],
   "source": [
    "lambda_s=10*np.linspace(10,-2,50)*0.05\n",
    "lasso=Lasso()\n",
    "coef_s=[]\n",
    "for i in lambda_s:\n",
    "    model_ridge.set_params(alpha=i)\n",
    "    model_ridge.fit(X_train, y_train)\n",
    "    coef_s.append(model_lasso.coef_)"
   ]
  },
  {
   "cell_type": "code",
   "execution_count": 474,
   "id": "22bc5c2b",
   "metadata": {},
   "outputs": [
    {
     "data": {
      "image/png": "[encoded data removed]",
      "text/plain": [
       "<Figure size 432x288 with 1 Axes>"
      ]
     },
     "metadata": {
      "needs_background": "light"
     },
     "output_type": "display_data"
    }
   ],
   "source": [
    "a=plt.gca()\n",
    "a.plot(lambda_s*2, coef_s)\n",
    "a.set_xscale('log')\n",
    "plt.axis=('tight')\n",
    "plt.xlabel=('lambda')\n",
    "plt.ylabel=('weight');"
   ]
  },
  {
   "cell_type": "markdown",
   "id": "c8d1ad32",
   "metadata": {},
   "source": [
    "PREDİCT"
   ]
  },
  {
   "cell_type": "code",
   "execution_count": 477,
   "id": "459da399",
   "metadata": {},
   "outputs": [
    {
     "data": {
      "text/plain": [
       "array([ 0.73056278,  0.25307264,  0.36579876,  0.68351083,  0.92087844,\n",
       "       -0.47004505, -0.1763501 ,  0.40022152,  0.64871608,  0.90376323,\n",
       "        0.64607691,  0.45926294,  0.65525304,  0.18220464,  0.9986294 ,\n",
       "       -0.25324518,  0.78142822,  0.97098438,  1.38042786, -0.06620028,\n",
       "        0.64294611,  0.78136705, -0.24609512,  1.09407066,  0.87418477,\n",
       "        0.62903054,  0.89184543,  0.82825243,  0.75125144,  0.0978435 ,\n",
       "        0.82002027,  1.00567527,  0.98719562,  0.76240333,  0.97161342,\n",
       "        0.90065731,  0.50041293,  1.12113496,  0.26788881,  0.50063183,\n",
       "        0.92959562,  0.33841708,  0.8074141 ,  0.89959184,  0.70984147,\n",
       "        0.89528506,  0.93274299,  1.00179971,  0.77950757,  0.88811852,\n",
       "        0.31338392, -0.04785746,  0.50748141,  0.57886727,  0.74652082,\n",
       "        0.88506378,  0.96681904, -0.53651214,  0.54529423,  1.01994521,\n",
       "        0.72245486,  0.01993312, -0.06285846,  0.60838896,  0.91494027,\n",
       "        0.74874316,  0.15188744, -0.59922104,  0.86825798,  0.67984348,\n",
       "        0.36210509,  0.46366486,  0.80689624,  0.29306914,  1.25832536,\n",
       "        0.69895359,  0.63706538,  0.54945993,  1.17687264,  0.82445593,\n",
       "        0.31408445,  1.10504659,  0.51902142, -0.06418245,  0.30111227,\n",
       "        0.16569092,  0.36850482,  0.11434197,  0.8454476 ,  0.75747253,\n",
       "        0.89701515,  0.58435565,  0.51888503,  0.83237483,  0.81853064,\n",
       "        1.04348536, -0.02798291,  0.22668686,  1.05784632,  0.29885828,\n",
       "        0.48396815,  1.27515153,  0.21435678,  0.19807399,  0.92094449,\n",
       "        0.78912096,  0.655222  ,  0.03878317,  0.63456459,  0.70940702,\n",
       "        0.49438259,  0.93072612,  0.46471823, -0.05394249])"
      ]
     },
     "execution_count": 477,
     "metadata": {},
     "output_type": "execute_result"
    }
   ],
   "source": [
    "y_predict=model_lasso.predict(X_test)\n",
    "y_predict"
   ]
  },
  {
   "cell_type": "code",
   "execution_count": 478,
   "id": "4bbe0560",
   "metadata": {},
   "outputs": [
    {
     "data": {
      "text/plain": [
       "0.2852255285222847"
      ]
     },
     "execution_count": 478,
     "metadata": {},
     "output_type": "execute_result"
    }
   ],
   "source": [
    "np.sqrt(mean_squared_error(y_test, y_predict))"
   ]
  },
  {
   "cell_type": "markdown",
   "id": "bbc20ff6",
   "metadata": {},
   "source": [
    "MODEL TUNİNG"
   ]
  },
  {
   "cell_type": "code",
   "execution_count": 480,
   "id": "a4c26974",
   "metadata": {},
   "outputs": [],
   "source": [
    "from sklearn.linear_model import LassoCV"
   ]
  },
  {
   "cell_type": "code",
   "execution_count": 481,
   "id": "ff9205bb",
   "metadata": {},
   "outputs": [],
   "source": [
    "lasso_cv_model=LassoCV(alphas=None, cv=10, max_iter=10000, normalize=True)"
   ]
  },
  {
   "cell_type": "code",
   "execution_count": 482,
   "id": "c287ddb1",
   "metadata": {},
   "outputs": [
    {
     "data": {
      "text/plain": [
       "LassoCV(cv=10, max_iter=10000, normalize=True)"
      ]
     },
     "execution_count": 482,
     "metadata": {},
     "output_type": "execute_result"
    }
   ],
   "source": [
    "lasso_cv_model.fit(X_train, y_train)"
   ]
  },
  {
   "cell_type": "code",
   "execution_count": 484,
   "id": "a83c6198",
   "metadata": {},
   "outputs": [
    {
     "data": {
      "text/plain": [
       "1.906087237876885e-05"
      ]
     },
     "execution_count": 484,
     "metadata": {},
     "output_type": "execute_result"
    }
   ],
   "source": [
    "lasso_cv_model.alpha_"
   ]
  },
  {
   "cell_type": "markdown",
   "id": "8b44270c",
   "metadata": {},
   "source": [
    "FİNALLY MODEL"
   ]
  },
  {
   "cell_type": "code",
   "execution_count": 486,
   "id": "b8411af6",
   "metadata": {},
   "outputs": [],
   "source": [
    "finally_model_lasso=Ridge(alpha=lasso_cv_model.alpha_).fit(X_train, y_train)"
   ]
  },
  {
   "cell_type": "code",
   "execution_count": 488,
   "id": "1c5f28ab",
   "metadata": {},
   "outputs": [],
   "source": [
    "finally_model_lasso_predict=finally_model_lasso.predict(X_test)"
   ]
  },
  {
   "cell_type": "code",
   "execution_count": 489,
   "id": "6de418f8",
   "metadata": {},
   "outputs": [
    {
     "data": {
      "text/plain": [
       "0.2852452332798175"
      ]
     },
     "execution_count": 489,
     "metadata": {},
     "output_type": "execute_result"
    }
   ],
   "source": [
    "np.sqrt(mean_squared_error(y_test, finally_model_lasso_predict))"
   ]
  },
  {
   "cell_type": "code",
   "execution_count": 490,
   "id": "432a73ef",
   "metadata": {},
   "outputs": [
    {
     "data": {
      "text/plain": [
       "0.28441643378814485"
      ]
     },
     "execution_count": 490,
     "metadata": {},
     "output_type": "execute_result"
    }
   ],
   "source": [
    "np.sqrt(mean_squared_error(y_test, finally_model_predict))"
   ]
  },
  {
   "cell_type": "markdown",
   "id": "1375832b",
   "metadata": {},
   "source": [
    "### ElasticNet Regression ###"
   ]
  },
  {
   "cell_type": "code",
   "execution_count": 491,
   "id": "22d971f8",
   "metadata": {},
   "outputs": [],
   "source": [
    "from sklearn.linear_model import ElasticNet"
   ]
  },
  {
   "cell_type": "code",
   "execution_count": 492,
   "id": "695d0713",
   "metadata": {},
   "outputs": [
    {
     "data": {
      "text/plain": [
       "(455, 5)"
      ]
     },
     "execution_count": 492,
     "metadata": {},
     "output_type": "execute_result"
    }
   ],
   "source": [
    "X_train.shape"
   ]
  },
  {
   "cell_type": "code",
   "execution_count": 493,
   "id": "c8959a74",
   "metadata": {},
   "outputs": [
    {
     "data": {
      "text/plain": [
       "(114, 5)"
      ]
     },
     "execution_count": 493,
     "metadata": {},
     "output_type": "execute_result"
    }
   ],
   "source": [
    "X_test.shape"
   ]
  },
  {
   "cell_type": "code",
   "execution_count": 494,
   "id": "64ffe52f",
   "metadata": {},
   "outputs": [
    {
     "data": {
      "text/plain": [
       "(455,)"
      ]
     },
     "execution_count": 494,
     "metadata": {},
     "output_type": "execute_result"
    }
   ],
   "source": [
    "y_train.shape"
   ]
  },
  {
   "cell_type": "code",
   "execution_count": 495,
   "id": "88e0b3f3",
   "metadata": {},
   "outputs": [
    {
     "data": {
      "text/plain": [
       "(114,)"
      ]
     },
     "execution_count": 495,
     "metadata": {},
     "output_type": "execute_result"
    }
   ],
   "source": [
    "y_test.shape"
   ]
  },
  {
   "cell_type": "markdown",
   "id": "868baa34",
   "metadata": {},
   "source": [
    "MODEL"
   ]
  },
  {
   "cell_type": "code",
   "execution_count": 496,
   "id": "e6579df0",
   "metadata": {},
   "outputs": [],
   "source": [
    "model_ela=ElasticNet().fit(X_train, y_train)"
   ]
  },
  {
   "cell_type": "code",
   "execution_count": 497,
   "id": "dae1f23a",
   "metadata": {},
   "outputs": [
    {
     "data": {
      "text/plain": [
       "array([-0.        , -0.        , -0.00467397, -0.00062761, -0.        ])"
      ]
     },
     "execution_count": 497,
     "metadata": {},
     "output_type": "execute_result"
    }
   ],
   "source": [
    "model_ela.coef_"
   ]
  },
  {
   "cell_type": "markdown",
   "id": "7f61b649",
   "metadata": {},
   "source": [
    "PREDİCT"
   ]
  },
  {
   "cell_type": "code",
   "execution_count": 501,
   "id": "c19d3965",
   "metadata": {},
   "outputs": [
    {
     "data": {
      "text/plain": [
       "array([ 0.78726332,  0.18181646,  0.52335995,  0.79433656,  0.86694517,\n",
       "        0.0199681 , -0.14940923,  0.33178222,  0.7381118 ,  0.67668784,\n",
       "        0.73804831,  0.40160367,  0.58917949,  0.44735982,  0.80572239,\n",
       "        0.15485439,  0.59906796,  0.97054933,  1.1739869 ,  0.00373086,\n",
       "        0.67946632,  0.82378452, -0.0892511 ,  0.98050874,  0.85993337,\n",
       "        0.70687231,  0.72770161,  0.96006794,  0.77439171,  0.35165107,\n",
       "        0.89709145,  0.82802724,  0.99744395,  0.69734331,  0.96784782,\n",
       "        0.86923963,  0.48799568,  0.85354773,  0.25699757,  0.61078566,\n",
       "        0.94270931,  0.56092557,  0.8598329 ,  0.84717246,  0.83917755,\n",
       "        0.88110442,  1.02667254,  1.02147154,  0.85598049,  0.75150996,\n",
       "        0.36449377,  0.20256746,  0.72973503,  0.6736883 ,  0.83200758,\n",
       "        0.73758357,  0.95433775, -0.51152169,  0.70458206,  0.88760763,\n",
       "        0.76213421,  0.10608726, -0.12322173,  0.63204766,  0.81325001,\n",
       "        0.7769477 ,  0.48351349,  0.01569406,  0.84772936,  0.75108521,\n",
       "        0.67551898,  0.49433301,  0.66695429,  0.43511823,  1.1322482 ,\n",
       "        0.71772617,  0.67034473,  0.66330702,  0.92668626,  0.88432777,\n",
       "        0.46410542,  0.89032527,  0.62138173, -0.03655687,  0.30335796,\n",
       "        0.53869203,  0.77756796,  0.29714495,  0.81960204,  0.764805  ,\n",
       "        0.83083945,  0.71415275,  0.57458465,  0.89615425,  0.88940241,\n",
       "        0.99446598,  0.06407691,  0.66558643,  0.89779267,  0.36044078,\n",
       "        0.51458818,  1.00142212,  0.27553204,  0.29572445,  0.91978769,\n",
       "        0.84859718,  0.80397952, -0.29783439,  0.62777411,  0.61039716,\n",
       "        0.46896261,  0.86845698,  0.64457849, -0.0561189 ])"
      ]
     },
     "execution_count": 501,
     "metadata": {},
     "output_type": "execute_result"
    }
   ],
   "source": [
    "y_predict=model_ela.predict(X_test)\n",
    "y_predict"
   ]
  },
  {
   "cell_type": "code",
   "execution_count": 502,
   "id": "3dd4ffc3",
   "metadata": {},
   "outputs": [
    {
     "data": {
      "text/plain": [
       "0.31022778233683956"
      ]
     },
     "execution_count": 502,
     "metadata": {},
     "output_type": "execute_result"
    }
   ],
   "source": [
    "np.sqrt(mean_squared_error(y_test, y_predict))"
   ]
  },
  {
   "cell_type": "markdown",
   "id": "9933562e",
   "metadata": {},
   "source": [
    "MODEL TUNİNG"
   ]
  },
  {
   "cell_type": "code",
   "execution_count": 510,
   "id": "ecebf474",
   "metadata": {},
   "outputs": [],
   "source": [
    "from sklearn.linear_model import ElasticNetCV"
   ]
  },
  {
   "cell_type": "code",
   "execution_count": 511,
   "id": "bc53abd5",
   "metadata": {},
   "outputs": [],
   "source": [
    "elastic_cv_model=ElasticNetCV(cv=10, random_state=0).fit(X_train, y_train)"
   ]
  },
  {
   "cell_type": "code",
   "execution_count": 512,
   "id": "ae945cc6",
   "metadata": {},
   "outputs": [
    {
     "data": {
      "text/plain": [
       "0.23818676295133434"
      ]
     },
     "execution_count": 512,
     "metadata": {},
     "output_type": "execute_result"
    }
   ],
   "source": [
    "elastic_cv_model.alpha_"
   ]
  },
  {
   "cell_type": "markdown",
   "id": "e9835e19",
   "metadata": {},
   "source": [
    "FINALLY MODEL"
   ]
  },
  {
   "cell_type": "code",
   "execution_count": 514,
   "id": "1dafd5f6",
   "metadata": {},
   "outputs": [],
   "source": [
    "finally_model_elastic=ElasticNet(alpha=elastic_cv_model.alpha_).fit(X_train, y_train)"
   ]
  },
  {
   "cell_type": "code",
   "execution_count": 515,
   "id": "f53e7c02",
   "metadata": {},
   "outputs": [],
   "source": [
    "finally_model_elastic_predict=finally_model_elastic.predict(X_test)"
   ]
  },
  {
   "cell_type": "code",
   "execution_count": 517,
   "id": "f2c1ac1d",
   "metadata": {},
   "outputs": [
    {
     "data": {
      "text/plain": [
       "0.2928099002193806"
      ]
     },
     "execution_count": 517,
     "metadata": {},
     "output_type": "execute_result"
    }
   ],
   "source": [
    "np.sqrt(mean_squared_error(y_test, finally_model_elastic_predict))"
   ]
  }
 ],
 "metadata": {
  "kernelspec": {
   "display_name": "Python 3",
   "language": "python",
   "name": "python3"
  },
  "language_info": {
   "codemirror_mode": {
    "name": "ipython",
    "version": 3
   },
   "file_extension": ".py",
   "mimetype": "text/x-python",
   "name": "python",
   "nbconvert_exporter": "python",
   "pygments_lexer": "ipython3",
   "version": "3.7.0"
  }
 },
 "nbformat": 4,
 "nbformat_minor": 5
}
