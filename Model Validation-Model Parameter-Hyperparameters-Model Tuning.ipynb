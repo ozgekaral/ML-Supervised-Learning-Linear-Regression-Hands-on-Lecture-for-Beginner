{
 "cells": [
  {
   "cell_type": "markdown",
   "id": "5d8f7ea4",
   "metadata": {},
   "source": [
    "### MODEL VALIDATION ###"
   ]
  },
  {
   "cell_type": "markdown",
   "id": "e334de3c",
   "metadata": {},
   "source": [
    "#### Model validation refers to the process of confirming that the model achieves its intended purpose , how effective our model is. ####"
   ]
  },
  {
   "cell_type": "markdown",
   "id": "aa970931",
   "metadata": {},
   "source": [
    "#### 1- Hold Out Method ####"
   ]
  },
  {
   "cell_type": "markdown",
   "id": "367e7ff8",
   "metadata": {},
   "source": [
    "Hold-out is when you split up your dataset into a ‘train’ and ‘test’ set. The training set is what the model is trained on, and the test set is used to see how well that model performs on unseen data. A common split when using the hold-out method is using 80% of data for training and the remaining 20% of the data for testing."
   ]
  },
  {
   "cell_type": "markdown",
   "id": "b2d18bda",
   "metadata": {},
   "source": [
    "#### 2- k Fold Coss Validation ####"
   ]
  },
  {
   "cell_type": "markdown",
   "id": "635fdd10",
   "metadata": {},
   "source": [
    "What is the difference between holdout and cross-validation?\n",
    "The holdout technique is an exhaustive cross-validation method, that randomly splits the dataset into train and test data depending on data analysis. In the case of holdout cross-validation, the dataset is randomly split into training and validation data. Generally, the split of training data is more than test data"
   ]
  },
  {
   "cell_type": "markdown",
   "id": "ebde0efd",
   "metadata": {},
   "source": [
    "#### 3- Bootstrap Validation ####"
   ]
  },
  {
   "cell_type": "markdown",
   "id": "85742b9f",
   "metadata": {},
   "source": [
    "Bootstrapping is any test or metric that relies on random sampling with replacement.It is a method that helps in many situations like validation of a predictive model performance, ensemble methods, estimation of bias and variance of the parameter of a model etc."
   ]
  },
  {
   "cell_type": "markdown",
   "id": "ef71bb68",
   "metadata": {},
   "source": [
    "### MODEL EVALUATION METRICS IN MACHINE LEARNING ###"
   ]
  },
  {
   "cell_type": "markdown",
   "id": "4ab10108",
   "metadata": {},
   "source": [
    "Model evaluation is important to assess the efficacy of a model during initial research phases"
   ]
  },
  {
   "cell_type": "markdown",
   "id": "4b933063",
   "metadata": {},
   "source": [
    "#### FOR REGRESSION ####"
   ]
  },
  {
   "cell_type": "markdown",
   "id": "ca47fcb1",
   "metadata": {},
   "source": [
    "#### 1-MSE ####   "
   ]
  },
  {
   "cell_type": "markdown",
   "id": "3c26b5e8",
   "metadata": {},
   "source": [
    "If the data contains a huge number of outliers, then this metric is known to be a good one."
   ]
  },
  {
   "cell_type": "markdown",
   "id": "c42632f5",
   "metadata": {},
   "source": [
    "#### 2- RMSE ####"
   ]
  },
  {
   "cell_type": "markdown",
   "id": "19b97ce9",
   "metadata": {},
   "source": [
    "This is one of the popular metrics that is mainly used in regression problems. This metric assumes that the error is unbiased and follows a normal distribution."
   ]
  },
  {
   "cell_type": "markdown",
   "id": "f89fb55f",
   "metadata": {},
   "source": [
    "#### 3- MAE ####"
   ]
  },
  {
   "cell_type": "markdown",
   "id": "e3400ead",
   "metadata": {},
   "source": [
    "This metric represents the average of the absolute differences between the actual observation and the prediction."
   ]
  },
  {
   "cell_type": "markdown",
   "id": "ffcc421b",
   "metadata": {},
   "source": [
    "#### FOR CLASSIFICATION ####"
   ]
  },
  {
   "cell_type": "markdown",
   "id": "3b3734c1",
   "metadata": {},
   "source": [
    "#### 1-Confusion Matrix ####"
   ]
  },
  {
   "cell_type": "markdown",
   "id": "218a69f0",
   "metadata": {},
   "source": [
    "When performing classification predictions, there's four types of outcomes that could occur."
   ]
  },
  {
   "cell_type": "markdown",
   "id": "feaff27a",
   "metadata": {},
   "source": [
    "* True positives -are when you predict an observation belongs to a class and it actually does belong to that class.\n",
    "* True negatives -are when you predict an observation does not belong to a class and it actually does not belong to that class.\n",
    "* False positives-occur when you predict an observation belongs to a class when in reality it does not.\n",
    "* False negatives-occur when you predict an observation does not belong to a class when in fact it does."
   ]
  },
  {
   "cell_type": "markdown",
   "id": "0cec04d6",
   "metadata": {},
   "source": [
    "* Accuracy is defined as the percentage of correct predictions for the test data. It can be calculated easily by dividing the number of correct predictions by the number of total predictions."
   ]
  },
  {
   "cell_type": "markdown",
   "id": "4a53f6d5",
   "metadata": {},
   "source": [
    "#### accuracy=correct predictions/all predictions ####"
   ]
  },
  {
   "cell_type": "markdown",
   "id": "36315f4a",
   "metadata": {},
   "source": [
    "* Recall is defined as the fraction of examples which were predicted to belong to a class with respect to all of the examples that truly belong in the class."
   ]
  },
  {
   "cell_type": "markdown",
   "id": "f278e153",
   "metadata": {},
   "source": [
    "#### recall=truepositivestruepositives+falsenegatives ####"
   ]
  },
  {
   "cell_type": "markdown",
   "id": "eb724b6c",
   "metadata": {},
   "source": [
    "* Precision is defined as the fraction of relevant examples (true positives) among all of the examples which were predicted to belong in a certain class."
   ]
  },
  {
   "cell_type": "markdown",
   "id": "2841210a",
   "metadata": {},
   "source": [
    "#### precision=truepositives/truepositives+falsepositives ####"
   ]
  },
  {
   "cell_type": "markdown",
   "id": "88a42326",
   "metadata": {},
   "source": [
    "#### 2-ROC Curve - Receiver Operating Characteristic- AUC ####"
   ]
  },
  {
   "cell_type": "markdown",
   "id": "ec2c851f",
   "metadata": {},
   "source": [
    "Another common metric is AUC, area under the receiver operating characteristic (ROC) curve. The Reciever operating characteristic curve plots the true positive (TP) rate versus the false positive (FP) rate at different classification thresholds. The thresholds are different probability cutoffs that separate the two classes in binary classification. It uses probability to tell us how well a model separates the classes."
   ]
  },
  {
   "cell_type": "markdown",
   "id": "e31c479d",
   "metadata": {},
   "source": [
    "#### BIAS-VARIANCE TRADEOFF ####"
   ]
  },
  {
   "cell_type": "markdown",
   "id": "a3a901bf",
   "metadata": {},
   "source": [
    "Bias-variance trade-off is tension between the error introduced by the bias and the error produced by the variance"
   ]
  },
  {
   "cell_type": "markdown",
   "id": "1580ecf4",
   "metadata": {},
   "source": [
    "### INCREASING MODEL PERFORMANCE ###"
   ]
  },
  {
   "cell_type": "markdown",
   "id": "715351dc",
   "metadata": {},
   "source": [
    "#### 1- Model Parameters ####"
   ]
  },
  {
   "cell_type": "markdown",
   "id": "a9e26967",
   "metadata": {},
   "source": [
    "These are the parameters in the model that must be determined using the training data set. These are the fitted parameters."
   ]
  },
  {
   "cell_type": "markdown",
   "id": "3840eeba",
   "metadata": {},
   "source": [
    "#### 2 -Hyperparameters ###"
   ]
  },
  {
   "cell_type": "markdown",
   "id": "e59985ab",
   "metadata": {},
   "source": [
    "These are adjustable parameters that must be tuned in order to obtain a model with optimal performance."
   ]
  },
  {
   "cell_type": "markdown",
   "id": "a2976e19",
   "metadata": {},
   "source": [
    "Model parameters are internal to the model and estimated from data automatically, whereas Hyperparameters are set manually and are used in the optimization of the model and help in estimating the model parameters.m"
   ]
  },
  {
   "cell_type": "markdown",
   "id": "4bf5e656",
   "metadata": {},
   "source": [
    "#### 3 -Parameters- Hyperparameters Tuning ####"
   ]
  },
  {
   "cell_type": "markdown",
   "id": "8b61905b",
   "metadata": {},
   "source": [
    "Let’s start with the difference between parameters and hyperparameters which is extremely important to know. Parameters are the components of the model that are learned during the training process and we can never set them manually. A model starts the training process with random parameter values and adjusts them throughout. Whereas, hyperparameters are the components set by you before the training of the model. The values of hyperparameters might improve or worsen your model’s accuracy."
   ]
  },
  {
   "cell_type": "markdown",
   "id": "3b562529",
   "metadata": {},
   "source": [
    "What is the need for hyperparameter tuning in machine learning?\n",
    "Machine learning models are not intelligent enough to know what hyperparameters would lead to the highest possible accuracy on the given dataset. However, hyperparameter values when set right can build highly accurate models, and thus we allow our models to try different combinations of hyperparameters during the training process and make predictions with the best combination of hyperparameter values. Some of the hyperparameters in Random Forest Classifier are n_estimators (total number of trees in a forest), max_depth (the depth of each tree in the forest), and criterion (the method to make splits in each tree). n_estimators set to 1 or 2 doesn’t make sense as a forest must have a higher number of trees, but how do we know what number of trees will yield the best results? And for this purpose, we try different values like [100, 200, 300]. The model will try all three of the given values and we can easily identify the optimal number of trees in our forest."
   ]
  },
  {
   "cell_type": "markdown",
   "id": "aac5b338",
   "metadata": {},
   "source": [
    "#### Hyperparameter tuning in Python ####"
   ]
  },
  {
   "cell_type": "markdown",
   "id": "7ea76937",
   "metadata": {},
   "source": [
    "We have three methods of hyperparameter tuning in python are Grid search, Random search, and Informed search"
   ]
  },
  {
   "cell_type": "markdown",
   "id": "9bbab59c",
   "metadata": {},
   "source": [
    "1- GRID SEARCH"
   ]
  },
  {
   "cell_type": "markdown",
   "id": "67edfa1e",
   "metadata": {},
   "source": [
    "In grid search, each square in a grid has a combination of hyperparameters and the model has to train itself on each combination."
   ]
  },
  {
   "cell_type": "markdown",
   "id": "d39f288a",
   "metadata": {},
   "source": [
    "#### from sklearn.model_selection import GridSearchCV ####"
   ]
  },
  {
   "cell_type": "markdown",
   "id": "573e30c1",
   "metadata": {},
   "source": [
    "#### Example: ####"
   ]
  },
  {
   "cell_type": "markdown",
   "id": "8481197b",
   "metadata": {},
   "source": [
    "#### grid_df = GridSearchCV(estimator=model, param_grid=grid_vals, scoring='accuracy') ####"
   ]
  },
  {
   "cell_type": "markdown",
   "id": "69736771",
   "metadata": {},
   "source": [
    "2- RANDOM SEARCH"
   ]
  },
  {
   "cell_type": "markdown",
   "id": "c8c39d1d",
   "metadata": {},
   "source": [
    "Like grid search, we set the hyperparameter values we want to tune in Random Search. However, the model does not train each combination of hyperparameters, it instead selects them randomly. We have to define the number of samples we want to choose from our grid."
   ]
  },
  {
   "cell_type": "markdown",
   "id": "598ba410",
   "metadata": {},
   "source": [
    "#### from sklearn.model_selection import RandomizedSearchCV ####"
   ]
  }
 ],
 "metadata": {
  "kernelspec": {
   "display_name": "Python 3",
   "language": "python",
   "name": "python3"
  },
  "language_info": {
   "codemirror_mode": {
    "name": "ipython",
    "version": 3
   },
   "file_extension": ".py",
   "mimetype": "text/x-python",
   "name": "python",
   "nbconvert_exporter": "python",
   "pygments_lexer": "ipython3",
   "version": "3.7.0"
  }
 },
 "nbformat": 4,
 "nbformat_minor": 5
}
