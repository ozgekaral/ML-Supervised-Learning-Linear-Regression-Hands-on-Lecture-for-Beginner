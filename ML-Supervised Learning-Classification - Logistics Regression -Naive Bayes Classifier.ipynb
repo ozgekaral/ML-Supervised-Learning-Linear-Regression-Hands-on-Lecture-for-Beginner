{
 "cells": [
  {
   "cell_type": "markdown",
   "id": "01c4fded",
   "metadata": {},
   "source": [
    "### What is a classification in machine learning ? ###"
   ]
  },
  {
   "cell_type": "markdown",
   "id": "473e98ac",
   "metadata": {},
   "source": [
    "In machine learning, classification is a supervised learning concept which basically categorizes a set of data into classes."
   ]
  },
  {
   "cell_type": "markdown",
   "id": "d87ed31c",
   "metadata": {},
   "source": [
    "### LOGİSTİC REGRESSİON ###"
   ]
  },
  {
   "cell_type": "markdown",
   "id": "941d980f",
   "metadata": {},
   "source": [
    "Logistic regression is an example of supervised learning. It is used to calculate or predict the probability of a binary (yes/no) event occurring."
   ]
  },
  {
   "cell_type": "code",
   "execution_count": 2,
   "id": "8b65bed8",
   "metadata": {},
   "outputs": [],
   "source": [
    "import numpy as np\n",
    "import pandas as pd\n",
    "import seaborn as sns\n",
    "import statsmodels.api as sm\n",
    "import statsmodels.formula.api as smf\n",
    "import matplotlib as plt"
   ]
  },
  {
   "cell_type": "code",
   "execution_count": 3,
   "id": "ea87c9c5",
   "metadata": {},
   "outputs": [],
   "source": [
    "from sklearn.preprocessing import scale\n",
    "from sklearn.model_selection import train_test_split, GridSearchCV, cross_val_score, cross_val_predict"
   ]
  },
  {
   "cell_type": "code",
   "execution_count": 4,
   "id": "61cb86ba",
   "metadata": {},
   "outputs": [],
   "source": [
    "df=pd.read_csv('Breast_cancer_data.csv')"
   ]
  },
  {
   "cell_type": "code",
   "execution_count": 5,
   "id": "b951b4df",
   "metadata": {},
   "outputs": [
    {
     "data": {
      "text/plain": [
       "(569, 6)"
      ]
     },
     "execution_count": 5,
     "metadata": {},
     "output_type": "execute_result"
    }
   ],
   "source": [
    "df.shape"
   ]
  },
  {
   "cell_type": "code",
   "execution_count": 6,
   "id": "54a956e5",
   "metadata": {},
   "outputs": [
    {
     "data": {
      "text/html": [
       "<div>\n",
       "<style scoped>\n",
       "    .dataframe tbody tr th:only-of-type {\n",
       "        vertical-align: middle;\n",
       "    }\n",
       "\n",
       "    .dataframe tbody tr th {\n",
       "        vertical-align: top;\n",
       "    }\n",
       "\n",
       "    .dataframe thead th {\n",
       "        text-align: right;\n",
       "    }\n",
       "</style>\n",
       "<table border=\"1\" class=\"dataframe\">\n",
       "  <thead>\n",
       "    <tr style=\"text-align: right;\">\n",
       "      <th></th>\n",
       "      <th>mean_radius</th>\n",
       "      <th>mean_texture</th>\n",
       "      <th>mean_perimeter</th>\n",
       "      <th>mean_area</th>\n",
       "      <th>mean_smoothness</th>\n",
       "      <th>diagnosis</th>\n",
       "    </tr>\n",
       "  </thead>\n",
       "  <tbody>\n",
       "    <tr>\n",
       "      <th>0</th>\n",
       "      <td>17.99</td>\n",
       "      <td>10.38</td>\n",
       "      <td>122.80</td>\n",
       "      <td>1001.0</td>\n",
       "      <td>0.11840</td>\n",
       "      <td>0</td>\n",
       "    </tr>\n",
       "    <tr>\n",
       "      <th>1</th>\n",
       "      <td>20.57</td>\n",
       "      <td>17.77</td>\n",
       "      <td>132.90</td>\n",
       "      <td>1326.0</td>\n",
       "      <td>0.08474</td>\n",
       "      <td>0</td>\n",
       "    </tr>\n",
       "    <tr>\n",
       "      <th>2</th>\n",
       "      <td>19.69</td>\n",
       "      <td>21.25</td>\n",
       "      <td>130.00</td>\n",
       "      <td>1203.0</td>\n",
       "      <td>0.10960</td>\n",
       "      <td>0</td>\n",
       "    </tr>\n",
       "    <tr>\n",
       "      <th>3</th>\n",
       "      <td>11.42</td>\n",
       "      <td>20.38</td>\n",
       "      <td>77.58</td>\n",
       "      <td>386.1</td>\n",
       "      <td>0.14250</td>\n",
       "      <td>0</td>\n",
       "    </tr>\n",
       "    <tr>\n",
       "      <th>4</th>\n",
       "      <td>20.29</td>\n",
       "      <td>14.34</td>\n",
       "      <td>135.10</td>\n",
       "      <td>1297.0</td>\n",
       "      <td>0.10030</td>\n",
       "      <td>0</td>\n",
       "    </tr>\n",
       "  </tbody>\n",
       "</table>\n",
       "</div>"
      ],
      "text/plain": [
       "   mean_radius  mean_texture  mean_perimeter  mean_area  mean_smoothness  \\\n",
       "0        17.99         10.38          122.80     1001.0          0.11840   \n",
       "1        20.57         17.77          132.90     1326.0          0.08474   \n",
       "2        19.69         21.25          130.00     1203.0          0.10960   \n",
       "3        11.42         20.38           77.58      386.1          0.14250   \n",
       "4        20.29         14.34          135.10     1297.0          0.10030   \n",
       "\n",
       "   diagnosis  \n",
       "0          0  \n",
       "1          0  \n",
       "2          0  \n",
       "3          0  \n",
       "4          0  "
      ]
     },
     "execution_count": 6,
     "metadata": {},
     "output_type": "execute_result"
    }
   ],
   "source": [
    "df.head(5)"
   ]
  },
  {
   "cell_type": "code",
   "execution_count": 7,
   "id": "4a4032c3",
   "metadata": {},
   "outputs": [
    {
     "name": "stdout",
     "output_type": "stream",
     "text": [
      "<class 'pandas.core.frame.DataFrame'>\n",
      "RangeIndex: 569 entries, 0 to 568\n",
      "Data columns (total 6 columns):\n",
      " #   Column           Non-Null Count  Dtype  \n",
      "---  ------           --------------  -----  \n",
      " 0   mean_radius      569 non-null    float64\n",
      " 1   mean_texture     569 non-null    float64\n",
      " 2   mean_perimeter   569 non-null    float64\n",
      " 3   mean_area        569 non-null    float64\n",
      " 4   mean_smoothness  569 non-null    float64\n",
      " 5   diagnosis        569 non-null    int64  \n",
      "dtypes: float64(5), int64(1)\n",
      "memory usage: 26.8 KB\n"
     ]
    }
   ],
   "source": [
    "df.info()"
   ]
  },
  {
   "cell_type": "code",
   "execution_count": 8,
   "id": "b33ff1b3",
   "metadata": {},
   "outputs": [
    {
     "data": {
      "text/plain": [
       "0      0\n",
       "1      0\n",
       "2      0\n",
       "3      0\n",
       "4      0\n",
       "      ..\n",
       "564    0\n",
       "565    0\n",
       "566    0\n",
       "567    0\n",
       "568    1\n",
       "Name: diagnosis, Length: 569, dtype: int64"
      ]
     },
     "execution_count": 8,
     "metadata": {},
     "output_type": "execute_result"
    }
   ],
   "source": [
    "df['diagnosis']"
   ]
  },
  {
   "cell_type": "code",
   "execution_count": 11,
   "id": "e22c7c8a",
   "metadata": {},
   "outputs": [
    {
     "data": {
      "text/plain": [
       "mean_radius        0\n",
       "mean_texture       0\n",
       "mean_perimeter     0\n",
       "mean_area          0\n",
       "mean_smoothness    0\n",
       "diagnosis          0\n",
       "dtype: int64"
      ]
     },
     "execution_count": 11,
     "metadata": {},
     "output_type": "execute_result"
    }
   ],
   "source": [
    "df.isnull().sum()"
   ]
  },
  {
   "cell_type": "code",
   "execution_count": 12,
   "id": "49b0aa3a",
   "metadata": {},
   "outputs": [
    {
     "data": {
      "text/html": [
       "<div>\n",
       "<style scoped>\n",
       "    .dataframe tbody tr th:only-of-type {\n",
       "        vertical-align: middle;\n",
       "    }\n",
       "\n",
       "    .dataframe tbody tr th {\n",
       "        vertical-align: top;\n",
       "    }\n",
       "\n",
       "    .dataframe thead th {\n",
       "        text-align: right;\n",
       "    }\n",
       "</style>\n",
       "<table border=\"1\" class=\"dataframe\">\n",
       "  <thead>\n",
       "    <tr style=\"text-align: right;\">\n",
       "      <th></th>\n",
       "      <th>count</th>\n",
       "      <th>mean</th>\n",
       "      <th>std</th>\n",
       "      <th>min</th>\n",
       "      <th>25%</th>\n",
       "      <th>50%</th>\n",
       "      <th>75%</th>\n",
       "      <th>max</th>\n",
       "    </tr>\n",
       "  </thead>\n",
       "  <tbody>\n",
       "    <tr>\n",
       "      <th>mean_radius</th>\n",
       "      <td>569.0</td>\n",
       "      <td>14.127292</td>\n",
       "      <td>3.524049</td>\n",
       "      <td>6.98100</td>\n",
       "      <td>11.70000</td>\n",
       "      <td>13.37000</td>\n",
       "      <td>15.7800</td>\n",
       "      <td>28.1100</td>\n",
       "    </tr>\n",
       "    <tr>\n",
       "      <th>mean_texture</th>\n",
       "      <td>569.0</td>\n",
       "      <td>19.289649</td>\n",
       "      <td>4.301036</td>\n",
       "      <td>9.71000</td>\n",
       "      <td>16.17000</td>\n",
       "      <td>18.84000</td>\n",
       "      <td>21.8000</td>\n",
       "      <td>39.2800</td>\n",
       "    </tr>\n",
       "    <tr>\n",
       "      <th>mean_perimeter</th>\n",
       "      <td>569.0</td>\n",
       "      <td>91.969033</td>\n",
       "      <td>24.298981</td>\n",
       "      <td>43.79000</td>\n",
       "      <td>75.17000</td>\n",
       "      <td>86.24000</td>\n",
       "      <td>104.1000</td>\n",
       "      <td>188.5000</td>\n",
       "    </tr>\n",
       "    <tr>\n",
       "      <th>mean_area</th>\n",
       "      <td>569.0</td>\n",
       "      <td>654.889104</td>\n",
       "      <td>351.914129</td>\n",
       "      <td>143.50000</td>\n",
       "      <td>420.30000</td>\n",
       "      <td>551.10000</td>\n",
       "      <td>782.7000</td>\n",
       "      <td>2501.0000</td>\n",
       "    </tr>\n",
       "    <tr>\n",
       "      <th>mean_smoothness</th>\n",
       "      <td>569.0</td>\n",
       "      <td>0.096360</td>\n",
       "      <td>0.014064</td>\n",
       "      <td>0.05263</td>\n",
       "      <td>0.08637</td>\n",
       "      <td>0.09587</td>\n",
       "      <td>0.1053</td>\n",
       "      <td>0.1634</td>\n",
       "    </tr>\n",
       "    <tr>\n",
       "      <th>diagnosis</th>\n",
       "      <td>569.0</td>\n",
       "      <td>0.627417</td>\n",
       "      <td>0.483918</td>\n",
       "      <td>0.00000</td>\n",
       "      <td>0.00000</td>\n",
       "      <td>1.00000</td>\n",
       "      <td>1.0000</td>\n",
       "      <td>1.0000</td>\n",
       "    </tr>\n",
       "  </tbody>\n",
       "</table>\n",
       "</div>"
      ],
      "text/plain": [
       "                 count        mean         std        min        25%  \\\n",
       "mean_radius      569.0   14.127292    3.524049    6.98100   11.70000   \n",
       "mean_texture     569.0   19.289649    4.301036    9.71000   16.17000   \n",
       "mean_perimeter   569.0   91.969033   24.298981   43.79000   75.17000   \n",
       "mean_area        569.0  654.889104  351.914129  143.50000  420.30000   \n",
       "mean_smoothness  569.0    0.096360    0.014064    0.05263    0.08637   \n",
       "diagnosis        569.0    0.627417    0.483918    0.00000    0.00000   \n",
       "\n",
       "                       50%       75%        max  \n",
       "mean_radius       13.37000   15.7800    28.1100  \n",
       "mean_texture      18.84000   21.8000    39.2800  \n",
       "mean_perimeter    86.24000  104.1000   188.5000  \n",
       "mean_area        551.10000  782.7000  2501.0000  \n",
       "mean_smoothness    0.09587    0.1053     0.1634  \n",
       "diagnosis          1.00000    1.0000     1.0000  "
      ]
     },
     "execution_count": 12,
     "metadata": {},
     "output_type": "execute_result"
    }
   ],
   "source": [
    "df.describe().T"
   ]
  },
  {
   "cell_type": "code",
   "execution_count": 13,
   "id": "5078e3aa",
   "metadata": {},
   "outputs": [
    {
     "data": {
      "text/html": [
       "<div>\n",
       "<style scoped>\n",
       "    .dataframe tbody tr th:only-of-type {\n",
       "        vertical-align: middle;\n",
       "    }\n",
       "\n",
       "    .dataframe tbody tr th {\n",
       "        vertical-align: top;\n",
       "    }\n",
       "\n",
       "    .dataframe thead th {\n",
       "        text-align: right;\n",
       "    }\n",
       "</style>\n",
       "<table border=\"1\" class=\"dataframe\">\n",
       "  <thead>\n",
       "    <tr style=\"text-align: right;\">\n",
       "      <th></th>\n",
       "      <th>mean_radius</th>\n",
       "      <th>mean_texture</th>\n",
       "      <th>mean_perimeter</th>\n",
       "      <th>mean_area</th>\n",
       "      <th>mean_smoothness</th>\n",
       "      <th>diagnosis</th>\n",
       "    </tr>\n",
       "  </thead>\n",
       "  <tbody>\n",
       "    <tr>\n",
       "      <th>mean_radius</th>\n",
       "      <td>1.000000</td>\n",
       "      <td>0.323782</td>\n",
       "      <td>0.997855</td>\n",
       "      <td>0.987357</td>\n",
       "      <td>0.170581</td>\n",
       "      <td>-0.730029</td>\n",
       "    </tr>\n",
       "    <tr>\n",
       "      <th>mean_texture</th>\n",
       "      <td>0.323782</td>\n",
       "      <td>1.000000</td>\n",
       "      <td>0.329533</td>\n",
       "      <td>0.321086</td>\n",
       "      <td>-0.023389</td>\n",
       "      <td>-0.415185</td>\n",
       "    </tr>\n",
       "    <tr>\n",
       "      <th>mean_perimeter</th>\n",
       "      <td>0.997855</td>\n",
       "      <td>0.329533</td>\n",
       "      <td>1.000000</td>\n",
       "      <td>0.986507</td>\n",
       "      <td>0.207278</td>\n",
       "      <td>-0.742636</td>\n",
       "    </tr>\n",
       "    <tr>\n",
       "      <th>mean_area</th>\n",
       "      <td>0.987357</td>\n",
       "      <td>0.321086</td>\n",
       "      <td>0.986507</td>\n",
       "      <td>1.000000</td>\n",
       "      <td>0.177028</td>\n",
       "      <td>-0.708984</td>\n",
       "    </tr>\n",
       "    <tr>\n",
       "      <th>mean_smoothness</th>\n",
       "      <td>0.170581</td>\n",
       "      <td>-0.023389</td>\n",
       "      <td>0.207278</td>\n",
       "      <td>0.177028</td>\n",
       "      <td>1.000000</td>\n",
       "      <td>-0.358560</td>\n",
       "    </tr>\n",
       "    <tr>\n",
       "      <th>diagnosis</th>\n",
       "      <td>-0.730029</td>\n",
       "      <td>-0.415185</td>\n",
       "      <td>-0.742636</td>\n",
       "      <td>-0.708984</td>\n",
       "      <td>-0.358560</td>\n",
       "      <td>1.000000</td>\n",
       "    </tr>\n",
       "  </tbody>\n",
       "</table>\n",
       "</div>"
      ],
      "text/plain": [
       "                 mean_radius  mean_texture  mean_perimeter  mean_area  \\\n",
       "mean_radius         1.000000      0.323782        0.997855   0.987357   \n",
       "mean_texture        0.323782      1.000000        0.329533   0.321086   \n",
       "mean_perimeter      0.997855      0.329533        1.000000   0.986507   \n",
       "mean_area           0.987357      0.321086        0.986507   1.000000   \n",
       "mean_smoothness     0.170581     -0.023389        0.207278   0.177028   \n",
       "diagnosis          -0.730029     -0.415185       -0.742636  -0.708984   \n",
       "\n",
       "                 mean_smoothness  diagnosis  \n",
       "mean_radius             0.170581  -0.730029  \n",
       "mean_texture           -0.023389  -0.415185  \n",
       "mean_perimeter          0.207278  -0.742636  \n",
       "mean_area               0.177028  -0.708984  \n",
       "mean_smoothness         1.000000  -0.358560  \n",
       "diagnosis              -0.358560   1.000000  "
      ]
     },
     "execution_count": 13,
     "metadata": {},
     "output_type": "execute_result"
    }
   ],
   "source": [
    "df.corr()"
   ]
  },
  {
   "cell_type": "code",
   "execution_count": 14,
   "id": "78bb96fa",
   "metadata": {},
   "outputs": [],
   "source": [
    "y=df['diagnosis']"
   ]
  },
  {
   "cell_type": "code",
   "execution_count": 15,
   "id": "dbccd9aa",
   "metadata": {},
   "outputs": [],
   "source": [
    "X=df.loc[:,df.columns!='diagnosis']"
   ]
  },
  {
   "cell_type": "code",
   "execution_count": 16,
   "id": "88bc1283",
   "metadata": {},
   "outputs": [],
   "source": [
    "X_train, X_test, y_train, y_test=train_test_split(X, y, test_size=0.20, random_state=42)"
   ]
  },
  {
   "cell_type": "code",
   "execution_count": 17,
   "id": "7a82a1a2",
   "metadata": {},
   "outputs": [
    {
     "name": "stdout",
     "output_type": "stream",
     "text": [
      "(455, 5) (114, 5) (455,) (114,)\n"
     ]
    }
   ],
   "source": [
    "print(X_train.shape, X_test.shape, y_train.shape, y_test.shape)"
   ]
  },
  {
   "cell_type": "code",
   "execution_count": 18,
   "id": "e6ba8fbb",
   "metadata": {},
   "outputs": [
    {
     "data": {
      "image/png": "[encoded data removed]",
      "text/plain": [
       "<Figure size 432x288 with 1 Axes>"
      ]
     },
     "metadata": {
      "needs_background": "light"
     },
     "output_type": "display_data"
    }
   ],
   "source": [
    "df['diagnosis'].value_counts().plot.barh();"
   ]
  },
  {
   "cell_type": "markdown",
   "id": "b3022831",
   "metadata": {},
   "source": [
    "for all data set, not split data set like X_test,y_test,...."
   ]
  },
  {
   "cell_type": "markdown",
   "id": "0024025d",
   "metadata": {},
   "source": [
    "CREATE A MODEL "
   ]
  },
  {
   "cell_type": "code",
   "execution_count": 19,
   "id": "a5cf66fd",
   "metadata": {},
   "outputs": [],
   "source": [
    "from sklearn.linear_model import LogisticRegression"
   ]
  },
  {
   "cell_type": "code",
   "execution_count": 20,
   "id": "1a817b19",
   "metadata": {},
   "outputs": [],
   "source": [
    "model_log=LogisticRegression(solver='liblinear').fit(X,y)"
   ]
  },
  {
   "cell_type": "code",
   "execution_count": 21,
   "id": "f554b2aa",
   "metadata": {},
   "outputs": [
    {
     "data": {
      "text/plain": [
       "array([[ 4.90109941, -0.17717236, -0.54757242, -0.02493594, -0.51062221]])"
      ]
     },
     "execution_count": 21,
     "metadata": {},
     "output_type": "execute_result"
    }
   ],
   "source": [
    "model_log.coef_"
   ]
  },
  {
   "cell_type": "code",
   "execution_count": 22,
   "id": "dc7063ac",
   "metadata": {},
   "outputs": [
    {
     "data": {
      "text/plain": [
       "array([0.76181778])"
      ]
     },
     "execution_count": 22,
     "metadata": {},
     "output_type": "execute_result"
    }
   ],
   "source": [
    "model_log.intercept_"
   ]
  },
  {
   "cell_type": "markdown",
   "id": "ab07e0cf",
   "metadata": {},
   "source": [
    "PREDİCT"
   ]
  },
  {
   "cell_type": "code",
   "execution_count": 23,
   "id": "8c9af169",
   "metadata": {},
   "outputs": [
    {
     "data": {
      "text/plain": [
       "array([0, 0, 0, 1, 0], dtype=int64)"
      ]
     },
     "execution_count": 23,
     "metadata": {},
     "output_type": "execute_result"
    }
   ],
   "source": [
    "y_predict=model_log.predict(X)\n",
    "y_predict[:5]"
   ]
  },
  {
   "cell_type": "markdown",
   "id": "d8d89e2f",
   "metadata": {},
   "source": [
    "'predict_proba()' gives us the probability of yes or no.First index is probability of 'no' and second index is probabiliy of 'yes'"
   ]
  },
  {
   "cell_type": "code",
   "execution_count": 24,
   "id": "44c9988e",
   "metadata": {},
   "outputs": [
    {
     "data": {
      "text/plain": [
       "array([[9.94345739e-01, 5.65426149e-03],\n",
       "       [9.99419834e-01, 5.80166056e-04],\n",
       "       [9.99564577e-01, 4.35422993e-04],\n",
       "       ...,\n",
       "       [9.73344034e-01, 2.66559659e-02],\n",
       "       [9.99992428e-01, 7.57230200e-06],\n",
       "       [2.49262732e-02, 9.75073727e-01]])"
      ]
     },
     "execution_count": 24,
     "metadata": {},
     "output_type": "execute_result"
    }
   ],
   "source": [
    "model_log.predict_proba(X)"
   ]
  },
  {
   "cell_type": "code",
   "execution_count": 25,
   "id": "41273a20",
   "metadata": {},
   "outputs": [
    {
     "data": {
      "text/plain": [
       "array([5.65426149e-03, 5.80166056e-04, 4.35422993e-04, 7.19181170e-01,\n",
       "       1.65614036e-04])"
      ]
     },
     "execution_count": 25,
     "metadata": {},
     "output_type": "execute_result"
    }
   ],
   "source": [
    "y_proba=model_log.predict_proba(X)[:,1]\n",
    "y_proba[:5]"
   ]
  },
  {
   "cell_type": "code",
   "execution_count": 26,
   "id": "b0136053",
   "metadata": {},
   "outputs": [],
   "source": [
    "from sklearn.metrics import confusion_matrix, accuracy_score, classification_report"
   ]
  },
  {
   "cell_type": "code",
   "execution_count": 114,
   "id": "4b49dd62",
   "metadata": {},
   "outputs": [
    {
     "data": {
      "text/plain": [
       "array([[177,  35],\n",
       "       [ 16, 341]], dtype=int64)"
      ]
     },
     "execution_count": 114,
     "metadata": {},
     "output_type": "execute_result"
    }
   ],
   "source": [
    "confusion_matrix(y, y_predict)"
   ]
  },
  {
   "cell_type": "code",
   "execution_count": 115,
   "id": "4fe95dd8",
   "metadata": {},
   "outputs": [
    {
     "name": "stdout",
     "output_type": "stream",
     "text": [
      "              precision    recall  f1-score   support\n",
      "\n",
      "           0       0.92      0.83      0.87       212\n",
      "           1       0.91      0.96      0.93       357\n",
      "\n",
      "    accuracy                           0.91       569\n",
      "   macro avg       0.91      0.90      0.90       569\n",
      "weighted avg       0.91      0.91      0.91       569\n",
      "\n"
     ]
    }
   ],
   "source": [
    "print(classification_report(y, y_predict))"
   ]
  },
  {
   "cell_type": "code",
   "execution_count": 116,
   "id": "b022f3cb",
   "metadata": {},
   "outputs": [
    {
     "data": {
      "text/plain": [
       "0.9103690685413005"
      ]
     },
     "execution_count": 116,
     "metadata": {},
     "output_type": "execute_result"
    }
   ],
   "source": [
    "accuracy_score(y, y_predict)"
   ]
  },
  {
   "cell_type": "markdown",
   "id": "aae447a3",
   "metadata": {},
   "source": [
    "#### Describe a threshold value ####"
   ]
  },
  {
   "cell_type": "code",
   "execution_count": 117,
   "id": "8d99cfd7",
   "metadata": {},
   "outputs": [],
   "source": [
    "y_predict=[1 if i>0.5 else 0 for i in y_proba]"
   ]
  },
  {
   "cell_type": "code",
   "execution_count": 118,
   "id": "440c85fc",
   "metadata": {},
   "outputs": [
    {
     "data": {
      "text/plain": [
       "[0, 0, 0, 1, 0]"
      ]
     },
     "execution_count": 118,
     "metadata": {},
     "output_type": "execute_result"
    }
   ],
   "source": [
    "y_predict[0:5]"
   ]
  },
  {
   "cell_type": "markdown",
   "id": "eede6e2c",
   "metadata": {},
   "source": [
    "#### ROC AUC-CURVE ####"
   ]
  },
  {
   "cell_type": "code",
   "execution_count": 119,
   "id": "2a8aa387",
   "metadata": {},
   "outputs": [],
   "source": [
    "from sklearn.metrics import roc_auc_score, roc_curve"
   ]
  },
  {
   "cell_type": "code",
   "execution_count": 120,
   "id": "fcc23436",
   "metadata": {},
   "outputs": [
    {
     "data": {
      "text/plain": [
       "0.8950438666032452"
      ]
     },
     "execution_count": 120,
     "metadata": {},
     "output_type": "execute_result"
    }
   ],
   "source": [
    "model_log_roc=roc_auc_score(y, model_log.predict(X))\n",
    "model_log_roc"
   ]
  },
  {
   "cell_type": "code",
   "execution_count": 121,
   "id": "f6a4a065",
   "metadata": {},
   "outputs": [],
   "source": [
    "fpr, tpr, threshold=roc_curve(y, model_log.predict_proba(X)[:,1])"
   ]
  },
  {
   "cell_type": "markdown",
   "id": "a968dabb",
   "metadata": {},
   "source": [
    "VALIDATION"
   ]
  },
  {
   "cell_type": "code",
   "execution_count": 27,
   "id": "6b17d27c",
   "metadata": {},
   "outputs": [],
   "source": [
    "X_train, X_test, y_train, y_test=train_test_split(X,y, test_size=0.2, random_state=42)"
   ]
  },
  {
   "cell_type": "code",
   "execution_count": 28,
   "id": "7e2e3234",
   "metadata": {},
   "outputs": [
    {
     "name": "stdout",
     "output_type": "stream",
     "text": [
      "(455, 5) (114, 5) (455,) (114,)\n"
     ]
    }
   ],
   "source": [
    "print(X_train.shape, X_test.shape, y_train.shape, y_test.shape)"
   ]
  },
  {
   "cell_type": "code",
   "execution_count": 124,
   "id": "78fad6ad",
   "metadata": {},
   "outputs": [],
   "source": [
    "model_log_split=LogisticRegression(solver='liblinear').fit(X_train,y_train)"
   ]
  },
  {
   "cell_type": "markdown",
   "id": "5670bce8",
   "metadata": {},
   "source": [
    "####  with Holdout Method ####"
   ]
  },
  {
   "cell_type": "markdown",
   "id": "e7830033",
   "metadata": {},
   "source": [
    "not validation "
   ]
  },
  {
   "cell_type": "code",
   "execution_count": 125,
   "id": "5a092b5e",
   "metadata": {},
   "outputs": [
    {
     "data": {
      "text/plain": [
       "0.9385964912280702"
      ]
     },
     "execution_count": 125,
     "metadata": {},
     "output_type": "execute_result"
    }
   ],
   "source": [
    "accuracy_score(y_test, model_log_split.predict(X_test))"
   ]
  },
  {
   "cell_type": "markdown",
   "id": "a9c4c63e",
   "metadata": {},
   "source": [
    "#### with Cross Validation ####"
   ]
  },
  {
   "cell_type": "code",
   "execution_count": 126,
   "id": "24d977a9",
   "metadata": {},
   "outputs": [
    {
     "data": {
      "text/plain": [
       "array([0.91666667, 1.        , 0.91666667, 0.83333333, 1.        ,\n",
       "       0.72727273, 0.90909091, 0.90909091, 0.81818182, 0.90909091])"
      ]
     },
     "execution_count": 126,
     "metadata": {},
     "output_type": "execute_result"
    }
   ],
   "source": [
    "cross_val_score(model_log_split, X_test, y_test, cv=10)"
   ]
  },
  {
   "cell_type": "code",
   "execution_count": 127,
   "id": "adf5207d",
   "metadata": {},
   "outputs": [
    {
     "data": {
      "text/plain": [
       "0.8939393939393938"
      ]
     },
     "execution_count": 127,
     "metadata": {},
     "output_type": "execute_result"
    }
   ],
   "source": [
    "cross_val_score(model_log_split, X_test, y_test, cv=10).mean()"
   ]
  },
  {
   "cell_type": "markdown",
   "id": "9cebfe51",
   "metadata": {},
   "source": [
    "### Naive Bayes ###"
   ]
  },
  {
   "cell_type": "markdown",
   "id": "d2becdec",
   "metadata": {},
   "source": [
    "Naïve Bayes is one of the fast and easy ML algorithms to predict a class of datasets. It can be used for Binary as well as Multi-class Classifications. It performs well in Multi-class predictions as compared to the other Algorithms. It is the most popular choice for text classification problems."
   ]
  },
  {
   "cell_type": "code",
   "execution_count": 128,
   "id": "68b66b3a",
   "metadata": {},
   "outputs": [],
   "source": [
    "from sklearn.naive_bayes import GaussianNB"
   ]
  },
  {
   "cell_type": "markdown",
   "id": "060fb6bf",
   "metadata": {},
   "source": [
    "MODEL"
   ]
  },
  {
   "cell_type": "code",
   "execution_count": 129,
   "id": "71e4c2fc",
   "metadata": {},
   "outputs": [],
   "source": [
    "model_naive=GaussianNB().fit(X_train, y_train)"
   ]
  },
  {
   "cell_type": "markdown",
   "id": "32d21815",
   "metadata": {},
   "source": [
    "PREDİCT"
   ]
  },
  {
   "cell_type": "code",
   "execution_count": 130,
   "id": "7021b1ef",
   "metadata": {},
   "outputs": [],
   "source": [
    "y_predict=model_naive.predict(X_test)"
   ]
  },
  {
   "cell_type": "markdown",
   "id": "a97cb848",
   "metadata": {},
   "source": [
    "Test Error Value"
   ]
  },
  {
   "cell_type": "code",
   "execution_count": 131,
   "id": "68738134",
   "metadata": {},
   "outputs": [
    {
     "data": {
      "text/plain": [
       "0.9385964912280702"
      ]
     },
     "execution_count": 131,
     "metadata": {},
     "output_type": "execute_result"
    }
   ],
   "source": [
    "accuracy_score(y_test, y_predict)"
   ]
  },
  {
   "cell_type": "markdown",
   "id": "c53bebcb",
   "metadata": {},
   "source": [
    "VALIDATION"
   ]
  },
  {
   "cell_type": "code",
   "execution_count": 132,
   "id": "f4c713ba",
   "metadata": {},
   "outputs": [
    {
     "data": {
      "text/plain": [
       "array([0.91666667, 1.        , 0.91666667, 0.91666667, 1.        ,\n",
       "       0.81818182, 0.90909091, 0.90909091, 0.81818182, 1.        ])"
      ]
     },
     "execution_count": 132,
     "metadata": {},
     "output_type": "execute_result"
    }
   ],
   "source": [
    "cross_val_score(model_naive, X_test, y_test, cv=10)"
   ]
  },
  {
   "cell_type": "code",
   "execution_count": 133,
   "id": "daa51637",
   "metadata": {},
   "outputs": [
    {
     "data": {
      "text/plain": [
       "0.9204545454545455"
      ]
     },
     "execution_count": 133,
     "metadata": {},
     "output_type": "execute_result"
    }
   ],
   "source": [
    "cross_val_score(model_naive, X_test, y_test, cv=10).mean()"
   ]
  },
  {
   "cell_type": "markdown",
   "id": "d0f5793b",
   "metadata": {},
   "source": [
    "### KNN for classification - K-NEAREST NEIGHBOR ###"
   ]
  },
  {
   "cell_type": "markdown",
   "id": "dd2c694e",
   "metadata": {},
   "source": [
    "MODEL"
   ]
  },
  {
   "cell_type": "code",
   "execution_count": 134,
   "id": "e3d6b4ff",
   "metadata": {},
   "outputs": [],
   "source": [
    "\n",
    "from sklearn.neighbors import KNeighborsClassifier"
   ]
  },
  {
   "cell_type": "code",
   "execution_count": 135,
   "id": "f5ebf546",
   "metadata": {},
   "outputs": [],
   "source": [
    "model_knn=KNeighborsClassifier().fit(X_train, y_train)"
   ]
  },
  {
   "cell_type": "markdown",
   "id": "ffed5e34",
   "metadata": {},
   "source": [
    "PREDİCT"
   ]
  },
  {
   "cell_type": "code",
   "execution_count": 136,
   "id": "af59d9a5",
   "metadata": {},
   "outputs": [
    {
     "data": {
      "text/plain": [
       "array([1, 0, 0, 1, 1], dtype=int64)"
      ]
     },
     "execution_count": 136,
     "metadata": {},
     "output_type": "execute_result"
    }
   ],
   "source": [
    "y_predict=model_knn.predict(X_test)\n",
    "y_predict[:5]"
   ]
  },
  {
   "cell_type": "code",
   "execution_count": 137,
   "id": "715f3d3d",
   "metadata": {},
   "outputs": [
    {
     "data": {
      "text/plain": [
       "0.9385964912280702"
      ]
     },
     "execution_count": 137,
     "metadata": {},
     "output_type": "execute_result"
    }
   ],
   "source": [
    "accuracy_score(y_test, y_predict)"
   ]
  },
  {
   "cell_type": "markdown",
   "id": "e23b4c84",
   "metadata": {},
   "source": [
    "MODEL TUNİNG"
   ]
  },
  {
   "cell_type": "code",
   "execution_count": 138,
   "id": "cdf74de4",
   "metadata": {},
   "outputs": [],
   "source": [
    "knn_parametres={'n_neighbors':np.arange(1,15)}"
   ]
  },
  {
   "cell_type": "code",
   "execution_count": 139,
   "id": "8dd56f94",
   "metadata": {},
   "outputs": [],
   "source": [
    "knn_model_cv=GridSearchCV(KNeighborsClassifier(), knn_parametres, cv=10).fit(X_train, y_train)"
   ]
  },
  {
   "cell_type": "code",
   "execution_count": 140,
   "id": "dc28880d",
   "metadata": {},
   "outputs": [
    {
     "data": {
      "text/plain": [
       "0.8833333333333334"
      ]
     },
     "execution_count": 140,
     "metadata": {},
     "output_type": "execute_result"
    }
   ],
   "source": [
    "knn_model_cv.best_score_"
   ]
  },
  {
   "cell_type": "code",
   "execution_count": 141,
   "id": "1ff39e20",
   "metadata": {},
   "outputs": [
    {
     "data": {
      "text/plain": [
       "{'n_neighbors': 9}"
      ]
     },
     "execution_count": 141,
     "metadata": {},
     "output_type": "execute_result"
    }
   ],
   "source": [
    "knn_model_cv.best_params_"
   ]
  },
  {
   "cell_type": "markdown",
   "id": "e47d2844",
   "metadata": {},
   "source": [
    "FINALLY MODEL"
   ]
  },
  {
   "cell_type": "code",
   "execution_count": 142,
   "id": "37fc4d6d",
   "metadata": {},
   "outputs": [],
   "source": [
    "finally_model=KNeighborsClassifier(11).fit(X_train, y_train)"
   ]
  },
  {
   "cell_type": "code",
   "execution_count": 143,
   "id": "374bdb5e",
   "metadata": {},
   "outputs": [
    {
     "data": {
      "text/plain": [
       "array([1, 0, 0, 1, 1, 0, 0, 0, 1, 1, 1, 0, 1, 0, 1, 0, 1, 1, 1, 0, 1, 1,\n",
       "       0, 1, 1, 1, 1, 1, 1, 0, 1, 1, 1, 1, 1, 1, 0, 1, 0, 1, 1, 0, 1, 1,\n",
       "       1, 1, 1, 1, 1, 1, 0, 0, 1, 1, 1, 1, 1, 0, 1, 1, 1, 0, 0, 0, 1, 1,\n",
       "       0, 0, 1, 1, 1, 0, 1, 0, 1, 1, 1, 1, 1, 1, 0, 1, 1, 0, 0, 0, 1, 0,\n",
       "       1, 1, 1, 1, 1, 1, 1, 1, 0, 1, 1, 0, 0, 1, 0, 0, 1, 1, 1, 0, 1, 1,\n",
       "       0, 1, 1, 0], dtype=int64)"
      ]
     },
     "execution_count": 143,
     "metadata": {},
     "output_type": "execute_result"
    }
   ],
   "source": [
    "y_predict=finally_model.predict(X_test)\n",
    "y_predict"
   ]
  },
  {
   "cell_type": "code",
   "execution_count": 144,
   "id": "858ae3c6",
   "metadata": {},
   "outputs": [
    {
     "data": {
      "text/plain": [
       "0.9298245614035088"
      ]
     },
     "execution_count": 144,
     "metadata": {},
     "output_type": "execute_result"
    }
   ],
   "source": [
    "accuracy_score(y_test, y_predict)"
   ]
  },
  {
   "cell_type": "markdown",
   "id": "648acade",
   "metadata": {},
   "source": [
    "### SUPPORT VECTOR MACHINE for classification ###"
   ]
  },
  {
   "cell_type": "code",
   "execution_count": 145,
   "id": "c411cf43",
   "metadata": {},
   "outputs": [],
   "source": [
    "from sklearn.svm import SVR"
   ]
  },
  {
   "cell_type": "markdown",
   "id": "382bd9f0",
   "metadata": {},
   "source": [
    "MODEL"
   ]
  },
  {
   "cell_type": "code",
   "execution_count": 146,
   "id": "2fb91b35",
   "metadata": {},
   "outputs": [],
   "source": [
    "model_svm=SVR(kernel='linear').fit(X_train, y_train)"
   ]
  },
  {
   "cell_type": "markdown",
   "id": "35955ebd",
   "metadata": {},
   "source": [
    "PREDİCT"
   ]
  },
  {
   "cell_type": "code",
   "execution_count": 147,
   "id": "2ccc5e64",
   "metadata": {},
   "outputs": [],
   "source": [
    "y_predict=model_svm.predict(X_test)"
   ]
  },
  {
   "cell_type": "markdown",
   "id": "ac3f2db6",
   "metadata": {},
   "source": [
    "TUNİNG"
   ]
  },
  {
   "cell_type": "code",
   "execution_count": 148,
   "id": "2cb8bc9a",
   "metadata": {},
   "outputs": [],
   "source": [
    "svm_param={'C': np.arange(1,5)}"
   ]
  },
  {
   "cell_type": "markdown",
   "id": "ce53adaf",
   "metadata": {},
   "source": [
    "MODEL"
   ]
  },
  {
   "cell_type": "code",
   "execution_count": 150,
   "id": "f8d36218",
   "metadata": {},
   "outputs": [
    {
     "name": "stdout",
     "output_type": "stream",
     "text": [
      "Fitting 10 folds for each of 4 candidates, totalling 40 fits\n",
      "[CV] END ................................................C=1; total time=  21.4s\n",
      "[CV] END ................................................C=1; total time=  22.3s\n",
      "[CV] END ................................................C=1; total time=  38.2s\n",
      "[CV] END ................................................C=1; total time=  58.8s\n",
      "[CV] END ................................................C=1; total time=  40.9s\n",
      "[CV] END ................................................C=1; total time= 1.1min\n",
      "[CV] END ................................................C=1; total time=  59.2s\n",
      "[CV] END ................................................C=1; total time= 1.4min\n",
      "[CV] END ................................................C=1; total time=  59.5s\n",
      "[CV] END ................................................C=1; total time= 1.1min\n",
      "[CV] END ................................................C=2; total time= 1.5min\n",
      "[CV] END ................................................C=2; total time=  48.4s\n",
      "[CV] END ................................................C=2; total time=  56.6s\n",
      "[CV] END ................................................C=2; total time= 1.6min\n",
      "[CV] END ................................................C=2; total time=  36.1s\n",
      "[CV] END ................................................C=2; total time=  49.6s\n",
      "[CV] END ................................................C=2; total time= 1.3min\n",
      "[CV] END ................................................C=2; total time= 1.0min\n",
      "[CV] END ................................................C=2; total time=  36.3s\n",
      "[CV] END ................................................C=2; total time=  44.9s\n",
      "[CV] END ................................................C=3; total time=  43.9s\n",
      "[CV] END ................................................C=3; total time=  22.6s\n",
      "[CV] END ................................................C=3; total time=  17.3s\n",
      "[CV] END ................................................C=3; total time=  38.6s\n",
      "[CV] END ................................................C=3; total time=  59.2s\n",
      "[CV] END ................................................C=3; total time=  41.6s\n",
      "[CV] END ................................................C=3; total time=  20.2s\n",
      "[CV] END ................................................C=3; total time=  34.8s\n",
      "[CV] END ................................................C=3; total time=  23.0s\n",
      "[CV] END ................................................C=3; total time=  37.8s\n",
      "[CV] END ................................................C=4; total time=  16.1s\n",
      "[CV] END ................................................C=4; total time=  36.4s\n",
      "[CV] END ................................................C=4; total time=  32.9s\n",
      "[CV] END ................................................C=4; total time=  31.6s\n",
      "[CV] END ................................................C=4; total time=  19.9s\n",
      "[CV] END ................................................C=4; total time=  36.0s\n",
      "[CV] END ................................................C=4; total time=  17.1s\n",
      "[CV] END ................................................C=4; total time=  31.5s\n",
      "[CV] END ................................................C=4; total time=  23.1s\n",
      "[CV] END ................................................C=4; total time=  28.5s\n"
     ]
    }
   ],
   "source": [
    "model_svm_cv=GridSearchCV(SVR(kernel='linear'), svm_param, cv=10, n_jobs=1, verbose=2).fit(X_train, y_train)"
   ]
  },
  {
   "cell_type": "code",
   "execution_count": 151,
   "id": "a2e99227",
   "metadata": {},
   "outputs": [
    {
     "data": {
      "text/plain": [
       "{'C': 1}"
      ]
     },
     "execution_count": 151,
     "metadata": {},
     "output_type": "execute_result"
    }
   ],
   "source": [
    "model_svm_cv.best_params_"
   ]
  },
  {
   "cell_type": "code",
   "execution_count": 152,
   "id": "32cb7276",
   "metadata": {},
   "outputs": [
    {
     "ename": "NameError",
     "evalue": "name 'SVM' is not defined",
     "output_type": "error",
     "traceback": [
      "\u001b[1;31m---------------------------------------------------------------------------\u001b[0m",
      "\u001b[1;31mNameError\u001b[0m                                 Traceback (most recent call last)",
      "\u001b[1;32m<ipython-input-152-a5dc1184b200>\u001b[0m in \u001b[0;36m<module>\u001b[1;34m\u001b[0m\n\u001b[1;32m----> 1\u001b[1;33m \u001b[0mfinally_model\u001b[0m\u001b[1;33m=\u001b[0m\u001b[0mSVM\u001b[0m\u001b[1;33m(\u001b[0m\u001b[0mkernel\u001b[0m\u001b[1;33m=\u001b[0m\u001b[1;34m'linear'\u001b[0m\u001b[1;33m,\u001b[0m \u001b[0mC\u001b[0m\u001b[1;33m=\u001b[0m\u001b[0msvm_param\u001b[0m\u001b[1;33m)\u001b[0m\u001b[1;33m.\u001b[0m\u001b[0mfit\u001b[0m\u001b[1;33m(\u001b[0m\u001b[0mX_train\u001b[0m\u001b[1;33m,\u001b[0m \u001b[0my_train\u001b[0m\u001b[1;33m)\u001b[0m\u001b[1;33m\u001b[0m\u001b[0m\n\u001b[0m",
      "\u001b[1;31mNameError\u001b[0m: name 'SVM' is not defined"
     ]
    }
   ],
   "source": [
    "finally_model=SVM(kernel='linear', C=svm_param).fit(X_train, y_train)"
   ]
  },
  {
   "cell_type": "code",
   "execution_count": null,
   "id": "8a6b3511",
   "metadata": {},
   "outputs": [],
   "source": [
    "finally_model_predict=finally_model.predict(X_test)"
   ]
  },
  {
   "cell_type": "code",
   "execution_count": null,
   "id": "37d6e98f",
   "metadata": {},
   "outputs": [],
   "source": [
    "accuracy_score(y_test, y_predict)"
   ]
  },
  {
   "cell_type": "markdown",
   "id": "d47b68e3",
   "metadata": {},
   "source": [
    "#### Radial Basis Function ####"
   ]
  },
  {
   "cell_type": "code",
   "execution_count": null,
   "id": "5607a64a",
   "metadata": {},
   "outputs": [],
   "source": [
    "svm_model=SVM().fit(X_train, y_train)"
   ]
  },
  {
   "cell_type": "code",
   "execution_count": null,
   "id": "1e8f7c32",
   "metadata": {},
   "outputs": [],
   "source": [
    "y_predict=svm_model.predict(X_test)"
   ]
  },
  {
   "cell_type": "code",
   "execution_count": null,
   "id": "4fb93a49",
   "metadata": {},
   "outputs": [],
   "source": [
    "accuracy_score(y_test, y_predict)"
   ]
  },
  {
   "cell_type": "markdown",
   "id": "81d58091",
   "metadata": {},
   "source": [
    "TUNİNG"
   ]
  },
  {
   "cell_type": "code",
   "execution_count": null,
   "id": "e64bd2e1",
   "metadata": {},
   "outputs": [],
   "source": [
    "svm_param={'C':np.arange(1,5), 'gamma':arange(1,5)}"
   ]
  },
  {
   "cell_type": "code",
   "execution_count": null,
   "id": "319abb73",
   "metadata": {},
   "outputs": [],
   "source": [
    "svr_model_cv=GridSearchCV(SVM(), svm_param, cv=10, n_jobs=1, verbose=2).fit(X_train, y_train)"
   ]
  },
  {
   "cell_type": "code",
   "execution_count": null,
   "id": "65531eff",
   "metadata": {},
   "outputs": [],
   "source": [
    "svr_model_cv.best_params_"
   ]
  },
  {
   "cell_type": "markdown",
   "id": "e9e96df5",
   "metadata": {},
   "source": [
    "FINALLY MODEL"
   ]
  },
  {
   "cell_type": "code",
   "execution_count": null,
   "id": "600de8dd",
   "metadata": {},
   "outputs": [],
   "source": [
    "finally_model=SVR(C=5, gamma=1).fit(X_train, y_train)"
   ]
  },
  {
   "cell_type": "code",
   "execution_count": null,
   "id": "7dd399a8",
   "metadata": {},
   "outputs": [],
   "source": [
    "y_predict=finally_model.predict(X_test)"
   ]
  },
  {
   "cell_type": "code",
   "execution_count": null,
   "id": "6455a43d",
   "metadata": {},
   "outputs": [],
   "source": [
    "accuracy_score(y_test, y_predict)"
   ]
  },
  {
   "cell_type": "markdown",
   "id": "518255b3",
   "metadata": {},
   "source": [
    "### ARTIFICIAL NEURAL NETWORKS ###"
   ]
  },
  {
   "cell_type": "code",
   "execution_count": 155,
   "id": "88f98ed7",
   "metadata": {},
   "outputs": [
    {
     "ename": "ImportError",
     "evalue": "cannot import name 'MLPClassificer' from 'sklearn.neural_network' (c:\\users\\user202\\appdata\\local\\programs\\python\\python37\\lib\\site-packages\\sklearn\\neural_network\\__init__.py)",
     "output_type": "error",
     "traceback": [
      "\u001b[1;31m---------------------------------------------------------------------------\u001b[0m",
      "\u001b[1;31mImportError\u001b[0m                               Traceback (most recent call last)",
      "\u001b[1;32m<ipython-input-155-c609b16dfc1c>\u001b[0m in \u001b[0;36m<module>\u001b[1;34m\u001b[0m\n\u001b[0;32m      1\u001b[0m \u001b[1;32mfrom\u001b[0m \u001b[0msklearn\u001b[0m\u001b[1;33m.\u001b[0m\u001b[0mpreprocessing\u001b[0m \u001b[1;32mimport\u001b[0m \u001b[0mStandardScaler\u001b[0m\u001b[1;33m\u001b[0m\u001b[0m\n\u001b[1;32m----> 2\u001b[1;33m \u001b[1;32mfrom\u001b[0m \u001b[0msklearn\u001b[0m\u001b[1;33m.\u001b[0m\u001b[0mneural_network\u001b[0m \u001b[1;32mimport\u001b[0m \u001b[0mMLPClassificer\u001b[0m\u001b[1;33m\u001b[0m\u001b[0m\n\u001b[0m",
      "\u001b[1;31mImportError\u001b[0m: cannot import name 'MLPClassificer' from 'sklearn.neural_network' (c:\\users\\user202\\appdata\\local\\programs\\python\\python37\\lib\\site-packages\\sklearn\\neural_network\\__init__.py)"
     ]
    }
   ],
   "source": [
    "from sklearn.preprocessing import StandardScaler\n",
    "from sklearn.neural_network import MLPClassificer"
   ]
  },
  {
   "cell_type": "code",
   "execution_count": null,
   "id": "df3969bf",
   "metadata": {},
   "outputs": [],
   "source": [
    "X_train_scale=StandardScaler().fit_transform(X_train)\n",
    "X_train_scale[:5]"
   ]
  },
  {
   "cell_type": "code",
   "execution_count": null,
   "id": "447d4edf",
   "metadata": {},
   "outputs": [],
   "source": [
    "X_test_scale=StandardScaler().fit_transform(X_test)\n",
    "X_test_scale[:5]"
   ]
  },
  {
   "cell_type": "markdown",
   "id": "58294b94",
   "metadata": {},
   "source": [
    "MODEL"
   ]
  },
  {
   "cell_type": "code",
   "execution_count": null,
   "id": "8ac8d6df",
   "metadata": {},
   "outputs": [],
   "source": [
    "model_mlpc=MLPClassificer().fit(X_train_scale, y_train)"
   ]
  },
  {
   "cell_type": "code",
   "execution_count": null,
   "id": "856ea033",
   "metadata": {},
   "outputs": [],
   "source": [
    "model_mlpc.best_params_"
   ]
  },
  {
   "cell_type": "markdown",
   "id": "85837b43",
   "metadata": {},
   "source": [
    "PREDICT"
   ]
  },
  {
   "cell_type": "code",
   "execution_count": null,
   "id": "1de85a98",
   "metadata": {},
   "outputs": [],
   "source": [
    "y_predict=model_mlpc.predict(X_test_scale)"
   ]
  },
  {
   "cell_type": "code",
   "execution_count": null,
   "id": "6c78934a",
   "metadata": {},
   "outputs": [],
   "source": [
    "accuracy_score(y_test, y_predict)"
   ]
  },
  {
   "cell_type": "code",
   "execution_count": null,
   "id": "5ae012be",
   "metadata": {},
   "outputs": [],
   "source": [
    "dir(MLPClassificer)"
   ]
  },
  {
   "cell_type": "markdown",
   "id": "fbba7a35",
   "metadata": {},
   "source": [
    "TUNİNG"
   ]
  },
  {
   "cell_type": "code",
   "execution_count": 153,
   "id": "cd107722",
   "metadata": {},
   "outputs": [],
   "source": [
    "mlpc_param={'alpha':[0.0001,0.001,0.01,0.5], 'hidden_layers_size':[(10,100),(5,100),(100,1000,1000)], 'solver':['adam','lbfgs']}"
   ]
  },
  {
   "cell_type": "code",
   "execution_count": 154,
   "id": "20bbceef",
   "metadata": {},
   "outputs": [
    {
     "ename": "NameError",
     "evalue": "name 'MLPClassificer' is not defined",
     "output_type": "error",
     "traceback": [
      "\u001b[1;31m---------------------------------------------------------------------------\u001b[0m",
      "\u001b[1;31mNameError\u001b[0m                                 Traceback (most recent call last)",
      "\u001b[1;32m<ipython-input-154-e55c4558d75f>\u001b[0m in \u001b[0;36m<module>\u001b[1;34m\u001b[0m\n\u001b[1;32m----> 1\u001b[1;33m \u001b[0mmodel_mlpc_cv\u001b[0m\u001b[1;33m=\u001b[0m\u001b[0mGridSearchCV\u001b[0m\u001b[1;33m(\u001b[0m\u001b[0mMLPClassificer\u001b[0m\u001b[1;33m(\u001b[0m\u001b[1;33m)\u001b[0m\u001b[1;33m,\u001b[0m \u001b[0mmlpc_param\u001b[0m\u001b[1;33m,\u001b[0m \u001b[0mcv\u001b[0m\u001b[1;33m=\u001b[0m\u001b[1;36m10\u001b[0m\u001b[1;33m,\u001b[0m \u001b[0mn_jobs\u001b[0m\u001b[1;33m=\u001b[0m\u001b[1;33m-\u001b[0m\u001b[1;36m1\u001b[0m\u001b[1;33m,\u001b[0m \u001b[0mverbose\u001b[0m\u001b[1;33m=\u001b[0m\u001b[1;36m2\u001b[0m\u001b[1;33m)\u001b[0m\u001b[1;33m.\u001b[0m\u001b[0mfit\u001b[0m\u001b[1;33m(\u001b[0m\u001b[0mX_train_scale\u001b[0m\u001b[1;33m,\u001b[0m \u001b[0my_train\u001b[0m\u001b[1;33m)\u001b[0m\u001b[1;33m\u001b[0m\u001b[0m\n\u001b[0m",
      "\u001b[1;31mNameError\u001b[0m: name 'MLPClassificer' is not defined"
     ]
    }
   ],
   "source": [
    "model_mlpc_cv=GridSearchCV(MLPClassificer(), mlpc_param, cv=10, n_jobs=-1, verbose=2).fit(X_train_scale, y_train)"
   ]
  },
  {
   "cell_type": "code",
   "execution_count": 156,
   "id": "ce11e177",
   "metadata": {},
   "outputs": [
    {
     "ename": "NameError",
     "evalue": "name 'model_mlpc_cv' is not defined",
     "output_type": "error",
     "traceback": [
      "\u001b[1;31m---------------------------------------------------------------------------\u001b[0m",
      "\u001b[1;31mNameError\u001b[0m                                 Traceback (most recent call last)",
      "\u001b[1;32m<ipython-input-156-b0849d2ce057>\u001b[0m in \u001b[0;36m<module>\u001b[1;34m\u001b[0m\n\u001b[1;32m----> 1\u001b[1;33m \u001b[0mmodel_mlpc_cv\u001b[0m\u001b[1;33m.\u001b[0m\u001b[0mbest_params_\u001b[0m\u001b[1;33m\u001b[0m\u001b[0m\n\u001b[0m",
      "\u001b[1;31mNameError\u001b[0m: name 'model_mlpc_cv' is not defined"
     ]
    }
   ],
   "source": [
    "model_mlpc_cv.best_params_"
   ]
  },
  {
   "cell_type": "code",
   "execution_count": 157,
   "id": "5400c4e5",
   "metadata": {},
   "outputs": [
    {
     "ename": "NameError",
     "evalue": "name 'MLPClassificer' is not defined",
     "output_type": "error",
     "traceback": [
      "\u001b[1;31m---------------------------------------------------------------------------\u001b[0m",
      "\u001b[1;31mNameError\u001b[0m                                 Traceback (most recent call last)",
      "\u001b[1;32m<ipython-input-157-2d650e90783e>\u001b[0m in \u001b[0;36m<module>\u001b[1;34m\u001b[0m\n\u001b[1;32m----> 1\u001b[1;33m \u001b[0mfinally_model\u001b[0m\u001b[1;33m=\u001b[0m\u001b[0mMLPClassificer\u001b[0m\u001b[1;33m(\u001b[0m\u001b[0malpha\u001b[0m\u001b[1;33m=\u001b[0m\u001b[1;36m0.01\u001b[0m\u001b[1;33m,\u001b[0m \u001b[0mhidden_layers_size\u001b[0m\u001b[1;33m=\u001b[0m\u001b[1;33m(\u001b[0m\u001b[1;36m10\u001b[0m\u001b[1;33m,\u001b[0m\u001b[1;36m100\u001b[0m\u001b[1;33m)\u001b[0m\u001b[1;33m,\u001b[0m \u001b[0msolver\u001b[0m\u001b[1;33m=\u001b[0m\u001b[0mlbfgs\u001b[0m\u001b[1;33m)\u001b[0m\u001b[1;33m\u001b[0m\u001b[0m\n\u001b[0m",
      "\u001b[1;31mNameError\u001b[0m: name 'MLPClassificer' is not defined"
     ]
    }
   ],
   "source": [
    "finally_model=MLPClassificer(alpha=0.01, hidden_layers_size=(10,100), solver=lbfgs)"
   ]
  },
  {
   "cell_type": "code",
   "execution_count": 158,
   "id": "634dba9e",
   "metadata": {},
   "outputs": [],
   "source": [
    "y_predict=finally_model.predict(X_test_scale)"
   ]
  },
  {
   "cell_type": "code",
   "execution_count": 159,
   "id": "6168cadf",
   "metadata": {},
   "outputs": [
    {
     "data": {
      "text/plain": [
       "0.6228070175438597"
      ]
     },
     "execution_count": 159,
     "metadata": {},
     "output_type": "execute_result"
    }
   ],
   "source": [
    "accuracy_score(y_test, y_predict)"
   ]
  },
  {
   "cell_type": "markdown",
   "id": "1fae7393",
   "metadata": {},
   "source": [
    "### CLASSIFICATION AND REGRESSION for classification ###"
   ]
  },
  {
   "cell_type": "code",
   "execution_count": 161,
   "id": "ed8feaea",
   "metadata": {},
   "outputs": [
    {
     "data": {
      "text/html": [
       "<div>\n",
       "<style scoped>\n",
       "    .dataframe tbody tr th:only-of-type {\n",
       "        vertical-align: middle;\n",
       "    }\n",
       "\n",
       "    .dataframe tbody tr th {\n",
       "        vertical-align: top;\n",
       "    }\n",
       "\n",
       "    .dataframe thead th {\n",
       "        text-align: right;\n",
       "    }\n",
       "</style>\n",
       "<table border=\"1\" class=\"dataframe\">\n",
       "  <thead>\n",
       "    <tr style=\"text-align: right;\">\n",
       "      <th></th>\n",
       "      <th>mean_radius</th>\n",
       "      <th>mean_texture</th>\n",
       "      <th>mean_perimeter</th>\n",
       "      <th>mean_area</th>\n",
       "      <th>mean_smoothness</th>\n",
       "    </tr>\n",
       "  </thead>\n",
       "  <tbody>\n",
       "    <tr>\n",
       "      <th>0</th>\n",
       "      <td>17.99</td>\n",
       "      <td>10.38</td>\n",
       "      <td>122.80</td>\n",
       "      <td>1001.0</td>\n",
       "      <td>0.11840</td>\n",
       "    </tr>\n",
       "    <tr>\n",
       "      <th>1</th>\n",
       "      <td>20.57</td>\n",
       "      <td>17.77</td>\n",
       "      <td>132.90</td>\n",
       "      <td>1326.0</td>\n",
       "      <td>0.08474</td>\n",
       "    </tr>\n",
       "    <tr>\n",
       "      <th>2</th>\n",
       "      <td>19.69</td>\n",
       "      <td>21.25</td>\n",
       "      <td>130.00</td>\n",
       "      <td>1203.0</td>\n",
       "      <td>0.10960</td>\n",
       "    </tr>\n",
       "    <tr>\n",
       "      <th>3</th>\n",
       "      <td>11.42</td>\n",
       "      <td>20.38</td>\n",
       "      <td>77.58</td>\n",
       "      <td>386.1</td>\n",
       "      <td>0.14250</td>\n",
       "    </tr>\n",
       "    <tr>\n",
       "      <th>4</th>\n",
       "      <td>20.29</td>\n",
       "      <td>14.34</td>\n",
       "      <td>135.10</td>\n",
       "      <td>1297.0</td>\n",
       "      <td>0.10030</td>\n",
       "    </tr>\n",
       "  </tbody>\n",
       "</table>\n",
       "</div>"
      ],
      "text/plain": [
       "   mean_radius  mean_texture  mean_perimeter  mean_area  mean_smoothness\n",
       "0        17.99         10.38          122.80     1001.0          0.11840\n",
       "1        20.57         17.77          132.90     1326.0          0.08474\n",
       "2        19.69         21.25          130.00     1203.0          0.10960\n",
       "3        11.42         20.38           77.58      386.1          0.14250\n",
       "4        20.29         14.34          135.10     1297.0          0.10030"
      ]
     },
     "execution_count": 161,
     "metadata": {},
     "output_type": "execute_result"
    }
   ],
   "source": [
    "X[:5]"
   ]
  },
  {
   "cell_type": "code",
   "execution_count": 162,
   "id": "b50e1ed9",
   "metadata": {},
   "outputs": [
    {
     "data": {
      "text/plain": [
       "0    0\n",
       "1    0\n",
       "2    0\n",
       "3    0\n",
       "4    0\n",
       "Name: diagnosis, dtype: int64"
      ]
     },
     "execution_count": 162,
     "metadata": {},
     "output_type": "execute_result"
    }
   ],
   "source": [
    "y[:5]"
   ]
  },
  {
   "cell_type": "code",
   "execution_count": 163,
   "id": "22d54a56",
   "metadata": {},
   "outputs": [],
   "source": [
    "X_train, X_test, y_train, y_test=train_test_split(X, y, test_size=0.20, random_state=42)"
   ]
  },
  {
   "cell_type": "code",
   "execution_count": 164,
   "id": "229dd1be",
   "metadata": {},
   "outputs": [],
   "source": [
    "from sklearn.tree import DecisionTreeClassifier"
   ]
  },
  {
   "cell_type": "markdown",
   "id": "958193e4",
   "metadata": {},
   "source": [
    "MODEL"
   ]
  },
  {
   "cell_type": "code",
   "execution_count": 166,
   "id": "d7542c50",
   "metadata": {},
   "outputs": [],
   "source": [
    "model_cart=DecisionTreeClassifier(max_depth=2).fit(X_train, y_train)"
   ]
  },
  {
   "cell_type": "markdown",
   "id": "d3c53206",
   "metadata": {},
   "source": [
    "PREDICT"
   ]
  },
  {
   "cell_type": "code",
   "execution_count": 172,
   "id": "418822fc",
   "metadata": {},
   "outputs": [
    {
     "name": "stdout",
     "output_type": "stream",
     "text": [
      "Requirement already satisfied: skompiler in c:\\users\\user202\\appdata\\local\\programs\\python\\python37\\lib\\site-packages (0.7)\n",
      "Requirement already satisfied: scikit-learn>=0.22 in c:\\users\\user202\\appdata\\local\\programs\\python\\python37\\lib\\site-packages (from skompiler) (0.24.2)\n",
      "Requirement already satisfied: threadpoolctl>=2.0.0 in c:\\users\\user202\\appdata\\local\\programs\\python\\python37\\lib\\site-packages (from scikit-learn>=0.22->skompiler) (2.1.0)\n",
      "Requirement already satisfied: numpy>=1.13.3 in c:\\users\\user202\\appdata\\local\\programs\\python\\python37\\lib\\site-packages (from scikit-learn>=0.22->skompiler) (1.19.5)\n",
      "Requirement already satisfied: scipy>=0.19.1 in c:\\users\\user202\\appdata\\local\\programs\\python\\python37\\lib\\site-packages (from scikit-learn>=0.22->skompiler) (1.6.3)\n",
      "Requirement already satisfied: joblib>=0.11 in c:\\users\\user202\\appdata\\local\\programs\\python\\python37\\lib\\site-packages (from scikit-learn>=0.22->skompiler) (1.0.1)\n"
     ]
    },
    {
     "name": "stderr",
     "output_type": "stream",
     "text": [
      "\n",
      "[notice] A new release of pip available: 22.2.2 -> 22.3\n",
      "[notice] To update, run: python.exe -m pip install --upgrade pip\n"
     ]
    }
   ],
   "source": [
    "!pip install skompiler"
   ]
  },
  {
   "cell_type": "code",
   "execution_count": 180,
   "id": "11421b62",
   "metadata": {},
   "outputs": [
    {
     "name": "stdout",
     "output_type": "stream",
     "text": [
      "Collecting astorNote: you may need to restart the kernel to use updated packages.\n",
      "  Downloading astor-0.8.1-py2.py3-none-any.whl (27 kB)\n",
      "Installing collected packages: astor\n",
      "Successfully installed astor-0.8.1\n",
      "\n"
     ]
    },
    {
     "name": "stderr",
     "output_type": "stream",
     "text": [
      "\n",
      "[notice] A new release of pip available: 22.2.2 -> 22.3\n",
      "[notice] To update, run: python.exe -m pip install --upgrade pip\n"
     ]
    }
   ],
   "source": [
    "pip install astor"
   ]
  },
  {
   "cell_type": "code",
   "execution_count": 181,
   "id": "60e4278b",
   "metadata": {},
   "outputs": [],
   "source": [
    "from skompiler import skompile"
   ]
  },
  {
   "cell_type": "code",
   "execution_count": 182,
   "id": "260816cc",
   "metadata": {},
   "outputs": [
    {
     "name": "stdout",
     "output_type": "stream",
     "text": [
      "((1 if x[2] <= 85.25 else 1) if x[2] <= 98.43000030517578 else 0 if x[1] <=\n",
      "    16.394999504089355 else 0)\n",
      "\n"
     ]
    }
   ],
   "source": [
    "print(skompile(model_cart.predict).to('python/code'))"
   ]
  },
  {
   "cell_type": "code",
   "execution_count": 210,
   "id": "1080ce24",
   "metadata": {},
   "outputs": [],
   "source": [
    "x=[1,2,4,5,6]"
   ]
  },
  {
   "cell_type": "code",
   "execution_count": 211,
   "id": "802d3114",
   "metadata": {},
   "outputs": [
    {
     "data": {
      "text/plain": [
       "1"
      ]
     },
     "execution_count": 211,
     "metadata": {},
     "output_type": "execute_result"
    }
   ],
   "source": [
    "((1 if x[2] <= 85.25 else 1) if x[2] <= 98.43000030517578 else 0 if x[1] <=\n",
    "    16.394999504089355 else 0)"
   ]
  },
  {
   "cell_type": "code",
   "execution_count": 212,
   "id": "0e1179d1",
   "metadata": {},
   "outputs": [],
   "source": [
    "y_predict=model_cart.predict(X_test)"
   ]
  },
  {
   "cell_type": "code",
   "execution_count": 213,
   "id": "2de26dda",
   "metadata": {},
   "outputs": [
    {
     "data": {
      "text/plain": [
       "0.9210526315789473"
      ]
     },
     "execution_count": 213,
     "metadata": {},
     "output_type": "execute_result"
    }
   ],
   "source": [
    "accuracy_score(y_test, y_predict)"
   ]
  },
  {
   "cell_type": "markdown",
   "id": "cecabaeb",
   "metadata": {},
   "source": [
    "TUNİNG"
   ]
  },
  {
   "cell_type": "code",
   "execution_count": 214,
   "id": "b4d24344",
   "metadata": {},
   "outputs": [],
   "source": [
    "cart_param={'max_depth':np.arange(1,5)}"
   ]
  },
  {
   "cell_type": "code",
   "execution_count": 219,
   "id": "d91ff367",
   "metadata": {},
   "outputs": [
    {
     "name": "stdout",
     "output_type": "stream",
     "text": [
      "Fitting 10 folds for each of 4 candidates, totalling 40 fits\n"
     ]
    }
   ],
   "source": [
    "model_cart_cv=GridSearchCV(DecisionTreeClassifier(), cart_param, cv=10, n_jobs=-1, verbose=2).fit(X_train, y_train)"
   ]
  },
  {
   "cell_type": "code",
   "execution_count": 217,
   "id": "86741669",
   "metadata": {},
   "outputs": [
    {
     "data": {
      "text/plain": [
       "{'max_depth': 4}"
      ]
     },
     "execution_count": 217,
     "metadata": {},
     "output_type": "execute_result"
    }
   ],
   "source": [
    "model_cart_cv.best_params_"
   ]
  },
  {
   "cell_type": "code",
   "execution_count": 221,
   "id": "b88b87e5",
   "metadata": {},
   "outputs": [],
   "source": [
    "finally_model=DecisionTreeClassifier(max_depth=4).fit(X_train, y_train)"
   ]
  },
  {
   "cell_type": "code",
   "execution_count": 223,
   "id": "e5d31155",
   "metadata": {},
   "outputs": [
    {
     "data": {
      "text/plain": [
       "array([1, 0, 0, 1, 1], dtype=int64)"
      ]
     },
     "execution_count": 223,
     "metadata": {},
     "output_type": "execute_result"
    }
   ],
   "source": [
    "y_predict=finally_model.predict(X_test)\n",
    "y_predict[:5]"
   ]
  },
  {
   "cell_type": "code",
   "execution_count": 224,
   "id": "e671b7c2",
   "metadata": {},
   "outputs": [
    {
     "data": {
      "text/plain": [
       "0.9122807017543859"
      ]
     },
     "execution_count": 224,
     "metadata": {},
     "output_type": "execute_result"
    }
   ],
   "source": [
    "accuracy_score(y_test, y_predict)"
   ]
  },
  {
   "cell_type": "markdown",
   "id": "383719ae",
   "metadata": {},
   "source": [
    "### RANDOM FORESTS for classifition ###"
   ]
  },
  {
   "cell_type": "markdown",
   "id": "521318d5",
   "metadata": {},
   "source": [
    "Random Forest is a powerful and versatile supervised machine learning algorithm that grows and combines multiple decision trees to create a “forest.” It can be used for both classification and regression problems in Python."
   ]
  },
  {
   "cell_type": "code",
   "execution_count": 225,
   "id": "53fab249",
   "metadata": {},
   "outputs": [],
   "source": [
    "from sklearn.ensemble import RandomForestClassifier"
   ]
  },
  {
   "cell_type": "code",
   "execution_count": 226,
   "id": "2c8ef6fb",
   "metadata": {},
   "outputs": [],
   "source": [
    "model_random=RandomForestClassifier().fit(X_train, y_train)"
   ]
  },
  {
   "cell_type": "markdown",
   "id": "65f0f294",
   "metadata": {},
   "source": [
    "PREDICT"
   ]
  },
  {
   "cell_type": "code",
   "execution_count": 227,
   "id": "99143efb",
   "metadata": {},
   "outputs": [],
   "source": [
    "y_predict=model_random.predict(X_test)"
   ]
  },
  {
   "cell_type": "code",
   "execution_count": 228,
   "id": "194d11c4",
   "metadata": {},
   "outputs": [
    {
     "data": {
      "text/plain": [
       "0.956140350877193"
      ]
     },
     "execution_count": 228,
     "metadata": {},
     "output_type": "execute_result"
    }
   ],
   "source": [
    "accuracy_score(y_test, y_predict)"
   ]
  },
  {
   "cell_type": "markdown",
   "id": "99b823ed",
   "metadata": {},
   "source": [
    "TUNİNG"
   ]
  },
  {
   "cell_type": "code",
   "execution_count": 229,
   "id": "aeada08e",
   "metadata": {},
   "outputs": [],
   "source": [
    "model_random_param={'max_depth':[2,5,10],'max_features':[2,5,10], 'min_samples_split':[2,5,10], 'n_estimators':[2,5,10]}"
   ]
  },
  {
   "cell_type": "code",
   "execution_count": 231,
   "id": "fed85914",
   "metadata": {},
   "outputs": [
    {
     "name": "stdout",
     "output_type": "stream",
     "text": [
      "Fitting 10 folds for each of 81 candidates, totalling 810 fits\n"
     ]
    },
    {
     "name": "stderr",
     "output_type": "stream",
     "text": [
      "c:\\users\\user202\\appdata\\local\\programs\\python\\python37\\lib\\site-packages\\sklearn\\model_selection\\_search.py:925: UserWarning: One or more of the test scores are non-finite: [0.8768599  0.87458937 0.87227053 0.87024155 0.8768599  0.88560386\n",
      " 0.87676329 0.88111111 0.87454106 0.87236715 0.88111111 0.87676329\n",
      " 0.86772947 0.87222222 0.87231884 0.87009662 0.87671498 0.88772947\n",
      "        nan        nan        nan        nan        nan        nan\n",
      "        nan        nan        nan 0.88768116 0.91198068 0.90289855\n",
      " 0.88777778 0.9031401  0.90966184 0.89207729 0.90753623 0.90101449\n",
      " 0.88753623 0.89434783 0.9052657  0.8810628  0.90309179 0.89415459\n",
      " 0.90294686 0.9052657  0.89637681        nan        nan        nan\n",
      "        nan        nan        nan        nan        nan        nan\n",
      " 0.85903382 0.90521739 0.89647343 0.88111111 0.90758454 0.91183575\n",
      " 0.88338164 0.90541063 0.9052657  0.86811594 0.89444444 0.90096618\n",
      " 0.87463768 0.87681159 0.89207729 0.88091787 0.90318841 0.9031401\n",
      "        nan        nan        nan        nan        nan        nan\n",
      "        nan        nan        nan]\n",
      "  category=UserWarning\n"
     ]
    }
   ],
   "source": [
    "model_random_cv=GridSearchCV(RandomForestClassifier(), model_random_param, cv=10, n_jobs=-1, verbose=2).fit(X_train, y_train)"
   ]
  },
  {
   "cell_type": "code",
   "execution_count": 232,
   "id": "8510a706",
   "metadata": {},
   "outputs": [
    {
     "data": {
      "text/plain": [
       "{'max_depth': 5, 'max_features': 2, 'min_samples_split': 2, 'n_estimators': 5}"
      ]
     },
     "execution_count": 232,
     "metadata": {},
     "output_type": "execute_result"
    }
   ],
   "source": [
    "model_random_cv.best_params_"
   ]
  },
  {
   "cell_type": "markdown",
   "id": "ab06e3d7",
   "metadata": {},
   "source": [
    "FINALLY MODEL"
   ]
  },
  {
   "cell_type": "code",
   "execution_count": 234,
   "id": "e0c80f21",
   "metadata": {},
   "outputs": [],
   "source": [
    "finally_model=RandomForestClassifier(max_depth=5, max_features=2, min_samples_split=2, n_estimators=5).fit(X_train, y_train)"
   ]
  },
  {
   "cell_type": "code",
   "execution_count": 236,
   "id": "d7767167",
   "metadata": {},
   "outputs": [
    {
     "data": {
      "text/plain": [
       "array([1, 0, 0, 1, 1], dtype=int64)"
      ]
     },
     "execution_count": 236,
     "metadata": {},
     "output_type": "execute_result"
    }
   ],
   "source": [
    "y_predict=finally_model.predict(X_test)\n",
    "y_predict[:5]"
   ]
  },
  {
   "cell_type": "code",
   "execution_count": 237,
   "id": "b81e0696",
   "metadata": {},
   "outputs": [
    {
     "data": {
      "text/plain": [
       "0.9210526315789473"
      ]
     },
     "execution_count": 237,
     "metadata": {},
     "output_type": "execute_result"
    }
   ],
   "source": [
    "accuracy_score(y_test, y_predict)"
   ]
  },
  {
   "cell_type": "markdown",
   "id": "b18e9f54",
   "metadata": {},
   "source": [
    "#### Importance of the feautures ####"
   ]
  },
  {
   "cell_type": "code",
   "execution_count": 238,
   "id": "65c980a9",
   "metadata": {},
   "outputs": [],
   "source": [
    "imp=pd.DataFrame({'importance':finally_model.feature_importances_*100},index=X_train.columns)"
   ]
  },
  {
   "cell_type": "code",
   "execution_count": 239,
   "id": "c0b73dff",
   "metadata": {},
   "outputs": [
    {
     "data": {
      "text/html": [
       "<div>\n",
       "<style scoped>\n",
       "    .dataframe tbody tr th:only-of-type {\n",
       "        vertical-align: middle;\n",
       "    }\n",
       "\n",
       "    .dataframe tbody tr th {\n",
       "        vertical-align: top;\n",
       "    }\n",
       "\n",
       "    .dataframe thead th {\n",
       "        text-align: right;\n",
       "    }\n",
       "</style>\n",
       "<table border=\"1\" class=\"dataframe\">\n",
       "  <thead>\n",
       "    <tr style=\"text-align: right;\">\n",
       "      <th></th>\n",
       "      <th>importance</th>\n",
       "    </tr>\n",
       "  </thead>\n",
       "  <tbody>\n",
       "    <tr>\n",
       "      <th>mean_smoothness</th>\n",
       "      <td>10.774482</td>\n",
       "    </tr>\n",
       "    <tr>\n",
       "      <th>mean_texture</th>\n",
       "      <td>15.466339</td>\n",
       "    </tr>\n",
       "    <tr>\n",
       "      <th>mean_perimeter</th>\n",
       "      <td>18.787275</td>\n",
       "    </tr>\n",
       "    <tr>\n",
       "      <th>mean_radius</th>\n",
       "      <td>23.180282</td>\n",
       "    </tr>\n",
       "    <tr>\n",
       "      <th>mean_area</th>\n",
       "      <td>31.791622</td>\n",
       "    </tr>\n",
       "  </tbody>\n",
       "</table>\n",
       "</div>"
      ],
      "text/plain": [
       "                 importance\n",
       "mean_smoothness   10.774482\n",
       "mean_texture      15.466339\n",
       "mean_perimeter    18.787275\n",
       "mean_radius       23.180282\n",
       "mean_area         31.791622"
      ]
     },
     "execution_count": 239,
     "metadata": {},
     "output_type": "execute_result"
    }
   ],
   "source": [
    "imp.sort_values(by='importance', axis=0, ascending=True)"
   ]
  },
  {
   "cell_type": "markdown",
   "id": "14cfc018",
   "metadata": {},
   "source": [
    "### GRADİENT BOOSTİNG MACHINES - GBM ###"
   ]
  },
  {
   "cell_type": "markdown",
   "id": "2362c3ee",
   "metadata": {},
   "source": [
    "Gradient boosting Regression calculates the difference between the current prediction and the known correct target value. This difference is called residual. After that Gradient boosting Regression trains a weak model that maps features to that residual."
   ]
  },
  {
   "cell_type": "code",
   "execution_count": 29,
   "id": "0e4f0bab",
   "metadata": {},
   "outputs": [
    {
     "name": "stdout",
     "output_type": "stream",
     "text": [
      "(455, 5) (114, 5) (455,) (114,)\n"
     ]
    }
   ],
   "source": [
    "print(X_train.shape, X_test.shape, y_train.shape, y_test.shape)"
   ]
  },
  {
   "cell_type": "code",
   "execution_count": 31,
   "id": "9425ce16",
   "metadata": {},
   "outputs": [],
   "source": [
    "from sklearn.ensemble import GradientBoostingClassifier"
   ]
  },
  {
   "cell_type": "markdown",
   "id": "184c5510",
   "metadata": {},
   "source": [
    "MODEL"
   ]
  },
  {
   "cell_type": "code",
   "execution_count": 32,
   "id": "12934631",
   "metadata": {},
   "outputs": [],
   "source": [
    "model_gbm=GradientBoostingClassifier().fit(X_train, y_train)"
   ]
  },
  {
   "cell_type": "code",
   "execution_count": 33,
   "id": "9855ba8c",
   "metadata": {},
   "outputs": [],
   "source": [
    "y_predict=model_gbm.predict(X_test)"
   ]
  },
  {
   "cell_type": "code",
   "execution_count": 34,
   "id": "330e1e85",
   "metadata": {},
   "outputs": [
    {
     "data": {
      "text/plain": [
       "0.9473684210526315"
      ]
     },
     "execution_count": 34,
     "metadata": {},
     "output_type": "execute_result"
    }
   ],
   "source": [
    "accuracy_score(y_test, y_predict)"
   ]
  },
  {
   "cell_type": "markdown",
   "id": "deee8df0",
   "metadata": {},
   "source": [
    "TUNİNG"
   ]
  },
  {
   "cell_type": "code",
   "execution_count": 48,
   "id": "6ded70e8",
   "metadata": {},
   "outputs": [],
   "source": [
    "gbm_param={'learning_rate':[0.005, 0.01, 0.1], 'max_depth':[2,4,5], 'min_samples_split':[2,4,5]}"
   ]
  },
  {
   "cell_type": "code",
   "execution_count": 49,
   "id": "fc693900",
   "metadata": {},
   "outputs": [
    {
     "name": "stdout",
     "output_type": "stream",
     "text": [
      "Fitting 10 folds for each of 27 candidates, totalling 270 fits\n"
     ]
    }
   ],
   "source": [
    "model_gbm_cv=GridSearchCV(GradientBoostingClassifier(), gbm_param, cv=10, n_jobs=-1, verbose=2).fit(X_train, y_train)"
   ]
  },
  {
   "cell_type": "code",
   "execution_count": 51,
   "id": "7d5686c9",
   "metadata": {},
   "outputs": [
    {
     "data": {
      "text/plain": [
       "{'learning_rate': 0.1, 'max_depth': 2, 'min_samples_split': 2}"
      ]
     },
     "execution_count": 51,
     "metadata": {},
     "output_type": "execute_result"
    }
   ],
   "source": [
    "model_gbm_cv.best_params_"
   ]
  },
  {
   "cell_type": "code",
   "execution_count": 52,
   "id": "a0038b38",
   "metadata": {},
   "outputs": [],
   "source": [
    "finally_model=GradientBoostingClassifier(learning_rate=0.1, max_depth=2, min_samples_split=2).fit(X_train, y_train)"
   ]
  },
  {
   "cell_type": "code",
   "execution_count": 54,
   "id": "b03272a6",
   "metadata": {},
   "outputs": [
    {
     "data": {
      "text/plain": [
       "array([1, 0, 0, 1, 1], dtype=int64)"
      ]
     },
     "execution_count": 54,
     "metadata": {},
     "output_type": "execute_result"
    }
   ],
   "source": [
    "y_predict=finally_model.predict(X_test)\n",
    "y_predict[:5]"
   ]
  },
  {
   "cell_type": "code",
   "execution_count": 55,
   "id": "177004bc",
   "metadata": {},
   "outputs": [
    {
     "data": {
      "text/plain": [
       "0.9473684210526315"
      ]
     },
     "execution_count": 55,
     "metadata": {},
     "output_type": "execute_result"
    }
   ],
   "source": [
    "accuracy_score(y_test, y_predict)"
   ]
  },
  {
   "cell_type": "markdown",
   "id": "45dab90b",
   "metadata": {},
   "source": [
    "### XGBoost - EXTREME GRADİENT BOOSTİNG ###"
   ]
  },
  {
   "cell_type": "markdown",
   "id": "a33faf04",
   "metadata": {},
   "source": [
    "During training, XGBoost uses parallel computation to build trees across all CPUs. The ‘max depth’ option is used in place of the conventional stopping criteria (i.e., criterion first), and tree pruning is initiated from the backward direction. This greatly enhances XGBoost’s computational efficiency and speed compared to competing GBM frameworks."
   ]
  },
  {
   "cell_type": "code",
   "execution_count": 57,
   "id": "cce4cb08",
   "metadata": {},
   "outputs": [
    {
     "name": "stdout",
     "output_type": "stream",
     "text": [
      "Requirement already satisfied: xgboost in c:\\users\\user202\\appdata\\local\\programs\\python\\python37\\lib\\site-packages (1.6.2)\n",
      "Requirement already satisfied: scipy in c:\\users\\user202\\appdata\\local\\programs\\python\\python37\\lib\\site-packages (from xgboost) (1.6.3)\n",
      "Requirement already satisfied: numpy in c:\\users\\user202\\appdata\\local\\programs\\python\\python37\\lib\\site-packages (from xgboost) (1.19.5)\n"
     ]
    }
   ],
   "source": [
    "!pip install xgboost"
   ]
  },
  {
   "cell_type": "code",
   "execution_count": 56,
   "id": "3b22d1fd",
   "metadata": {},
   "outputs": [],
   "source": [
    "from xgboost import XGBClassifier"
   ]
  },
  {
   "cell_type": "markdown",
   "id": "9c4ac852",
   "metadata": {},
   "source": [
    "MODEL"
   ]
  },
  {
   "cell_type": "code",
   "execution_count": 59,
   "id": "ac856f25",
   "metadata": {},
   "outputs": [],
   "source": [
    "model_xgboost=XGBClassifier().fit(X_train, y_train)"
   ]
  },
  {
   "cell_type": "markdown",
   "id": "fbebf4ae",
   "metadata": {},
   "source": [
    "PREDICT"
   ]
  },
  {
   "cell_type": "code",
   "execution_count": 62,
   "id": "1890bf28",
   "metadata": {},
   "outputs": [
    {
     "data": {
      "text/plain": [
       "array([1, 0, 0, 1, 1])"
      ]
     },
     "execution_count": 62,
     "metadata": {},
     "output_type": "execute_result"
    }
   ],
   "source": [
    "y_predict=model_xgboost.predict(X_test)\n",
    "y_predict[:5]"
   ]
  },
  {
   "cell_type": "markdown",
   "id": "5f6ab42d",
   "metadata": {},
   "source": [
    "TUNİNG"
   ]
  },
  {
   "cell_type": "code",
   "execution_count": 64,
   "id": "ac2aefec",
   "metadata": {},
   "outputs": [],
   "source": [
    "xgboost_param={'learning_rate':[0.005, 0.01, 0.1], 'max_depth':[2,4,5], 'min_samples_split':[2,4,5], 'n_estimators':[100,500,1000], 'subsample':[0.5,0.6,0.8]}"
   ]
  },
  {
   "cell_type": "code",
   "execution_count": 74,
   "id": "5899fcda",
   "metadata": {},
   "outputs": [
    {
     "name": "stdout",
     "output_type": "stream",
     "text": [
      "Fitting 10 folds for each of 243 candidates, totalling 2430 fits\n",
      "[17:58:26] WARNING: C:/Users/administrator/workspace/xgboost-win64_release_1.6.0/src/learner.cc:627: \n",
      "Parameters: { \"min_samples_split\" } might not be used.\n",
      "\n",
      "  This could be a false alarm, with some parameters getting used by language bindings but\n",
      "  then being mistakenly passed down to XGBoost core, or some parameter actually being used\n",
      "  but getting flagged wrongly here. Please open an issue if you find any such cases.\n",
      "\n",
      "\n"
     ]
    }
   ],
   "source": [
    "model_xgboost_cv=GridSearchCV(XGBClassifier(), xgboost_param, cv=10, n_jobs=-1, verbose=2).fit(X_train, y_train)"
   ]
  },
  {
   "cell_type": "code",
   "execution_count": 75,
   "id": "d554b759",
   "metadata": {},
   "outputs": [
    {
     "data": {
      "text/plain": [
       "{'learning_rate': 0.005,\n",
       " 'max_depth': 2,\n",
       " 'min_samples_split': 2,\n",
       " 'n_estimators': 1000,\n",
       " 'subsample': 0.5}"
      ]
     },
     "execution_count": 75,
     "metadata": {},
     "output_type": "execute_result"
    }
   ],
   "source": [
    "model_xgboost_cv.best_params_"
   ]
  },
  {
   "cell_type": "code",
   "execution_count": null,
   "id": "847bb6c3",
   "metadata": {},
   "outputs": [],
   "source": [
    "finally_model=XGBClassifier(learning_rate= , max_depth= , min_samples_split= , n_estimators= , subsample= )"
   ]
  },
  {
   "cell_type": "code",
   "execution_count": null,
   "id": "b55fd669",
   "metadata": {},
   "outputs": [],
   "source": [
    "y_predict=finally_model.predict(X_test)"
   ]
  },
  {
   "cell_type": "code",
   "execution_count": null,
   "id": "515a987f",
   "metadata": {},
   "outputs": [],
   "source": [
    "accuracy_score(y_test, y_predict)"
   ]
  },
  {
   "cell_type": "markdown",
   "id": "6292ea69",
   "metadata": {},
   "source": [
    "### LIGHT GBM ###"
   ]
  },
  {
   "cell_type": "markdown",
   "id": "05362e03",
   "metadata": {},
   "source": [
    "LightGBM is a gradient boosting framework based on decision trees to increases the efficiency of the model and reduces memory usage.It is more efficient than XGBoost. "
   ]
  },
  {
   "cell_type": "code",
   "execution_count": 68,
   "id": "5f58bf76",
   "metadata": {},
   "outputs": [
    {
     "name": "stdout",
     "output_type": "stream",
     "text": [
      "Collecting lightgbm\n",
      "  Downloading lightgbm-3.3.3-py3-none-win_amd64.whl (1.0 MB)\n",
      "     ---------------------------------------- 1.0/1.0 MB 1.8 MB/s eta 0:00:00\n",
      "Requirement already satisfied: numpy in c:\\users\\user202\\appdata\\local\\programs\\python\\python37\\lib\\site-packages (from lightgbm) (1.19.5)\n",
      "Requirement already satisfied: wheel in c:\\users\\user202\\appdata\\local\\programs\\python\\python37\\lib\\site-packages (from lightgbm) (0.36.2)\n",
      "Requirement already satisfied: scikit-learn!=0.22.0 in c:\\users\\user202\\appdata\\local\\programs\\python\\python37\\lib\\site-packages (from lightgbm) (1.0.2)\n",
      "Requirement already satisfied: scipy in c:\\users\\user202\\appdata\\local\\programs\\python\\python37\\lib\\site-packages (from lightgbm) (1.6.3)\n",
      "Requirement already satisfied: joblib>=0.11 in c:\\users\\user202\\appdata\\local\\programs\\python\\python37\\lib\\site-packages (from scikit-learn!=0.22.0->lightgbm) (1.0.1)\n",
      "Requirement already satisfied: threadpoolctl>=2.0.0 in c:\\users\\user202\\appdata\\local\\programs\\python\\python37\\lib\\site-packages (from scikit-learn!=0.22.0->lightgbm) (2.1.0)\n",
      "Installing collected packages: lightgbm\n",
      "Successfully installed lightgbm-3.3.3\n"
     ]
    }
   ],
   "source": [
    "!pip install lightgbm"
   ]
  },
  {
   "cell_type": "code",
   "execution_count": 69,
   "id": "68f188a5",
   "metadata": {},
   "outputs": [],
   "source": [
    "from lightgbm import LGBMClassifier"
   ]
  },
  {
   "cell_type": "code",
   "execution_count": 70,
   "id": "c081cb8b",
   "metadata": {},
   "outputs": [],
   "source": [
    "model_lgbm=LGBMClassifier().fit(X_train, y_train)"
   ]
  },
  {
   "cell_type": "code",
   "execution_count": 71,
   "id": "b389ad10",
   "metadata": {},
   "outputs": [],
   "source": [
    "y_predict=model_lgbm.predict(X_test)"
   ]
  },
  {
   "cell_type": "code",
   "execution_count": 72,
   "id": "9094aaff",
   "metadata": {},
   "outputs": [
    {
     "data": {
      "text/plain": [
       "0.9473684210526315"
      ]
     },
     "execution_count": 72,
     "metadata": {},
     "output_type": "execute_result"
    }
   ],
   "source": [
    "accuracy_score(y_test, y_predict)"
   ]
  },
  {
   "cell_type": "markdown",
   "id": "72ece453",
   "metadata": {},
   "source": [
    "TUNİNG"
   ]
  },
  {
   "cell_type": "code",
   "execution_count": 73,
   "id": "c253cb78",
   "metadata": {},
   "outputs": [],
   "source": [
    "lgbm_param={'learning_rate':[0.005, 0.01, 0.1], 'max_depth':[2,4,5], 'min_samples_split':[2,4,5], 'n_estimators':[100,500,1000], 'subsample':[0.4,0.5,0.6]}"
   ]
  },
  {
   "cell_type": "code",
   "execution_count": 77,
   "id": "0f480ade",
   "metadata": {},
   "outputs": [
    {
     "name": "stdout",
     "output_type": "stream",
     "text": [
      "Fitting 10 folds for each of 243 candidates, totalling 2430 fits\n",
      "[LightGBM] [Warning] Unknown parameter: min_samples_split\n"
     ]
    }
   ],
   "source": [
    "model_lgbm_cv=GridSearchCV(LGBMClassifier(), lgbm_param, cv=10, n_jobs=-1, verbose=2).fit(X_train, y_train)"
   ]
  },
  {
   "cell_type": "code",
   "execution_count": 78,
   "id": "22f33eb8",
   "metadata": {},
   "outputs": [
    {
     "data": {
      "text/plain": [
       "{'learning_rate': 0.005,\n",
       " 'max_depth': 4,\n",
       " 'min_samples_split': 2,\n",
       " 'n_estimators': 500,\n",
       " 'subsample': 0.4}"
      ]
     },
     "execution_count": 78,
     "metadata": {},
     "output_type": "execute_result"
    }
   ],
   "source": [
    "model_lgbm_cv.best_params_"
   ]
  },
  {
   "cell_type": "code",
   "execution_count": 88,
   "id": "b94e1d47",
   "metadata": {},
   "outputs": [],
   "source": [
    "finally_model=LGBMClassifier(learning_rate=0.005 , max_depth=4 , min_samples_split=2 , n_estimators=500 , subsample=0.04).fit(X_train, y_train)"
   ]
  },
  {
   "cell_type": "code",
   "execution_count": 89,
   "id": "570336c9",
   "metadata": {},
   "outputs": [],
   "source": [
    "y_predict=finally_model.predict(X_test)"
   ]
  },
  {
   "cell_type": "code",
   "execution_count": 90,
   "id": "443e1f20",
   "metadata": {},
   "outputs": [
    {
     "data": {
      "text/plain": [
       "0.9649122807017544"
      ]
     },
     "execution_count": 90,
     "metadata": {},
     "output_type": "execute_result"
    }
   ],
   "source": [
    "accuracy_score(y_test, y_predict)"
   ]
  },
  {
   "cell_type": "markdown",
   "id": "e92792d7",
   "metadata": {},
   "source": [
    "### CATBOOST - Category Boosting ###"
   ]
  },
  {
   "cell_type": "markdown",
   "id": "3f23b9ea",
   "metadata": {},
   "source": [
    "One of CatBoost’s core edges is its ability to integrate a variety of different data types, such as images, audio, or text features into one framework. But CatBoost also offers an idiosyncratic way of handling categorical data, requiring a minimum of categorical feature transformation, opposed to the majority of other machine learning algorithms, that cannot handle non-numeric values."
   ]
  },
  {
   "cell_type": "code",
   "execution_count": 79,
   "id": "f0f10d6d",
   "metadata": {},
   "outputs": [
    {
     "name": "stdout",
     "output_type": "stream",
     "text": [
      "Collecting catboost\n",
      "  Downloading catboost-1.1-cp37-none-win_amd64.whl (73.9 MB)\n",
      "     ---------------------------------------- 73.9/73.9 MB 3.2 MB/s eta 0:00:00\n",
      "Requirement already satisfied: pandas>=0.24.0 in c:\\users\\user202\\appdata\\local\\programs\\python\\python37\\lib\\site-packages (from catboost) (1.1.5)\n",
      "Collecting graphviz\n",
      "  Downloading graphviz-0.20.1-py3-none-any.whl (47 kB)\n",
      "     ---------------------------------------- 47.0/47.0 kB 2.5 MB/s eta 0:00:00\n",
      "Requirement already satisfied: matplotlib in c:\\users\\user202\\appdata\\local\\programs\\python\\python37\\lib\\site-packages (from catboost) (3.4.2)\n",
      "Requirement already satisfied: numpy>=1.16.0 in c:\\users\\user202\\appdata\\local\\programs\\python\\python37\\lib\\site-packages (from catboost) (1.19.5)\n",
      "Requirement already satisfied: six in c:\\users\\user202\\appdata\\local\\programs\\python\\python37\\lib\\site-packages (from catboost) (1.15.0)\n",
      "Requirement already satisfied: plotly in c:\\users\\user202\\appdata\\local\\programs\\python\\python37\\lib\\site-packages (from catboost) (4.14.3)\n",
      "Requirement already satisfied: scipy in c:\\users\\user202\\appdata\\local\\programs\\python\\python37\\lib\\site-packages (from catboost) (1.6.3)\n",
      "Requirement already satisfied: python-dateutil>=2.7.3 in c:\\users\\user202\\appdata\\local\\programs\\python\\python37\\lib\\site-packages (from pandas>=0.24.0->catboost) (2.8.1)\n",
      "Requirement already satisfied: pytz>=2017.2 in c:\\users\\user202\\appdata\\local\\programs\\python\\python37\\lib\\site-packages (from pandas>=0.24.0->catboost) (2021.1)\n",
      "Requirement already satisfied: kiwisolver>=1.0.1 in c:\\users\\user202\\appdata\\local\\programs\\python\\python37\\lib\\site-packages (from matplotlib->catboost) (1.3.1)\n",
      "Requirement already satisfied: pyparsing>=2.2.1 in c:\\users\\user202\\appdata\\local\\programs\\python\\python37\\lib\\site-packages (from matplotlib->catboost) (2.4.7)\n",
      "Requirement already satisfied: pillow>=6.2.0 in c:\\users\\user202\\appdata\\local\\programs\\python\\python37\\lib\\site-packages (from matplotlib->catboost) (8.2.0)\n",
      "Requirement already satisfied: cycler>=0.10 in c:\\users\\user202\\appdata\\local\\programs\\python\\python37\\lib\\site-packages (from matplotlib->catboost) (0.10.0)\n",
      "Requirement already satisfied: retrying>=1.3.3 in c:\\users\\user202\\appdata\\local\\programs\\python\\python37\\lib\\site-packages (from plotly->catboost) (1.3.3)\n",
      "Installing collected packages: graphviz, catboost\n",
      "Successfully installed catboost-1.1 graphviz-0.20.1\n"
     ]
    }
   ],
   "source": [
    "!pip install catboost"
   ]
  },
  {
   "cell_type": "code",
   "execution_count": 80,
   "id": "da9432d3",
   "metadata": {},
   "outputs": [],
   "source": [
    "from catboost import CatBoostClassifier"
   ]
  },
  {
   "cell_type": "code",
   "execution_count": 81,
   "id": "1750d297",
   "metadata": {},
   "outputs": [
    {
     "name": "stdout",
     "output_type": "stream",
     "text": [
      "Learning rate set to 0.00736\n",
      "0:\tlearn: 0.6826586\ttotal: 140ms\tremaining: 2m 20s\n",
      "1:\tlearn: 0.6728843\ttotal: 143ms\tremaining: 1m 11s\n",
      "2:\tlearn: 0.6649427\ttotal: 146ms\tremaining: 48.6s\n",
      "3:\tlearn: 0.6547012\ttotal: 150ms\tremaining: 37.3s\n",
      "4:\tlearn: 0.6468404\ttotal: 153ms\tremaining: 30.4s\n",
      "5:\tlearn: 0.6389717\ttotal: 156ms\tremaining: 25.8s\n",
      "6:\tlearn: 0.6314277\ttotal: 159ms\tremaining: 22.5s\n",
      "7:\tlearn: 0.6224676\ttotal: 161ms\tremaining: 20s\n",
      "8:\tlearn: 0.6140927\ttotal: 164ms\tremaining: 18.1s\n",
      "9:\tlearn: 0.6057193\ttotal: 167ms\tremaining: 16.6s\n",
      "10:\tlearn: 0.5984300\ttotal: 170ms\tremaining: 15.3s\n",
      "11:\tlearn: 0.5898236\ttotal: 173ms\tremaining: 14.2s\n",
      "12:\tlearn: 0.5820843\ttotal: 176ms\tremaining: 13.4s\n",
      "13:\tlearn: 0.5735885\ttotal: 179ms\tremaining: 12.6s\n",
      "14:\tlearn: 0.5677302\ttotal: 183ms\tremaining: 12s\n",
      "15:\tlearn: 0.5599525\ttotal: 186ms\tremaining: 11.4s\n",
      "16:\tlearn: 0.5533798\ttotal: 189ms\tremaining: 10.9s\n",
      "17:\tlearn: 0.5468297\ttotal: 193ms\tremaining: 10.6s\n",
      "18:\tlearn: 0.5409746\ttotal: 197ms\tremaining: 10.2s\n",
      "19:\tlearn: 0.5349219\ttotal: 200ms\tremaining: 9.8s\n",
      "20:\tlearn: 0.5276659\ttotal: 204ms\tremaining: 9.5s\n",
      "21:\tlearn: 0.5207240\ttotal: 207ms\tremaining: 9.19s\n",
      "22:\tlearn: 0.5145832\ttotal: 211ms\tremaining: 8.95s\n",
      "23:\tlearn: 0.5083662\ttotal: 214ms\tremaining: 8.69s\n",
      "24:\tlearn: 0.5023764\ttotal: 217ms\tremaining: 8.45s\n",
      "25:\tlearn: 0.4962356\ttotal: 220ms\tremaining: 8.24s\n",
      "26:\tlearn: 0.4902639\ttotal: 223ms\tremaining: 8.03s\n",
      "27:\tlearn: 0.4840026\ttotal: 226ms\tremaining: 7.84s\n",
      "28:\tlearn: 0.4782555\ttotal: 229ms\tremaining: 7.67s\n",
      "29:\tlearn: 0.4731520\ttotal: 232ms\tremaining: 7.5s\n",
      "30:\tlearn: 0.4680691\ttotal: 235ms\tremaining: 7.35s\n",
      "31:\tlearn: 0.4628481\ttotal: 239ms\tremaining: 7.22s\n",
      "32:\tlearn: 0.4585915\ttotal: 242ms\tremaining: 7.09s\n",
      "33:\tlearn: 0.4537427\ttotal: 245ms\tremaining: 6.97s\n",
      "34:\tlearn: 0.4490092\ttotal: 248ms\tremaining: 6.85s\n",
      "35:\tlearn: 0.4442354\ttotal: 252ms\tremaining: 6.76s\n",
      "36:\tlearn: 0.4397983\ttotal: 256ms\tremaining: 6.67s\n",
      "37:\tlearn: 0.4348118\ttotal: 259ms\tremaining: 6.56s\n",
      "38:\tlearn: 0.4296140\ttotal: 262ms\tremaining: 6.47s\n",
      "39:\tlearn: 0.4249911\ttotal: 265ms\tremaining: 6.37s\n",
      "40:\tlearn: 0.4206099\ttotal: 268ms\tremaining: 6.28s\n",
      "41:\tlearn: 0.4168331\ttotal: 271ms\tremaining: 6.19s\n",
      "42:\tlearn: 0.4120890\ttotal: 274ms\tremaining: 6.11s\n",
      "43:\tlearn: 0.4075116\ttotal: 277ms\tremaining: 6.03s\n",
      "44:\tlearn: 0.4033548\ttotal: 281ms\tremaining: 5.95s\n",
      "45:\tlearn: 0.3997648\ttotal: 283ms\tremaining: 5.88s\n",
      "46:\tlearn: 0.3958059\ttotal: 287ms\tremaining: 5.81s\n",
      "47:\tlearn: 0.3923471\ttotal: 290ms\tremaining: 5.75s\n",
      "48:\tlearn: 0.3882978\ttotal: 294ms\tremaining: 5.7s\n",
      "49:\tlearn: 0.3847979\ttotal: 297ms\tremaining: 5.63s\n",
      "50:\tlearn: 0.3814844\ttotal: 300ms\tremaining: 5.58s\n",
      "51:\tlearn: 0.3778377\ttotal: 303ms\tremaining: 5.53s\n",
      "52:\tlearn: 0.3739205\ttotal: 306ms\tremaining: 5.47s\n",
      "53:\tlearn: 0.3702609\ttotal: 310ms\tremaining: 5.43s\n",
      "54:\tlearn: 0.3671276\ttotal: 313ms\tremaining: 5.38s\n",
      "55:\tlearn: 0.3637354\ttotal: 317ms\tremaining: 5.34s\n",
      "56:\tlearn: 0.3599389\ttotal: 320ms\tremaining: 5.29s\n",
      "57:\tlearn: 0.3568162\ttotal: 324ms\tremaining: 5.26s\n",
      "58:\tlearn: 0.3539793\ttotal: 327ms\tremaining: 5.22s\n",
      "59:\tlearn: 0.3512428\ttotal: 330ms\tremaining: 5.17s\n",
      "60:\tlearn: 0.3478174\ttotal: 333ms\tremaining: 5.12s\n",
      "61:\tlearn: 0.3450581\ttotal: 336ms\tremaining: 5.09s\n",
      "62:\tlearn: 0.3425597\ttotal: 339ms\tremaining: 5.05s\n",
      "63:\tlearn: 0.3394966\ttotal: 342ms\tremaining: 5.01s\n",
      "64:\tlearn: 0.3362017\ttotal: 345ms\tremaining: 4.96s\n",
      "65:\tlearn: 0.3334238\ttotal: 348ms\tremaining: 4.92s\n",
      "66:\tlearn: 0.3308673\ttotal: 352ms\tremaining: 4.89s\n",
      "67:\tlearn: 0.3280300\ttotal: 354ms\tremaining: 4.86s\n",
      "68:\tlearn: 0.3248523\ttotal: 357ms\tremaining: 4.82s\n",
      "69:\tlearn: 0.3229506\ttotal: 360ms\tremaining: 4.78s\n",
      "70:\tlearn: 0.3197856\ttotal: 363ms\tremaining: 4.75s\n",
      "71:\tlearn: 0.3172926\ttotal: 366ms\tremaining: 4.71s\n",
      "72:\tlearn: 0.3157679\ttotal: 369ms\tremaining: 4.68s\n",
      "73:\tlearn: 0.3129043\ttotal: 371ms\tremaining: 4.65s\n",
      "74:\tlearn: 0.3109281\ttotal: 374ms\tremaining: 4.61s\n",
      "75:\tlearn: 0.3086058\ttotal: 377ms\tremaining: 4.59s\n",
      "76:\tlearn: 0.3058542\ttotal: 380ms\tremaining: 4.55s\n",
      "77:\tlearn: 0.3039327\ttotal: 383ms\tremaining: 4.52s\n",
      "78:\tlearn: 0.3019101\ttotal: 386ms\tremaining: 4.5s\n",
      "79:\tlearn: 0.2994145\ttotal: 388ms\tremaining: 4.46s\n",
      "80:\tlearn: 0.2972994\ttotal: 391ms\tremaining: 4.44s\n",
      "81:\tlearn: 0.2949807\ttotal: 394ms\tremaining: 4.42s\n",
      "82:\tlearn: 0.2929117\ttotal: 397ms\tremaining: 4.39s\n",
      "83:\tlearn: 0.2905266\ttotal: 400ms\tremaining: 4.36s\n",
      "84:\tlearn: 0.2879994\ttotal: 403ms\tremaining: 4.34s\n",
      "85:\tlearn: 0.2859180\ttotal: 407ms\tremaining: 4.33s\n",
      "86:\tlearn: 0.2841858\ttotal: 410ms\tremaining: 4.3s\n",
      "87:\tlearn: 0.2820749\ttotal: 413ms\tremaining: 4.28s\n",
      "88:\tlearn: 0.2803008\ttotal: 416ms\tremaining: 4.26s\n",
      "89:\tlearn: 0.2785701\ttotal: 419ms\tremaining: 4.24s\n",
      "90:\tlearn: 0.2767503\ttotal: 423ms\tremaining: 4.22s\n",
      "91:\tlearn: 0.2751398\ttotal: 426ms\tremaining: 4.2s\n",
      "92:\tlearn: 0.2733172\ttotal: 429ms\tremaining: 4.19s\n",
      "93:\tlearn: 0.2712403\ttotal: 432ms\tremaining: 4.16s\n",
      "94:\tlearn: 0.2699616\ttotal: 437ms\tremaining: 4.16s\n",
      "95:\tlearn: 0.2687183\ttotal: 440ms\tremaining: 4.14s\n",
      "96:\tlearn: 0.2673129\ttotal: 442ms\tremaining: 4.12s\n",
      "97:\tlearn: 0.2655774\ttotal: 446ms\tremaining: 4.1s\n",
      "98:\tlearn: 0.2639398\ttotal: 449ms\tremaining: 4.09s\n",
      "99:\tlearn: 0.2620123\ttotal: 452ms\tremaining: 4.07s\n",
      "100:\tlearn: 0.2602878\ttotal: 455ms\tremaining: 4.05s\n",
      "101:\tlearn: 0.2585121\ttotal: 458ms\tremaining: 4.03s\n",
      "102:\tlearn: 0.2567267\ttotal: 461ms\tremaining: 4.01s\n",
      "103:\tlearn: 0.2552034\ttotal: 464ms\tremaining: 4s\n",
      "104:\tlearn: 0.2533831\ttotal: 468ms\tremaining: 3.99s\n",
      "105:\tlearn: 0.2522231\ttotal: 471ms\tremaining: 3.97s\n",
      "106:\tlearn: 0.2507115\ttotal: 474ms\tremaining: 3.96s\n",
      "107:\tlearn: 0.2491885\ttotal: 478ms\tremaining: 3.95s\n",
      "108:\tlearn: 0.2476757\ttotal: 482ms\tremaining: 3.94s\n",
      "109:\tlearn: 0.2460586\ttotal: 484ms\tremaining: 3.92s\n",
      "110:\tlearn: 0.2445680\ttotal: 488ms\tremaining: 3.9s\n",
      "111:\tlearn: 0.2435101\ttotal: 492ms\tremaining: 3.9s\n",
      "112:\tlearn: 0.2424043\ttotal: 494ms\tremaining: 3.88s\n",
      "113:\tlearn: 0.2410291\ttotal: 497ms\tremaining: 3.86s\n",
      "114:\tlearn: 0.2398281\ttotal: 500ms\tremaining: 3.85s\n",
      "115:\tlearn: 0.2385540\ttotal: 503ms\tremaining: 3.84s\n",
      "116:\tlearn: 0.2370498\ttotal: 507ms\tremaining: 3.83s\n",
      "117:\tlearn: 0.2358949\ttotal: 510ms\tremaining: 3.81s\n",
      "118:\tlearn: 0.2346648\ttotal: 513ms\tremaining: 3.8s\n",
      "119:\tlearn: 0.2334305\ttotal: 516ms\tremaining: 3.78s\n",
      "120:\tlearn: 0.2320869\ttotal: 520ms\tremaining: 3.78s\n",
      "121:\tlearn: 0.2306934\ttotal: 523ms\tremaining: 3.77s\n",
      "122:\tlearn: 0.2296929\ttotal: 526ms\tremaining: 3.75s\n",
      "123:\tlearn: 0.2287709\ttotal: 529ms\tremaining: 3.74s\n",
      "124:\tlearn: 0.2276976\ttotal: 532ms\tremaining: 3.73s\n",
      "125:\tlearn: 0.2266093\ttotal: 536ms\tremaining: 3.72s\n",
      "126:\tlearn: 0.2256852\ttotal: 539ms\tremaining: 3.71s\n",
      "127:\tlearn: 0.2244973\ttotal: 542ms\tremaining: 3.69s\n",
      "128:\tlearn: 0.2233598\ttotal: 546ms\tremaining: 3.68s\n",
      "129:\tlearn: 0.2223152\ttotal: 552ms\tremaining: 3.69s\n",
      "130:\tlearn: 0.2215002\ttotal: 557ms\tremaining: 3.69s\n",
      "131:\tlearn: 0.2204431\ttotal: 563ms\tremaining: 3.7s\n",
      "132:\tlearn: 0.2195695\ttotal: 566ms\tremaining: 3.69s\n",
      "133:\tlearn: 0.2186456\ttotal: 569ms\tremaining: 3.68s\n",
      "134:\tlearn: 0.2177274\ttotal: 572ms\tremaining: 3.67s\n",
      "135:\tlearn: 0.2167651\ttotal: 576ms\tremaining: 3.66s\n",
      "136:\tlearn: 0.2157663\ttotal: 579ms\tremaining: 3.65s\n",
      "137:\tlearn: 0.2147686\ttotal: 582ms\tremaining: 3.63s\n",
      "138:\tlearn: 0.2138403\ttotal: 585ms\tremaining: 3.62s\n",
      "139:\tlearn: 0.2129247\ttotal: 588ms\tremaining: 3.61s\n",
      "140:\tlearn: 0.2122797\ttotal: 592ms\tremaining: 3.6s\n",
      "141:\tlearn: 0.2112611\ttotal: 594ms\tremaining: 3.59s\n",
      "142:\tlearn: 0.2101993\ttotal: 597ms\tremaining: 3.58s\n",
      "143:\tlearn: 0.2090665\ttotal: 600ms\tremaining: 3.57s\n",
      "144:\tlearn: 0.2081982\ttotal: 605ms\tremaining: 3.57s\n",
      "145:\tlearn: 0.2073816\ttotal: 608ms\tremaining: 3.55s\n",
      "146:\tlearn: 0.2067096\ttotal: 610ms\tremaining: 3.54s\n",
      "147:\tlearn: 0.2059095\ttotal: 613ms\tremaining: 3.53s\n",
      "148:\tlearn: 0.2050068\ttotal: 618ms\tremaining: 3.53s\n",
      "149:\tlearn: 0.2040515\ttotal: 622ms\tremaining: 3.53s\n",
      "150:\tlearn: 0.2031314\ttotal: 626ms\tremaining: 3.52s\n",
      "151:\tlearn: 0.2025035\ttotal: 639ms\tremaining: 3.56s\n",
      "152:\tlearn: 0.2017675\ttotal: 650ms\tremaining: 3.6s\n",
      "153:\tlearn: 0.2009231\ttotal: 653ms\tremaining: 3.59s\n",
      "154:\tlearn: 0.2002974\ttotal: 657ms\tremaining: 3.58s\n",
      "155:\tlearn: 0.1996755\ttotal: 661ms\tremaining: 3.57s\n",
      "156:\tlearn: 0.1990843\ttotal: 664ms\tremaining: 3.57s\n",
      "157:\tlearn: 0.1983047\ttotal: 668ms\tremaining: 3.56s\n",
      "158:\tlearn: 0.1975029\ttotal: 671ms\tremaining: 3.55s\n",
      "159:\tlearn: 0.1968229\ttotal: 675ms\tremaining: 3.54s\n",
      "160:\tlearn: 0.1960879\ttotal: 678ms\tremaining: 3.54s\n",
      "161:\tlearn: 0.1955188\ttotal: 681ms\tremaining: 3.52s\n",
      "162:\tlearn: 0.1946796\ttotal: 685ms\tremaining: 3.52s\n",
      "163:\tlearn: 0.1940958\ttotal: 689ms\tremaining: 3.51s\n",
      "164:\tlearn: 0.1932526\ttotal: 692ms\tremaining: 3.5s\n",
      "165:\tlearn: 0.1925631\ttotal: 695ms\tremaining: 3.49s\n",
      "166:\tlearn: 0.1920896\ttotal: 699ms\tremaining: 3.48s\n",
      "167:\tlearn: 0.1914755\ttotal: 705ms\tremaining: 3.49s\n",
      "168:\tlearn: 0.1907129\ttotal: 708ms\tremaining: 3.48s\n",
      "169:\tlearn: 0.1900762\ttotal: 712ms\tremaining: 3.48s\n",
      "170:\tlearn: 0.1892938\ttotal: 720ms\tremaining: 3.49s\n",
      "171:\tlearn: 0.1884025\ttotal: 726ms\tremaining: 3.5s\n",
      "172:\tlearn: 0.1876458\ttotal: 736ms\tremaining: 3.52s\n",
      "173:\tlearn: 0.1870227\ttotal: 741ms\tremaining: 3.52s\n",
      "174:\tlearn: 0.1862451\ttotal: 745ms\tremaining: 3.51s\n",
      "175:\tlearn: 0.1856263\ttotal: 752ms\tremaining: 3.52s\n",
      "176:\tlearn: 0.1850098\ttotal: 755ms\tremaining: 3.51s\n",
      "177:\tlearn: 0.1843958\ttotal: 758ms\tremaining: 3.5s\n",
      "178:\tlearn: 0.1839767\ttotal: 762ms\tremaining: 3.49s\n",
      "179:\tlearn: 0.1835548\ttotal: 765ms\tremaining: 3.48s\n",
      "180:\tlearn: 0.1830378\ttotal: 769ms\tremaining: 3.48s\n",
      "181:\tlearn: 0.1825083\ttotal: 772ms\tremaining: 3.47s\n",
      "182:\tlearn: 0.1820626\ttotal: 780ms\tremaining: 3.48s\n",
      "183:\tlearn: 0.1815828\ttotal: 784ms\tremaining: 3.48s\n",
      "184:\tlearn: 0.1808668\ttotal: 788ms\tremaining: 3.47s\n",
      "185:\tlearn: 0.1803122\ttotal: 793ms\tremaining: 3.47s\n",
      "186:\tlearn: 0.1799593\ttotal: 797ms\tremaining: 3.46s\n",
      "187:\tlearn: 0.1792421\ttotal: 800ms\tremaining: 3.46s\n",
      "188:\tlearn: 0.1787268\ttotal: 805ms\tremaining: 3.45s\n",
      "189:\tlearn: 0.1782873\ttotal: 808ms\tremaining: 3.45s\n",
      "190:\tlearn: 0.1777212\ttotal: 812ms\tremaining: 3.44s\n",
      "191:\tlearn: 0.1772657\ttotal: 815ms\tremaining: 3.43s\n",
      "192:\tlearn: 0.1766066\ttotal: 818ms\tremaining: 3.42s\n",
      "193:\tlearn: 0.1762220\ttotal: 824ms\tremaining: 3.42s\n",
      "194:\tlearn: 0.1757733\ttotal: 827ms\tremaining: 3.41s\n",
      "195:\tlearn: 0.1753053\ttotal: 830ms\tremaining: 3.41s\n",
      "196:\tlearn: 0.1746613\ttotal: 837ms\tremaining: 3.41s\n",
      "197:\tlearn: 0.1742741\ttotal: 842ms\tremaining: 3.41s\n",
      "198:\tlearn: 0.1737256\ttotal: 845ms\tremaining: 3.4s\n",
      "199:\tlearn: 0.1731031\ttotal: 850ms\tremaining: 3.4s\n",
      "200:\tlearn: 0.1726187\ttotal: 853ms\tremaining: 3.39s\n",
      "201:\tlearn: 0.1720656\ttotal: 857ms\tremaining: 3.38s\n",
      "202:\tlearn: 0.1717077\ttotal: 860ms\tremaining: 3.38s\n",
      "203:\tlearn: 0.1710846\ttotal: 864ms\tremaining: 3.37s\n",
      "204:\tlearn: 0.1705506\ttotal: 867ms\tremaining: 3.36s\n",
      "205:\tlearn: 0.1699596\ttotal: 870ms\tremaining: 3.35s\n",
      "206:\tlearn: 0.1694691\ttotal: 873ms\tremaining: 3.34s\n",
      "207:\tlearn: 0.1689181\ttotal: 875ms\tremaining: 3.33s\n",
      "208:\tlearn: 0.1685428\ttotal: 879ms\tremaining: 3.33s\n",
      "209:\tlearn: 0.1680324\ttotal: 882ms\tremaining: 3.32s\n",
      "210:\tlearn: 0.1675625\ttotal: 884ms\tremaining: 3.31s\n",
      "211:\tlearn: 0.1671977\ttotal: 887ms\tremaining: 3.3s\n",
      "212:\tlearn: 0.1667655\ttotal: 891ms\tremaining: 3.29s\n",
      "213:\tlearn: 0.1663468\ttotal: 894ms\tremaining: 3.28s\n",
      "214:\tlearn: 0.1659627\ttotal: 896ms\tremaining: 3.27s\n",
      "215:\tlearn: 0.1654693\ttotal: 899ms\tremaining: 3.26s\n",
      "216:\tlearn: 0.1651983\ttotal: 902ms\tremaining: 3.25s\n",
      "217:\tlearn: 0.1647251\ttotal: 905ms\tremaining: 3.25s\n",
      "218:\tlearn: 0.1643381\ttotal: 909ms\tremaining: 3.24s\n",
      "219:\tlearn: 0.1638868\ttotal: 911ms\tremaining: 3.23s\n",
      "220:\tlearn: 0.1635032\ttotal: 914ms\tremaining: 3.22s\n",
      "221:\tlearn: 0.1632193\ttotal: 917ms\tremaining: 3.21s\n",
      "222:\tlearn: 0.1628769\ttotal: 920ms\tremaining: 3.21s\n",
      "223:\tlearn: 0.1623778\ttotal: 923ms\tremaining: 3.2s\n",
      "224:\tlearn: 0.1621006\ttotal: 926ms\tremaining: 3.19s\n",
      "225:\tlearn: 0.1617316\ttotal: 929ms\tremaining: 3.18s\n",
      "226:\tlearn: 0.1614511\ttotal: 933ms\tremaining: 3.17s\n",
      "227:\tlearn: 0.1609938\ttotal: 936ms\tremaining: 3.17s\n",
      "228:\tlearn: 0.1607501\ttotal: 938ms\tremaining: 3.16s\n",
      "229:\tlearn: 0.1602421\ttotal: 941ms\tremaining: 3.15s\n",
      "230:\tlearn: 0.1597754\ttotal: 944ms\tremaining: 3.14s\n",
      "231:\tlearn: 0.1595116\ttotal: 950ms\tremaining: 3.14s\n",
      "232:\tlearn: 0.1592434\ttotal: 952ms\tremaining: 3.13s\n",
      "233:\tlearn: 0.1588513\ttotal: 955ms\tremaining: 3.13s\n",
      "234:\tlearn: 0.1585409\ttotal: 959ms\tremaining: 3.12s\n",
      "235:\tlearn: 0.1582124\ttotal: 963ms\tremaining: 3.12s\n",
      "236:\tlearn: 0.1578926\ttotal: 966ms\tremaining: 3.11s\n",
      "237:\tlearn: 0.1575107\ttotal: 969ms\tremaining: 3.1s\n",
      "238:\tlearn: 0.1571424\ttotal: 971ms\tremaining: 3.09s\n",
      "239:\tlearn: 0.1568692\ttotal: 975ms\tremaining: 3.08s\n",
      "240:\tlearn: 0.1565733\ttotal: 978ms\tremaining: 3.08s\n",
      "241:\tlearn: 0.1562346\ttotal: 981ms\tremaining: 3.07s\n",
      "242:\tlearn: 0.1558626\ttotal: 985ms\tremaining: 3.07s\n",
      "243:\tlearn: 0.1554975\ttotal: 987ms\tremaining: 3.06s\n",
      "244:\tlearn: 0.1549815\ttotal: 993ms\tremaining: 3.06s\n",
      "245:\tlearn: 0.1546688\ttotal: 996ms\tremaining: 3.05s\n",
      "246:\tlearn: 0.1543594\ttotal: 999ms\tremaining: 3.04s\n",
      "247:\tlearn: 0.1540468\ttotal: 1s\tremaining: 3.05s\n",
      "248:\tlearn: 0.1537146\ttotal: 1.01s\tremaining: 3.04s\n",
      "249:\tlearn: 0.1533762\ttotal: 1.01s\tremaining: 3.04s\n",
      "250:\tlearn: 0.1530081\ttotal: 1.01s\tremaining: 3.03s\n",
      "251:\tlearn: 0.1527181\ttotal: 1.02s\tremaining: 3.03s\n",
      "252:\tlearn: 0.1522617\ttotal: 1.02s\tremaining: 3.02s\n",
      "253:\tlearn: 0.1519570\ttotal: 1.03s\tremaining: 3.02s\n",
      "254:\tlearn: 0.1516856\ttotal: 1.03s\tremaining: 3.01s\n",
      "255:\tlearn: 0.1514253\ttotal: 1.03s\tremaining: 3s\n",
      "256:\tlearn: 0.1511373\ttotal: 1.04s\tremaining: 3s\n",
      "257:\tlearn: 0.1508027\ttotal: 1.04s\tremaining: 2.99s\n",
      "258:\tlearn: 0.1505933\ttotal: 1.04s\tremaining: 2.98s\n",
      "259:\tlearn: 0.1502306\ttotal: 1.04s\tremaining: 2.97s\n",
      "260:\tlearn: 0.1499373\ttotal: 1.05s\tremaining: 2.97s\n",
      "261:\tlearn: 0.1496710\ttotal: 1.05s\tremaining: 2.96s\n",
      "262:\tlearn: 0.1493991\ttotal: 1.05s\tremaining: 2.95s\n",
      "263:\tlearn: 0.1491373\ttotal: 1.06s\tremaining: 2.95s\n",
      "264:\tlearn: 0.1487553\ttotal: 1.06s\tremaining: 2.94s\n",
      "265:\tlearn: 0.1484919\ttotal: 1.06s\tremaining: 2.93s\n",
      "266:\tlearn: 0.1481116\ttotal: 1.07s\tremaining: 2.93s\n",
      "267:\tlearn: 0.1477719\ttotal: 1.07s\tremaining: 2.92s\n",
      "268:\tlearn: 0.1475379\ttotal: 1.07s\tremaining: 2.91s\n",
      "269:\tlearn: 0.1470918\ttotal: 1.07s\tremaining: 2.9s\n",
      "270:\tlearn: 0.1467676\ttotal: 1.08s\tremaining: 2.9s\n",
      "271:\tlearn: 0.1464759\ttotal: 1.08s\tremaining: 2.89s\n",
      "272:\tlearn: 0.1461535\ttotal: 1.08s\tremaining: 2.88s\n",
      "273:\tlearn: 0.1458582\ttotal: 1.09s\tremaining: 2.88s\n",
      "274:\tlearn: 0.1455483\ttotal: 1.09s\tremaining: 2.87s\n",
      "275:\tlearn: 0.1452280\ttotal: 1.09s\tremaining: 2.86s\n",
      "276:\tlearn: 0.1449922\ttotal: 1.09s\tremaining: 2.86s\n",
      "277:\tlearn: 0.1446879\ttotal: 1.1s\tremaining: 2.85s\n",
      "278:\tlearn: 0.1443883\ttotal: 1.1s\tremaining: 2.84s\n",
      "279:\tlearn: 0.1440448\ttotal: 1.1s\tremaining: 2.84s\n",
      "280:\tlearn: 0.1437886\ttotal: 1.11s\tremaining: 2.83s\n",
      "281:\tlearn: 0.1435695\ttotal: 1.11s\tremaining: 2.83s\n",
      "282:\tlearn: 0.1433215\ttotal: 1.11s\tremaining: 2.82s\n",
      "283:\tlearn: 0.1430474\ttotal: 1.12s\tremaining: 2.81s\n",
      "284:\tlearn: 0.1427415\ttotal: 1.12s\tremaining: 2.81s\n",
      "285:\tlearn: 0.1425326\ttotal: 1.12s\tremaining: 2.8s\n",
      "286:\tlearn: 0.1422728\ttotal: 1.12s\tremaining: 2.79s\n",
      "287:\tlearn: 0.1421188\ttotal: 1.13s\tremaining: 2.79s\n",
      "288:\tlearn: 0.1418239\ttotal: 1.13s\tremaining: 2.78s\n",
      "289:\tlearn: 0.1415409\ttotal: 1.13s\tremaining: 2.77s\n",
      "290:\tlearn: 0.1413073\ttotal: 1.14s\tremaining: 2.77s\n",
      "291:\tlearn: 0.1411817\ttotal: 1.14s\tremaining: 2.76s\n",
      "292:\tlearn: 0.1409930\ttotal: 1.14s\tremaining: 2.75s\n",
      "293:\tlearn: 0.1407329\ttotal: 1.14s\tremaining: 2.75s\n",
      "294:\tlearn: 0.1405178\ttotal: 1.15s\tremaining: 2.74s\n",
      "295:\tlearn: 0.1403207\ttotal: 1.15s\tremaining: 2.73s\n",
      "296:\tlearn: 0.1400229\ttotal: 1.15s\tremaining: 2.73s\n",
      "297:\tlearn: 0.1397234\ttotal: 1.16s\tremaining: 2.72s\n",
      "298:\tlearn: 0.1394714\ttotal: 1.16s\tremaining: 2.72s\n",
      "299:\tlearn: 0.1392935\ttotal: 1.16s\tremaining: 2.71s\n",
      "300:\tlearn: 0.1390432\ttotal: 1.17s\tremaining: 2.71s\n",
      "301:\tlearn: 0.1387819\ttotal: 1.17s\tremaining: 2.7s\n",
      "302:\tlearn: 0.1385574\ttotal: 1.17s\tremaining: 2.69s\n",
      "303:\tlearn: 0.1382803\ttotal: 1.18s\tremaining: 2.69s\n",
      "304:\tlearn: 0.1380136\ttotal: 1.18s\tremaining: 2.69s\n",
      "305:\tlearn: 0.1377893\ttotal: 1.18s\tremaining: 2.68s\n",
      "306:\tlearn: 0.1375538\ttotal: 1.19s\tremaining: 2.67s\n",
      "307:\tlearn: 0.1373840\ttotal: 1.19s\tremaining: 2.67s\n",
      "308:\tlearn: 0.1371605\ttotal: 1.19s\tremaining: 2.66s\n",
      "309:\tlearn: 0.1370002\ttotal: 1.19s\tremaining: 2.66s\n",
      "310:\tlearn: 0.1368408\ttotal: 1.2s\tremaining: 2.65s\n",
      "311:\tlearn: 0.1366749\ttotal: 1.2s\tremaining: 2.65s\n",
      "312:\tlearn: 0.1364191\ttotal: 1.2s\tremaining: 2.64s\n",
      "313:\tlearn: 0.1361585\ttotal: 1.21s\tremaining: 2.64s\n",
      "314:\tlearn: 0.1359750\ttotal: 1.21s\tremaining: 2.63s\n",
      "315:\tlearn: 0.1357963\ttotal: 1.21s\tremaining: 2.63s\n",
      "316:\tlearn: 0.1354925\ttotal: 1.22s\tremaining: 2.62s\n",
      "317:\tlearn: 0.1353027\ttotal: 1.22s\tremaining: 2.62s\n",
      "318:\tlearn: 0.1350507\ttotal: 1.22s\tremaining: 2.61s\n",
      "319:\tlearn: 0.1348872\ttotal: 1.23s\tremaining: 2.61s\n",
      "320:\tlearn: 0.1346517\ttotal: 1.24s\tremaining: 2.62s\n",
      "321:\tlearn: 0.1343310\ttotal: 1.31s\tremaining: 2.75s\n",
      "322:\tlearn: 0.1340612\ttotal: 1.32s\tremaining: 2.76s\n",
      "323:\tlearn: 0.1339326\ttotal: 1.33s\tremaining: 2.77s\n",
      "324:\tlearn: 0.1337566\ttotal: 1.33s\tremaining: 2.77s\n",
      "325:\tlearn: 0.1335530\ttotal: 1.33s\tremaining: 2.76s\n",
      "326:\tlearn: 0.1334204\ttotal: 1.34s\tremaining: 2.76s\n",
      "327:\tlearn: 0.1331888\ttotal: 1.34s\tremaining: 2.76s\n",
      "328:\tlearn: 0.1329656\ttotal: 1.35s\tremaining: 2.75s\n",
      "329:\tlearn: 0.1326970\ttotal: 1.35s\tremaining: 2.75s\n",
      "330:\tlearn: 0.1325196\ttotal: 1.36s\tremaining: 2.74s\n",
      "331:\tlearn: 0.1322888\ttotal: 1.36s\tremaining: 2.74s\n",
      "332:\tlearn: 0.1319165\ttotal: 1.36s\tremaining: 2.73s\n",
      "333:\tlearn: 0.1316501\ttotal: 1.37s\tremaining: 2.73s\n",
      "334:\tlearn: 0.1313891\ttotal: 1.37s\tremaining: 2.73s\n",
      "335:\tlearn: 0.1311456\ttotal: 1.38s\tremaining: 2.72s\n",
      "336:\tlearn: 0.1310000\ttotal: 1.38s\tremaining: 2.72s\n",
      "337:\tlearn: 0.1306893\ttotal: 1.39s\tremaining: 2.72s\n",
      "338:\tlearn: 0.1304767\ttotal: 1.39s\tremaining: 2.71s\n",
      "339:\tlearn: 0.1303055\ttotal: 1.4s\tremaining: 2.71s\n",
      "340:\tlearn: 0.1301034\ttotal: 1.4s\tremaining: 2.71s\n",
      "341:\tlearn: 0.1299149\ttotal: 1.41s\tremaining: 2.7s\n",
      "342:\tlearn: 0.1297797\ttotal: 1.41s\tremaining: 2.7s\n",
      "343:\tlearn: 0.1297065\ttotal: 1.41s\tremaining: 2.69s\n",
      "344:\tlearn: 0.1294812\ttotal: 1.42s\tremaining: 2.69s\n",
      "345:\tlearn: 0.1292980\ttotal: 1.42s\tremaining: 2.68s\n",
      "346:\tlearn: 0.1290972\ttotal: 1.42s\tremaining: 2.68s\n",
      "347:\tlearn: 0.1288968\ttotal: 1.43s\tremaining: 2.67s\n",
      "348:\tlearn: 0.1287107\ttotal: 1.43s\tremaining: 2.67s\n",
      "349:\tlearn: 0.1286111\ttotal: 1.43s\tremaining: 2.66s\n",
      "350:\tlearn: 0.1284646\ttotal: 1.44s\tremaining: 2.65s\n",
      "351:\tlearn: 0.1283017\ttotal: 1.44s\tremaining: 2.65s\n",
      "352:\tlearn: 0.1281208\ttotal: 1.44s\tremaining: 2.65s\n",
      "353:\tlearn: 0.1279579\ttotal: 1.45s\tremaining: 2.64s\n",
      "354:\tlearn: 0.1277856\ttotal: 1.45s\tremaining: 2.64s\n",
      "355:\tlearn: 0.1276522\ttotal: 1.46s\tremaining: 2.64s\n",
      "356:\tlearn: 0.1275045\ttotal: 1.46s\tremaining: 2.63s\n",
      "357:\tlearn: 0.1273643\ttotal: 1.46s\tremaining: 2.63s\n",
      "358:\tlearn: 0.1272657\ttotal: 1.47s\tremaining: 2.63s\n",
      "359:\tlearn: 0.1270806\ttotal: 1.47s\tremaining: 2.62s\n",
      "360:\tlearn: 0.1269370\ttotal: 1.48s\tremaining: 2.61s\n",
      "361:\tlearn: 0.1268275\ttotal: 1.48s\tremaining: 2.61s\n",
      "362:\tlearn: 0.1266918\ttotal: 1.49s\tremaining: 2.61s\n",
      "363:\tlearn: 0.1264261\ttotal: 1.49s\tremaining: 2.61s\n",
      "364:\tlearn: 0.1261730\ttotal: 1.49s\tremaining: 2.6s\n",
      "365:\tlearn: 0.1260654\ttotal: 1.5s\tremaining: 2.6s\n",
      "366:\tlearn: 0.1258840\ttotal: 1.5s\tremaining: 2.59s\n",
      "367:\tlearn: 0.1256957\ttotal: 1.51s\tremaining: 2.59s\n",
      "368:\tlearn: 0.1254951\ttotal: 1.51s\tremaining: 2.59s\n",
      "369:\tlearn: 0.1252675\ttotal: 1.52s\tremaining: 2.59s\n",
      "370:\tlearn: 0.1250904\ttotal: 1.52s\tremaining: 2.58s\n",
      "371:\tlearn: 0.1248029\ttotal: 1.52s\tremaining: 2.57s\n",
      "372:\tlearn: 0.1245961\ttotal: 1.53s\tremaining: 2.57s\n",
      "373:\tlearn: 0.1244219\ttotal: 1.53s\tremaining: 2.57s\n",
      "374:\tlearn: 0.1242137\ttotal: 1.54s\tremaining: 2.56s\n",
      "375:\tlearn: 0.1240004\ttotal: 1.54s\tremaining: 2.56s\n",
      "376:\tlearn: 0.1237835\ttotal: 1.54s\tremaining: 2.55s\n",
      "377:\tlearn: 0.1236176\ttotal: 1.55s\tremaining: 2.55s\n",
      "378:\tlearn: 0.1232723\ttotal: 1.55s\tremaining: 2.54s\n",
      "379:\tlearn: 0.1230725\ttotal: 1.56s\tremaining: 2.54s\n",
      "380:\tlearn: 0.1229098\ttotal: 1.56s\tremaining: 2.53s\n",
      "381:\tlearn: 0.1227712\ttotal: 1.56s\tremaining: 2.53s\n",
      "382:\tlearn: 0.1225766\ttotal: 1.56s\tremaining: 2.52s\n",
      "383:\tlearn: 0.1224403\ttotal: 1.57s\tremaining: 2.52s\n",
      "384:\tlearn: 0.1222441\ttotal: 1.57s\tremaining: 2.51s\n",
      "385:\tlearn: 0.1221271\ttotal: 1.58s\tremaining: 2.51s\n",
      "386:\tlearn: 0.1219684\ttotal: 1.58s\tremaining: 2.5s\n",
      "387:\tlearn: 0.1217784\ttotal: 1.58s\tremaining: 2.5s\n",
      "388:\tlearn: 0.1215945\ttotal: 1.59s\tremaining: 2.49s\n",
      "389:\tlearn: 0.1213955\ttotal: 1.59s\tremaining: 2.49s\n",
      "390:\tlearn: 0.1212521\ttotal: 1.59s\tremaining: 2.48s\n",
      "391:\tlearn: 0.1210607\ttotal: 1.6s\tremaining: 2.48s\n",
      "392:\tlearn: 0.1208736\ttotal: 1.6s\tremaining: 2.47s\n",
      "393:\tlearn: 0.1207175\ttotal: 1.6s\tremaining: 2.46s\n",
      "394:\tlearn: 0.1205778\ttotal: 1.6s\tremaining: 2.46s\n",
      "395:\tlearn: 0.1204960\ttotal: 1.61s\tremaining: 2.45s\n",
      "396:\tlearn: 0.1203634\ttotal: 1.61s\tremaining: 2.45s\n",
      "397:\tlearn: 0.1202158\ttotal: 1.61s\tremaining: 2.44s\n",
      "398:\tlearn: 0.1201124\ttotal: 1.62s\tremaining: 2.44s\n",
      "399:\tlearn: 0.1199151\ttotal: 1.62s\tremaining: 2.43s\n",
      "400:\tlearn: 0.1197956\ttotal: 1.63s\tremaining: 2.43s\n",
      "401:\tlearn: 0.1197003\ttotal: 1.63s\tremaining: 2.42s\n",
      "402:\tlearn: 0.1195053\ttotal: 1.64s\tremaining: 2.43s\n",
      "403:\tlearn: 0.1193671\ttotal: 1.65s\tremaining: 2.43s\n",
      "404:\tlearn: 0.1192510\ttotal: 1.66s\tremaining: 2.43s\n",
      "405:\tlearn: 0.1190873\ttotal: 1.66s\tremaining: 2.43s\n",
      "406:\tlearn: 0.1189692\ttotal: 1.67s\tremaining: 2.43s\n",
      "407:\tlearn: 0.1188460\ttotal: 1.68s\tremaining: 2.44s\n",
      "408:\tlearn: 0.1185958\ttotal: 1.68s\tremaining: 2.43s\n",
      "409:\tlearn: 0.1184658\ttotal: 1.69s\tremaining: 2.43s\n",
      "410:\tlearn: 0.1183531\ttotal: 1.69s\tremaining: 2.42s\n",
      "411:\tlearn: 0.1182388\ttotal: 1.69s\tremaining: 2.42s\n",
      "412:\tlearn: 0.1180671\ttotal: 1.7s\tremaining: 2.41s\n",
      "413:\tlearn: 0.1178463\ttotal: 1.7s\tremaining: 2.4s\n",
      "414:\tlearn: 0.1176832\ttotal: 1.7s\tremaining: 2.4s\n",
      "415:\tlearn: 0.1174840\ttotal: 1.7s\tremaining: 2.39s\n",
      "416:\tlearn: 0.1173414\ttotal: 1.71s\tremaining: 2.39s\n",
      "417:\tlearn: 0.1172699\ttotal: 1.71s\tremaining: 2.38s\n",
      "418:\tlearn: 0.1171377\ttotal: 1.71s\tremaining: 2.38s\n",
      "419:\tlearn: 0.1169982\ttotal: 1.72s\tremaining: 2.37s\n",
      "420:\tlearn: 0.1168411\ttotal: 1.72s\tremaining: 2.36s\n",
      "421:\tlearn: 0.1167510\ttotal: 1.72s\tremaining: 2.36s\n",
      "422:\tlearn: 0.1165112\ttotal: 1.73s\tremaining: 2.35s\n",
      "423:\tlearn: 0.1164272\ttotal: 1.73s\tremaining: 2.35s\n",
      "424:\tlearn: 0.1163081\ttotal: 1.73s\tremaining: 2.34s\n",
      "425:\tlearn: 0.1161512\ttotal: 1.74s\tremaining: 2.34s\n",
      "426:\tlearn: 0.1159984\ttotal: 1.74s\tremaining: 2.33s\n",
      "427:\tlearn: 0.1158422\ttotal: 1.74s\tremaining: 2.33s\n",
      "428:\tlearn: 0.1156419\ttotal: 1.74s\tremaining: 2.32s\n",
      "429:\tlearn: 0.1155856\ttotal: 1.75s\tremaining: 2.32s\n",
      "430:\tlearn: 0.1155257\ttotal: 1.75s\tremaining: 2.31s\n",
      "431:\tlearn: 0.1153561\ttotal: 1.75s\tremaining: 2.3s\n",
      "432:\tlearn: 0.1151786\ttotal: 1.76s\tremaining: 2.3s\n",
      "433:\tlearn: 0.1150403\ttotal: 1.76s\tremaining: 2.29s\n",
      "434:\tlearn: 0.1149331\ttotal: 1.76s\tremaining: 2.29s\n",
      "435:\tlearn: 0.1147958\ttotal: 1.76s\tremaining: 2.28s\n",
      "436:\tlearn: 0.1146255\ttotal: 1.77s\tremaining: 2.28s\n",
      "437:\tlearn: 0.1144677\ttotal: 1.77s\tremaining: 2.27s\n",
      "438:\tlearn: 0.1143104\ttotal: 1.77s\tremaining: 2.27s\n",
      "439:\tlearn: 0.1141920\ttotal: 1.78s\tremaining: 2.26s\n",
      "440:\tlearn: 0.1140564\ttotal: 1.78s\tremaining: 2.25s\n",
      "441:\tlearn: 0.1139403\ttotal: 1.78s\tremaining: 2.25s\n",
      "442:\tlearn: 0.1138132\ttotal: 1.79s\tremaining: 2.25s\n",
      "443:\tlearn: 0.1136357\ttotal: 1.79s\tremaining: 2.24s\n",
      "444:\tlearn: 0.1135448\ttotal: 1.79s\tremaining: 2.23s\n",
      "445:\tlearn: 0.1133907\ttotal: 1.79s\tremaining: 2.23s\n",
      "446:\tlearn: 0.1132484\ttotal: 1.8s\tremaining: 2.23s\n",
      "447:\tlearn: 0.1131369\ttotal: 1.8s\tremaining: 2.22s\n",
      "448:\tlearn: 0.1130181\ttotal: 1.8s\tremaining: 2.21s\n",
      "449:\tlearn: 0.1128232\ttotal: 1.81s\tremaining: 2.21s\n",
      "450:\tlearn: 0.1126385\ttotal: 1.82s\tremaining: 2.21s\n",
      "451:\tlearn: 0.1125256\ttotal: 1.82s\tremaining: 2.21s\n",
      "452:\tlearn: 0.1123788\ttotal: 1.82s\tremaining: 2.2s\n",
      "453:\tlearn: 0.1122757\ttotal: 1.82s\tremaining: 2.19s\n",
      "454:\tlearn: 0.1121602\ttotal: 1.83s\tremaining: 2.19s\n",
      "455:\tlearn: 0.1120668\ttotal: 1.83s\tremaining: 2.19s\n",
      "456:\tlearn: 0.1119299\ttotal: 1.83s\tremaining: 2.18s\n",
      "457:\tlearn: 0.1117591\ttotal: 1.84s\tremaining: 2.17s\n",
      "458:\tlearn: 0.1116449\ttotal: 1.84s\tremaining: 2.17s\n",
      "459:\tlearn: 0.1114871\ttotal: 1.84s\tremaining: 2.16s\n",
      "460:\tlearn: 0.1113507\ttotal: 1.84s\tremaining: 2.16s\n",
      "461:\tlearn: 0.1112535\ttotal: 1.85s\tremaining: 2.15s\n",
      "462:\tlearn: 0.1111116\ttotal: 1.85s\tremaining: 2.15s\n",
      "463:\tlearn: 0.1109916\ttotal: 1.85s\tremaining: 2.14s\n",
      "464:\tlearn: 0.1109432\ttotal: 1.86s\tremaining: 2.13s\n",
      "465:\tlearn: 0.1107684\ttotal: 1.86s\tremaining: 2.13s\n",
      "466:\tlearn: 0.1106592\ttotal: 1.86s\tremaining: 2.12s\n",
      "467:\tlearn: 0.1104722\ttotal: 1.86s\tremaining: 2.12s\n",
      "468:\tlearn: 0.1103541\ttotal: 1.87s\tremaining: 2.11s\n",
      "469:\tlearn: 0.1102163\ttotal: 1.87s\tremaining: 2.11s\n",
      "470:\tlearn: 0.1100787\ttotal: 1.87s\tremaining: 2.1s\n",
      "471:\tlearn: 0.1099645\ttotal: 1.88s\tremaining: 2.1s\n",
      "472:\tlearn: 0.1098695\ttotal: 1.88s\tremaining: 2.09s\n",
      "473:\tlearn: 0.1097932\ttotal: 1.88s\tremaining: 2.09s\n",
      "474:\tlearn: 0.1097093\ttotal: 1.88s\tremaining: 2.08s\n",
      "475:\tlearn: 0.1096661\ttotal: 1.89s\tremaining: 2.08s\n",
      "476:\tlearn: 0.1095094\ttotal: 1.89s\tremaining: 2.07s\n",
      "477:\tlearn: 0.1093883\ttotal: 1.89s\tremaining: 2.07s\n",
      "478:\tlearn: 0.1092611\ttotal: 1.89s\tremaining: 2.06s\n",
      "479:\tlearn: 0.1091055\ttotal: 1.9s\tremaining: 2.06s\n",
      "480:\tlearn: 0.1088364\ttotal: 1.9s\tremaining: 2.05s\n",
      "481:\tlearn: 0.1087268\ttotal: 1.9s\tremaining: 2.04s\n",
      "482:\tlearn: 0.1085200\ttotal: 1.91s\tremaining: 2.04s\n",
      "483:\tlearn: 0.1084301\ttotal: 1.91s\tremaining: 2.03s\n",
      "484:\tlearn: 0.1083493\ttotal: 1.91s\tremaining: 2.03s\n",
      "485:\tlearn: 0.1081901\ttotal: 1.91s\tremaining: 2.02s\n",
      "486:\tlearn: 0.1080844\ttotal: 1.92s\tremaining: 2.02s\n",
      "487:\tlearn: 0.1079872\ttotal: 1.92s\tremaining: 2.01s\n",
      "488:\tlearn: 0.1078494\ttotal: 1.92s\tremaining: 2.01s\n",
      "489:\tlearn: 0.1077901\ttotal: 1.93s\tremaining: 2s\n",
      "490:\tlearn: 0.1076421\ttotal: 1.93s\tremaining: 2s\n",
      "491:\tlearn: 0.1075118\ttotal: 1.93s\tremaining: 1.99s\n",
      "492:\tlearn: 0.1073903\ttotal: 1.93s\tremaining: 1.99s\n",
      "493:\tlearn: 0.1072870\ttotal: 1.94s\tremaining: 1.98s\n",
      "494:\tlearn: 0.1071962\ttotal: 1.94s\tremaining: 1.98s\n",
      "495:\tlearn: 0.1070999\ttotal: 1.94s\tremaining: 1.98s\n",
      "496:\tlearn: 0.1070455\ttotal: 1.95s\tremaining: 1.97s\n",
      "497:\tlearn: 0.1069594\ttotal: 1.95s\tremaining: 1.97s\n",
      "498:\tlearn: 0.1068215\ttotal: 1.96s\tremaining: 1.96s\n",
      "499:\tlearn: 0.1067514\ttotal: 1.96s\tremaining: 1.96s\n",
      "500:\tlearn: 0.1066245\ttotal: 1.96s\tremaining: 1.96s\n",
      "501:\tlearn: 0.1065143\ttotal: 1.97s\tremaining: 1.95s\n",
      "502:\tlearn: 0.1063240\ttotal: 1.97s\tremaining: 1.95s\n",
      "503:\tlearn: 0.1062274\ttotal: 1.97s\tremaining: 1.94s\n",
      "504:\tlearn: 0.1060852\ttotal: 1.98s\tremaining: 1.94s\n",
      "505:\tlearn: 0.1059987\ttotal: 1.98s\tremaining: 1.93s\n",
      "506:\tlearn: 0.1058401\ttotal: 1.98s\tremaining: 1.93s\n",
      "507:\tlearn: 0.1057456\ttotal: 1.99s\tremaining: 1.92s\n",
      "508:\tlearn: 0.1056111\ttotal: 1.99s\tremaining: 1.92s\n",
      "509:\tlearn: 0.1055092\ttotal: 1.99s\tremaining: 1.91s\n",
      "510:\tlearn: 0.1053930\ttotal: 2s\tremaining: 1.91s\n",
      "511:\tlearn: 0.1053006\ttotal: 2s\tremaining: 1.9s\n",
      "512:\tlearn: 0.1052137\ttotal: 2s\tremaining: 1.9s\n",
      "513:\tlearn: 0.1051353\ttotal: 2s\tremaining: 1.9s\n",
      "514:\tlearn: 0.1049882\ttotal: 2.01s\tremaining: 1.89s\n",
      "515:\tlearn: 0.1049219\ttotal: 2.01s\tremaining: 1.88s\n",
      "516:\tlearn: 0.1047833\ttotal: 2.01s\tremaining: 1.88s\n",
      "517:\tlearn: 0.1046688\ttotal: 2.02s\tremaining: 1.88s\n",
      "518:\tlearn: 0.1045909\ttotal: 2.02s\tremaining: 1.87s\n",
      "519:\tlearn: 0.1045030\ttotal: 2.02s\tremaining: 1.86s\n",
      "520:\tlearn: 0.1043964\ttotal: 2.02s\tremaining: 1.86s\n",
      "521:\tlearn: 0.1042912\ttotal: 2.03s\tremaining: 1.85s\n",
      "522:\tlearn: 0.1042047\ttotal: 2.03s\tremaining: 1.85s\n",
      "523:\tlearn: 0.1040883\ttotal: 2.03s\tremaining: 1.84s\n",
      "524:\tlearn: 0.1038955\ttotal: 2.03s\tremaining: 1.84s\n",
      "525:\tlearn: 0.1037623\ttotal: 2.04s\tremaining: 1.83s\n",
      "526:\tlearn: 0.1035991\ttotal: 2.04s\tremaining: 1.83s\n",
      "527:\tlearn: 0.1035301\ttotal: 2.04s\tremaining: 1.82s\n",
      "528:\tlearn: 0.1034779\ttotal: 2.04s\tremaining: 1.82s\n",
      "529:\tlearn: 0.1033944\ttotal: 2.05s\tremaining: 1.82s\n",
      "530:\tlearn: 0.1032854\ttotal: 2.05s\tremaining: 1.81s\n",
      "531:\tlearn: 0.1031192\ttotal: 2.05s\tremaining: 1.81s\n",
      "532:\tlearn: 0.1030287\ttotal: 2.06s\tremaining: 1.8s\n",
      "533:\tlearn: 0.1028994\ttotal: 2.06s\tremaining: 1.8s\n",
      "534:\tlearn: 0.1028152\ttotal: 2.06s\tremaining: 1.79s\n",
      "535:\tlearn: 0.1026944\ttotal: 2.06s\tremaining: 1.79s\n",
      "536:\tlearn: 0.1025842\ttotal: 2.07s\tremaining: 1.78s\n",
      "537:\tlearn: 0.1024719\ttotal: 2.07s\tremaining: 1.78s\n",
      "538:\tlearn: 0.1024351\ttotal: 2.07s\tremaining: 1.77s\n",
      "539:\tlearn: 0.1023015\ttotal: 2.08s\tremaining: 1.77s\n",
      "540:\tlearn: 0.1021883\ttotal: 2.08s\tremaining: 1.76s\n",
      "541:\tlearn: 0.1021083\ttotal: 2.08s\tremaining: 1.76s\n",
      "542:\tlearn: 0.1020322\ttotal: 2.08s\tremaining: 1.75s\n",
      "543:\tlearn: 0.1019368\ttotal: 2.09s\tremaining: 1.75s\n",
      "544:\tlearn: 0.1017917\ttotal: 2.09s\tremaining: 1.74s\n",
      "545:\tlearn: 0.1017013\ttotal: 2.09s\tremaining: 1.74s\n",
      "546:\tlearn: 0.1016001\ttotal: 2.1s\tremaining: 1.74s\n",
      "547:\tlearn: 0.1015126\ttotal: 2.1s\tremaining: 1.73s\n",
      "548:\tlearn: 0.1014059\ttotal: 2.1s\tremaining: 1.73s\n",
      "549:\tlearn: 0.1013370\ttotal: 2.1s\tremaining: 1.72s\n",
      "550:\tlearn: 0.1012744\ttotal: 2.11s\tremaining: 1.72s\n",
      "551:\tlearn: 0.1011744\ttotal: 2.11s\tremaining: 1.71s\n",
      "552:\tlearn: 0.1010647\ttotal: 2.11s\tremaining: 1.71s\n",
      "553:\tlearn: 0.1009605\ttotal: 2.12s\tremaining: 1.7s\n",
      "554:\tlearn: 0.1008697\ttotal: 2.12s\tremaining: 1.7s\n",
      "555:\tlearn: 0.1008002\ttotal: 2.12s\tremaining: 1.7s\n",
      "556:\tlearn: 0.1007344\ttotal: 2.13s\tremaining: 1.69s\n",
      "557:\tlearn: 0.1006436\ttotal: 2.13s\tremaining: 1.69s\n",
      "558:\tlearn: 0.1006257\ttotal: 2.13s\tremaining: 1.68s\n",
      "559:\tlearn: 0.1005513\ttotal: 2.13s\tremaining: 1.68s\n",
      "560:\tlearn: 0.1004537\ttotal: 2.14s\tremaining: 1.67s\n",
      "561:\tlearn: 0.1003248\ttotal: 2.14s\tremaining: 1.67s\n",
      "562:\tlearn: 0.1001182\ttotal: 2.15s\tremaining: 1.67s\n",
      "563:\tlearn: 0.1000465\ttotal: 2.15s\tremaining: 1.66s\n",
      "564:\tlearn: 0.0999579\ttotal: 2.15s\tremaining: 1.66s\n",
      "565:\tlearn: 0.0999005\ttotal: 2.15s\tremaining: 1.65s\n",
      "566:\tlearn: 0.0998437\ttotal: 2.16s\tremaining: 1.65s\n",
      "567:\tlearn: 0.0996885\ttotal: 2.17s\tremaining: 1.65s\n",
      "568:\tlearn: 0.0995768\ttotal: 2.17s\tremaining: 1.64s\n",
      "569:\tlearn: 0.0994848\ttotal: 2.17s\tremaining: 1.64s\n",
      "570:\tlearn: 0.0993341\ttotal: 2.18s\tremaining: 1.64s\n",
      "571:\tlearn: 0.0992173\ttotal: 2.18s\tremaining: 1.63s\n",
      "572:\tlearn: 0.0991097\ttotal: 2.18s\tremaining: 1.63s\n",
      "573:\tlearn: 0.0990423\ttotal: 2.19s\tremaining: 1.62s\n",
      "574:\tlearn: 0.0989153\ttotal: 2.19s\tremaining: 1.62s\n",
      "575:\tlearn: 0.0988346\ttotal: 2.19s\tremaining: 1.61s\n",
      "576:\tlearn: 0.0986982\ttotal: 2.19s\tremaining: 1.61s\n",
      "577:\tlearn: 0.0985639\ttotal: 2.2s\tremaining: 1.6s\n",
      "578:\tlearn: 0.0984359\ttotal: 2.2s\tremaining: 1.6s\n",
      "579:\tlearn: 0.0983718\ttotal: 2.2s\tremaining: 1.59s\n",
      "580:\tlearn: 0.0982525\ttotal: 2.21s\tremaining: 1.59s\n",
      "581:\tlearn: 0.0981656\ttotal: 2.21s\tremaining: 1.59s\n",
      "582:\tlearn: 0.0980444\ttotal: 2.21s\tremaining: 1.58s\n",
      "583:\tlearn: 0.0979578\ttotal: 2.21s\tremaining: 1.58s\n",
      "584:\tlearn: 0.0977953\ttotal: 2.22s\tremaining: 1.57s\n",
      "585:\tlearn: 0.0976362\ttotal: 2.22s\tremaining: 1.57s\n",
      "586:\tlearn: 0.0975694\ttotal: 2.22s\tremaining: 1.56s\n",
      "587:\tlearn: 0.0974485\ttotal: 2.22s\tremaining: 1.56s\n",
      "588:\tlearn: 0.0974098\ttotal: 2.23s\tremaining: 1.55s\n",
      "589:\tlearn: 0.0973120\ttotal: 2.23s\tremaining: 1.55s\n",
      "590:\tlearn: 0.0972511\ttotal: 2.23s\tremaining: 1.54s\n",
      "591:\tlearn: 0.0971700\ttotal: 2.24s\tremaining: 1.54s\n",
      "592:\tlearn: 0.0970556\ttotal: 2.24s\tremaining: 1.54s\n",
      "593:\tlearn: 0.0970032\ttotal: 2.24s\tremaining: 1.53s\n",
      "594:\tlearn: 0.0968326\ttotal: 2.25s\tremaining: 1.53s\n",
      "595:\tlearn: 0.0967778\ttotal: 2.25s\tremaining: 1.52s\n",
      "596:\tlearn: 0.0967055\ttotal: 2.25s\tremaining: 1.52s\n",
      "597:\tlearn: 0.0966068\ttotal: 2.25s\tremaining: 1.51s\n",
      "598:\tlearn: 0.0964378\ttotal: 2.26s\tremaining: 1.51s\n",
      "599:\tlearn: 0.0963216\ttotal: 2.26s\tremaining: 1.51s\n",
      "600:\tlearn: 0.0962613\ttotal: 2.26s\tremaining: 1.5s\n",
      "601:\tlearn: 0.0961048\ttotal: 2.27s\tremaining: 1.5s\n",
      "602:\tlearn: 0.0960376\ttotal: 2.27s\tremaining: 1.49s\n",
      "603:\tlearn: 0.0959855\ttotal: 2.27s\tremaining: 1.49s\n",
      "604:\tlearn: 0.0958682\ttotal: 2.28s\tremaining: 1.49s\n",
      "605:\tlearn: 0.0957874\ttotal: 2.28s\tremaining: 1.48s\n",
      "606:\tlearn: 0.0956656\ttotal: 2.28s\tremaining: 1.48s\n",
      "607:\tlearn: 0.0955724\ttotal: 2.29s\tremaining: 1.47s\n",
      "608:\tlearn: 0.0953726\ttotal: 2.29s\tremaining: 1.47s\n",
      "609:\tlearn: 0.0952842\ttotal: 2.29s\tremaining: 1.47s\n",
      "610:\tlearn: 0.0951591\ttotal: 2.29s\tremaining: 1.46s\n",
      "611:\tlearn: 0.0950883\ttotal: 2.3s\tremaining: 1.46s\n",
      "612:\tlearn: 0.0949247\ttotal: 2.3s\tremaining: 1.45s\n",
      "613:\tlearn: 0.0948136\ttotal: 2.3s\tremaining: 1.45s\n",
      "614:\tlearn: 0.0947130\ttotal: 2.31s\tremaining: 1.44s\n",
      "615:\tlearn: 0.0945891\ttotal: 2.31s\tremaining: 1.44s\n",
      "616:\tlearn: 0.0945655\ttotal: 2.31s\tremaining: 1.44s\n",
      "617:\tlearn: 0.0944553\ttotal: 2.31s\tremaining: 1.43s\n",
      "618:\tlearn: 0.0943640\ttotal: 2.32s\tremaining: 1.43s\n",
      "619:\tlearn: 0.0942978\ttotal: 2.32s\tremaining: 1.42s\n",
      "620:\tlearn: 0.0941710\ttotal: 2.32s\tremaining: 1.42s\n",
      "621:\tlearn: 0.0939493\ttotal: 2.33s\tremaining: 1.41s\n",
      "622:\tlearn: 0.0938879\ttotal: 2.33s\tremaining: 1.41s\n",
      "623:\tlearn: 0.0937841\ttotal: 2.33s\tremaining: 1.41s\n",
      "624:\tlearn: 0.0937621\ttotal: 2.33s\tremaining: 1.4s\n",
      "625:\tlearn: 0.0936160\ttotal: 2.34s\tremaining: 1.4s\n",
      "626:\tlearn: 0.0935044\ttotal: 2.34s\tremaining: 1.39s\n",
      "627:\tlearn: 0.0933235\ttotal: 2.34s\tremaining: 1.39s\n",
      "628:\tlearn: 0.0932922\ttotal: 2.35s\tremaining: 1.38s\n",
      "629:\tlearn: 0.0931849\ttotal: 2.35s\tremaining: 1.38s\n",
      "630:\tlearn: 0.0930871\ttotal: 2.35s\tremaining: 1.38s\n",
      "631:\tlearn: 0.0930321\ttotal: 2.36s\tremaining: 1.37s\n",
      "632:\tlearn: 0.0929615\ttotal: 2.36s\tremaining: 1.37s\n",
      "633:\tlearn: 0.0928959\ttotal: 2.36s\tremaining: 1.36s\n",
      "634:\tlearn: 0.0927462\ttotal: 2.36s\tremaining: 1.36s\n",
      "635:\tlearn: 0.0926908\ttotal: 2.37s\tremaining: 1.36s\n",
      "636:\tlearn: 0.0925487\ttotal: 2.37s\tremaining: 1.35s\n",
      "637:\tlearn: 0.0925030\ttotal: 2.38s\tremaining: 1.35s\n",
      "638:\tlearn: 0.0923810\ttotal: 2.38s\tremaining: 1.34s\n",
      "639:\tlearn: 0.0922552\ttotal: 2.38s\tremaining: 1.34s\n",
      "640:\tlearn: 0.0921642\ttotal: 2.38s\tremaining: 1.34s\n",
      "641:\tlearn: 0.0921319\ttotal: 2.39s\tremaining: 1.33s\n",
      "642:\tlearn: 0.0920877\ttotal: 2.39s\tremaining: 1.33s\n",
      "643:\tlearn: 0.0919793\ttotal: 2.39s\tremaining: 1.32s\n",
      "644:\tlearn: 0.0918397\ttotal: 2.4s\tremaining: 1.32s\n",
      "645:\tlearn: 0.0916729\ttotal: 2.4s\tremaining: 1.31s\n",
      "646:\tlearn: 0.0915428\ttotal: 2.4s\tremaining: 1.31s\n",
      "647:\tlearn: 0.0914885\ttotal: 2.4s\tremaining: 1.31s\n",
      "648:\tlearn: 0.0914071\ttotal: 2.41s\tremaining: 1.3s\n",
      "649:\tlearn: 0.0913308\ttotal: 2.41s\tremaining: 1.3s\n",
      "650:\tlearn: 0.0912274\ttotal: 2.41s\tremaining: 1.29s\n",
      "651:\tlearn: 0.0911273\ttotal: 2.42s\tremaining: 1.29s\n",
      "652:\tlearn: 0.0910017\ttotal: 2.42s\tremaining: 1.28s\n",
      "653:\tlearn: 0.0909024\ttotal: 2.42s\tremaining: 1.28s\n",
      "654:\tlearn: 0.0907893\ttotal: 2.43s\tremaining: 1.28s\n",
      "655:\tlearn: 0.0907186\ttotal: 2.43s\tremaining: 1.27s\n",
      "656:\tlearn: 0.0905766\ttotal: 2.43s\tremaining: 1.27s\n",
      "657:\tlearn: 0.0904623\ttotal: 2.44s\tremaining: 1.27s\n",
      "658:\tlearn: 0.0903118\ttotal: 2.44s\tremaining: 1.26s\n",
      "659:\tlearn: 0.0902250\ttotal: 2.44s\tremaining: 1.26s\n",
      "660:\tlearn: 0.0901638\ttotal: 2.45s\tremaining: 1.25s\n",
      "661:\tlearn: 0.0899903\ttotal: 2.45s\tremaining: 1.25s\n",
      "662:\tlearn: 0.0898714\ttotal: 2.45s\tremaining: 1.25s\n",
      "663:\tlearn: 0.0897795\ttotal: 2.46s\tremaining: 1.24s\n",
      "664:\tlearn: 0.0896652\ttotal: 2.46s\tremaining: 1.24s\n",
      "665:\tlearn: 0.0896425\ttotal: 2.46s\tremaining: 1.23s\n",
      "666:\tlearn: 0.0895041\ttotal: 2.46s\tremaining: 1.23s\n",
      "667:\tlearn: 0.0894312\ttotal: 2.47s\tremaining: 1.23s\n",
      "668:\tlearn: 0.0893238\ttotal: 2.47s\tremaining: 1.22s\n",
      "669:\tlearn: 0.0892571\ttotal: 2.47s\tremaining: 1.22s\n",
      "670:\tlearn: 0.0892215\ttotal: 2.48s\tremaining: 1.21s\n",
      "671:\tlearn: 0.0891502\ttotal: 2.48s\tremaining: 1.21s\n",
      "672:\tlearn: 0.0891271\ttotal: 2.48s\tremaining: 1.21s\n",
      "673:\tlearn: 0.0890370\ttotal: 2.48s\tremaining: 1.2s\n",
      "674:\tlearn: 0.0889679\ttotal: 2.49s\tremaining: 1.2s\n",
      "675:\tlearn: 0.0888824\ttotal: 2.49s\tremaining: 1.19s\n",
      "676:\tlearn: 0.0887847\ttotal: 2.49s\tremaining: 1.19s\n",
      "677:\tlearn: 0.0886685\ttotal: 2.49s\tremaining: 1.18s\n",
      "678:\tlearn: 0.0885774\ttotal: 2.5s\tremaining: 1.18s\n",
      "679:\tlearn: 0.0884766\ttotal: 2.5s\tremaining: 1.18s\n",
      "680:\tlearn: 0.0884197\ttotal: 2.5s\tremaining: 1.17s\n",
      "681:\tlearn: 0.0883954\ttotal: 2.51s\tremaining: 1.17s\n",
      "682:\tlearn: 0.0883275\ttotal: 2.51s\tremaining: 1.16s\n",
      "683:\tlearn: 0.0882477\ttotal: 2.51s\tremaining: 1.16s\n",
      "684:\tlearn: 0.0881698\ttotal: 2.51s\tremaining: 1.16s\n",
      "685:\tlearn: 0.0881280\ttotal: 2.52s\tremaining: 1.15s\n",
      "686:\tlearn: 0.0880616\ttotal: 2.52s\tremaining: 1.15s\n",
      "687:\tlearn: 0.0880027\ttotal: 2.52s\tremaining: 1.14s\n",
      "688:\tlearn: 0.0879534\ttotal: 2.52s\tremaining: 1.14s\n",
      "689:\tlearn: 0.0878975\ttotal: 2.53s\tremaining: 1.14s\n",
      "690:\tlearn: 0.0878006\ttotal: 2.53s\tremaining: 1.13s\n",
      "691:\tlearn: 0.0877313\ttotal: 2.53s\tremaining: 1.13s\n",
      "692:\tlearn: 0.0876862\ttotal: 2.54s\tremaining: 1.12s\n",
      "693:\tlearn: 0.0875848\ttotal: 2.54s\tremaining: 1.12s\n",
      "694:\tlearn: 0.0874816\ttotal: 2.54s\tremaining: 1.11s\n",
      "695:\tlearn: 0.0873795\ttotal: 2.54s\tremaining: 1.11s\n",
      "696:\tlearn: 0.0872809\ttotal: 2.55s\tremaining: 1.11s\n",
      "697:\tlearn: 0.0871869\ttotal: 2.55s\tremaining: 1.1s\n",
      "698:\tlearn: 0.0871691\ttotal: 2.55s\tremaining: 1.1s\n",
      "699:\tlearn: 0.0870724\ttotal: 2.56s\tremaining: 1.09s\n",
      "700:\tlearn: 0.0869129\ttotal: 2.56s\tremaining: 1.09s\n",
      "701:\tlearn: 0.0868456\ttotal: 2.56s\tremaining: 1.09s\n",
      "702:\tlearn: 0.0867553\ttotal: 2.56s\tremaining: 1.08s\n",
      "703:\tlearn: 0.0866383\ttotal: 2.57s\tremaining: 1.08s\n",
      "704:\tlearn: 0.0865750\ttotal: 2.57s\tremaining: 1.07s\n",
      "705:\tlearn: 0.0864917\ttotal: 2.57s\tremaining: 1.07s\n",
      "706:\tlearn: 0.0864205\ttotal: 2.58s\tremaining: 1.07s\n",
      "707:\tlearn: 0.0863420\ttotal: 2.58s\tremaining: 1.06s\n",
      "708:\tlearn: 0.0862864\ttotal: 2.58s\tremaining: 1.06s\n",
      "709:\tlearn: 0.0861800\ttotal: 2.59s\tremaining: 1.06s\n",
      "710:\tlearn: 0.0860911\ttotal: 2.59s\tremaining: 1.05s\n",
      "711:\tlearn: 0.0860397\ttotal: 2.59s\tremaining: 1.05s\n",
      "712:\tlearn: 0.0859829\ttotal: 2.6s\tremaining: 1.04s\n",
      "713:\tlearn: 0.0859040\ttotal: 2.6s\tremaining: 1.04s\n",
      "714:\tlearn: 0.0858373\ttotal: 2.6s\tremaining: 1.04s\n",
      "715:\tlearn: 0.0857313\ttotal: 2.6s\tremaining: 1.03s\n",
      "716:\tlearn: 0.0856995\ttotal: 2.61s\tremaining: 1.03s\n",
      "717:\tlearn: 0.0856099\ttotal: 2.61s\tremaining: 1.02s\n",
      "718:\tlearn: 0.0855391\ttotal: 2.61s\tremaining: 1.02s\n",
      "719:\tlearn: 0.0854610\ttotal: 2.62s\tremaining: 1.02s\n",
      "720:\tlearn: 0.0853502\ttotal: 2.62s\tremaining: 1.01s\n",
      "721:\tlearn: 0.0852110\ttotal: 2.63s\tremaining: 1.01s\n",
      "722:\tlearn: 0.0850723\ttotal: 2.63s\tremaining: 1.01s\n",
      "723:\tlearn: 0.0850099\ttotal: 2.63s\tremaining: 1s\n",
      "724:\tlearn: 0.0849225\ttotal: 2.63s\tremaining: 999ms\n",
      "725:\tlearn: 0.0848619\ttotal: 2.64s\tremaining: 995ms\n",
      "726:\tlearn: 0.0847536\ttotal: 2.64s\tremaining: 991ms\n",
      "727:\tlearn: 0.0846910\ttotal: 2.64s\tremaining: 987ms\n",
      "728:\tlearn: 0.0845653\ttotal: 2.65s\tremaining: 983ms\n",
      "729:\tlearn: 0.0845083\ttotal: 2.65s\tremaining: 979ms\n",
      "730:\tlearn: 0.0843779\ttotal: 2.65s\tremaining: 976ms\n",
      "731:\tlearn: 0.0842754\ttotal: 2.65s\tremaining: 972ms\n",
      "732:\tlearn: 0.0841732\ttotal: 2.66s\tremaining: 968ms\n",
      "733:\tlearn: 0.0841059\ttotal: 2.66s\tremaining: 964ms\n",
      "734:\tlearn: 0.0840451\ttotal: 2.66s\tremaining: 960ms\n",
      "735:\tlearn: 0.0839835\ttotal: 2.66s\tremaining: 956ms\n",
      "736:\tlearn: 0.0839227\ttotal: 2.67s\tremaining: 952ms\n",
      "737:\tlearn: 0.0838244\ttotal: 2.67s\tremaining: 948ms\n",
      "738:\tlearn: 0.0837344\ttotal: 2.67s\tremaining: 944ms\n",
      "739:\tlearn: 0.0836792\ttotal: 2.67s\tremaining: 940ms\n",
      "740:\tlearn: 0.0836088\ttotal: 2.68s\tremaining: 936ms\n",
      "741:\tlearn: 0.0834952\ttotal: 2.68s\tremaining: 932ms\n",
      "742:\tlearn: 0.0834556\ttotal: 2.68s\tremaining: 928ms\n",
      "743:\tlearn: 0.0833541\ttotal: 2.69s\tremaining: 924ms\n",
      "744:\tlearn: 0.0833057\ttotal: 2.69s\tremaining: 921ms\n",
      "745:\tlearn: 0.0832241\ttotal: 2.69s\tremaining: 917ms\n",
      "746:\tlearn: 0.0831719\ttotal: 2.69s\tremaining: 913ms\n",
      "747:\tlearn: 0.0831145\ttotal: 2.7s\tremaining: 909ms\n",
      "748:\tlearn: 0.0830390\ttotal: 2.7s\tremaining: 905ms\n",
      "749:\tlearn: 0.0829339\ttotal: 2.7s\tremaining: 902ms\n",
      "750:\tlearn: 0.0828831\ttotal: 2.71s\tremaining: 898ms\n",
      "751:\tlearn: 0.0828051\ttotal: 2.71s\tremaining: 895ms\n",
      "752:\tlearn: 0.0827336\ttotal: 2.71s\tremaining: 891ms\n",
      "753:\tlearn: 0.0826696\ttotal: 2.72s\tremaining: 887ms\n",
      "754:\tlearn: 0.0825845\ttotal: 2.72s\tremaining: 883ms\n",
      "755:\tlearn: 0.0824476\ttotal: 2.73s\tremaining: 880ms\n",
      "756:\tlearn: 0.0823767\ttotal: 2.73s\tremaining: 876ms\n",
      "757:\tlearn: 0.0823332\ttotal: 2.73s\tremaining: 872ms\n",
      "758:\tlearn: 0.0822795\ttotal: 2.73s\tremaining: 868ms\n",
      "759:\tlearn: 0.0821529\ttotal: 2.74s\tremaining: 864ms\n",
      "760:\tlearn: 0.0820841\ttotal: 2.74s\tremaining: 861ms\n",
      "761:\tlearn: 0.0819779\ttotal: 2.74s\tremaining: 857ms\n",
      "762:\tlearn: 0.0818905\ttotal: 2.75s\tremaining: 853ms\n",
      "763:\tlearn: 0.0818604\ttotal: 2.75s\tremaining: 850ms\n",
      "764:\tlearn: 0.0818045\ttotal: 2.75s\tremaining: 846ms\n",
      "765:\tlearn: 0.0816915\ttotal: 2.76s\tremaining: 842ms\n",
      "766:\tlearn: 0.0815569\ttotal: 2.76s\tremaining: 839ms\n",
      "767:\tlearn: 0.0814666\ttotal: 2.77s\tremaining: 835ms\n",
      "768:\tlearn: 0.0813028\ttotal: 2.77s\tremaining: 832ms\n",
      "769:\tlearn: 0.0812218\ttotal: 2.77s\tremaining: 828ms\n",
      "770:\tlearn: 0.0811813\ttotal: 2.77s\tremaining: 824ms\n",
      "771:\tlearn: 0.0811219\ttotal: 2.78s\tremaining: 820ms\n",
      "772:\tlearn: 0.0810683\ttotal: 2.78s\tremaining: 817ms\n",
      "773:\tlearn: 0.0810111\ttotal: 2.78s\tremaining: 813ms\n",
      "774:\tlearn: 0.0809379\ttotal: 2.79s\tremaining: 809ms\n",
      "775:\tlearn: 0.0808687\ttotal: 2.79s\tremaining: 806ms\n",
      "776:\tlearn: 0.0807815\ttotal: 2.79s\tremaining: 802ms\n",
      "777:\tlearn: 0.0807022\ttotal: 2.8s\tremaining: 799ms\n",
      "778:\tlearn: 0.0805686\ttotal: 2.8s\tremaining: 795ms\n",
      "779:\tlearn: 0.0804990\ttotal: 2.81s\tremaining: 791ms\n",
      "780:\tlearn: 0.0804421\ttotal: 2.81s\tremaining: 787ms\n",
      "781:\tlearn: 0.0803014\ttotal: 2.81s\tremaining: 784ms\n",
      "782:\tlearn: 0.0801732\ttotal: 2.81s\tremaining: 780ms\n",
      "783:\tlearn: 0.0801088\ttotal: 2.82s\tremaining: 776ms\n",
      "784:\tlearn: 0.0800300\ttotal: 2.82s\tremaining: 773ms\n",
      "785:\tlearn: 0.0799477\ttotal: 2.82s\tremaining: 769ms\n",
      "786:\tlearn: 0.0798545\ttotal: 2.83s\tremaining: 765ms\n",
      "787:\tlearn: 0.0797627\ttotal: 2.83s\tremaining: 761ms\n",
      "788:\tlearn: 0.0797024\ttotal: 2.83s\tremaining: 757ms\n",
      "789:\tlearn: 0.0796506\ttotal: 2.83s\tremaining: 754ms\n",
      "790:\tlearn: 0.0795583\ttotal: 2.84s\tremaining: 750ms\n",
      "791:\tlearn: 0.0795218\ttotal: 2.84s\tremaining: 746ms\n",
      "792:\tlearn: 0.0794663\ttotal: 2.84s\tremaining: 742ms\n",
      "793:\tlearn: 0.0793781\ttotal: 2.85s\tremaining: 738ms\n",
      "794:\tlearn: 0.0792586\ttotal: 2.85s\tremaining: 735ms\n",
      "795:\tlearn: 0.0791621\ttotal: 2.85s\tremaining: 731ms\n",
      "796:\tlearn: 0.0790655\ttotal: 2.85s\tremaining: 727ms\n",
      "797:\tlearn: 0.0789932\ttotal: 2.86s\tremaining: 723ms\n",
      "798:\tlearn: 0.0789522\ttotal: 2.86s\tremaining: 720ms\n",
      "799:\tlearn: 0.0789018\ttotal: 2.86s\tremaining: 716ms\n",
      "800:\tlearn: 0.0787832\ttotal: 2.87s\tremaining: 712ms\n",
      "801:\tlearn: 0.0787112\ttotal: 2.87s\tremaining: 708ms\n",
      "802:\tlearn: 0.0786727\ttotal: 2.87s\tremaining: 704ms\n",
      "803:\tlearn: 0.0786316\ttotal: 2.87s\tremaining: 701ms\n",
      "804:\tlearn: 0.0785452\ttotal: 2.88s\tremaining: 697ms\n",
      "805:\tlearn: 0.0785133\ttotal: 2.88s\tremaining: 693ms\n",
      "806:\tlearn: 0.0784204\ttotal: 2.88s\tremaining: 689ms\n",
      "807:\tlearn: 0.0783290\ttotal: 2.88s\tremaining: 686ms\n",
      "808:\tlearn: 0.0782030\ttotal: 2.89s\tremaining: 682ms\n",
      "809:\tlearn: 0.0780905\ttotal: 2.89s\tremaining: 678ms\n",
      "810:\tlearn: 0.0780359\ttotal: 2.89s\tremaining: 674ms\n",
      "811:\tlearn: 0.0779698\ttotal: 2.9s\tremaining: 671ms\n",
      "812:\tlearn: 0.0778745\ttotal: 2.9s\tremaining: 667ms\n",
      "813:\tlearn: 0.0778399\ttotal: 2.9s\tremaining: 663ms\n",
      "814:\tlearn: 0.0777005\ttotal: 2.91s\tremaining: 660ms\n",
      "815:\tlearn: 0.0776160\ttotal: 2.91s\tremaining: 656ms\n",
      "816:\tlearn: 0.0775032\ttotal: 2.91s\tremaining: 652ms\n",
      "817:\tlearn: 0.0773170\ttotal: 2.92s\tremaining: 649ms\n",
      "818:\tlearn: 0.0772745\ttotal: 2.92s\tremaining: 645ms\n",
      "819:\tlearn: 0.0771229\ttotal: 2.92s\tremaining: 642ms\n",
      "820:\tlearn: 0.0770681\ttotal: 2.93s\tremaining: 638ms\n",
      "821:\tlearn: 0.0769643\ttotal: 2.93s\tremaining: 634ms\n",
      "822:\tlearn: 0.0769421\ttotal: 2.93s\tremaining: 631ms\n",
      "823:\tlearn: 0.0768616\ttotal: 2.93s\tremaining: 627ms\n",
      "824:\tlearn: 0.0768307\ttotal: 2.94s\tremaining: 623ms\n",
      "825:\tlearn: 0.0767602\ttotal: 2.94s\tremaining: 620ms\n",
      "826:\tlearn: 0.0767040\ttotal: 2.94s\tremaining: 616ms\n",
      "827:\tlearn: 0.0765695\ttotal: 2.95s\tremaining: 612ms\n",
      "828:\tlearn: 0.0764684\ttotal: 2.95s\tremaining: 609ms\n",
      "829:\tlearn: 0.0764159\ttotal: 2.95s\tremaining: 605ms\n",
      "830:\tlearn: 0.0763000\ttotal: 2.96s\tremaining: 601ms\n",
      "831:\tlearn: 0.0762195\ttotal: 2.96s\tremaining: 598ms\n",
      "832:\tlearn: 0.0760878\ttotal: 2.96s\tremaining: 594ms\n",
      "833:\tlearn: 0.0760191\ttotal: 2.96s\tremaining: 590ms\n",
      "834:\tlearn: 0.0759652\ttotal: 2.97s\tremaining: 586ms\n",
      "835:\tlearn: 0.0759131\ttotal: 2.97s\tremaining: 583ms\n",
      "836:\tlearn: 0.0757617\ttotal: 2.97s\tremaining: 579ms\n",
      "837:\tlearn: 0.0757169\ttotal: 2.98s\tremaining: 575ms\n",
      "838:\tlearn: 0.0756481\ttotal: 2.98s\tremaining: 572ms\n",
      "839:\tlearn: 0.0755789\ttotal: 2.98s\tremaining: 568ms\n",
      "840:\tlearn: 0.0755309\ttotal: 2.98s\tremaining: 564ms\n",
      "841:\tlearn: 0.0754734\ttotal: 2.99s\tremaining: 560ms\n",
      "842:\tlearn: 0.0753886\ttotal: 2.99s\tremaining: 557ms\n",
      "843:\tlearn: 0.0752565\ttotal: 2.99s\tremaining: 553ms\n",
      "844:\tlearn: 0.0750905\ttotal: 3s\tremaining: 549ms\n",
      "845:\tlearn: 0.0749999\ttotal: 3s\tremaining: 546ms\n",
      "846:\tlearn: 0.0749107\ttotal: 3s\tremaining: 542ms\n",
      "847:\tlearn: 0.0747853\ttotal: 3s\tremaining: 538ms\n",
      "848:\tlearn: 0.0747378\ttotal: 3.01s\tremaining: 535ms\n",
      "849:\tlearn: 0.0746843\ttotal: 3.01s\tremaining: 531ms\n",
      "850:\tlearn: 0.0746060\ttotal: 3.01s\tremaining: 528ms\n",
      "851:\tlearn: 0.0744773\ttotal: 3.02s\tremaining: 524ms\n",
      "852:\tlearn: 0.0743940\ttotal: 3.02s\tremaining: 520ms\n",
      "853:\tlearn: 0.0743390\ttotal: 3.02s\tremaining: 517ms\n",
      "854:\tlearn: 0.0742656\ttotal: 3.03s\tremaining: 514ms\n",
      "855:\tlearn: 0.0742190\ttotal: 3.03s\tremaining: 510ms\n",
      "856:\tlearn: 0.0741228\ttotal: 3.03s\tremaining: 506ms\n",
      "857:\tlearn: 0.0740323\ttotal: 3.04s\tremaining: 503ms\n",
      "858:\tlearn: 0.0739345\ttotal: 3.04s\tremaining: 499ms\n",
      "859:\tlearn: 0.0738586\ttotal: 3.04s\tremaining: 495ms\n",
      "860:\tlearn: 0.0737937\ttotal: 3.04s\tremaining: 492ms\n",
      "861:\tlearn: 0.0737346\ttotal: 3.05s\tremaining: 488ms\n",
      "862:\tlearn: 0.0736428\ttotal: 3.05s\tremaining: 484ms\n",
      "863:\tlearn: 0.0735881\ttotal: 3.05s\tremaining: 481ms\n",
      "864:\tlearn: 0.0735264\ttotal: 3.06s\tremaining: 477ms\n",
      "865:\tlearn: 0.0734049\ttotal: 3.06s\tremaining: 473ms\n",
      "866:\tlearn: 0.0733233\ttotal: 3.06s\tremaining: 470ms\n",
      "867:\tlearn: 0.0732478\ttotal: 3.07s\tremaining: 466ms\n",
      "868:\tlearn: 0.0732186\ttotal: 3.07s\tremaining: 463ms\n",
      "869:\tlearn: 0.0731844\ttotal: 3.07s\tremaining: 459ms\n",
      "870:\tlearn: 0.0731376\ttotal: 3.08s\tremaining: 456ms\n",
      "871:\tlearn: 0.0730573\ttotal: 3.08s\tremaining: 452ms\n",
      "872:\tlearn: 0.0730079\ttotal: 3.08s\tremaining: 449ms\n",
      "873:\tlearn: 0.0728894\ttotal: 3.08s\tremaining: 445ms\n",
      "874:\tlearn: 0.0728108\ttotal: 3.09s\tremaining: 441ms\n",
      "875:\tlearn: 0.0727665\ttotal: 3.09s\tremaining: 438ms\n",
      "876:\tlearn: 0.0726634\ttotal: 3.1s\tremaining: 434ms\n",
      "877:\tlearn: 0.0726255\ttotal: 3.1s\tremaining: 431ms\n",
      "878:\tlearn: 0.0725358\ttotal: 3.1s\tremaining: 427ms\n",
      "879:\tlearn: 0.0724862\ttotal: 3.1s\tremaining: 423ms\n",
      "880:\tlearn: 0.0724023\ttotal: 3.11s\tremaining: 420ms\n",
      "881:\tlearn: 0.0723216\ttotal: 3.11s\tremaining: 416ms\n",
      "882:\tlearn: 0.0722299\ttotal: 3.11s\tremaining: 412ms\n",
      "883:\tlearn: 0.0721625\ttotal: 3.12s\tremaining: 409ms\n",
      "884:\tlearn: 0.0720780\ttotal: 3.12s\tremaining: 405ms\n",
      "885:\tlearn: 0.0720326\ttotal: 3.12s\tremaining: 402ms\n",
      "886:\tlearn: 0.0719622\ttotal: 3.13s\tremaining: 398ms\n",
      "887:\tlearn: 0.0718764\ttotal: 3.13s\tremaining: 395ms\n",
      "888:\tlearn: 0.0717940\ttotal: 3.13s\tremaining: 391ms\n",
      "889:\tlearn: 0.0717215\ttotal: 3.14s\tremaining: 388ms\n",
      "890:\tlearn: 0.0715976\ttotal: 3.14s\tremaining: 385ms\n",
      "891:\tlearn: 0.0715747\ttotal: 3.15s\tremaining: 381ms\n",
      "892:\tlearn: 0.0714700\ttotal: 3.15s\tremaining: 378ms\n",
      "893:\tlearn: 0.0714143\ttotal: 3.16s\tremaining: 374ms\n",
      "894:\tlearn: 0.0713322\ttotal: 3.16s\tremaining: 371ms\n",
      "895:\tlearn: 0.0712949\ttotal: 3.16s\tremaining: 367ms\n",
      "896:\tlearn: 0.0712303\ttotal: 3.16s\tremaining: 363ms\n",
      "897:\tlearn: 0.0711758\ttotal: 3.17s\tremaining: 360ms\n",
      "898:\tlearn: 0.0710833\ttotal: 3.17s\tremaining: 356ms\n",
      "899:\tlearn: 0.0710064\ttotal: 3.17s\tremaining: 353ms\n",
      "900:\tlearn: 0.0709572\ttotal: 3.18s\tremaining: 349ms\n",
      "901:\tlearn: 0.0709144\ttotal: 3.18s\tremaining: 345ms\n",
      "902:\tlearn: 0.0708385\ttotal: 3.18s\tremaining: 342ms\n",
      "903:\tlearn: 0.0707873\ttotal: 3.19s\tremaining: 338ms\n",
      "904:\tlearn: 0.0706971\ttotal: 3.19s\tremaining: 335ms\n",
      "905:\tlearn: 0.0706512\ttotal: 3.19s\tremaining: 331ms\n",
      "906:\tlearn: 0.0705890\ttotal: 3.19s\tremaining: 327ms\n",
      "907:\tlearn: 0.0704658\ttotal: 3.2s\tremaining: 324ms\n",
      "908:\tlearn: 0.0704226\ttotal: 3.2s\tremaining: 320ms\n",
      "909:\tlearn: 0.0703398\ttotal: 3.2s\tremaining: 317ms\n",
      "910:\tlearn: 0.0702763\ttotal: 3.21s\tremaining: 313ms\n",
      "911:\tlearn: 0.0702251\ttotal: 3.21s\tremaining: 310ms\n",
      "912:\tlearn: 0.0701256\ttotal: 3.21s\tremaining: 306ms\n",
      "913:\tlearn: 0.0699872\ttotal: 3.21s\tremaining: 303ms\n",
      "914:\tlearn: 0.0699313\ttotal: 3.22s\tremaining: 299ms\n",
      "915:\tlearn: 0.0698761\ttotal: 3.22s\tremaining: 295ms\n",
      "916:\tlearn: 0.0697256\ttotal: 3.22s\tremaining: 292ms\n",
      "917:\tlearn: 0.0696744\ttotal: 3.23s\tremaining: 289ms\n",
      "918:\tlearn: 0.0696316\ttotal: 3.23s\tremaining: 285ms\n",
      "919:\tlearn: 0.0695995\ttotal: 3.24s\tremaining: 281ms\n",
      "920:\tlearn: 0.0695650\ttotal: 3.24s\tremaining: 278ms\n",
      "921:\tlearn: 0.0694859\ttotal: 3.24s\tremaining: 274ms\n",
      "922:\tlearn: 0.0694561\ttotal: 3.25s\tremaining: 271ms\n",
      "923:\tlearn: 0.0693939\ttotal: 3.25s\tremaining: 267ms\n",
      "924:\tlearn: 0.0693154\ttotal: 3.25s\tremaining: 264ms\n",
      "925:\tlearn: 0.0692569\ttotal: 3.26s\tremaining: 260ms\n",
      "926:\tlearn: 0.0691434\ttotal: 3.26s\tremaining: 257ms\n",
      "927:\tlearn: 0.0691013\ttotal: 3.27s\tremaining: 254ms\n",
      "928:\tlearn: 0.0690600\ttotal: 3.27s\tremaining: 250ms\n",
      "929:\tlearn: 0.0689636\ttotal: 3.27s\tremaining: 246ms\n",
      "930:\tlearn: 0.0688885\ttotal: 3.28s\tremaining: 243ms\n",
      "931:\tlearn: 0.0688268\ttotal: 3.28s\tremaining: 239ms\n",
      "932:\tlearn: 0.0687709\ttotal: 3.28s\tremaining: 236ms\n",
      "933:\tlearn: 0.0687295\ttotal: 3.29s\tremaining: 232ms\n",
      "934:\tlearn: 0.0686440\ttotal: 3.29s\tremaining: 229ms\n",
      "935:\tlearn: 0.0685797\ttotal: 3.29s\tremaining: 225ms\n",
      "936:\tlearn: 0.0685213\ttotal: 3.29s\tremaining: 221ms\n",
      "937:\tlearn: 0.0684911\ttotal: 3.3s\tremaining: 218ms\n",
      "938:\tlearn: 0.0684127\ttotal: 3.3s\tremaining: 214ms\n",
      "939:\tlearn: 0.0683444\ttotal: 3.3s\tremaining: 211ms\n",
      "940:\tlearn: 0.0683313\ttotal: 3.3s\tremaining: 207ms\n",
      "941:\tlearn: 0.0681829\ttotal: 3.31s\tremaining: 204ms\n",
      "942:\tlearn: 0.0681336\ttotal: 3.31s\tremaining: 200ms\n",
      "943:\tlearn: 0.0680768\ttotal: 3.31s\tremaining: 197ms\n",
      "944:\tlearn: 0.0680072\ttotal: 3.32s\tremaining: 193ms\n",
      "945:\tlearn: 0.0679427\ttotal: 3.32s\tremaining: 189ms\n",
      "946:\tlearn: 0.0678553\ttotal: 3.32s\tremaining: 186ms\n",
      "947:\tlearn: 0.0677961\ttotal: 3.32s\tremaining: 182ms\n",
      "948:\tlearn: 0.0677470\ttotal: 3.33s\tremaining: 179ms\n",
      "949:\tlearn: 0.0676317\ttotal: 3.33s\tremaining: 175ms\n",
      "950:\tlearn: 0.0674929\ttotal: 3.33s\tremaining: 172ms\n",
      "951:\tlearn: 0.0674243\ttotal: 3.33s\tremaining: 168ms\n",
      "952:\tlearn: 0.0673622\ttotal: 3.34s\tremaining: 165ms\n",
      "953:\tlearn: 0.0673027\ttotal: 3.34s\tremaining: 161ms\n",
      "954:\tlearn: 0.0672825\ttotal: 3.34s\tremaining: 158ms\n",
      "955:\tlearn: 0.0671926\ttotal: 3.35s\tremaining: 154ms\n",
      "956:\tlearn: 0.0671251\ttotal: 3.35s\tremaining: 150ms\n",
      "957:\tlearn: 0.0670056\ttotal: 3.35s\tremaining: 147ms\n",
      "958:\tlearn: 0.0669333\ttotal: 3.35s\tremaining: 143ms\n",
      "959:\tlearn: 0.0668529\ttotal: 3.36s\tremaining: 140ms\n",
      "960:\tlearn: 0.0667799\ttotal: 3.36s\tremaining: 136ms\n",
      "961:\tlearn: 0.0667176\ttotal: 3.36s\tremaining: 133ms\n",
      "962:\tlearn: 0.0666685\ttotal: 3.37s\tremaining: 129ms\n",
      "963:\tlearn: 0.0666476\ttotal: 3.37s\tremaining: 126ms\n",
      "964:\tlearn: 0.0666289\ttotal: 3.37s\tremaining: 122ms\n",
      "965:\tlearn: 0.0665959\ttotal: 3.37s\tremaining: 119ms\n",
      "966:\tlearn: 0.0665263\ttotal: 3.38s\tremaining: 115ms\n",
      "967:\tlearn: 0.0664682\ttotal: 3.38s\tremaining: 112ms\n",
      "968:\tlearn: 0.0663496\ttotal: 3.38s\tremaining: 108ms\n",
      "969:\tlearn: 0.0662954\ttotal: 3.39s\tremaining: 105ms\n",
      "970:\tlearn: 0.0661999\ttotal: 3.39s\tremaining: 101ms\n",
      "971:\tlearn: 0.0661359\ttotal: 3.39s\tremaining: 97.7ms\n",
      "972:\tlearn: 0.0660826\ttotal: 3.4s\tremaining: 94.2ms\n",
      "973:\tlearn: 0.0659783\ttotal: 3.4s\tremaining: 90.7ms\n",
      "974:\tlearn: 0.0659316\ttotal: 3.4s\tremaining: 87.3ms\n",
      "975:\tlearn: 0.0658896\ttotal: 3.41s\tremaining: 83.8ms\n",
      "976:\tlearn: 0.0658485\ttotal: 3.41s\tremaining: 80.3ms\n",
      "977:\tlearn: 0.0657900\ttotal: 3.41s\tremaining: 76.8ms\n",
      "978:\tlearn: 0.0656976\ttotal: 3.42s\tremaining: 73.3ms\n",
      "979:\tlearn: 0.0656333\ttotal: 3.42s\tremaining: 69.8ms\n",
      "980:\tlearn: 0.0655529\ttotal: 3.42s\tremaining: 66.3ms\n",
      "981:\tlearn: 0.0654429\ttotal: 3.43s\tremaining: 62.8ms\n",
      "982:\tlearn: 0.0653746\ttotal: 3.43s\tremaining: 59.3ms\n",
      "983:\tlearn: 0.0653158\ttotal: 3.43s\tremaining: 55.8ms\n",
      "984:\tlearn: 0.0652015\ttotal: 3.44s\tremaining: 52.3ms\n",
      "985:\tlearn: 0.0651743\ttotal: 3.44s\tremaining: 48.8ms\n",
      "986:\tlearn: 0.0651378\ttotal: 3.44s\tremaining: 45.3ms\n",
      "987:\tlearn: 0.0651117\ttotal: 3.44s\tremaining: 41.8ms\n",
      "988:\tlearn: 0.0650333\ttotal: 3.45s\tremaining: 38.4ms\n",
      "989:\tlearn: 0.0649856\ttotal: 3.45s\tremaining: 34.9ms\n",
      "990:\tlearn: 0.0649389\ttotal: 3.46s\tremaining: 31.4ms\n",
      "991:\tlearn: 0.0648764\ttotal: 3.46s\tremaining: 27.9ms\n",
      "992:\tlearn: 0.0648082\ttotal: 3.46s\tremaining: 24.4ms\n",
      "993:\tlearn: 0.0647548\ttotal: 3.47s\tremaining: 20.9ms\n",
      "994:\tlearn: 0.0646902\ttotal: 3.47s\tremaining: 17.4ms\n",
      "995:\tlearn: 0.0646452\ttotal: 3.47s\tremaining: 13.9ms\n",
      "996:\tlearn: 0.0645107\ttotal: 3.48s\tremaining: 10.5ms\n",
      "997:\tlearn: 0.0644478\ttotal: 3.48s\tremaining: 6.97ms\n",
      "998:\tlearn: 0.0643355\ttotal: 3.48s\tremaining: 3.48ms\n",
      "999:\tlearn: 0.0642590\ttotal: 3.48s\tremaining: 0us\n"
     ]
    }
   ],
   "source": [
    "model_catboost=CatBoostClassifier().fit(X_train, y_train)"
   ]
  },
  {
   "cell_type": "code",
   "execution_count": 83,
   "id": "e4825ed7",
   "metadata": {},
   "outputs": [],
   "source": [
    "y_predict=model_catboost.predict(X_test)"
   ]
  },
  {
   "cell_type": "code",
   "execution_count": 84,
   "id": "4bc5e08f",
   "metadata": {},
   "outputs": [
    {
     "data": {
      "text/plain": [
       "0.956140350877193"
      ]
     },
     "execution_count": 84,
     "metadata": {},
     "output_type": "execute_result"
    }
   ],
   "source": [
    "accuracy_score(y_test, y_predict)"
   ]
  },
  {
   "cell_type": "markdown",
   "id": "53f9679d",
   "metadata": {},
   "source": [
    "TUNİNG"
   ]
  },
  {
   "cell_type": "code",
   "execution_count": 91,
   "id": "f71cff53",
   "metadata": {},
   "outputs": [],
   "source": [
    "catboost_param={'learning_rate':[0.01, 0.01, 0.001], 'depth':[3,5,8], 'iterations':[200,500.1000]}"
   ]
  },
  {
   "cell_type": "code",
   "execution_count": 92,
   "id": "e65a3d86",
   "metadata": {},
   "outputs": [
    {
     "name": "stdout",
     "output_type": "stream",
     "text": [
      "Fitting 10 folds for each of 18 candidates, totalling 180 fits\n"
     ]
    },
    {
     "name": "stderr",
     "output_type": "stream",
     "text": [
      "c:\\users\\user202\\appdata\\local\\programs\\python\\python37\\lib\\site-packages\\sklearn\\model_selection\\_validation.py:372: FitFailedWarning: \n",
      "90 fits failed out of a total of 180.\n",
      "The score on these train-test partitions for these parameters will be set to nan.\n",
      "If these failures are not expected, you can try to debug them by setting error_score='raise'.\n",
      "\n",
      "Below are more details about the failures:\n",
      "--------------------------------------------------------------------------------\n",
      "90 fits failed with the following error:\n",
      "Traceback (most recent call last):\n",
      "  File \"c:\\users\\user202\\appdata\\local\\programs\\python\\python37\\lib\\site-packages\\sklearn\\model_selection\\_validation.py\", line 680, in _fit_and_score\n",
      "    estimator.fit(X_train, y_train, **fit_params)\n",
      "  File \"c:\\users\\user202\\appdata\\local\\programs\\python\\python37\\lib\\site-packages\\catboost\\core.py\", line 5130, in fit\n",
      "    silent, early_stopping_rounds, save_snapshot, snapshot_file, snapshot_interval, init_model, callbacks, log_cout, log_cerr)\n",
      "  File \"c:\\users\\user202\\appdata\\local\\programs\\python\\python37\\lib\\site-packages\\catboost\\core.py\", line 2347, in _fit\n",
      "    callbacks=callbacks\n",
      "  File \"c:\\users\\user202\\appdata\\local\\programs\\python\\python37\\lib\\site-packages\\catboost\\core.py\", line 2266, in _prepare_train_params\n",
      "    _check_train_params(params)\n",
      "  File \"_catboost.pyx\", line 6079, in _catboost._check_train_params\n",
      "  File \"_catboost.pyx\", line 6098, in _catboost._check_train_params\n",
      "_catboost.CatBoostError: C:/Program Files (x86)/Go Agent/pipelines/BuildMaster/catboost.git/catboost/private/libs/options/json_helper.h:173: Can't parse parameter \"iterations\" with value: 500.1\n",
      "\n",
      "  warnings.warn(some_fits_failed_message, FitFailedWarning)\n",
      "c:\\users\\user202\\appdata\\local\\programs\\python\\python37\\lib\\site-packages\\sklearn\\model_selection\\_search.py:972: UserWarning: One or more of the test scores are non-finite: [0.91396135 0.91396135 0.88763285        nan        nan        nan\n",
      " 0.92280193 0.92280193 0.90521739        nan        nan        nan\n",
      " 0.91410628 0.91410628 0.91405797        nan        nan        nan]\n",
      "  category=UserWarning,\n"
     ]
    },
    {
     "name": "stdout",
     "output_type": "stream",
     "text": [
      "0:\tlearn: 0.6807018\ttotal: 3.17ms\tremaining: 631ms\n",
      "1:\tlearn: 0.6681116\ttotal: 7.29ms\tremaining: 722ms\n",
      "2:\tlearn: 0.6568915\ttotal: 10.2ms\tremaining: 668ms\n",
      "3:\tlearn: 0.6463871\ttotal: 13.5ms\tremaining: 662ms\n",
      "4:\tlearn: 0.6379844\ttotal: 16.3ms\tremaining: 635ms\n",
      "5:\tlearn: 0.6268298\ttotal: 19.1ms\tremaining: 616ms\n",
      "6:\tlearn: 0.6159326\ttotal: 21.8ms\tremaining: 601ms\n",
      "7:\tlearn: 0.6048738\ttotal: 24.4ms\tremaining: 586ms\n",
      "8:\tlearn: 0.5937884\ttotal: 27ms\tremaining: 572ms\n",
      "9:\tlearn: 0.5832610\ttotal: 29.7ms\tremaining: 564ms\n",
      "10:\tlearn: 0.5726641\ttotal: 32.7ms\tremaining: 562ms\n",
      "11:\tlearn: 0.5624597\ttotal: 35.4ms\tremaining: 555ms\n",
      "12:\tlearn: 0.5536745\ttotal: 38.2ms\tremaining: 550ms\n",
      "13:\tlearn: 0.5435933\ttotal: 40.5ms\tremaining: 538ms\n",
      "14:\tlearn: 0.5350222\ttotal: 43.3ms\tremaining: 534ms\n",
      "15:\tlearn: 0.5269721\ttotal: 45.7ms\tremaining: 526ms\n",
      "16:\tlearn: 0.5181182\ttotal: 48.3ms\tremaining: 520ms\n",
      "17:\tlearn: 0.5090729\ttotal: 50.3ms\tremaining: 509ms\n",
      "18:\tlearn: 0.5009922\ttotal: 52.4ms\tremaining: 499ms\n",
      "19:\tlearn: 0.4925794\ttotal: 54.5ms\tremaining: 491ms\n",
      "20:\tlearn: 0.4856023\ttotal: 56.7ms\tremaining: 483ms\n",
      "21:\tlearn: 0.4784481\ttotal: 58.7ms\tremaining: 475ms\n",
      "22:\tlearn: 0.4715583\ttotal: 60.9ms\tremaining: 468ms\n",
      "23:\tlearn: 0.4637144\ttotal: 63.1ms\tremaining: 462ms\n",
      "24:\tlearn: 0.4575312\ttotal: 65.3ms\tremaining: 457ms\n",
      "25:\tlearn: 0.4516538\ttotal: 67.4ms\tremaining: 451ms\n",
      "26:\tlearn: 0.4458718\ttotal: 69.5ms\tremaining: 445ms\n",
      "27:\tlearn: 0.4390785\ttotal: 71.6ms\tremaining: 440ms\n",
      "28:\tlearn: 0.4331708\ttotal: 74ms\tremaining: 436ms\n",
      "29:\tlearn: 0.4286030\ttotal: 76.3ms\tremaining: 433ms\n",
      "30:\tlearn: 0.4228651\ttotal: 78.4ms\tremaining: 428ms\n",
      "31:\tlearn: 0.4166760\ttotal: 80.7ms\tremaining: 424ms\n",
      "32:\tlearn: 0.4104376\ttotal: 82.8ms\tremaining: 419ms\n",
      "33:\tlearn: 0.4042714\ttotal: 84.9ms\tremaining: 414ms\n",
      "34:\tlearn: 0.3999157\ttotal: 86.9ms\tremaining: 410ms\n",
      "35:\tlearn: 0.3950311\ttotal: 89.3ms\tremaining: 407ms\n",
      "36:\tlearn: 0.3896742\ttotal: 91.7ms\tremaining: 404ms\n",
      "37:\tlearn: 0.3840913\ttotal: 93.8ms\tremaining: 400ms\n",
      "38:\tlearn: 0.3798846\ttotal: 95.8ms\tremaining: 396ms\n",
      "39:\tlearn: 0.3761659\ttotal: 98.1ms\tremaining: 392ms\n",
      "40:\tlearn: 0.3719288\ttotal: 100ms\tremaining: 389ms\n",
      "41:\tlearn: 0.3676044\ttotal: 103ms\tremaining: 386ms\n",
      "42:\tlearn: 0.3636046\ttotal: 105ms\tremaining: 383ms\n",
      "43:\tlearn: 0.3598357\ttotal: 107ms\tremaining: 380ms\n",
      "44:\tlearn: 0.3564176\ttotal: 109ms\tremaining: 376ms\n",
      "45:\tlearn: 0.3521349\ttotal: 111ms\tremaining: 373ms\n",
      "46:\tlearn: 0.3486684\ttotal: 114ms\tremaining: 370ms\n",
      "47:\tlearn: 0.3442428\ttotal: 116ms\tremaining: 367ms\n",
      "48:\tlearn: 0.3410051\ttotal: 118ms\tremaining: 363ms\n",
      "49:\tlearn: 0.3370356\ttotal: 120ms\tremaining: 360ms\n",
      "50:\tlearn: 0.3326928\ttotal: 122ms\tremaining: 357ms\n",
      "51:\tlearn: 0.3285918\ttotal: 124ms\tremaining: 354ms\n",
      "52:\tlearn: 0.3252252\ttotal: 126ms\tremaining: 350ms\n",
      "53:\tlearn: 0.3218341\ttotal: 128ms\tremaining: 347ms\n",
      "54:\tlearn: 0.3189722\ttotal: 131ms\tremaining: 345ms\n",
      "55:\tlearn: 0.3153162\ttotal: 133ms\tremaining: 342ms\n",
      "56:\tlearn: 0.3120761\ttotal: 135ms\tremaining: 339ms\n",
      "57:\tlearn: 0.3087748\ttotal: 137ms\tremaining: 336ms\n",
      "58:\tlearn: 0.3060179\ttotal: 140ms\tremaining: 334ms\n",
      "59:\tlearn: 0.3026971\ttotal: 142ms\tremaining: 331ms\n",
      "60:\tlearn: 0.2998390\ttotal: 145ms\tremaining: 329ms\n",
      "61:\tlearn: 0.2970399\ttotal: 148ms\tremaining: 329ms\n",
      "62:\tlearn: 0.2941901\ttotal: 150ms\tremaining: 327ms\n",
      "63:\tlearn: 0.2917635\ttotal: 154ms\tremaining: 327ms\n",
      "64:\tlearn: 0.2885547\ttotal: 157ms\tremaining: 326ms\n",
      "65:\tlearn: 0.2863958\ttotal: 161ms\tremaining: 328ms\n",
      "66:\tlearn: 0.2837500\ttotal: 164ms\tremaining: 326ms\n",
      "67:\tlearn: 0.2816610\ttotal: 166ms\tremaining: 323ms\n",
      "68:\tlearn: 0.2802054\ttotal: 169ms\tremaining: 321ms\n",
      "69:\tlearn: 0.2778397\ttotal: 174ms\tremaining: 323ms\n",
      "70:\tlearn: 0.2750481\ttotal: 176ms\tremaining: 320ms\n",
      "71:\tlearn: 0.2725332\ttotal: 178ms\tremaining: 317ms\n",
      "72:\tlearn: 0.2704502\ttotal: 181ms\tremaining: 314ms\n",
      "73:\tlearn: 0.2682381\ttotal: 183ms\tremaining: 311ms\n",
      "74:\tlearn: 0.2657273\ttotal: 186ms\tremaining: 309ms\n",
      "75:\tlearn: 0.2642434\ttotal: 188ms\tremaining: 306ms\n",
      "76:\tlearn: 0.2623961\ttotal: 190ms\tremaining: 304ms\n",
      "77:\tlearn: 0.2599664\ttotal: 192ms\tremaining: 300ms\n",
      "78:\tlearn: 0.2578682\ttotal: 194ms\tremaining: 298ms\n",
      "79:\tlearn: 0.2565253\ttotal: 197ms\tremaining: 295ms\n",
      "80:\tlearn: 0.2545054\ttotal: 199ms\tremaining: 292ms\n",
      "81:\tlearn: 0.2532395\ttotal: 201ms\tremaining: 289ms\n",
      "82:\tlearn: 0.2514529\ttotal: 203ms\tremaining: 286ms\n",
      "83:\tlearn: 0.2501983\ttotal: 205ms\tremaining: 283ms\n",
      "84:\tlearn: 0.2482217\ttotal: 207ms\tremaining: 280ms\n",
      "85:\tlearn: 0.2464743\ttotal: 209ms\tremaining: 277ms\n",
      "86:\tlearn: 0.2446962\ttotal: 211ms\tremaining: 274ms\n",
      "87:\tlearn: 0.2431187\ttotal: 214ms\tremaining: 272ms\n",
      "88:\tlearn: 0.2416417\ttotal: 216ms\tremaining: 269ms\n",
      "89:\tlearn: 0.2397428\ttotal: 218ms\tremaining: 266ms\n",
      "90:\tlearn: 0.2381035\ttotal: 220ms\tremaining: 263ms\n",
      "91:\tlearn: 0.2366720\ttotal: 222ms\tremaining: 261ms\n",
      "92:\tlearn: 0.2352724\ttotal: 224ms\tremaining: 258ms\n",
      "93:\tlearn: 0.2338554\ttotal: 226ms\tremaining: 255ms\n",
      "94:\tlearn: 0.2328591\ttotal: 230ms\tremaining: 254ms\n",
      "95:\tlearn: 0.2316140\ttotal: 233ms\tremaining: 252ms\n",
      "96:\tlearn: 0.2304230\ttotal: 235ms\tremaining: 250ms\n",
      "97:\tlearn: 0.2292944\ttotal: 237ms\tremaining: 247ms\n",
      "98:\tlearn: 0.2280610\ttotal: 239ms\tremaining: 244ms\n",
      "99:\tlearn: 0.2268060\ttotal: 241ms\tremaining: 241ms\n",
      "100:\tlearn: 0.2255406\ttotal: 243ms\tremaining: 239ms\n",
      "101:\tlearn: 0.2243054\ttotal: 245ms\tremaining: 236ms\n",
      "102:\tlearn: 0.2233191\ttotal: 247ms\tremaining: 233ms\n",
      "103:\tlearn: 0.2220268\ttotal: 250ms\tremaining: 230ms\n",
      "104:\tlearn: 0.2204613\ttotal: 252ms\tremaining: 228ms\n",
      "105:\tlearn: 0.2196124\ttotal: 254ms\tremaining: 225ms\n",
      "106:\tlearn: 0.2186567\ttotal: 256ms\tremaining: 223ms\n",
      "107:\tlearn: 0.2175736\ttotal: 258ms\tremaining: 220ms\n",
      "108:\tlearn: 0.2165197\ttotal: 260ms\tremaining: 217ms\n",
      "109:\tlearn: 0.2156542\ttotal: 262ms\tremaining: 215ms\n",
      "110:\tlearn: 0.2143437\ttotal: 264ms\tremaining: 212ms\n",
      "111:\tlearn: 0.2131747\ttotal: 267ms\tremaining: 209ms\n",
      "112:\tlearn: 0.2119980\ttotal: 269ms\tremaining: 207ms\n",
      "113:\tlearn: 0.2109198\ttotal: 271ms\tremaining: 204ms\n",
      "114:\tlearn: 0.2099278\ttotal: 273ms\tremaining: 202ms\n",
      "115:\tlearn: 0.2089710\ttotal: 275ms\tremaining: 199ms\n",
      "116:\tlearn: 0.2078568\ttotal: 277ms\tremaining: 197ms\n",
      "117:\tlearn: 0.2069162\ttotal: 280ms\tremaining: 194ms\n",
      "118:\tlearn: 0.2058148\ttotal: 282ms\tremaining: 192ms\n",
      "119:\tlearn: 0.2046911\ttotal: 284ms\tremaining: 189ms\n",
      "120:\tlearn: 0.2035855\ttotal: 286ms\tremaining: 187ms\n",
      "121:\tlearn: 0.2025143\ttotal: 288ms\tremaining: 184ms\n",
      "122:\tlearn: 0.2019012\ttotal: 290ms\tremaining: 181ms\n",
      "123:\tlearn: 0.2009129\ttotal: 292ms\tremaining: 179ms\n",
      "124:\tlearn: 0.2002404\ttotal: 294ms\tremaining: 176ms\n",
      "125:\tlearn: 0.1993151\ttotal: 296ms\tremaining: 174ms\n",
      "126:\tlearn: 0.1984941\ttotal: 298ms\tremaining: 172ms\n",
      "127:\tlearn: 0.1977671\ttotal: 301ms\tremaining: 169ms\n",
      "128:\tlearn: 0.1969313\ttotal: 303ms\tremaining: 167ms\n",
      "129:\tlearn: 0.1959780\ttotal: 305ms\tremaining: 164ms\n",
      "130:\tlearn: 0.1952706\ttotal: 308ms\tremaining: 162ms\n",
      "131:\tlearn: 0.1944103\ttotal: 311ms\tremaining: 160ms\n",
      "132:\tlearn: 0.1938108\ttotal: 313ms\tremaining: 158ms\n",
      "133:\tlearn: 0.1930903\ttotal: 316ms\tremaining: 155ms\n",
      "134:\tlearn: 0.1924099\ttotal: 319ms\tremaining: 153ms\n",
      "135:\tlearn: 0.1916778\ttotal: 321ms\tremaining: 151ms\n",
      "136:\tlearn: 0.1907394\ttotal: 324ms\tremaining: 149ms\n",
      "137:\tlearn: 0.1899826\ttotal: 327ms\tremaining: 147ms\n",
      "138:\tlearn: 0.1894210\ttotal: 329ms\tremaining: 145ms\n",
      "139:\tlearn: 0.1887462\ttotal: 332ms\tremaining: 142ms\n",
      "140:\tlearn: 0.1880035\ttotal: 334ms\tremaining: 140ms\n",
      "141:\tlearn: 0.1875050\ttotal: 336ms\tremaining: 137ms\n",
      "142:\tlearn: 0.1868852\ttotal: 339ms\tremaining: 135ms\n",
      "143:\tlearn: 0.1860336\ttotal: 341ms\tremaining: 133ms\n",
      "144:\tlearn: 0.1853168\ttotal: 344ms\tremaining: 130ms\n",
      "145:\tlearn: 0.1845945\ttotal: 346ms\tremaining: 128ms\n",
      "146:\tlearn: 0.1839786\ttotal: 349ms\tremaining: 126ms\n",
      "147:\tlearn: 0.1832279\ttotal: 351ms\tremaining: 123ms\n",
      "148:\tlearn: 0.1825168\ttotal: 354ms\tremaining: 121ms\n",
      "149:\tlearn: 0.1819498\ttotal: 356ms\tremaining: 119ms\n",
      "150:\tlearn: 0.1813268\ttotal: 358ms\tremaining: 116ms\n",
      "151:\tlearn: 0.1805728\ttotal: 360ms\tremaining: 114ms\n",
      "152:\tlearn: 0.1799873\ttotal: 363ms\tremaining: 111ms\n",
      "153:\tlearn: 0.1796368\ttotal: 365ms\tremaining: 109ms\n",
      "154:\tlearn: 0.1787301\ttotal: 367ms\tremaining: 106ms\n",
      "155:\tlearn: 0.1781341\ttotal: 369ms\tremaining: 104ms\n",
      "156:\tlearn: 0.1774812\ttotal: 371ms\tremaining: 102ms\n",
      "157:\tlearn: 0.1770219\ttotal: 373ms\tremaining: 99.2ms\n",
      "158:\tlearn: 0.1763491\ttotal: 375ms\tremaining: 96.8ms\n",
      "159:\tlearn: 0.1758330\ttotal: 377ms\tremaining: 94.3ms\n",
      "160:\tlearn: 0.1752938\ttotal: 380ms\tremaining: 92ms\n",
      "161:\tlearn: 0.1747069\ttotal: 382ms\tremaining: 89.6ms\n",
      "162:\tlearn: 0.1742052\ttotal: 385ms\tremaining: 87.3ms\n",
      "163:\tlearn: 0.1736888\ttotal: 387ms\tremaining: 84.9ms\n",
      "164:\tlearn: 0.1730531\ttotal: 389ms\tremaining: 82.5ms\n",
      "165:\tlearn: 0.1723234\ttotal: 391ms\tremaining: 80.1ms\n",
      "166:\tlearn: 0.1715545\ttotal: 394ms\tremaining: 77.8ms\n",
      "167:\tlearn: 0.1711480\ttotal: 396ms\tremaining: 75.4ms\n",
      "168:\tlearn: 0.1706301\ttotal: 398ms\tremaining: 73ms\n",
      "169:\tlearn: 0.1700416\ttotal: 400ms\tremaining: 70.6ms\n",
      "170:\tlearn: 0.1695420\ttotal: 402ms\tremaining: 68.2ms\n",
      "171:\tlearn: 0.1690559\ttotal: 404ms\tremaining: 65.8ms\n",
      "172:\tlearn: 0.1686247\ttotal: 407ms\tremaining: 63.5ms\n",
      "173:\tlearn: 0.1680346\ttotal: 409ms\tremaining: 61.1ms\n",
      "174:\tlearn: 0.1677810\ttotal: 411ms\tremaining: 58.7ms\n",
      "175:\tlearn: 0.1672829\ttotal: 413ms\tremaining: 56.3ms\n",
      "176:\tlearn: 0.1667477\ttotal: 415ms\tremaining: 53.9ms\n",
      "177:\tlearn: 0.1661985\ttotal: 417ms\tremaining: 51.6ms\n",
      "178:\tlearn: 0.1657353\ttotal: 419ms\tremaining: 49.2ms\n",
      "179:\tlearn: 0.1653981\ttotal: 422ms\tremaining: 46.9ms\n",
      "180:\tlearn: 0.1650552\ttotal: 424ms\tremaining: 44.5ms\n",
      "181:\tlearn: 0.1644329\ttotal: 426ms\tremaining: 42.1ms\n",
      "182:\tlearn: 0.1639771\ttotal: 428ms\tremaining: 39.8ms\n",
      "183:\tlearn: 0.1635578\ttotal: 430ms\tremaining: 37.4ms\n",
      "184:\tlearn: 0.1629064\ttotal: 432ms\tremaining: 35ms\n",
      "185:\tlearn: 0.1624619\ttotal: 435ms\tremaining: 32.7ms\n",
      "186:\tlearn: 0.1620535\ttotal: 437ms\tremaining: 30.4ms\n",
      "187:\tlearn: 0.1615714\ttotal: 439ms\tremaining: 28ms\n",
      "188:\tlearn: 0.1612196\ttotal: 441ms\tremaining: 25.7ms\n",
      "189:\tlearn: 0.1608271\ttotal: 443ms\tremaining: 23.3ms\n",
      "190:\tlearn: 0.1605970\ttotal: 445ms\tremaining: 21ms\n",
      "191:\tlearn: 0.1601555\ttotal: 447ms\tremaining: 18.6ms\n",
      "192:\tlearn: 0.1597737\ttotal: 449ms\tremaining: 16.3ms\n",
      "193:\tlearn: 0.1593419\ttotal: 451ms\tremaining: 14ms\n",
      "194:\tlearn: 0.1587733\ttotal: 453ms\tremaining: 11.6ms\n",
      "195:\tlearn: 0.1584393\ttotal: 456ms\tremaining: 9.3ms\n",
      "196:\tlearn: 0.1580781\ttotal: 458ms\tremaining: 6.97ms\n",
      "197:\tlearn: 0.1577702\ttotal: 460ms\tremaining: 4.64ms\n",
      "198:\tlearn: 0.1573444\ttotal: 463ms\tremaining: 2.33ms\n",
      "199:\tlearn: 0.1569891\ttotal: 465ms\tremaining: 0us\n"
     ]
    }
   ],
   "source": [
    "model_catboost_cv=GridSearchCV(CatBoostClassifier(), catboost_param, cv=10, n_jobs=-1, verbose=2).fit(X_train, y_train)"
   ]
  },
  {
   "cell_type": "code",
   "execution_count": 93,
   "id": "1b77d74b",
   "metadata": {},
   "outputs": [
    {
     "data": {
      "text/plain": [
       "{'depth': 5, 'iterations': 200, 'learning_rate': 0.01}"
      ]
     },
     "execution_count": 93,
     "metadata": {},
     "output_type": "execute_result"
    }
   ],
   "source": [
    "model_catboost_cv.best_params_"
   ]
  },
  {
   "cell_type": "code",
   "execution_count": 94,
   "id": "7c548789",
   "metadata": {},
   "outputs": [
    {
     "name": "stdout",
     "output_type": "stream",
     "text": [
      "0:\tlearn: 0.6807018\ttotal: 2.42ms\tremaining: 481ms\n",
      "1:\tlearn: 0.6681116\ttotal: 4.87ms\tremaining: 482ms\n",
      "2:\tlearn: 0.6568915\ttotal: 7.27ms\tremaining: 477ms\n",
      "3:\tlearn: 0.6463871\ttotal: 9.63ms\tremaining: 472ms\n",
      "4:\tlearn: 0.6379844\ttotal: 11.8ms\tremaining: 460ms\n",
      "5:\tlearn: 0.6268298\ttotal: 13.9ms\tremaining: 449ms\n",
      "6:\tlearn: 0.6159326\ttotal: 16.1ms\tremaining: 443ms\n",
      "7:\tlearn: 0.6048738\ttotal: 18.2ms\tremaining: 436ms\n",
      "8:\tlearn: 0.5937884\ttotal: 20.4ms\tremaining: 432ms\n",
      "9:\tlearn: 0.5832610\ttotal: 22.7ms\tremaining: 431ms\n",
      "10:\tlearn: 0.5726641\ttotal: 25ms\tremaining: 430ms\n",
      "11:\tlearn: 0.5624597\ttotal: 27.2ms\tremaining: 427ms\n",
      "12:\tlearn: 0.5536745\ttotal: 29.4ms\tremaining: 422ms\n",
      "13:\tlearn: 0.5435933\ttotal: 31.4ms\tremaining: 418ms\n",
      "14:\tlearn: 0.5350222\ttotal: 34.1ms\tremaining: 420ms\n",
      "15:\tlearn: 0.5269721\ttotal: 36.4ms\tremaining: 419ms\n",
      "16:\tlearn: 0.5181182\ttotal: 38.5ms\tremaining: 414ms\n",
      "17:\tlearn: 0.5090729\ttotal: 40.7ms\tremaining: 411ms\n",
      "18:\tlearn: 0.5009922\ttotal: 42.9ms\tremaining: 409ms\n",
      "19:\tlearn: 0.4925794\ttotal: 45.1ms\tremaining: 406ms\n",
      "20:\tlearn: 0.4856023\ttotal: 47.7ms\tremaining: 407ms\n",
      "21:\tlearn: 0.4784481\ttotal: 49.9ms\tremaining: 404ms\n",
      "22:\tlearn: 0.4715583\ttotal: 52.3ms\tremaining: 403ms\n",
      "23:\tlearn: 0.4637144\ttotal: 54.5ms\tremaining: 400ms\n",
      "24:\tlearn: 0.4575312\ttotal: 56.9ms\tremaining: 398ms\n",
      "25:\tlearn: 0.4516538\ttotal: 59.2ms\tremaining: 396ms\n",
      "26:\tlearn: 0.4458718\ttotal: 61.3ms\tremaining: 393ms\n",
      "27:\tlearn: 0.4390785\ttotal: 63.4ms\tremaining: 389ms\n",
      "28:\tlearn: 0.4331708\ttotal: 65.6ms\tremaining: 387ms\n",
      "29:\tlearn: 0.4286030\ttotal: 68.2ms\tremaining: 386ms\n",
      "30:\tlearn: 0.4228651\ttotal: 70.5ms\tremaining: 384ms\n",
      "31:\tlearn: 0.4166760\ttotal: 73ms\tremaining: 383ms\n",
      "32:\tlearn: 0.4104376\ttotal: 76.6ms\tremaining: 388ms\n",
      "33:\tlearn: 0.4042714\ttotal: 79.1ms\tremaining: 386ms\n",
      "34:\tlearn: 0.3999157\ttotal: 81.4ms\tremaining: 384ms\n",
      "35:\tlearn: 0.3950311\ttotal: 84.1ms\tremaining: 383ms\n",
      "36:\tlearn: 0.3896742\ttotal: 86.7ms\tremaining: 382ms\n",
      "37:\tlearn: 0.3840913\ttotal: 89.2ms\tremaining: 380ms\n",
      "38:\tlearn: 0.3798846\ttotal: 91.7ms\tremaining: 379ms\n",
      "39:\tlearn: 0.3761659\ttotal: 94.6ms\tremaining: 378ms\n",
      "40:\tlearn: 0.3719288\ttotal: 97.2ms\tremaining: 377ms\n",
      "41:\tlearn: 0.3676044\ttotal: 100ms\tremaining: 377ms\n",
      "42:\tlearn: 0.3636046\ttotal: 103ms\tremaining: 376ms\n",
      "43:\tlearn: 0.3598357\ttotal: 105ms\tremaining: 373ms\n",
      "44:\tlearn: 0.3564176\ttotal: 108ms\tremaining: 371ms\n",
      "45:\tlearn: 0.3521349\ttotal: 110ms\tremaining: 368ms\n",
      "46:\tlearn: 0.3486684\ttotal: 112ms\tremaining: 365ms\n",
      "47:\tlearn: 0.3442428\ttotal: 114ms\tremaining: 361ms\n",
      "48:\tlearn: 0.3410051\ttotal: 118ms\tremaining: 362ms\n",
      "49:\tlearn: 0.3370356\ttotal: 120ms\tremaining: 359ms\n",
      "50:\tlearn: 0.3326928\ttotal: 122ms\tremaining: 356ms\n",
      "51:\tlearn: 0.3285918\ttotal: 124ms\tremaining: 353ms\n",
      "52:\tlearn: 0.3252252\ttotal: 127ms\tremaining: 352ms\n",
      "53:\tlearn: 0.3218341\ttotal: 130ms\tremaining: 351ms\n",
      "54:\tlearn: 0.3189722\ttotal: 133ms\tremaining: 350ms\n",
      "55:\tlearn: 0.3153162\ttotal: 136ms\tremaining: 349ms\n",
      "56:\tlearn: 0.3120761\ttotal: 139ms\tremaining: 349ms\n",
      "57:\tlearn: 0.3087748\ttotal: 142ms\tremaining: 348ms\n",
      "58:\tlearn: 0.3060179\ttotal: 144ms\tremaining: 345ms\n",
      "59:\tlearn: 0.3026971\ttotal: 146ms\tremaining: 342ms\n",
      "60:\tlearn: 0.2998390\ttotal: 150ms\tremaining: 341ms\n",
      "61:\tlearn: 0.2970399\ttotal: 152ms\tremaining: 338ms\n",
      "62:\tlearn: 0.2941901\ttotal: 154ms\tremaining: 335ms\n",
      "63:\tlearn: 0.2917635\ttotal: 156ms\tremaining: 332ms\n",
      "64:\tlearn: 0.2885547\ttotal: 159ms\tremaining: 331ms\n",
      "65:\tlearn: 0.2863958\ttotal: 162ms\tremaining: 328ms\n",
      "66:\tlearn: 0.2837500\ttotal: 165ms\tremaining: 327ms\n",
      "67:\tlearn: 0.2816610\ttotal: 167ms\tremaining: 324ms\n",
      "68:\tlearn: 0.2802054\ttotal: 170ms\tremaining: 323ms\n",
      "69:\tlearn: 0.2778397\ttotal: 172ms\tremaining: 319ms\n",
      "70:\tlearn: 0.2750481\ttotal: 174ms\tremaining: 316ms\n",
      "71:\tlearn: 0.2725332\ttotal: 177ms\tremaining: 314ms\n",
      "72:\tlearn: 0.2704502\ttotal: 179ms\tremaining: 311ms\n",
      "73:\tlearn: 0.2682381\ttotal: 181ms\tremaining: 308ms\n",
      "74:\tlearn: 0.2657273\ttotal: 183ms\tremaining: 305ms\n",
      "75:\tlearn: 0.2642434\ttotal: 185ms\tremaining: 302ms\n",
      "76:\tlearn: 0.2623961\ttotal: 187ms\tremaining: 299ms\n",
      "77:\tlearn: 0.2599664\ttotal: 189ms\tremaining: 296ms\n",
      "78:\tlearn: 0.2578682\ttotal: 192ms\tremaining: 293ms\n",
      "79:\tlearn: 0.2565253\ttotal: 194ms\tremaining: 290ms\n",
      "80:\tlearn: 0.2545054\ttotal: 196ms\tremaining: 287ms\n",
      "81:\tlearn: 0.2532395\ttotal: 198ms\tremaining: 284ms\n",
      "82:\tlearn: 0.2514529\ttotal: 200ms\tremaining: 282ms\n",
      "83:\tlearn: 0.2501983\ttotal: 202ms\tremaining: 279ms\n",
      "84:\tlearn: 0.2482217\ttotal: 204ms\tremaining: 276ms\n",
      "85:\tlearn: 0.2464743\ttotal: 206ms\tremaining: 273ms\n",
      "86:\tlearn: 0.2446962\ttotal: 208ms\tremaining: 270ms\n",
      "87:\tlearn: 0.2431187\ttotal: 210ms\tremaining: 268ms\n",
      "88:\tlearn: 0.2416417\ttotal: 212ms\tremaining: 265ms\n",
      "89:\tlearn: 0.2397428\ttotal: 214ms\tremaining: 262ms\n",
      "90:\tlearn: 0.2381035\ttotal: 217ms\tremaining: 259ms\n",
      "91:\tlearn: 0.2366720\ttotal: 219ms\tremaining: 257ms\n",
      "92:\tlearn: 0.2352724\ttotal: 221ms\tremaining: 254ms\n",
      "93:\tlearn: 0.2338554\ttotal: 223ms\tremaining: 251ms\n",
      "94:\tlearn: 0.2328591\ttotal: 225ms\tremaining: 249ms\n",
      "95:\tlearn: 0.2316140\ttotal: 227ms\tremaining: 246ms\n",
      "96:\tlearn: 0.2304230\ttotal: 229ms\tremaining: 243ms\n",
      "97:\tlearn: 0.2292944\ttotal: 231ms\tremaining: 240ms\n",
      "98:\tlearn: 0.2280610\ttotal: 233ms\tremaining: 238ms\n",
      "99:\tlearn: 0.2268060\ttotal: 235ms\tremaining: 235ms\n",
      "100:\tlearn: 0.2255406\ttotal: 237ms\tremaining: 233ms\n",
      "101:\tlearn: 0.2243054\ttotal: 239ms\tremaining: 230ms\n",
      "102:\tlearn: 0.2233191\ttotal: 242ms\tremaining: 227ms\n",
      "103:\tlearn: 0.2220268\ttotal: 244ms\tremaining: 225ms\n",
      "104:\tlearn: 0.2204613\ttotal: 246ms\tremaining: 222ms\n",
      "105:\tlearn: 0.2196124\ttotal: 251ms\tremaining: 222ms\n",
      "106:\tlearn: 0.2186567\ttotal: 253ms\tremaining: 220ms\n",
      "107:\tlearn: 0.2175736\ttotal: 257ms\tremaining: 219ms\n",
      "108:\tlearn: 0.2165197\ttotal: 260ms\tremaining: 217ms\n",
      "109:\tlearn: 0.2156542\ttotal: 262ms\tremaining: 214ms\n",
      "110:\tlearn: 0.2143437\ttotal: 264ms\tremaining: 212ms\n",
      "111:\tlearn: 0.2131747\ttotal: 266ms\tremaining: 209ms\n",
      "112:\tlearn: 0.2119980\ttotal: 268ms\tremaining: 207ms\n",
      "113:\tlearn: 0.2109198\ttotal: 270ms\tremaining: 204ms\n",
      "114:\tlearn: 0.2099278\ttotal: 272ms\tremaining: 201ms\n",
      "115:\tlearn: 0.2089710\ttotal: 275ms\tremaining: 199ms\n",
      "116:\tlearn: 0.2078568\ttotal: 277ms\tremaining: 196ms\n",
      "117:\tlearn: 0.2069162\ttotal: 279ms\tremaining: 194ms\n",
      "118:\tlearn: 0.2058148\ttotal: 281ms\tremaining: 191ms\n",
      "119:\tlearn: 0.2046911\ttotal: 283ms\tremaining: 189ms\n",
      "120:\tlearn: 0.2035855\ttotal: 285ms\tremaining: 186ms\n",
      "121:\tlearn: 0.2025143\ttotal: 287ms\tremaining: 184ms\n",
      "122:\tlearn: 0.2019012\ttotal: 289ms\tremaining: 181ms\n",
      "123:\tlearn: 0.2009129\ttotal: 291ms\tremaining: 178ms\n",
      "124:\tlearn: 0.2002404\ttotal: 293ms\tremaining: 176ms\n",
      "125:\tlearn: 0.1993151\ttotal: 295ms\tremaining: 173ms\n",
      "126:\tlearn: 0.1984941\ttotal: 297ms\tremaining: 171ms\n",
      "127:\tlearn: 0.1977671\ttotal: 299ms\tremaining: 168ms\n",
      "128:\tlearn: 0.1969313\ttotal: 301ms\tremaining: 166ms\n",
      "129:\tlearn: 0.1959780\ttotal: 303ms\tremaining: 163ms\n",
      "130:\tlearn: 0.1952706\ttotal: 305ms\tremaining: 161ms\n",
      "131:\tlearn: 0.1944103\ttotal: 308ms\tremaining: 159ms\n",
      "132:\tlearn: 0.1938108\ttotal: 310ms\tremaining: 156ms\n",
      "133:\tlearn: 0.1930903\ttotal: 312ms\tremaining: 154ms\n",
      "134:\tlearn: 0.1924099\ttotal: 315ms\tremaining: 151ms\n",
      "135:\tlearn: 0.1916778\ttotal: 318ms\tremaining: 150ms\n",
      "136:\tlearn: 0.1907394\ttotal: 320ms\tremaining: 147ms\n",
      "137:\tlearn: 0.1899826\ttotal: 323ms\tremaining: 145ms\n",
      "138:\tlearn: 0.1894210\ttotal: 326ms\tremaining: 143ms\n",
      "139:\tlearn: 0.1887462\ttotal: 329ms\tremaining: 141ms\n",
      "140:\tlearn: 0.1880035\ttotal: 331ms\tremaining: 139ms\n",
      "141:\tlearn: 0.1875050\ttotal: 334ms\tremaining: 136ms\n",
      "142:\tlearn: 0.1868852\ttotal: 336ms\tremaining: 134ms\n",
      "143:\tlearn: 0.1860336\ttotal: 338ms\tremaining: 132ms\n",
      "144:\tlearn: 0.1853168\ttotal: 341ms\tremaining: 129ms\n",
      "145:\tlearn: 0.1845945\ttotal: 344ms\tremaining: 127ms\n",
      "146:\tlearn: 0.1839786\ttotal: 346ms\tremaining: 125ms\n",
      "147:\tlearn: 0.1832279\ttotal: 348ms\tremaining: 122ms\n",
      "148:\tlearn: 0.1825168\ttotal: 351ms\tremaining: 120ms\n",
      "149:\tlearn: 0.1819498\ttotal: 353ms\tremaining: 118ms\n",
      "150:\tlearn: 0.1813268\ttotal: 355ms\tremaining: 115ms\n",
      "151:\tlearn: 0.1805728\ttotal: 357ms\tremaining: 113ms\n",
      "152:\tlearn: 0.1799873\ttotal: 359ms\tremaining: 110ms\n",
      "153:\tlearn: 0.1796368\ttotal: 361ms\tremaining: 108ms\n",
      "154:\tlearn: 0.1787301\ttotal: 363ms\tremaining: 105ms\n",
      "155:\tlearn: 0.1781341\ttotal: 366ms\tremaining: 103ms\n",
      "156:\tlearn: 0.1774812\ttotal: 368ms\tremaining: 101ms\n",
      "157:\tlearn: 0.1770219\ttotal: 370ms\tremaining: 98.3ms\n",
      "158:\tlearn: 0.1763491\ttotal: 372ms\tremaining: 95.9ms\n",
      "159:\tlearn: 0.1758330\ttotal: 374ms\tremaining: 93.5ms\n",
      "160:\tlearn: 0.1752938\ttotal: 376ms\tremaining: 91.2ms\n",
      "161:\tlearn: 0.1747069\ttotal: 379ms\tremaining: 88.8ms\n",
      "162:\tlearn: 0.1742052\ttotal: 381ms\tremaining: 86.4ms\n",
      "163:\tlearn: 0.1736888\ttotal: 383ms\tremaining: 84ms\n",
      "164:\tlearn: 0.1730531\ttotal: 385ms\tremaining: 81.7ms\n",
      "165:\tlearn: 0.1723234\ttotal: 387ms\tremaining: 79.3ms\n",
      "166:\tlearn: 0.1715545\ttotal: 389ms\tremaining: 76.9ms\n",
      "167:\tlearn: 0.1711480\ttotal: 391ms\tremaining: 74.6ms\n",
      "168:\tlearn: 0.1706301\ttotal: 394ms\tremaining: 72.2ms\n",
      "169:\tlearn: 0.1700416\ttotal: 396ms\tremaining: 69.8ms\n",
      "170:\tlearn: 0.1695420\ttotal: 398ms\tremaining: 67.5ms\n",
      "171:\tlearn: 0.1690559\ttotal: 400ms\tremaining: 65.1ms\n",
      "172:\tlearn: 0.1686247\ttotal: 402ms\tremaining: 62.8ms\n",
      "173:\tlearn: 0.1680346\ttotal: 404ms\tremaining: 60.4ms\n",
      "174:\tlearn: 0.1677810\ttotal: 407ms\tremaining: 58.1ms\n",
      "175:\tlearn: 0.1672829\ttotal: 409ms\tremaining: 55.7ms\n",
      "176:\tlearn: 0.1667477\ttotal: 411ms\tremaining: 53.4ms\n",
      "177:\tlearn: 0.1661985\ttotal: 413ms\tremaining: 51ms\n",
      "178:\tlearn: 0.1657353\ttotal: 415ms\tremaining: 48.7ms\n",
      "179:\tlearn: 0.1653981\ttotal: 417ms\tremaining: 46.3ms\n",
      "180:\tlearn: 0.1650552\ttotal: 419ms\tremaining: 44ms\n",
      "181:\tlearn: 0.1644329\ttotal: 421ms\tremaining: 41.6ms\n",
      "182:\tlearn: 0.1639771\ttotal: 423ms\tremaining: 39.3ms\n",
      "183:\tlearn: 0.1635578\ttotal: 426ms\tremaining: 37ms\n",
      "184:\tlearn: 0.1629064\ttotal: 428ms\tremaining: 34.7ms\n",
      "185:\tlearn: 0.1624619\ttotal: 430ms\tremaining: 32.4ms\n",
      "186:\tlearn: 0.1620535\ttotal: 432ms\tremaining: 30.1ms\n",
      "187:\tlearn: 0.1615714\ttotal: 434ms\tremaining: 27.7ms\n",
      "188:\tlearn: 0.1612196\ttotal: 436ms\tremaining: 25.4ms\n",
      "189:\tlearn: 0.1608271\ttotal: 438ms\tremaining: 23.1ms\n",
      "190:\tlearn: 0.1605970\ttotal: 441ms\tremaining: 20.8ms\n",
      "191:\tlearn: 0.1601555\ttotal: 443ms\tremaining: 18.4ms\n",
      "192:\tlearn: 0.1597737\ttotal: 445ms\tremaining: 16.1ms\n",
      "193:\tlearn: 0.1593419\ttotal: 448ms\tremaining: 13.9ms\n",
      "194:\tlearn: 0.1587733\ttotal: 451ms\tremaining: 11.6ms\n",
      "195:\tlearn: 0.1584393\ttotal: 453ms\tremaining: 9.25ms\n",
      "196:\tlearn: 0.1580781\ttotal: 455ms\tremaining: 6.93ms\n",
      "197:\tlearn: 0.1577702\ttotal: 458ms\tremaining: 4.62ms\n",
      "198:\tlearn: 0.1573444\ttotal: 460ms\tremaining: 2.31ms\n",
      "199:\tlearn: 0.1569891\ttotal: 462ms\tremaining: 0us\n"
     ]
    }
   ],
   "source": [
    "finally_model=CatBoostClassifier(depth=5, iterations=200, learning_rate=0.01).fit(X_train, y_train)"
   ]
  },
  {
   "cell_type": "code",
   "execution_count": 95,
   "id": "bb7cc603",
   "metadata": {},
   "outputs": [],
   "source": [
    "y_predict=finally_model.predict(X_test)"
   ]
  },
  {
   "cell_type": "code",
   "execution_count": 96,
   "id": "e9f33816",
   "metadata": {},
   "outputs": [
    {
     "data": {
      "text/plain": [
       "0.9736842105263158"
      ]
     },
     "execution_count": 96,
     "metadata": {},
     "output_type": "execute_result"
    }
   ],
   "source": [
    "accuracy_score(y_test, y_predict)"
   ]
  }
 ],
 "metadata": {
  "kernelspec": {
   "display_name": "Python 3",
   "language": "python",
   "name": "python3"
  },
  "language_info": {
   "codemirror_mode": {
    "name": "ipython",
    "version": 3
   },
   "file_extension": ".py",
   "mimetype": "text/x-python",
   "name": "python",
   "nbconvert_exporter": "python",
   "pygments_lexer": "ipython3",
   "version": "3.7.0"
  }
 },
 "nbformat": 4,
 "nbformat_minor": 5
}
