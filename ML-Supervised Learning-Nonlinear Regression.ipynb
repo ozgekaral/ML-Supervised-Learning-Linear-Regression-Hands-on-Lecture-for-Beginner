{
 "cells": [
  {
   "cell_type": "markdown",
   "id": "484b770f",
   "metadata": {},
   "source": [
    "### Nonlinear Regression ###"
   ]
  },
  {
   "cell_type": "markdown",
   "id": "0e7fe4f5",
   "metadata": {},
   "source": [
    "#### KNN for Nonlinear Regression - K-Nearest Neighbor ####"
   ]
  },
  {
   "cell_type": "code",
   "execution_count": 232,
   "id": "ed4a8050",
   "metadata": {},
   "outputs": [],
   "source": [
    "import numpy as np\n",
    "import pandas as pd\n",
    "import seaborn as sns\n",
    "import statistics as scipty"
   ]
  },
  {
   "cell_type": "code",
   "execution_count": 233,
   "id": "0269aad8",
   "metadata": {},
   "outputs": [
    {
     "data": {
      "text/html": [
       "<div>\n",
       "<style scoped>\n",
       "    .dataframe tbody tr th:only-of-type {\n",
       "        vertical-align: middle;\n",
       "    }\n",
       "\n",
       "    .dataframe tbody tr th {\n",
       "        vertical-align: top;\n",
       "    }\n",
       "\n",
       "    .dataframe thead th {\n",
       "        text-align: right;\n",
       "    }\n",
       "</style>\n",
       "<table border=\"1\" class=\"dataframe\">\n",
       "  <thead>\n",
       "    <tr style=\"text-align: right;\">\n",
       "      <th></th>\n",
       "      <th>subject</th>\n",
       "      <th>timepoint</th>\n",
       "      <th>event</th>\n",
       "      <th>region</th>\n",
       "      <th>signal</th>\n",
       "    </tr>\n",
       "  </thead>\n",
       "  <tbody>\n",
       "    <tr>\n",
       "      <th>0</th>\n",
       "      <td>s13</td>\n",
       "      <td>18</td>\n",
       "      <td>stim</td>\n",
       "      <td>parietal</td>\n",
       "      <td>-0.017552</td>\n",
       "    </tr>\n",
       "    <tr>\n",
       "      <th>1</th>\n",
       "      <td>s5</td>\n",
       "      <td>14</td>\n",
       "      <td>stim</td>\n",
       "      <td>parietal</td>\n",
       "      <td>-0.080883</td>\n",
       "    </tr>\n",
       "    <tr>\n",
       "      <th>2</th>\n",
       "      <td>s12</td>\n",
       "      <td>18</td>\n",
       "      <td>stim</td>\n",
       "      <td>parietal</td>\n",
       "      <td>-0.081033</td>\n",
       "    </tr>\n",
       "    <tr>\n",
       "      <th>3</th>\n",
       "      <td>s11</td>\n",
       "      <td>18</td>\n",
       "      <td>stim</td>\n",
       "      <td>parietal</td>\n",
       "      <td>-0.046134</td>\n",
       "    </tr>\n",
       "    <tr>\n",
       "      <th>4</th>\n",
       "      <td>s10</td>\n",
       "      <td>18</td>\n",
       "      <td>stim</td>\n",
       "      <td>parietal</td>\n",
       "      <td>-0.037970</td>\n",
       "    </tr>\n",
       "    <tr>\n",
       "      <th>...</th>\n",
       "      <td>...</td>\n",
       "      <td>...</td>\n",
       "      <td>...</td>\n",
       "      <td>...</td>\n",
       "      <td>...</td>\n",
       "    </tr>\n",
       "    <tr>\n",
       "      <th>1059</th>\n",
       "      <td>s0</td>\n",
       "      <td>8</td>\n",
       "      <td>cue</td>\n",
       "      <td>frontal</td>\n",
       "      <td>0.018165</td>\n",
       "    </tr>\n",
       "    <tr>\n",
       "      <th>1060</th>\n",
       "      <td>s13</td>\n",
       "      <td>7</td>\n",
       "      <td>cue</td>\n",
       "      <td>frontal</td>\n",
       "      <td>-0.029130</td>\n",
       "    </tr>\n",
       "    <tr>\n",
       "      <th>1061</th>\n",
       "      <td>s12</td>\n",
       "      <td>7</td>\n",
       "      <td>cue</td>\n",
       "      <td>frontal</td>\n",
       "      <td>-0.004939</td>\n",
       "    </tr>\n",
       "    <tr>\n",
       "      <th>1062</th>\n",
       "      <td>s11</td>\n",
       "      <td>7</td>\n",
       "      <td>cue</td>\n",
       "      <td>frontal</td>\n",
       "      <td>-0.025367</td>\n",
       "    </tr>\n",
       "    <tr>\n",
       "      <th>1063</th>\n",
       "      <td>s0</td>\n",
       "      <td>0</td>\n",
       "      <td>cue</td>\n",
       "      <td>parietal</td>\n",
       "      <td>-0.006899</td>\n",
       "    </tr>\n",
       "  </tbody>\n",
       "</table>\n",
       "<p>1064 rows × 5 columns</p>\n",
       "</div>"
      ],
      "text/plain": [
       "     subject  timepoint event    region    signal\n",
       "0        s13         18  stim  parietal -0.017552\n",
       "1         s5         14  stim  parietal -0.080883\n",
       "2        s12         18  stim  parietal -0.081033\n",
       "3        s11         18  stim  parietal -0.046134\n",
       "4        s10         18  stim  parietal -0.037970\n",
       "...      ...        ...   ...       ...       ...\n",
       "1059      s0          8   cue   frontal  0.018165\n",
       "1060     s13          7   cue   frontal -0.029130\n",
       "1061     s12          7   cue   frontal -0.004939\n",
       "1062     s11          7   cue   frontal -0.025367\n",
       "1063      s0          0   cue  parietal -0.006899\n",
       "\n",
       "[1064 rows x 5 columns]"
      ]
     },
     "execution_count": 233,
     "metadata": {},
     "output_type": "execute_result"
    }
   ],
   "source": [
    "df_a=sns.load_dataset('fmri')\n",
    "df_a"
   ]
  },
  {
   "cell_type": "code",
   "execution_count": 234,
   "id": "64e7077a",
   "metadata": {},
   "outputs": [
    {
     "data": {
      "text/plain": [
       "subject      0\n",
       "timepoint    0\n",
       "event        0\n",
       "region       0\n",
       "signal       0\n",
       "dtype: int64"
      ]
     },
     "execution_count": 234,
     "metadata": {},
     "output_type": "execute_result"
    }
   ],
   "source": [
    "df_a.isnull().sum()"
   ]
  },
  {
   "cell_type": "code",
   "execution_count": 235,
   "id": "ddab3ef4",
   "metadata": {},
   "outputs": [
    {
     "data": {
      "text/plain": [
       "(1064, 5)"
      ]
     },
     "execution_count": 235,
     "metadata": {},
     "output_type": "execute_result"
    }
   ],
   "source": [
    "df_a.shape"
   ]
  },
  {
   "cell_type": "code",
   "execution_count": 236,
   "id": "623414ca",
   "metadata": {},
   "outputs": [
    {
     "name": "stdout",
     "output_type": "stream",
     "text": [
      "<class 'pandas.core.frame.DataFrame'>\n",
      "RangeIndex: 1064 entries, 0 to 1063\n",
      "Data columns (total 5 columns):\n",
      " #   Column     Non-Null Count  Dtype  \n",
      "---  ------     --------------  -----  \n",
      " 0   subject    1064 non-null   object \n",
      " 1   timepoint  1064 non-null   int64  \n",
      " 2   event      1064 non-null   object \n",
      " 3   region     1064 non-null   object \n",
      " 4   signal     1064 non-null   float64\n",
      "dtypes: float64(1), int64(1), object(3)\n",
      "memory usage: 41.7+ KB\n"
     ]
    }
   ],
   "source": [
    "df_a.info()"
   ]
  },
  {
   "cell_type": "code",
   "execution_count": 237,
   "id": "0f88f043",
   "metadata": {},
   "outputs": [
    {
     "data": {
      "text/html": [
       "<div>\n",
       "<style scoped>\n",
       "    .dataframe tbody tr th:only-of-type {\n",
       "        vertical-align: middle;\n",
       "    }\n",
       "\n",
       "    .dataframe tbody tr th {\n",
       "        vertical-align: top;\n",
       "    }\n",
       "\n",
       "    .dataframe thead th {\n",
       "        text-align: right;\n",
       "    }\n",
       "</style>\n",
       "<table border=\"1\" class=\"dataframe\">\n",
       "  <thead>\n",
       "    <tr style=\"text-align: right;\">\n",
       "      <th></th>\n",
       "      <th>timepoint</th>\n",
       "      <th>signal</th>\n",
       "    </tr>\n",
       "  </thead>\n",
       "  <tbody>\n",
       "    <tr>\n",
       "      <th>count</th>\n",
       "      <td>1064.000000</td>\n",
       "      <td>1064.000000</td>\n",
       "    </tr>\n",
       "    <tr>\n",
       "      <th>mean</th>\n",
       "      <td>9.000000</td>\n",
       "      <td>0.003540</td>\n",
       "    </tr>\n",
       "    <tr>\n",
       "      <th>std</th>\n",
       "      <td>5.479801</td>\n",
       "      <td>0.093930</td>\n",
       "    </tr>\n",
       "    <tr>\n",
       "      <th>min</th>\n",
       "      <td>0.000000</td>\n",
       "      <td>-0.255486</td>\n",
       "    </tr>\n",
       "    <tr>\n",
       "      <th>25%</th>\n",
       "      <td>4.000000</td>\n",
       "      <td>-0.046070</td>\n",
       "    </tr>\n",
       "    <tr>\n",
       "      <th>50%</th>\n",
       "      <td>9.000000</td>\n",
       "      <td>-0.013653</td>\n",
       "    </tr>\n",
       "    <tr>\n",
       "      <th>75%</th>\n",
       "      <td>14.000000</td>\n",
       "      <td>0.024293</td>\n",
       "    </tr>\n",
       "    <tr>\n",
       "      <th>max</th>\n",
       "      <td>18.000000</td>\n",
       "      <td>0.564985</td>\n",
       "    </tr>\n",
       "  </tbody>\n",
       "</table>\n",
       "</div>"
      ],
      "text/plain": [
       "         timepoint       signal\n",
       "count  1064.000000  1064.000000\n",
       "mean      9.000000     0.003540\n",
       "std       5.479801     0.093930\n",
       "min       0.000000    -0.255486\n",
       "25%       4.000000    -0.046070\n",
       "50%       9.000000    -0.013653\n",
       "75%      14.000000     0.024293\n",
       "max      18.000000     0.564985"
      ]
     },
     "execution_count": 237,
     "metadata": {},
     "output_type": "execute_result"
    }
   ],
   "source": [
    "df_a.describe()"
   ]
  },
  {
   "cell_type": "code",
   "execution_count": 238,
   "id": "a7ef549a",
   "metadata": {},
   "outputs": [
    {
     "data": {
      "text/plain": [
       "0       stim\n",
       "1       stim\n",
       "2       stim\n",
       "3       stim\n",
       "4       stim\n",
       "        ... \n",
       "1059     cue\n",
       "1060     cue\n",
       "1061     cue\n",
       "1062     cue\n",
       "1063     cue\n",
       "Name: event, Length: 1064, dtype: object"
      ]
     },
     "execution_count": 238,
     "metadata": {},
     "output_type": "execute_result"
    }
   ],
   "source": [
    "df_a['event']"
   ]
  },
  {
   "cell_type": "code",
   "execution_count": 239,
   "id": "0b368e07",
   "metadata": {},
   "outputs": [],
   "source": [
    "df_b=pd.get_dummies(df_a, columns=['region'], prefix=['region'])"
   ]
  },
  {
   "cell_type": "code",
   "execution_count": 240,
   "id": "4be375e2",
   "metadata": {},
   "outputs": [
    {
     "data": {
      "text/html": [
       "<div>\n",
       "<style scoped>\n",
       "    .dataframe tbody tr th:only-of-type {\n",
       "        vertical-align: middle;\n",
       "    }\n",
       "\n",
       "    .dataframe tbody tr th {\n",
       "        vertical-align: top;\n",
       "    }\n",
       "\n",
       "    .dataframe thead th {\n",
       "        text-align: right;\n",
       "    }\n",
       "</style>\n",
       "<table border=\"1\" class=\"dataframe\">\n",
       "  <thead>\n",
       "    <tr style=\"text-align: right;\">\n",
       "      <th></th>\n",
       "      <th>subject</th>\n",
       "      <th>timepoint</th>\n",
       "      <th>event</th>\n",
       "      <th>signal</th>\n",
       "      <th>region_frontal</th>\n",
       "      <th>region_parietal</th>\n",
       "    </tr>\n",
       "  </thead>\n",
       "  <tbody>\n",
       "    <tr>\n",
       "      <th>0</th>\n",
       "      <td>s13</td>\n",
       "      <td>18</td>\n",
       "      <td>stim</td>\n",
       "      <td>-0.017552</td>\n",
       "      <td>0</td>\n",
       "      <td>1</td>\n",
       "    </tr>\n",
       "    <tr>\n",
       "      <th>1</th>\n",
       "      <td>s5</td>\n",
       "      <td>14</td>\n",
       "      <td>stim</td>\n",
       "      <td>-0.080883</td>\n",
       "      <td>0</td>\n",
       "      <td>1</td>\n",
       "    </tr>\n",
       "    <tr>\n",
       "      <th>2</th>\n",
       "      <td>s12</td>\n",
       "      <td>18</td>\n",
       "      <td>stim</td>\n",
       "      <td>-0.081033</td>\n",
       "      <td>0</td>\n",
       "      <td>1</td>\n",
       "    </tr>\n",
       "    <tr>\n",
       "      <th>3</th>\n",
       "      <td>s11</td>\n",
       "      <td>18</td>\n",
       "      <td>stim</td>\n",
       "      <td>-0.046134</td>\n",
       "      <td>0</td>\n",
       "      <td>1</td>\n",
       "    </tr>\n",
       "    <tr>\n",
       "      <th>4</th>\n",
       "      <td>s10</td>\n",
       "      <td>18</td>\n",
       "      <td>stim</td>\n",
       "      <td>-0.037970</td>\n",
       "      <td>0</td>\n",
       "      <td>1</td>\n",
       "    </tr>\n",
       "    <tr>\n",
       "      <th>...</th>\n",
       "      <td>...</td>\n",
       "      <td>...</td>\n",
       "      <td>...</td>\n",
       "      <td>...</td>\n",
       "      <td>...</td>\n",
       "      <td>...</td>\n",
       "    </tr>\n",
       "    <tr>\n",
       "      <th>1059</th>\n",
       "      <td>s0</td>\n",
       "      <td>8</td>\n",
       "      <td>cue</td>\n",
       "      <td>0.018165</td>\n",
       "      <td>1</td>\n",
       "      <td>0</td>\n",
       "    </tr>\n",
       "    <tr>\n",
       "      <th>1060</th>\n",
       "      <td>s13</td>\n",
       "      <td>7</td>\n",
       "      <td>cue</td>\n",
       "      <td>-0.029130</td>\n",
       "      <td>1</td>\n",
       "      <td>0</td>\n",
       "    </tr>\n",
       "    <tr>\n",
       "      <th>1061</th>\n",
       "      <td>s12</td>\n",
       "      <td>7</td>\n",
       "      <td>cue</td>\n",
       "      <td>-0.004939</td>\n",
       "      <td>1</td>\n",
       "      <td>0</td>\n",
       "    </tr>\n",
       "    <tr>\n",
       "      <th>1062</th>\n",
       "      <td>s11</td>\n",
       "      <td>7</td>\n",
       "      <td>cue</td>\n",
       "      <td>-0.025367</td>\n",
       "      <td>1</td>\n",
       "      <td>0</td>\n",
       "    </tr>\n",
       "    <tr>\n",
       "      <th>1063</th>\n",
       "      <td>s0</td>\n",
       "      <td>0</td>\n",
       "      <td>cue</td>\n",
       "      <td>-0.006899</td>\n",
       "      <td>0</td>\n",
       "      <td>1</td>\n",
       "    </tr>\n",
       "  </tbody>\n",
       "</table>\n",
       "<p>1064 rows × 6 columns</p>\n",
       "</div>"
      ],
      "text/plain": [
       "     subject  timepoint event    signal  region_frontal  region_parietal\n",
       "0        s13         18  stim -0.017552               0                1\n",
       "1         s5         14  stim -0.080883               0                1\n",
       "2        s12         18  stim -0.081033               0                1\n",
       "3        s11         18  stim -0.046134               0                1\n",
       "4        s10         18  stim -0.037970               0                1\n",
       "...      ...        ...   ...       ...             ...              ...\n",
       "1059      s0          8   cue  0.018165               1                0\n",
       "1060     s13          7   cue -0.029130               1                0\n",
       "1061     s12          7   cue -0.004939               1                0\n",
       "1062     s11          7   cue -0.025367               1                0\n",
       "1063      s0          0   cue -0.006899               0                1\n",
       "\n",
       "[1064 rows x 6 columns]"
      ]
     },
     "execution_count": 240,
     "metadata": {},
     "output_type": "execute_result"
    }
   ],
   "source": [
    "df_b"
   ]
  },
  {
   "cell_type": "code",
   "execution_count": 241,
   "id": "dfc22619",
   "metadata": {},
   "outputs": [],
   "source": [
    "df_c=pd.get_dummies(df_b, columns=['event'], prefix=['event'])"
   ]
  },
  {
   "cell_type": "code",
   "execution_count": 242,
   "id": "77c4a4d1",
   "metadata": {},
   "outputs": [
    {
     "data": {
      "text/html": [
       "<div>\n",
       "<style scoped>\n",
       "    .dataframe tbody tr th:only-of-type {\n",
       "        vertical-align: middle;\n",
       "    }\n",
       "\n",
       "    .dataframe tbody tr th {\n",
       "        vertical-align: top;\n",
       "    }\n",
       "\n",
       "    .dataframe thead th {\n",
       "        text-align: right;\n",
       "    }\n",
       "</style>\n",
       "<table border=\"1\" class=\"dataframe\">\n",
       "  <thead>\n",
       "    <tr style=\"text-align: right;\">\n",
       "      <th></th>\n",
       "      <th>subject</th>\n",
       "      <th>timepoint</th>\n",
       "      <th>signal</th>\n",
       "      <th>region_frontal</th>\n",
       "      <th>region_parietal</th>\n",
       "      <th>event_cue</th>\n",
       "      <th>event_stim</th>\n",
       "    </tr>\n",
       "  </thead>\n",
       "  <tbody>\n",
       "    <tr>\n",
       "      <th>0</th>\n",
       "      <td>s13</td>\n",
       "      <td>18</td>\n",
       "      <td>-0.017552</td>\n",
       "      <td>0</td>\n",
       "      <td>1</td>\n",
       "      <td>0</td>\n",
       "      <td>1</td>\n",
       "    </tr>\n",
       "    <tr>\n",
       "      <th>1</th>\n",
       "      <td>s5</td>\n",
       "      <td>14</td>\n",
       "      <td>-0.080883</td>\n",
       "      <td>0</td>\n",
       "      <td>1</td>\n",
       "      <td>0</td>\n",
       "      <td>1</td>\n",
       "    </tr>\n",
       "    <tr>\n",
       "      <th>2</th>\n",
       "      <td>s12</td>\n",
       "      <td>18</td>\n",
       "      <td>-0.081033</td>\n",
       "      <td>0</td>\n",
       "      <td>1</td>\n",
       "      <td>0</td>\n",
       "      <td>1</td>\n",
       "    </tr>\n",
       "    <tr>\n",
       "      <th>3</th>\n",
       "      <td>s11</td>\n",
       "      <td>18</td>\n",
       "      <td>-0.046134</td>\n",
       "      <td>0</td>\n",
       "      <td>1</td>\n",
       "      <td>0</td>\n",
       "      <td>1</td>\n",
       "    </tr>\n",
       "    <tr>\n",
       "      <th>4</th>\n",
       "      <td>s10</td>\n",
       "      <td>18</td>\n",
       "      <td>-0.037970</td>\n",
       "      <td>0</td>\n",
       "      <td>1</td>\n",
       "      <td>0</td>\n",
       "      <td>1</td>\n",
       "    </tr>\n",
       "    <tr>\n",
       "      <th>...</th>\n",
       "      <td>...</td>\n",
       "      <td>...</td>\n",
       "      <td>...</td>\n",
       "      <td>...</td>\n",
       "      <td>...</td>\n",
       "      <td>...</td>\n",
       "      <td>...</td>\n",
       "    </tr>\n",
       "    <tr>\n",
       "      <th>1059</th>\n",
       "      <td>s0</td>\n",
       "      <td>8</td>\n",
       "      <td>0.018165</td>\n",
       "      <td>1</td>\n",
       "      <td>0</td>\n",
       "      <td>1</td>\n",
       "      <td>0</td>\n",
       "    </tr>\n",
       "    <tr>\n",
       "      <th>1060</th>\n",
       "      <td>s13</td>\n",
       "      <td>7</td>\n",
       "      <td>-0.029130</td>\n",
       "      <td>1</td>\n",
       "      <td>0</td>\n",
       "      <td>1</td>\n",
       "      <td>0</td>\n",
       "    </tr>\n",
       "    <tr>\n",
       "      <th>1061</th>\n",
       "      <td>s12</td>\n",
       "      <td>7</td>\n",
       "      <td>-0.004939</td>\n",
       "      <td>1</td>\n",
       "      <td>0</td>\n",
       "      <td>1</td>\n",
       "      <td>0</td>\n",
       "    </tr>\n",
       "    <tr>\n",
       "      <th>1062</th>\n",
       "      <td>s11</td>\n",
       "      <td>7</td>\n",
       "      <td>-0.025367</td>\n",
       "      <td>1</td>\n",
       "      <td>0</td>\n",
       "      <td>1</td>\n",
       "      <td>0</td>\n",
       "    </tr>\n",
       "    <tr>\n",
       "      <th>1063</th>\n",
       "      <td>s0</td>\n",
       "      <td>0</td>\n",
       "      <td>-0.006899</td>\n",
       "      <td>0</td>\n",
       "      <td>1</td>\n",
       "      <td>1</td>\n",
       "      <td>0</td>\n",
       "    </tr>\n",
       "  </tbody>\n",
       "</table>\n",
       "<p>1064 rows × 7 columns</p>\n",
       "</div>"
      ],
      "text/plain": [
       "     subject  timepoint    signal  region_frontal  region_parietal  event_cue  \\\n",
       "0        s13         18 -0.017552               0                1          0   \n",
       "1         s5         14 -0.080883               0                1          0   \n",
       "2        s12         18 -0.081033               0                1          0   \n",
       "3        s11         18 -0.046134               0                1          0   \n",
       "4        s10         18 -0.037970               0                1          0   \n",
       "...      ...        ...       ...             ...              ...        ...   \n",
       "1059      s0          8  0.018165               1                0          1   \n",
       "1060     s13          7 -0.029130               1                0          1   \n",
       "1061     s12          7 -0.004939               1                0          1   \n",
       "1062     s11          7 -0.025367               1                0          1   \n",
       "1063      s0          0 -0.006899               0                1          1   \n",
       "\n",
       "      event_stim  \n",
       "0              1  \n",
       "1              1  \n",
       "2              1  \n",
       "3              1  \n",
       "4              1  \n",
       "...          ...  \n",
       "1059           0  \n",
       "1060           0  \n",
       "1061           0  \n",
       "1062           0  \n",
       "1063           0  \n",
       "\n",
       "[1064 rows x 7 columns]"
      ]
     },
     "execution_count": 242,
     "metadata": {},
     "output_type": "execute_result"
    }
   ],
   "source": [
    "df_c"
   ]
  },
  {
   "cell_type": "code",
   "execution_count": 243,
   "id": "1c8a1b5a",
   "metadata": {},
   "outputs": [],
   "source": [
    "df=pd.get_dummies(df_c, columns=['subject'], prefix=['subject'])"
   ]
  },
  {
   "cell_type": "code",
   "execution_count": 244,
   "id": "bcf0474c",
   "metadata": {},
   "outputs": [
    {
     "data": {
      "text/html": [
       "<div>\n",
       "<style scoped>\n",
       "    .dataframe tbody tr th:only-of-type {\n",
       "        vertical-align: middle;\n",
       "    }\n",
       "\n",
       "    .dataframe tbody tr th {\n",
       "        vertical-align: top;\n",
       "    }\n",
       "\n",
       "    .dataframe thead th {\n",
       "        text-align: right;\n",
       "    }\n",
       "</style>\n",
       "<table border=\"1\" class=\"dataframe\">\n",
       "  <thead>\n",
       "    <tr style=\"text-align: right;\">\n",
       "      <th></th>\n",
       "      <th>timepoint</th>\n",
       "      <th>signal</th>\n",
       "      <th>region_frontal</th>\n",
       "      <th>region_parietal</th>\n",
       "      <th>event_cue</th>\n",
       "      <th>event_stim</th>\n",
       "      <th>subject_s0</th>\n",
       "      <th>subject_s1</th>\n",
       "      <th>subject_s10</th>\n",
       "      <th>subject_s11</th>\n",
       "      <th>subject_s12</th>\n",
       "      <th>subject_s13</th>\n",
       "      <th>subject_s2</th>\n",
       "      <th>subject_s3</th>\n",
       "      <th>subject_s4</th>\n",
       "      <th>subject_s5</th>\n",
       "      <th>subject_s6</th>\n",
       "      <th>subject_s7</th>\n",
       "      <th>subject_s8</th>\n",
       "      <th>subject_s9</th>\n",
       "    </tr>\n",
       "  </thead>\n",
       "  <tbody>\n",
       "    <tr>\n",
       "      <th>0</th>\n",
       "      <td>18</td>\n",
       "      <td>-0.017552</td>\n",
       "      <td>0</td>\n",
       "      <td>1</td>\n",
       "      <td>0</td>\n",
       "      <td>1</td>\n",
       "      <td>0</td>\n",
       "      <td>0</td>\n",
       "      <td>0</td>\n",
       "      <td>0</td>\n",
       "      <td>0</td>\n",
       "      <td>1</td>\n",
       "      <td>0</td>\n",
       "      <td>0</td>\n",
       "      <td>0</td>\n",
       "      <td>0</td>\n",
       "      <td>0</td>\n",
       "      <td>0</td>\n",
       "      <td>0</td>\n",
       "      <td>0</td>\n",
       "    </tr>\n",
       "    <tr>\n",
       "      <th>1</th>\n",
       "      <td>14</td>\n",
       "      <td>-0.080883</td>\n",
       "      <td>0</td>\n",
       "      <td>1</td>\n",
       "      <td>0</td>\n",
       "      <td>1</td>\n",
       "      <td>0</td>\n",
       "      <td>0</td>\n",
       "      <td>0</td>\n",
       "      <td>0</td>\n",
       "      <td>0</td>\n",
       "      <td>0</td>\n",
       "      <td>0</td>\n",
       "      <td>0</td>\n",
       "      <td>0</td>\n",
       "      <td>1</td>\n",
       "      <td>0</td>\n",
       "      <td>0</td>\n",
       "      <td>0</td>\n",
       "      <td>0</td>\n",
       "    </tr>\n",
       "    <tr>\n",
       "      <th>2</th>\n",
       "      <td>18</td>\n",
       "      <td>-0.081033</td>\n",
       "      <td>0</td>\n",
       "      <td>1</td>\n",
       "      <td>0</td>\n",
       "      <td>1</td>\n",
       "      <td>0</td>\n",
       "      <td>0</td>\n",
       "      <td>0</td>\n",
       "      <td>0</td>\n",
       "      <td>1</td>\n",
       "      <td>0</td>\n",
       "      <td>0</td>\n",
       "      <td>0</td>\n",
       "      <td>0</td>\n",
       "      <td>0</td>\n",
       "      <td>0</td>\n",
       "      <td>0</td>\n",
       "      <td>0</td>\n",
       "      <td>0</td>\n",
       "    </tr>\n",
       "    <tr>\n",
       "      <th>3</th>\n",
       "      <td>18</td>\n",
       "      <td>-0.046134</td>\n",
       "      <td>0</td>\n",
       "      <td>1</td>\n",
       "      <td>0</td>\n",
       "      <td>1</td>\n",
       "      <td>0</td>\n",
       "      <td>0</td>\n",
       "      <td>0</td>\n",
       "      <td>1</td>\n",
       "      <td>0</td>\n",
       "      <td>0</td>\n",
       "      <td>0</td>\n",
       "      <td>0</td>\n",
       "      <td>0</td>\n",
       "      <td>0</td>\n",
       "      <td>0</td>\n",
       "      <td>0</td>\n",
       "      <td>0</td>\n",
       "      <td>0</td>\n",
       "    </tr>\n",
       "    <tr>\n",
       "      <th>4</th>\n",
       "      <td>18</td>\n",
       "      <td>-0.037970</td>\n",
       "      <td>0</td>\n",
       "      <td>1</td>\n",
       "      <td>0</td>\n",
       "      <td>1</td>\n",
       "      <td>0</td>\n",
       "      <td>0</td>\n",
       "      <td>1</td>\n",
       "      <td>0</td>\n",
       "      <td>0</td>\n",
       "      <td>0</td>\n",
       "      <td>0</td>\n",
       "      <td>0</td>\n",
       "      <td>0</td>\n",
       "      <td>0</td>\n",
       "      <td>0</td>\n",
       "      <td>0</td>\n",
       "      <td>0</td>\n",
       "      <td>0</td>\n",
       "    </tr>\n",
       "    <tr>\n",
       "      <th>...</th>\n",
       "      <td>...</td>\n",
       "      <td>...</td>\n",
       "      <td>...</td>\n",
       "      <td>...</td>\n",
       "      <td>...</td>\n",
       "      <td>...</td>\n",
       "      <td>...</td>\n",
       "      <td>...</td>\n",
       "      <td>...</td>\n",
       "      <td>...</td>\n",
       "      <td>...</td>\n",
       "      <td>...</td>\n",
       "      <td>...</td>\n",
       "      <td>...</td>\n",
       "      <td>...</td>\n",
       "      <td>...</td>\n",
       "      <td>...</td>\n",
       "      <td>...</td>\n",
       "      <td>...</td>\n",
       "      <td>...</td>\n",
       "    </tr>\n",
       "    <tr>\n",
       "      <th>1059</th>\n",
       "      <td>8</td>\n",
       "      <td>0.018165</td>\n",
       "      <td>1</td>\n",
       "      <td>0</td>\n",
       "      <td>1</td>\n",
       "      <td>0</td>\n",
       "      <td>1</td>\n",
       "      <td>0</td>\n",
       "      <td>0</td>\n",
       "      <td>0</td>\n",
       "      <td>0</td>\n",
       "      <td>0</td>\n",
       "      <td>0</td>\n",
       "      <td>0</td>\n",
       "      <td>0</td>\n",
       "      <td>0</td>\n",
       "      <td>0</td>\n",
       "      <td>0</td>\n",
       "      <td>0</td>\n",
       "      <td>0</td>\n",
       "    </tr>\n",
       "    <tr>\n",
       "      <th>1060</th>\n",
       "      <td>7</td>\n",
       "      <td>-0.029130</td>\n",
       "      <td>1</td>\n",
       "      <td>0</td>\n",
       "      <td>1</td>\n",
       "      <td>0</td>\n",
       "      <td>0</td>\n",
       "      <td>0</td>\n",
       "      <td>0</td>\n",
       "      <td>0</td>\n",
       "      <td>0</td>\n",
       "      <td>1</td>\n",
       "      <td>0</td>\n",
       "      <td>0</td>\n",
       "      <td>0</td>\n",
       "      <td>0</td>\n",
       "      <td>0</td>\n",
       "      <td>0</td>\n",
       "      <td>0</td>\n",
       "      <td>0</td>\n",
       "    </tr>\n",
       "    <tr>\n",
       "      <th>1061</th>\n",
       "      <td>7</td>\n",
       "      <td>-0.004939</td>\n",
       "      <td>1</td>\n",
       "      <td>0</td>\n",
       "      <td>1</td>\n",
       "      <td>0</td>\n",
       "      <td>0</td>\n",
       "      <td>0</td>\n",
       "      <td>0</td>\n",
       "      <td>0</td>\n",
       "      <td>1</td>\n",
       "      <td>0</td>\n",
       "      <td>0</td>\n",
       "      <td>0</td>\n",
       "      <td>0</td>\n",
       "      <td>0</td>\n",
       "      <td>0</td>\n",
       "      <td>0</td>\n",
       "      <td>0</td>\n",
       "      <td>0</td>\n",
       "    </tr>\n",
       "    <tr>\n",
       "      <th>1062</th>\n",
       "      <td>7</td>\n",
       "      <td>-0.025367</td>\n",
       "      <td>1</td>\n",
       "      <td>0</td>\n",
       "      <td>1</td>\n",
       "      <td>0</td>\n",
       "      <td>0</td>\n",
       "      <td>0</td>\n",
       "      <td>0</td>\n",
       "      <td>1</td>\n",
       "      <td>0</td>\n",
       "      <td>0</td>\n",
       "      <td>0</td>\n",
       "      <td>0</td>\n",
       "      <td>0</td>\n",
       "      <td>0</td>\n",
       "      <td>0</td>\n",
       "      <td>0</td>\n",
       "      <td>0</td>\n",
       "      <td>0</td>\n",
       "    </tr>\n",
       "    <tr>\n",
       "      <th>1063</th>\n",
       "      <td>0</td>\n",
       "      <td>-0.006899</td>\n",
       "      <td>0</td>\n",
       "      <td>1</td>\n",
       "      <td>1</td>\n",
       "      <td>0</td>\n",
       "      <td>1</td>\n",
       "      <td>0</td>\n",
       "      <td>0</td>\n",
       "      <td>0</td>\n",
       "      <td>0</td>\n",
       "      <td>0</td>\n",
       "      <td>0</td>\n",
       "      <td>0</td>\n",
       "      <td>0</td>\n",
       "      <td>0</td>\n",
       "      <td>0</td>\n",
       "      <td>0</td>\n",
       "      <td>0</td>\n",
       "      <td>0</td>\n",
       "    </tr>\n",
       "  </tbody>\n",
       "</table>\n",
       "<p>1064 rows × 20 columns</p>\n",
       "</div>"
      ],
      "text/plain": [
       "      timepoint    signal  region_frontal  region_parietal  event_cue  \\\n",
       "0            18 -0.017552               0                1          0   \n",
       "1            14 -0.080883               0                1          0   \n",
       "2            18 -0.081033               0                1          0   \n",
       "3            18 -0.046134               0                1          0   \n",
       "4            18 -0.037970               0                1          0   \n",
       "...         ...       ...             ...              ...        ...   \n",
       "1059          8  0.018165               1                0          1   \n",
       "1060          7 -0.029130               1                0          1   \n",
       "1061          7 -0.004939               1                0          1   \n",
       "1062          7 -0.025367               1                0          1   \n",
       "1063          0 -0.006899               0                1          1   \n",
       "\n",
       "      event_stim  subject_s0  subject_s1  subject_s10  subject_s11  \\\n",
       "0              1           0           0            0            0   \n",
       "1              1           0           0            0            0   \n",
       "2              1           0           0            0            0   \n",
       "3              1           0           0            0            1   \n",
       "4              1           0           0            1            0   \n",
       "...          ...         ...         ...          ...          ...   \n",
       "1059           0           1           0            0            0   \n",
       "1060           0           0           0            0            0   \n",
       "1061           0           0           0            0            0   \n",
       "1062           0           0           0            0            1   \n",
       "1063           0           1           0            0            0   \n",
       "\n",
       "      subject_s12  subject_s13  subject_s2  subject_s3  subject_s4  \\\n",
       "0               0            1           0           0           0   \n",
       "1               0            0           0           0           0   \n",
       "2               1            0           0           0           0   \n",
       "3               0            0           0           0           0   \n",
       "4               0            0           0           0           0   \n",
       "...           ...          ...         ...         ...         ...   \n",
       "1059            0            0           0           0           0   \n",
       "1060            0            1           0           0           0   \n",
       "1061            1            0           0           0           0   \n",
       "1062            0            0           0           0           0   \n",
       "1063            0            0           0           0           0   \n",
       "\n",
       "      subject_s5  subject_s6  subject_s7  subject_s8  subject_s9  \n",
       "0              0           0           0           0           0  \n",
       "1              1           0           0           0           0  \n",
       "2              0           0           0           0           0  \n",
       "3              0           0           0           0           0  \n",
       "4              0           0           0           0           0  \n",
       "...          ...         ...         ...         ...         ...  \n",
       "1059           0           0           0           0           0  \n",
       "1060           0           0           0           0           0  \n",
       "1061           0           0           0           0           0  \n",
       "1062           0           0           0           0           0  \n",
       "1063           0           0           0           0           0  \n",
       "\n",
       "[1064 rows x 20 columns]"
      ]
     },
     "execution_count": 244,
     "metadata": {},
     "output_type": "execute_result"
    }
   ],
   "source": [
    "df"
   ]
  },
  {
   "cell_type": "code",
   "execution_count": 245,
   "id": "cd8f64a3",
   "metadata": {},
   "outputs": [],
   "source": [
    "df=df.drop(('region_frontal'), axis=1)"
   ]
  },
  {
   "cell_type": "code",
   "execution_count": 246,
   "id": "392bcafc",
   "metadata": {},
   "outputs": [],
   "source": [
    "df=df.drop(('event_cue'), axis=1)"
   ]
  },
  {
   "cell_type": "code",
   "execution_count": 247,
   "id": "c72e2414",
   "metadata": {},
   "outputs": [
    {
     "data": {
      "text/html": [
       "<div>\n",
       "<style scoped>\n",
       "    .dataframe tbody tr th:only-of-type {\n",
       "        vertical-align: middle;\n",
       "    }\n",
       "\n",
       "    .dataframe tbody tr th {\n",
       "        vertical-align: top;\n",
       "    }\n",
       "\n",
       "    .dataframe thead th {\n",
       "        text-align: right;\n",
       "    }\n",
       "</style>\n",
       "<table border=\"1\" class=\"dataframe\">\n",
       "  <thead>\n",
       "    <tr style=\"text-align: right;\">\n",
       "      <th></th>\n",
       "      <th>timepoint</th>\n",
       "      <th>signal</th>\n",
       "      <th>region_parietal</th>\n",
       "      <th>event_stim</th>\n",
       "      <th>subject_s0</th>\n",
       "      <th>subject_s1</th>\n",
       "      <th>subject_s10</th>\n",
       "      <th>subject_s11</th>\n",
       "      <th>subject_s12</th>\n",
       "      <th>subject_s13</th>\n",
       "      <th>subject_s2</th>\n",
       "      <th>subject_s3</th>\n",
       "      <th>subject_s4</th>\n",
       "      <th>subject_s5</th>\n",
       "      <th>subject_s6</th>\n",
       "      <th>subject_s7</th>\n",
       "      <th>subject_s8</th>\n",
       "      <th>subject_s9</th>\n",
       "    </tr>\n",
       "  </thead>\n",
       "  <tbody>\n",
       "    <tr>\n",
       "      <th>0</th>\n",
       "      <td>18</td>\n",
       "      <td>-0.017552</td>\n",
       "      <td>1</td>\n",
       "      <td>1</td>\n",
       "      <td>0</td>\n",
       "      <td>0</td>\n",
       "      <td>0</td>\n",
       "      <td>0</td>\n",
       "      <td>0</td>\n",
       "      <td>1</td>\n",
       "      <td>0</td>\n",
       "      <td>0</td>\n",
       "      <td>0</td>\n",
       "      <td>0</td>\n",
       "      <td>0</td>\n",
       "      <td>0</td>\n",
       "      <td>0</td>\n",
       "      <td>0</td>\n",
       "    </tr>\n",
       "    <tr>\n",
       "      <th>1</th>\n",
       "      <td>14</td>\n",
       "      <td>-0.080883</td>\n",
       "      <td>1</td>\n",
       "      <td>1</td>\n",
       "      <td>0</td>\n",
       "      <td>0</td>\n",
       "      <td>0</td>\n",
       "      <td>0</td>\n",
       "      <td>0</td>\n",
       "      <td>0</td>\n",
       "      <td>0</td>\n",
       "      <td>0</td>\n",
       "      <td>0</td>\n",
       "      <td>1</td>\n",
       "      <td>0</td>\n",
       "      <td>0</td>\n",
       "      <td>0</td>\n",
       "      <td>0</td>\n",
       "    </tr>\n",
       "    <tr>\n",
       "      <th>2</th>\n",
       "      <td>18</td>\n",
       "      <td>-0.081033</td>\n",
       "      <td>1</td>\n",
       "      <td>1</td>\n",
       "      <td>0</td>\n",
       "      <td>0</td>\n",
       "      <td>0</td>\n",
       "      <td>0</td>\n",
       "      <td>1</td>\n",
       "      <td>0</td>\n",
       "      <td>0</td>\n",
       "      <td>0</td>\n",
       "      <td>0</td>\n",
       "      <td>0</td>\n",
       "      <td>0</td>\n",
       "      <td>0</td>\n",
       "      <td>0</td>\n",
       "      <td>0</td>\n",
       "    </tr>\n",
       "    <tr>\n",
       "      <th>3</th>\n",
       "      <td>18</td>\n",
       "      <td>-0.046134</td>\n",
       "      <td>1</td>\n",
       "      <td>1</td>\n",
       "      <td>0</td>\n",
       "      <td>0</td>\n",
       "      <td>0</td>\n",
       "      <td>1</td>\n",
       "      <td>0</td>\n",
       "      <td>0</td>\n",
       "      <td>0</td>\n",
       "      <td>0</td>\n",
       "      <td>0</td>\n",
       "      <td>0</td>\n",
       "      <td>0</td>\n",
       "      <td>0</td>\n",
       "      <td>0</td>\n",
       "      <td>0</td>\n",
       "    </tr>\n",
       "    <tr>\n",
       "      <th>4</th>\n",
       "      <td>18</td>\n",
       "      <td>-0.037970</td>\n",
       "      <td>1</td>\n",
       "      <td>1</td>\n",
       "      <td>0</td>\n",
       "      <td>0</td>\n",
       "      <td>1</td>\n",
       "      <td>0</td>\n",
       "      <td>0</td>\n",
       "      <td>0</td>\n",
       "      <td>0</td>\n",
       "      <td>0</td>\n",
       "      <td>0</td>\n",
       "      <td>0</td>\n",
       "      <td>0</td>\n",
       "      <td>0</td>\n",
       "      <td>0</td>\n",
       "      <td>0</td>\n",
       "    </tr>\n",
       "    <tr>\n",
       "      <th>...</th>\n",
       "      <td>...</td>\n",
       "      <td>...</td>\n",
       "      <td>...</td>\n",
       "      <td>...</td>\n",
       "      <td>...</td>\n",
       "      <td>...</td>\n",
       "      <td>...</td>\n",
       "      <td>...</td>\n",
       "      <td>...</td>\n",
       "      <td>...</td>\n",
       "      <td>...</td>\n",
       "      <td>...</td>\n",
       "      <td>...</td>\n",
       "      <td>...</td>\n",
       "      <td>...</td>\n",
       "      <td>...</td>\n",
       "      <td>...</td>\n",
       "      <td>...</td>\n",
       "    </tr>\n",
       "    <tr>\n",
       "      <th>1059</th>\n",
       "      <td>8</td>\n",
       "      <td>0.018165</td>\n",
       "      <td>0</td>\n",
       "      <td>0</td>\n",
       "      <td>1</td>\n",
       "      <td>0</td>\n",
       "      <td>0</td>\n",
       "      <td>0</td>\n",
       "      <td>0</td>\n",
       "      <td>0</td>\n",
       "      <td>0</td>\n",
       "      <td>0</td>\n",
       "      <td>0</td>\n",
       "      <td>0</td>\n",
       "      <td>0</td>\n",
       "      <td>0</td>\n",
       "      <td>0</td>\n",
       "      <td>0</td>\n",
       "    </tr>\n",
       "    <tr>\n",
       "      <th>1060</th>\n",
       "      <td>7</td>\n",
       "      <td>-0.029130</td>\n",
       "      <td>0</td>\n",
       "      <td>0</td>\n",
       "      <td>0</td>\n",
       "      <td>0</td>\n",
       "      <td>0</td>\n",
       "      <td>0</td>\n",
       "      <td>0</td>\n",
       "      <td>1</td>\n",
       "      <td>0</td>\n",
       "      <td>0</td>\n",
       "      <td>0</td>\n",
       "      <td>0</td>\n",
       "      <td>0</td>\n",
       "      <td>0</td>\n",
       "      <td>0</td>\n",
       "      <td>0</td>\n",
       "    </tr>\n",
       "    <tr>\n",
       "      <th>1061</th>\n",
       "      <td>7</td>\n",
       "      <td>-0.004939</td>\n",
       "      <td>0</td>\n",
       "      <td>0</td>\n",
       "      <td>0</td>\n",
       "      <td>0</td>\n",
       "      <td>0</td>\n",
       "      <td>0</td>\n",
       "      <td>1</td>\n",
       "      <td>0</td>\n",
       "      <td>0</td>\n",
       "      <td>0</td>\n",
       "      <td>0</td>\n",
       "      <td>0</td>\n",
       "      <td>0</td>\n",
       "      <td>0</td>\n",
       "      <td>0</td>\n",
       "      <td>0</td>\n",
       "    </tr>\n",
       "    <tr>\n",
       "      <th>1062</th>\n",
       "      <td>7</td>\n",
       "      <td>-0.025367</td>\n",
       "      <td>0</td>\n",
       "      <td>0</td>\n",
       "      <td>0</td>\n",
       "      <td>0</td>\n",
       "      <td>0</td>\n",
       "      <td>1</td>\n",
       "      <td>0</td>\n",
       "      <td>0</td>\n",
       "      <td>0</td>\n",
       "      <td>0</td>\n",
       "      <td>0</td>\n",
       "      <td>0</td>\n",
       "      <td>0</td>\n",
       "      <td>0</td>\n",
       "      <td>0</td>\n",
       "      <td>0</td>\n",
       "    </tr>\n",
       "    <tr>\n",
       "      <th>1063</th>\n",
       "      <td>0</td>\n",
       "      <td>-0.006899</td>\n",
       "      <td>1</td>\n",
       "      <td>0</td>\n",
       "      <td>1</td>\n",
       "      <td>0</td>\n",
       "      <td>0</td>\n",
       "      <td>0</td>\n",
       "      <td>0</td>\n",
       "      <td>0</td>\n",
       "      <td>0</td>\n",
       "      <td>0</td>\n",
       "      <td>0</td>\n",
       "      <td>0</td>\n",
       "      <td>0</td>\n",
       "      <td>0</td>\n",
       "      <td>0</td>\n",
       "      <td>0</td>\n",
       "    </tr>\n",
       "  </tbody>\n",
       "</table>\n",
       "<p>1064 rows × 18 columns</p>\n",
       "</div>"
      ],
      "text/plain": [
       "      timepoint    signal  region_parietal  event_stim  subject_s0  \\\n",
       "0            18 -0.017552                1           1           0   \n",
       "1            14 -0.080883                1           1           0   \n",
       "2            18 -0.081033                1           1           0   \n",
       "3            18 -0.046134                1           1           0   \n",
       "4            18 -0.037970                1           1           0   \n",
       "...         ...       ...              ...         ...         ...   \n",
       "1059          8  0.018165                0           0           1   \n",
       "1060          7 -0.029130                0           0           0   \n",
       "1061          7 -0.004939                0           0           0   \n",
       "1062          7 -0.025367                0           0           0   \n",
       "1063          0 -0.006899                1           0           1   \n",
       "\n",
       "      subject_s1  subject_s10  subject_s11  subject_s12  subject_s13  \\\n",
       "0              0            0            0            0            1   \n",
       "1              0            0            0            0            0   \n",
       "2              0            0            0            1            0   \n",
       "3              0            0            1            0            0   \n",
       "4              0            1            0            0            0   \n",
       "...          ...          ...          ...          ...          ...   \n",
       "1059           0            0            0            0            0   \n",
       "1060           0            0            0            0            1   \n",
       "1061           0            0            0            1            0   \n",
       "1062           0            0            1            0            0   \n",
       "1063           0            0            0            0            0   \n",
       "\n",
       "      subject_s2  subject_s3  subject_s4  subject_s5  subject_s6  subject_s7  \\\n",
       "0              0           0           0           0           0           0   \n",
       "1              0           0           0           1           0           0   \n",
       "2              0           0           0           0           0           0   \n",
       "3              0           0           0           0           0           0   \n",
       "4              0           0           0           0           0           0   \n",
       "...          ...         ...         ...         ...         ...         ...   \n",
       "1059           0           0           0           0           0           0   \n",
       "1060           0           0           0           0           0           0   \n",
       "1061           0           0           0           0           0           0   \n",
       "1062           0           0           0           0           0           0   \n",
       "1063           0           0           0           0           0           0   \n",
       "\n",
       "      subject_s8  subject_s9  \n",
       "0              0           0  \n",
       "1              0           0  \n",
       "2              0           0  \n",
       "3              0           0  \n",
       "4              0           0  \n",
       "...          ...         ...  \n",
       "1059           0           0  \n",
       "1060           0           0  \n",
       "1061           0           0  \n",
       "1062           0           0  \n",
       "1063           0           0  \n",
       "\n",
       "[1064 rows x 18 columns]"
      ]
     },
     "execution_count": 247,
     "metadata": {},
     "output_type": "execute_result"
    }
   ],
   "source": [
    "df"
   ]
  },
  {
   "cell_type": "code",
   "execution_count": 248,
   "id": "8c8ddcd5",
   "metadata": {},
   "outputs": [],
   "source": [
    "y=df['signal']"
   ]
  },
  {
   "cell_type": "code",
   "execution_count": 249,
   "id": "f5404fcc",
   "metadata": {},
   "outputs": [],
   "source": [
    "X=df.loc[:,df.columns!='signal']"
   ]
  },
  {
   "cell_type": "code",
   "execution_count": 250,
   "id": "52757a4e",
   "metadata": {},
   "outputs": [],
   "source": [
    "from sklearn.model_selection import train_test_split\n",
    "from sklearn.preprocessing import scale"
   ]
  },
  {
   "cell_type": "code",
   "execution_count": 251,
   "id": "e0092b63",
   "metadata": {},
   "outputs": [],
   "source": [
    "X_train, X_test, y_train, y_test=train_test_split(X, y, test_size=0.20, random_state=42)"
   ]
  },
  {
   "cell_type": "code",
   "execution_count": 252,
   "id": "ea3d5f2e",
   "metadata": {},
   "outputs": [
    {
     "data": {
      "text/plain": [
       "(851, 17)"
      ]
     },
     "execution_count": 252,
     "metadata": {},
     "output_type": "execute_result"
    }
   ],
   "source": [
    "X_train.shape"
   ]
  },
  {
   "cell_type": "code",
   "execution_count": 253,
   "id": "e23f5611",
   "metadata": {},
   "outputs": [
    {
     "data": {
      "text/plain": [
       "(213, 17)"
      ]
     },
     "execution_count": 253,
     "metadata": {},
     "output_type": "execute_result"
    }
   ],
   "source": [
    "X_test.shape"
   ]
  },
  {
   "cell_type": "code",
   "execution_count": 254,
   "id": "b93b56ef",
   "metadata": {},
   "outputs": [
    {
     "data": {
      "text/plain": [
       "(851,)"
      ]
     },
     "execution_count": 254,
     "metadata": {},
     "output_type": "execute_result"
    }
   ],
   "source": [
    "y_train.shape"
   ]
  },
  {
   "cell_type": "code",
   "execution_count": 255,
   "id": "38ab6de2",
   "metadata": {},
   "outputs": [
    {
     "data": {
      "text/plain": [
       "(213,)"
      ]
     },
     "execution_count": 255,
     "metadata": {},
     "output_type": "execute_result"
    }
   ],
   "source": [
    "y_test.shape"
   ]
  },
  {
   "cell_type": "markdown",
   "id": "1e22e630",
   "metadata": {},
   "source": [
    "MODEL"
   ]
  },
  {
   "cell_type": "code",
   "execution_count": 256,
   "id": "7cc9fede",
   "metadata": {},
   "outputs": [],
   "source": [
    "from sklearn.neighbors import KNeighborsRegressor"
   ]
  },
  {
   "cell_type": "code",
   "execution_count": 257,
   "id": "d7c43ac5",
   "metadata": {},
   "outputs": [],
   "source": [
    "model_knn=KNeighborsRegressor().fit(X_train, y_train)"
   ]
  },
  {
   "cell_type": "code",
   "execution_count": 258,
   "id": "ec4ad123",
   "metadata": {},
   "outputs": [
    {
     "data": {
      "text/plain": [
       "5"
      ]
     },
     "execution_count": 258,
     "metadata": {},
     "output_type": "execute_result"
    }
   ],
   "source": [
    "model_knn.n_neighbors"
   ]
  },
  {
   "cell_type": "markdown",
   "id": "be618ead",
   "metadata": {},
   "source": [
    "This is amount of our nearest neighbor,it means k=5."
   ]
  },
  {
   "cell_type": "markdown",
   "id": "54c9e991",
   "metadata": {},
   "source": [
    "PREDİCT"
   ]
  },
  {
   "cell_type": "code",
   "execution_count": 259,
   "id": "cf9de997",
   "metadata": {},
   "outputs": [
    {
     "data": {
      "text/plain": [
       "array([-0.02618128,  0.03544736, -0.00194283,  0.06113802, -0.00174356,\n",
       "       -0.03726961, -0.02995725,  0.07666919, -0.05249475, -0.05414313,\n",
       "       -0.07401658, -0.07795292, -0.07080237, -0.03123566,  0.02360772,\n",
       "       -0.0075306 ,  0.0276903 ,  0.00176341,  0.07100588,  0.00168954,\n",
       "       -0.01062615,  0.10247384, -0.00397829, -0.03599894, -0.00750109,\n",
       "       -0.05398055,  0.05343805, -0.03393386,  0.01658083, -0.021643  ,\n",
       "       -0.06229822,  0.1604716 , -0.02897593,  0.13995025, -0.01341333,\n",
       "       -0.04289225,  0.02807305,  0.01938588, -0.00341461, -0.0783103 ,\n",
       "        0.07130147, -0.01626148, -0.00363278, -0.06550812,  0.00977132,\n",
       "        0.09988809, -0.01911909,  0.01505037,  0.03550037, -0.03797295,\n",
       "       -0.06441956, -0.08363765, -0.00717123,  0.01003655, -0.00650125,\n",
       "       -0.02117708, -0.05641997,  0.01148384, -0.00538112, -0.00567273,\n",
       "        0.20839825,  0.04469365,  0.01663947, -0.05408996, -0.00323645,\n",
       "       -0.05171397,  0.19020875,  0.1043496 , -0.04607237,  0.04096328,\n",
       "       -0.00470554, -0.01117932,  0.06459193, -0.0030155 ,  0.18480195,\n",
       "        0.01425691, -0.01563922,  0.08165886, -0.05899714, -0.00614149,\n",
       "       -0.03279265, -0.00469417,  0.00615703,  0.11494323, -0.02974319,\n",
       "       -0.00802675, -0.01991331,  0.02119318, -0.06966287, -0.06215055,\n",
       "       -0.04852408,  0.00730914,  0.03722647, -0.00758221,  0.00568091,\n",
       "        0.19244794, -0.03262136,  0.01321864,  0.04312205, -0.04243967,\n",
       "       -0.06210887, -0.07109487, -0.00908292, -0.0469511 ,  0.00705989,\n",
       "       -0.02185437,  0.13248956,  0.01553927, -0.09590311, -0.04396791,\n",
       "       -0.05479666, -0.02303005, -0.02102554, -0.02094467, -0.03172438,\n",
       "        0.1011366 , -0.05061005, -0.07896179, -0.0224428 , -0.00609698,\n",
       "       -0.01009311, -0.03587712, -0.10027572, -0.00768893, -0.05064035,\n",
       "        0.015701  , -0.11657553,  0.07576892,  0.08425348,  0.05880864,\n",
       "       -0.07826452, -0.07660952, -0.00867454, -0.05351502,  0.10165081,\n",
       "       -0.07170267, -0.00315962,  0.00243944,  0.12460168, -0.00896623,\n",
       "        0.00563787, -0.05006092,  0.10044511, -0.02436744,  0.22238873,\n",
       "       -0.02954077, -0.05018057, -0.01638295, -0.02085611, -0.05739304,\n",
       "       -0.03850051, -0.04648871,  0.13156764,  0.11991333, -0.00811874,\n",
       "        0.01657202,  0.00872115,  0.08862184, -0.06977314, -0.00586624,\n",
       "        0.06141888, -0.04811475,  0.00987889, -0.00426387, -0.04429806,\n",
       "       -0.05009326, -0.01482175, -0.00837972, -0.06968779, -0.03352862,\n",
       "       -0.001699  , -0.01827932, -0.00264686, -0.0158054 , -0.08595056,\n",
       "       -0.02035869,  0.21400615, -0.02842294, -0.01545548,  0.07001299,\n",
       "       -0.0283901 , -0.0011585 , -0.05602034, -0.05357551, -0.01062473,\n",
       "        0.03551577,  0.31216114,  0.02068768, -0.09823542, -0.05742158,\n",
       "        0.10349055,  0.13807154,  0.0419714 , -0.05042207,  0.07331564,\n",
       "        0.21149093, -0.00556885,  0.06418172, -0.01049447, -0.07754258,\n",
       "       -0.04701995,  0.02300677, -0.01490361,  0.10714774, -0.05998737,\n",
       "       -0.01023579,  0.04189193, -0.1414941 ,  0.06042302, -0.06158005,\n",
       "       -0.03534686, -0.0319142 , -0.03177949])"
      ]
     },
     "execution_count": 259,
     "metadata": {},
     "output_type": "execute_result"
    }
   ],
   "source": [
    "y_predict=model_knn.predict(X_test)\n",
    "y_predict"
   ]
  },
  {
   "cell_type": "code",
   "execution_count": 260,
   "id": "e5733925",
   "metadata": {},
   "outputs": [],
   "source": [
    "from sklearn.metrics import mean_squared_error,r2_score"
   ]
  },
  {
   "cell_type": "code",
   "execution_count": 261,
   "id": "14ba9d8d",
   "metadata": {},
   "outputs": [
    {
     "data": {
      "text/plain": [
       "0.04905930690116674"
      ]
     },
     "execution_count": 261,
     "metadata": {},
     "output_type": "execute_result"
    }
   ],
   "source": [
    "np.sqrt(mean_squared_error(y_test, y_predict))"
   ]
  },
  {
   "cell_type": "code",
   "execution_count": 262,
   "id": "7b2cfc1b",
   "metadata": {},
   "outputs": [],
   "source": [
    "RMSE=[]"
   ]
  },
  {
   "cell_type": "code",
   "execution_count": 263,
   "id": "2495266f",
   "metadata": {},
   "outputs": [],
   "source": [
    "for k in range(10):\n",
    "    k=k+1\n",
    "    model_knn=KNeighborsRegressor(n_neighbors=k).fit(X_train, y_train)\n",
    "    y_predict=model_knn.predict(X_train)\n",
    "    rmse=np.sqrt(mean_squared_error(y_train, y_predict))\n",
    "    RMSE.append(rmse)    "
   ]
  },
  {
   "cell_type": "code",
   "execution_count": 264,
   "id": "1a8eeec5",
   "metadata": {},
   "outputs": [
    {
     "data": {
      "text/plain": [
       "[0.0,\n",
       " 0.03571753328255248,\n",
       " 0.03469936158210265,\n",
       " 0.03295061715263955,\n",
       " 0.03492915248690245,\n",
       " 0.037014409762998406,\n",
       " 0.038777641116309866,\n",
       " 0.04093241969898711,\n",
       " 0.042855958807034814,\n",
       " 0.04368168094956281]"
      ]
     },
     "execution_count": 264,
     "metadata": {},
     "output_type": "execute_result"
    }
   ],
   "source": [
    "RMSE"
   ]
  },
  {
   "cell_type": "markdown",
   "id": "43c4832a",
   "metadata": {},
   "source": [
    "MODEL TUNİNG"
   ]
  },
  {
   "cell_type": "code",
   "execution_count": 265,
   "id": "690ea91d",
   "metadata": {},
   "outputs": [],
   "source": [
    "from sklearn.model_selection import GridSearchCV"
   ]
  },
  {
   "cell_type": "code",
   "execution_count": 266,
   "id": "e0e3b6ec",
   "metadata": {},
   "outputs": [],
   "source": [
    "knn_params={'n_neighbors':np.arange(2,25,2)}"
   ]
  },
  {
   "cell_type": "code",
   "execution_count": 267,
   "id": "01836924",
   "metadata": {},
   "outputs": [],
   "source": [
    "knn=KNeighborsRegressor()"
   ]
  },
  {
   "cell_type": "code",
   "execution_count": 268,
   "id": "5b6119c6",
   "metadata": {},
   "outputs": [],
   "source": [
    "knn_cv=GridSearchCV(knn, knn_params, cv=10)"
   ]
  },
  {
   "cell_type": "code",
   "execution_count": 269,
   "id": "7a5bcf7d",
   "metadata": {},
   "outputs": [],
   "source": [
    "knn_cv_model=knn_cv.fit(X_train, y_train)"
   ]
  },
  {
   "cell_type": "code",
   "execution_count": 270,
   "id": "dbbe6d0d",
   "metadata": {},
   "outputs": [
    {
     "data": {
      "text/plain": [
       "4"
      ]
     },
     "execution_count": 270,
     "metadata": {},
     "output_type": "execute_result"
    }
   ],
   "source": [
    "knn_cv_model.best_params_['n_neighbors']"
   ]
  },
  {
   "cell_type": "markdown",
   "id": "4ca7b409",
   "metadata": {},
   "source": [
    "FINALLY MODEL"
   ]
  },
  {
   "cell_type": "code",
   "execution_count": 271,
   "id": "7b0f2785",
   "metadata": {},
   "outputs": [],
   "source": [
    "finally_model=KNeighborsRegressor(knn_cv_model.best_params_['n_neighbors']).fit(X_train,y_train)"
   ]
  },
  {
   "cell_type": "code",
   "execution_count": 272,
   "id": "2b4a97d2",
   "metadata": {},
   "outputs": [],
   "source": [
    "finally_model_predict=knn_cv_model.predict(X_test)"
   ]
  },
  {
   "cell_type": "code",
   "execution_count": 273,
   "id": "3cd8c730",
   "metadata": {},
   "outputs": [
    {
     "data": {
      "text/plain": [
       "0.04596821697840364"
      ]
     },
     "execution_count": 273,
     "metadata": {},
     "output_type": "execute_result"
    }
   ],
   "source": [
    "np.sqrt(mean_squared_error(y_test, finally_model_predict))"
   ]
  },
  {
   "cell_type": "markdown",
   "id": "b062d42b",
   "metadata": {},
   "source": [
    "### SUPPORT VECTOR REGRESSION ### "
   ]
  },
  {
   "cell_type": "markdown",
   "id": "73155157",
   "metadata": {},
   "source": [
    "Support Vector Machine can also be used as a regression method, maintaining all the main features that characterize the algorithm (maximal margin). The Support Vector Regression (SVR) uses the same principles as the SVM for classification, with only a few minor differences. First of all, because output is a real number it becomes very difficult to predict the information at hand, which has infinite possibilities. In the case of regression, a margin of tolerance (epsilon) is set in approximation to the SVM which would have already requested from the problem. But besides this fact, there is also a more complicated reason, the algorithm is more complicated therefore to be taken in consideration. However, the main idea is always the same: to minimize error, individualizing the hyperplane which maximizes the margin, keeping in mind that part of the error is tolerated."
   ]
  },
  {
   "cell_type": "code",
   "execution_count": 274,
   "id": "74b32ddc",
   "metadata": {},
   "outputs": [
    {
     "data": {
      "text/plain": [
       "(851, 1)"
      ]
     },
     "execution_count": 274,
     "metadata": {},
     "output_type": "execute_result"
    }
   ],
   "source": [
    "X_train=pd.DataFrame(X_train['timepoint'])\n",
    "X_train.shape"
   ]
  },
  {
   "cell_type": "code",
   "execution_count": 275,
   "id": "26f75937",
   "metadata": {},
   "outputs": [
    {
     "data": {
      "text/plain": [
       "(213, 1)"
      ]
     },
     "execution_count": 275,
     "metadata": {},
     "output_type": "execute_result"
    }
   ],
   "source": [
    "X_test=pd.DataFrame(X_test['timepoint'])\n",
    "X_test.shape"
   ]
  },
  {
   "cell_type": "code",
   "execution_count": 276,
   "id": "89403416",
   "metadata": {},
   "outputs": [
    {
     "data": {
      "text/html": [
       "<div>\n",
       "<style scoped>\n",
       "    .dataframe tbody tr th:only-of-type {\n",
       "        vertical-align: middle;\n",
       "    }\n",
       "\n",
       "    .dataframe tbody tr th {\n",
       "        vertical-align: top;\n",
       "    }\n",
       "\n",
       "    .dataframe thead th {\n",
       "        text-align: right;\n",
       "    }\n",
       "</style>\n",
       "<table border=\"1\" class=\"dataframe\">\n",
       "  <thead>\n",
       "    <tr style=\"text-align: right;\">\n",
       "      <th></th>\n",
       "      <th>timepoint</th>\n",
       "    </tr>\n",
       "  </thead>\n",
       "  <tbody>\n",
       "    <tr>\n",
       "      <th>72</th>\n",
       "      <td>13</td>\n",
       "    </tr>\n",
       "    <tr>\n",
       "      <th>903</th>\n",
       "      <td>11</td>\n",
       "    </tr>\n",
       "    <tr>\n",
       "      <th>44</th>\n",
       "      <td>15</td>\n",
       "    </tr>\n",
       "    <tr>\n",
       "      <th>309</th>\n",
       "      <td>3</td>\n",
       "    </tr>\n",
       "    <tr>\n",
       "      <th>788</th>\n",
       "      <td>16</td>\n",
       "    </tr>\n",
       "  </tbody>\n",
       "</table>\n",
       "</div>"
      ],
      "text/plain": [
       "     timepoint\n",
       "72          13\n",
       "903         11\n",
       "44          15\n",
       "309          3\n",
       "788         16"
      ]
     },
     "execution_count": 276,
     "metadata": {},
     "output_type": "execute_result"
    }
   ],
   "source": [
    "X_train[:5]"
   ]
  },
  {
   "cell_type": "code",
   "execution_count": 277,
   "id": "31dbf051",
   "metadata": {},
   "outputs": [],
   "source": [
    "X_train, X_test, y_train, y_test=train_test_split(X, y, test_size=0.20, random_state=42)"
   ]
  },
  {
   "cell_type": "markdown",
   "id": "35fbe881",
   "metadata": {},
   "source": [
    "MODEL"
   ]
  },
  {
   "cell_type": "code",
   "execution_count": 278,
   "id": "6965c52a",
   "metadata": {},
   "outputs": [],
   "source": [
    "from sklearn.svm import SVR"
   ]
  },
  {
   "cell_type": "code",
   "execution_count": 279,
   "id": "f8a3369e",
   "metadata": {},
   "outputs": [],
   "source": [
    "from sklearn.svm import LinearSVR"
   ]
  },
  {
   "cell_type": "code",
   "execution_count": 280,
   "id": "16adbaa6",
   "metadata": {},
   "outputs": [
    {
     "data": {
      "text/plain": [
       "LinearSVR()"
      ]
     },
     "execution_count": 280,
     "metadata": {},
     "output_type": "execute_result"
    }
   ],
   "source": [
    "model_lsvr = LinearSVR()\n",
    "\n",
    "LinearSVR(C=1.0, dual=True, epsilon=0.0, fit_intercept=True,\n",
    "          intercept_scaling=1.0, loss='epsilon_insensitive', max_iter=1000,\n",
    "          random_state=None, tol=0.0001, verbose=0)"
   ]
  },
  {
   "cell_type": "code",
   "execution_count": 281,
   "id": "b39857cf",
   "metadata": {},
   "outputs": [
    {
     "name": "stderr",
     "output_type": "stream",
     "text": [
      "c:\\users\\user202\\appdata\\local\\programs\\python\\python37\\lib\\site-packages\\sklearn\\svm\\_base.py:1208: ConvergenceWarning: Liblinear failed to converge, increase the number of iterations.\n",
      "  ConvergenceWarning,\n"
     ]
    },
    {
     "data": {
      "text/plain": [
       "LinearSVR()"
      ]
     },
     "execution_count": 281,
     "metadata": {},
     "output_type": "execute_result"
    }
   ],
   "source": [
    "model_lsvr.fit(X_train, y_train)"
   ]
  },
  {
   "cell_type": "markdown",
   "id": "2e3f2e83",
   "metadata": {},
   "source": [
    "PREDİCT"
   ]
  },
  {
   "cell_type": "code",
   "execution_count": 282,
   "id": "542b9a76",
   "metadata": {},
   "outputs": [
    {
     "data": {
      "text/plain": [
       "array([-0.03071741, -0.01016923, -0.03781036, -0.02057926, -0.04794354,\n",
       "       -0.00167048,  0.01871553, -0.02967282, -0.01588492, -0.00080228])"
      ]
     },
     "execution_count": 282,
     "metadata": {},
     "output_type": "execute_result"
    }
   ],
   "source": [
    "y_predict=model_lsvr.predict(X_train)\n",
    "y_predict[:10]"
   ]
  },
  {
   "cell_type": "code",
   "execution_count": 283,
   "id": "5a41aabd",
   "metadata": {},
   "outputs": [
    {
     "name": "stdout",
     "output_type": "stream",
     "text": [
      "y=[0.0109317]+-0.00354647264655239 x\n"
     ]
    }
   ],
   "source": [
    "print('y={0}+{1} x'.format(model_lsvr.intercept_, model_lsvr.coef_[0]))"
   ]
  },
  {
   "cell_type": "code",
   "execution_count": 284,
   "id": "1bdddd6a",
   "metadata": {},
   "outputs": [
    {
     "data": {
      "text/plain": [
       "array([-0.03841402, -0.00879197, -0.01257399, -0.00691971,  0.01917535,\n",
       "       -0.02689733, -0.01455438, -0.00435236, -0.02717094, -0.01216953])"
      ]
     },
     "execution_count": 284,
     "metadata": {},
     "output_type": "execute_result"
    }
   ],
   "source": [
    "y_predict_test=model_lsvr.predict(X_test)\n",
    "y_predict_test[:10]"
   ]
  },
  {
   "cell_type": "code",
   "execution_count": 285,
   "id": "24853aa4",
   "metadata": {},
   "outputs": [
    {
     "data": {
      "text/plain": [
       "0.09786424156336597"
      ]
     },
     "execution_count": 285,
     "metadata": {},
     "output_type": "execute_result"
    }
   ],
   "source": [
    "np.sqrt(mean_squared_error(y_test, y_predict_test))"
   ]
  },
  {
   "cell_type": "markdown",
   "id": "8bb4a358",
   "metadata": {},
   "source": [
    "MODEL TUNİNG"
   ]
  },
  {
   "cell_type": "code",
   "execution_count": 286,
   "id": "4c0ecc91",
   "metadata": {},
   "outputs": [],
   "source": [
    "svr_params={'C': np.arange(0.1,0.2,0.5)}"
   ]
  },
  {
   "cell_type": "code",
   "execution_count": 287,
   "id": "f0a781c4",
   "metadata": {},
   "outputs": [
    {
     "name": "stderr",
     "output_type": "stream",
     "text": [
      "c:\\users\\user202\\appdata\\local\\programs\\python\\python37\\lib\\site-packages\\sklearn\\svm\\_base.py:1208: ConvergenceWarning: Liblinear failed to converge, increase the number of iterations.\n",
      "  ConvergenceWarning,\n",
      "c:\\users\\user202\\appdata\\local\\programs\\python\\python37\\lib\\site-packages\\sklearn\\svm\\_base.py:1208: ConvergenceWarning: Liblinear failed to converge, increase the number of iterations.\n",
      "  ConvergenceWarning,\n",
      "c:\\users\\user202\\appdata\\local\\programs\\python\\python37\\lib\\site-packages\\sklearn\\svm\\_base.py:1208: ConvergenceWarning: Liblinear failed to converge, increase the number of iterations.\n",
      "  ConvergenceWarning,\n",
      "c:\\users\\user202\\appdata\\local\\programs\\python\\python37\\lib\\site-packages\\sklearn\\svm\\_base.py:1208: ConvergenceWarning: Liblinear failed to converge, increase the number of iterations.\n",
      "  ConvergenceWarning,\n",
      "c:\\users\\user202\\appdata\\local\\programs\\python\\python37\\lib\\site-packages\\sklearn\\svm\\_base.py:1208: ConvergenceWarning: Liblinear failed to converge, increase the number of iterations.\n",
      "  ConvergenceWarning,\n",
      "c:\\users\\user202\\appdata\\local\\programs\\python\\python37\\lib\\site-packages\\sklearn\\svm\\_base.py:1208: ConvergenceWarning: Liblinear failed to converge, increase the number of iterations.\n",
      "  ConvergenceWarning,\n",
      "c:\\users\\user202\\appdata\\local\\programs\\python\\python37\\lib\\site-packages\\sklearn\\svm\\_base.py:1208: ConvergenceWarning: Liblinear failed to converge, increase the number of iterations.\n",
      "  ConvergenceWarning,\n",
      "c:\\users\\user202\\appdata\\local\\programs\\python\\python37\\lib\\site-packages\\sklearn\\svm\\_base.py:1208: ConvergenceWarning: Liblinear failed to converge, increase the number of iterations.\n",
      "  ConvergenceWarning,\n",
      "c:\\users\\user202\\appdata\\local\\programs\\python\\python37\\lib\\site-packages\\sklearn\\svm\\_base.py:1208: ConvergenceWarning: Liblinear failed to converge, increase the number of iterations.\n",
      "  ConvergenceWarning,\n",
      "c:\\users\\user202\\appdata\\local\\programs\\python\\python37\\lib\\site-packages\\sklearn\\svm\\_base.py:1208: ConvergenceWarning: Liblinear failed to converge, increase the number of iterations.\n",
      "  ConvergenceWarning,\n",
      "c:\\users\\user202\\appdata\\local\\programs\\python\\python37\\lib\\site-packages\\sklearn\\svm\\_base.py:1208: ConvergenceWarning: Liblinear failed to converge, increase the number of iterations.\n",
      "  ConvergenceWarning,\n"
     ]
    }
   ],
   "source": [
    "model_svr_cv=GridSearchCV(model_lsvr, svr_params, cv=10).fit(X_train, y_train)"
   ]
  },
  {
   "cell_type": "code",
   "execution_count": 288,
   "id": "051df4aa",
   "metadata": {},
   "outputs": [
    {
     "data": {
      "text/plain": [
       "{'C': 0.1}"
      ]
     },
     "execution_count": 288,
     "metadata": {},
     "output_type": "execute_result"
    }
   ],
   "source": [
    "model_svr_cv.best_params_"
   ]
  },
  {
   "cell_type": "markdown",
   "id": "632cc81e",
   "metadata": {},
   "source": [
    "FINALLY MODEL"
   ]
  },
  {
   "cell_type": "code",
   "execution_count": 289,
   "id": "0265b74c",
   "metadata": {},
   "outputs": [
    {
     "data": {
      "text/plain": [
       "0.1"
      ]
     },
     "execution_count": 289,
     "metadata": {},
     "output_type": "execute_result"
    }
   ],
   "source": [
    "pd.Series(model_svr_cv.best_params_)[0]"
   ]
  },
  {
   "cell_type": "code",
   "execution_count": 290,
   "id": "5b77147e",
   "metadata": {},
   "outputs": [],
   "source": [
    "finally_model=LinearSVR(C=pd.Series(model_svr_cv.best_params_)[0])"
   ]
  },
  {
   "cell_type": "code",
   "execution_count": 291,
   "id": "38fedef0",
   "metadata": {
    "scrolled": true
   },
   "outputs": [
    {
     "name": "stderr",
     "output_type": "stream",
     "text": [
      "c:\\users\\user202\\appdata\\local\\programs\\python\\python37\\lib\\site-packages\\sklearn\\svm\\_base.py:1208: ConvergenceWarning: Liblinear failed to converge, increase the number of iterations.\n",
      "  ConvergenceWarning,\n"
     ]
    },
    {
     "data": {
      "text/plain": [
       "LinearSVR(C=0.1)"
      ]
     },
     "execution_count": 291,
     "metadata": {},
     "output_type": "execute_result"
    }
   ],
   "source": [
    "finally_model.fit(X_train, y_train)"
   ]
  },
  {
   "cell_type": "markdown",
   "id": "0ce4df19",
   "metadata": {},
   "source": [
    "PREDİCT"
   ]
  },
  {
   "cell_type": "code",
   "execution_count": 292,
   "id": "c9d5245b",
   "metadata": {},
   "outputs": [
    {
     "data": {
      "text/plain": [
       "array([-0.02130048,  0.0057161 , -0.01456015, -0.00303617,  0.01078842])"
      ]
     },
     "execution_count": 292,
     "metadata": {},
     "output_type": "execute_result"
    }
   ],
   "source": [
    "y_predict_test=finally_model.predict(X_test)\n",
    "y_predict_test[:5]"
   ]
  },
  {
   "cell_type": "code",
   "execution_count": 293,
   "id": "9cdd6c56",
   "metadata": {},
   "outputs": [
    {
     "data": {
      "text/plain": [
       "0.09780014699271147"
      ]
     },
     "execution_count": 293,
     "metadata": {},
     "output_type": "execute_result"
    }
   ],
   "source": [
    "np.sqrt(mean_squared_error(y_test, y_predict_test))"
   ]
  },
  {
   "cell_type": "markdown",
   "id": "617ea05c",
   "metadata": {},
   "source": [
    "#### Nonlinear SVR ####"
   ]
  },
  {
   "cell_type": "markdown",
   "id": "ce685565",
   "metadata": {},
   "source": [
    "MODEL"
   ]
  },
  {
   "cell_type": "code",
   "execution_count": 294,
   "id": "779701ed",
   "metadata": {},
   "outputs": [],
   "source": [
    "from sklearn.svm import SVR"
   ]
  },
  {
   "cell_type": "code",
   "execution_count": 295,
   "id": "4944e6d6",
   "metadata": {},
   "outputs": [],
   "source": [
    "model_svr=SVR(kernel='rbf').fit(X_train, y_train)"
   ]
  },
  {
   "cell_type": "markdown",
   "id": "2cd3e8f1",
   "metadata": {},
   "source": [
    "PREDİCT"
   ]
  },
  {
   "cell_type": "code",
   "execution_count": 296,
   "id": "499e27c9",
   "metadata": {},
   "outputs": [],
   "source": [
    "y_predict=model_svr.predict(X_test)"
   ]
  },
  {
   "cell_type": "code",
   "execution_count": 297,
   "id": "5ab5bd02",
   "metadata": {},
   "outputs": [
    {
     "data": {
      "text/plain": [
       "0.07427554061736151"
      ]
     },
     "execution_count": 297,
     "metadata": {},
     "output_type": "execute_result"
    }
   ],
   "source": [
    "np.sqrt(mean_squared_error(y_test, y_predict))"
   ]
  },
  {
   "cell_type": "markdown",
   "id": "ea986519",
   "metadata": {},
   "source": [
    "MODEL TUNİNG"
   ]
  },
  {
   "cell_type": "code",
   "execution_count": 298,
   "id": "1cb32df3",
   "metadata": {},
   "outputs": [],
   "source": [
    "svr_params={'C':[0.1,0.2,0.3,0.4,0.5,1,5,10,12,15,40,50]}"
   ]
  },
  {
   "cell_type": "code",
   "execution_count": 299,
   "id": "dbf9c242",
   "metadata": {},
   "outputs": [],
   "source": [
    "model_svr_cv=GridSearchCV(model_svr, svr_params, cv=10).fit(X_train,y_train)"
   ]
  },
  {
   "cell_type": "code",
   "execution_count": 300,
   "id": "353ff005",
   "metadata": {},
   "outputs": [
    {
     "data": {
      "text/plain": [
       "{'C': 50}"
      ]
     },
     "execution_count": 300,
     "metadata": {},
     "output_type": "execute_result"
    }
   ],
   "source": [
    "model_svr_cv.best_params_"
   ]
  },
  {
   "cell_type": "code",
   "execution_count": 301,
   "id": "0c2fb744",
   "metadata": {},
   "outputs": [
    {
     "data": {
      "text/plain": [
       "50"
      ]
     },
     "execution_count": 301,
     "metadata": {},
     "output_type": "execute_result"
    }
   ],
   "source": [
    "pd.Series(model_svr_cv.best_params_)[0]"
   ]
  },
  {
   "cell_type": "markdown",
   "id": "866ebf9a",
   "metadata": {},
   "source": [
    "FINALLY MODEL"
   ]
  },
  {
   "cell_type": "code",
   "execution_count": 302,
   "id": "35aa7e56",
   "metadata": {},
   "outputs": [],
   "source": [
    "finally_model_svr=SVR(kernel='rbf', C=pd.Series(model_svr_cv.best_params_)[0]).fit(X_train, y_train)"
   ]
  },
  {
   "cell_type": "code",
   "execution_count": 303,
   "id": "1c8e028e",
   "metadata": {},
   "outputs": [],
   "source": [
    "y_predict=finally_model_svr.predict(X_test)"
   ]
  },
  {
   "cell_type": "code",
   "execution_count": 304,
   "id": "d0f8000a",
   "metadata": {},
   "outputs": [
    {
     "data": {
      "text/plain": [
       "0.061002234985109795"
      ]
     },
     "execution_count": 304,
     "metadata": {},
     "output_type": "execute_result"
    }
   ],
   "source": [
    "np.sqrt(mean_squared_error(y_test, y_predict))"
   ]
  },
  {
   "cell_type": "markdown",
   "id": "f5c154f0",
   "metadata": {},
   "source": [
    "### ARTIFICIAL NEURAL NETWORKS - for regression ###"
   ]
  },
  {
   "cell_type": "code",
   "execution_count": 305,
   "id": "b6716b46",
   "metadata": {},
   "outputs": [
    {
     "data": {
      "text/html": [
       "<div>\n",
       "<style scoped>\n",
       "    .dataframe tbody tr th:only-of-type {\n",
       "        vertical-align: middle;\n",
       "    }\n",
       "\n",
       "    .dataframe tbody tr th {\n",
       "        vertical-align: top;\n",
       "    }\n",
       "\n",
       "    .dataframe thead th {\n",
       "        text-align: right;\n",
       "    }\n",
       "</style>\n",
       "<table border=\"1\" class=\"dataframe\">\n",
       "  <thead>\n",
       "    <tr style=\"text-align: right;\">\n",
       "      <th></th>\n",
       "      <th>timepoint</th>\n",
       "      <th>region_parietal</th>\n",
       "      <th>event_stim</th>\n",
       "      <th>subject_s0</th>\n",
       "      <th>subject_s1</th>\n",
       "      <th>subject_s10</th>\n",
       "      <th>subject_s11</th>\n",
       "      <th>subject_s12</th>\n",
       "      <th>subject_s13</th>\n",
       "      <th>subject_s2</th>\n",
       "      <th>subject_s3</th>\n",
       "      <th>subject_s4</th>\n",
       "      <th>subject_s5</th>\n",
       "      <th>subject_s6</th>\n",
       "      <th>subject_s7</th>\n",
       "      <th>subject_s8</th>\n",
       "      <th>subject_s9</th>\n",
       "    </tr>\n",
       "  </thead>\n",
       "  <tbody>\n",
       "    <tr>\n",
       "      <th>0</th>\n",
       "      <td>18</td>\n",
       "      <td>1</td>\n",
       "      <td>1</td>\n",
       "      <td>0</td>\n",
       "      <td>0</td>\n",
       "      <td>0</td>\n",
       "      <td>0</td>\n",
       "      <td>0</td>\n",
       "      <td>1</td>\n",
       "      <td>0</td>\n",
       "      <td>0</td>\n",
       "      <td>0</td>\n",
       "      <td>0</td>\n",
       "      <td>0</td>\n",
       "      <td>0</td>\n",
       "      <td>0</td>\n",
       "      <td>0</td>\n",
       "    </tr>\n",
       "    <tr>\n",
       "      <th>1</th>\n",
       "      <td>14</td>\n",
       "      <td>1</td>\n",
       "      <td>1</td>\n",
       "      <td>0</td>\n",
       "      <td>0</td>\n",
       "      <td>0</td>\n",
       "      <td>0</td>\n",
       "      <td>0</td>\n",
       "      <td>0</td>\n",
       "      <td>0</td>\n",
       "      <td>0</td>\n",
       "      <td>0</td>\n",
       "      <td>1</td>\n",
       "      <td>0</td>\n",
       "      <td>0</td>\n",
       "      <td>0</td>\n",
       "      <td>0</td>\n",
       "    </tr>\n",
       "    <tr>\n",
       "      <th>2</th>\n",
       "      <td>18</td>\n",
       "      <td>1</td>\n",
       "      <td>1</td>\n",
       "      <td>0</td>\n",
       "      <td>0</td>\n",
       "      <td>0</td>\n",
       "      <td>0</td>\n",
       "      <td>1</td>\n",
       "      <td>0</td>\n",
       "      <td>0</td>\n",
       "      <td>0</td>\n",
       "      <td>0</td>\n",
       "      <td>0</td>\n",
       "      <td>0</td>\n",
       "      <td>0</td>\n",
       "      <td>0</td>\n",
       "      <td>0</td>\n",
       "    </tr>\n",
       "    <tr>\n",
       "      <th>3</th>\n",
       "      <td>18</td>\n",
       "      <td>1</td>\n",
       "      <td>1</td>\n",
       "      <td>0</td>\n",
       "      <td>0</td>\n",
       "      <td>0</td>\n",
       "      <td>1</td>\n",
       "      <td>0</td>\n",
       "      <td>0</td>\n",
       "      <td>0</td>\n",
       "      <td>0</td>\n",
       "      <td>0</td>\n",
       "      <td>0</td>\n",
       "      <td>0</td>\n",
       "      <td>0</td>\n",
       "      <td>0</td>\n",
       "      <td>0</td>\n",
       "    </tr>\n",
       "    <tr>\n",
       "      <th>4</th>\n",
       "      <td>18</td>\n",
       "      <td>1</td>\n",
       "      <td>1</td>\n",
       "      <td>0</td>\n",
       "      <td>0</td>\n",
       "      <td>1</td>\n",
       "      <td>0</td>\n",
       "      <td>0</td>\n",
       "      <td>0</td>\n",
       "      <td>0</td>\n",
       "      <td>0</td>\n",
       "      <td>0</td>\n",
       "      <td>0</td>\n",
       "      <td>0</td>\n",
       "      <td>0</td>\n",
       "      <td>0</td>\n",
       "      <td>0</td>\n",
       "    </tr>\n",
       "    <tr>\n",
       "      <th>...</th>\n",
       "      <td>...</td>\n",
       "      <td>...</td>\n",
       "      <td>...</td>\n",
       "      <td>...</td>\n",
       "      <td>...</td>\n",
       "      <td>...</td>\n",
       "      <td>...</td>\n",
       "      <td>...</td>\n",
       "      <td>...</td>\n",
       "      <td>...</td>\n",
       "      <td>...</td>\n",
       "      <td>...</td>\n",
       "      <td>...</td>\n",
       "      <td>...</td>\n",
       "      <td>...</td>\n",
       "      <td>...</td>\n",
       "      <td>...</td>\n",
       "    </tr>\n",
       "    <tr>\n",
       "      <th>1059</th>\n",
       "      <td>8</td>\n",
       "      <td>0</td>\n",
       "      <td>0</td>\n",
       "      <td>1</td>\n",
       "      <td>0</td>\n",
       "      <td>0</td>\n",
       "      <td>0</td>\n",
       "      <td>0</td>\n",
       "      <td>0</td>\n",
       "      <td>0</td>\n",
       "      <td>0</td>\n",
       "      <td>0</td>\n",
       "      <td>0</td>\n",
       "      <td>0</td>\n",
       "      <td>0</td>\n",
       "      <td>0</td>\n",
       "      <td>0</td>\n",
       "    </tr>\n",
       "    <tr>\n",
       "      <th>1060</th>\n",
       "      <td>7</td>\n",
       "      <td>0</td>\n",
       "      <td>0</td>\n",
       "      <td>0</td>\n",
       "      <td>0</td>\n",
       "      <td>0</td>\n",
       "      <td>0</td>\n",
       "      <td>0</td>\n",
       "      <td>1</td>\n",
       "      <td>0</td>\n",
       "      <td>0</td>\n",
       "      <td>0</td>\n",
       "      <td>0</td>\n",
       "      <td>0</td>\n",
       "      <td>0</td>\n",
       "      <td>0</td>\n",
       "      <td>0</td>\n",
       "    </tr>\n",
       "    <tr>\n",
       "      <th>1061</th>\n",
       "      <td>7</td>\n",
       "      <td>0</td>\n",
       "      <td>0</td>\n",
       "      <td>0</td>\n",
       "      <td>0</td>\n",
       "      <td>0</td>\n",
       "      <td>0</td>\n",
       "      <td>1</td>\n",
       "      <td>0</td>\n",
       "      <td>0</td>\n",
       "      <td>0</td>\n",
       "      <td>0</td>\n",
       "      <td>0</td>\n",
       "      <td>0</td>\n",
       "      <td>0</td>\n",
       "      <td>0</td>\n",
       "      <td>0</td>\n",
       "    </tr>\n",
       "    <tr>\n",
       "      <th>1062</th>\n",
       "      <td>7</td>\n",
       "      <td>0</td>\n",
       "      <td>0</td>\n",
       "      <td>0</td>\n",
       "      <td>0</td>\n",
       "      <td>0</td>\n",
       "      <td>1</td>\n",
       "      <td>0</td>\n",
       "      <td>0</td>\n",
       "      <td>0</td>\n",
       "      <td>0</td>\n",
       "      <td>0</td>\n",
       "      <td>0</td>\n",
       "      <td>0</td>\n",
       "      <td>0</td>\n",
       "      <td>0</td>\n",
       "      <td>0</td>\n",
       "    </tr>\n",
       "    <tr>\n",
       "      <th>1063</th>\n",
       "      <td>0</td>\n",
       "      <td>1</td>\n",
       "      <td>0</td>\n",
       "      <td>1</td>\n",
       "      <td>0</td>\n",
       "      <td>0</td>\n",
       "      <td>0</td>\n",
       "      <td>0</td>\n",
       "      <td>0</td>\n",
       "      <td>0</td>\n",
       "      <td>0</td>\n",
       "      <td>0</td>\n",
       "      <td>0</td>\n",
       "      <td>0</td>\n",
       "      <td>0</td>\n",
       "      <td>0</td>\n",
       "      <td>0</td>\n",
       "    </tr>\n",
       "  </tbody>\n",
       "</table>\n",
       "<p>1064 rows × 17 columns</p>\n",
       "</div>"
      ],
      "text/plain": [
       "      timepoint  region_parietal  event_stim  subject_s0  subject_s1  \\\n",
       "0            18                1           1           0           0   \n",
       "1            14                1           1           0           0   \n",
       "2            18                1           1           0           0   \n",
       "3            18                1           1           0           0   \n",
       "4            18                1           1           0           0   \n",
       "...         ...              ...         ...         ...         ...   \n",
       "1059          8                0           0           1           0   \n",
       "1060          7                0           0           0           0   \n",
       "1061          7                0           0           0           0   \n",
       "1062          7                0           0           0           0   \n",
       "1063          0                1           0           1           0   \n",
       "\n",
       "      subject_s10  subject_s11  subject_s12  subject_s13  subject_s2  \\\n",
       "0               0            0            0            1           0   \n",
       "1               0            0            0            0           0   \n",
       "2               0            0            1            0           0   \n",
       "3               0            1            0            0           0   \n",
       "4               1            0            0            0           0   \n",
       "...           ...          ...          ...          ...         ...   \n",
       "1059            0            0            0            0           0   \n",
       "1060            0            0            0            1           0   \n",
       "1061            0            0            1            0           0   \n",
       "1062            0            1            0            0           0   \n",
       "1063            0            0            0            0           0   \n",
       "\n",
       "      subject_s3  subject_s4  subject_s5  subject_s6  subject_s7  subject_s8  \\\n",
       "0              0           0           0           0           0           0   \n",
       "1              0           0           1           0           0           0   \n",
       "2              0           0           0           0           0           0   \n",
       "3              0           0           0           0           0           0   \n",
       "4              0           0           0           0           0           0   \n",
       "...          ...         ...         ...         ...         ...         ...   \n",
       "1059           0           0           0           0           0           0   \n",
       "1060           0           0           0           0           0           0   \n",
       "1061           0           0           0           0           0           0   \n",
       "1062           0           0           0           0           0           0   \n",
       "1063           0           0           0           0           0           0   \n",
       "\n",
       "      subject_s9  \n",
       "0              0  \n",
       "1              0  \n",
       "2              0  \n",
       "3              0  \n",
       "4              0  \n",
       "...          ...  \n",
       "1059           0  \n",
       "1060           0  \n",
       "1061           0  \n",
       "1062           0  \n",
       "1063           0  \n",
       "\n",
       "[1064 rows x 17 columns]"
      ]
     },
     "execution_count": 305,
     "metadata": {},
     "output_type": "execute_result"
    }
   ],
   "source": [
    "X=df.loc[:,df.columns!='signal']\n",
    "X"
   ]
  },
  {
   "cell_type": "code",
   "execution_count": 306,
   "id": "82baa5d7",
   "metadata": {},
   "outputs": [
    {
     "data": {
      "text/plain": [
       "0      -0.017552\n",
       "1      -0.080883\n",
       "2      -0.081033\n",
       "3      -0.046134\n",
       "4      -0.037970\n",
       "          ...   \n",
       "1059    0.018165\n",
       "1060   -0.029130\n",
       "1061   -0.004939\n",
       "1062   -0.025367\n",
       "1063   -0.006899\n",
       "Name: signal, Length: 1064, dtype: float64"
      ]
     },
     "execution_count": 306,
     "metadata": {},
     "output_type": "execute_result"
    }
   ],
   "source": [
    "y=df['signal']\n",
    "y"
   ]
  },
  {
   "cell_type": "code",
   "execution_count": 307,
   "id": "49cfa8dd",
   "metadata": {},
   "outputs": [],
   "source": [
    "X_train, X_test, y_train, y_test=train_test_split(X, y, test_size=0.20, random_state=42)"
   ]
  },
  {
   "cell_type": "markdown",
   "id": "e9e1af1e",
   "metadata": {},
   "source": [
    "TRANSFORMATION"
   ]
  },
  {
   "cell_type": "code",
   "execution_count": 308,
   "id": "5db2de0f",
   "metadata": {},
   "outputs": [],
   "source": [
    "from sklearn.preprocessing import StandardScaler"
   ]
  },
  {
   "cell_type": "code",
   "execution_count": 309,
   "id": "657770a8",
   "metadata": {},
   "outputs": [],
   "source": [
    "scaler=StandardScaler().fit(X_train)"
   ]
  },
  {
   "cell_type": "code",
   "execution_count": 310,
   "id": "0dfe7871",
   "metadata": {},
   "outputs": [],
   "source": [
    "scaled_X_train=scaler.transform(X_train)"
   ]
  },
  {
   "cell_type": "code",
   "execution_count": 311,
   "id": "39410fbd",
   "metadata": {},
   "outputs": [],
   "source": [
    "scaled_X_test=scaler.transform(X_test)"
   ]
  },
  {
   "cell_type": "markdown",
   "id": "bb199d98",
   "metadata": {},
   "source": [
    "MODEL"
   ]
  },
  {
   "cell_type": "code",
   "execution_count": 312,
   "id": "f617fa4c",
   "metadata": {},
   "outputs": [],
   "source": [
    "from sklearn.neural_network import MLPRegressor"
   ]
  },
  {
   "cell_type": "code",
   "execution_count": 313,
   "id": "fd1f8617",
   "metadata": {},
   "outputs": [],
   "source": [
    "model_mlp=MLPRegressor().fit(scaled_X_train, y_train)"
   ]
  },
  {
   "cell_type": "markdown",
   "id": "d661dad2",
   "metadata": {},
   "source": [
    "number of layers"
   ]
  },
  {
   "cell_type": "code",
   "execution_count": 314,
   "id": "c4a702ce",
   "metadata": {},
   "outputs": [
    {
     "data": {
      "text/plain": [
       "3"
      ]
     },
     "execution_count": 314,
     "metadata": {},
     "output_type": "execute_result"
    }
   ],
   "source": [
    "model_mlp.n_layers_"
   ]
  },
  {
   "cell_type": "markdown",
   "id": "95f0ed6d",
   "metadata": {},
   "source": [
    "number of elements(neuron) of the hidden layer"
   ]
  },
  {
   "cell_type": "code",
   "execution_count": 315,
   "id": "e40c768d",
   "metadata": {},
   "outputs": [
    {
     "data": {
      "text/plain": [
       "(100,)"
      ]
     },
     "execution_count": 315,
     "metadata": {},
     "output_type": "execute_result"
    }
   ],
   "source": [
    "model_mlp.hidden_layer_sizes"
   ]
  },
  {
   "cell_type": "markdown",
   "id": "0829670d",
   "metadata": {},
   "source": [
    "PREDİCT"
   ]
  },
  {
   "cell_type": "code",
   "execution_count": 316,
   "id": "36a9eadb",
   "metadata": {},
   "outputs": [],
   "source": [
    "y_predict=model_mlp.predict(scaled_X_test)"
   ]
  },
  {
   "cell_type": "code",
   "execution_count": 317,
   "id": "fd795bac",
   "metadata": {},
   "outputs": [
    {
     "data": {
      "text/plain": [
       "array([-0.0174172 ,  0.06310819, -0.0388327 ,  0.00376838, -0.0647339 ])"
      ]
     },
     "execution_count": 317,
     "metadata": {},
     "output_type": "execute_result"
    }
   ],
   "source": [
    "y_predict[:5]"
   ]
  },
  {
   "cell_type": "code",
   "execution_count": 318,
   "id": "a07aa3bf",
   "metadata": {},
   "outputs": [
    {
     "data": {
      "text/plain": [
       "0.09542771199679144"
      ]
     },
     "execution_count": 318,
     "metadata": {},
     "output_type": "execute_result"
    }
   ],
   "source": [
    "np.sqrt(mean_squared_error(y_test, y_predict))"
   ]
  },
  {
   "cell_type": "markdown",
   "id": "7ddc9313",
   "metadata": {},
   "source": [
    "MODEL TUNİNG"
   ]
  },
  {
   "cell_type": "code",
   "execution_count": 319,
   "id": "99646e4a",
   "metadata": {},
   "outputs": [],
   "source": [
    "mlp_params={'alpha': [0.01,0.05,0.1,0.5],'hidden_layer_sizes': [(10,10),(5,15,25),(100,200,300)],\n",
    "            'activation': ['relu','logistic']}"
   ]
  },
  {
   "cell_type": "code",
   "execution_count": 320,
   "id": "70fe4a65",
   "metadata": {},
   "outputs": [],
   "source": [
    "model_mlp_cv=GridSearchCV(model_mlp, mlp_params, cv=10)"
   ]
  },
  {
   "cell_type": "code",
   "execution_count": 321,
   "id": "72f231fc",
   "metadata": {},
   "outputs": [
    {
     "data": {
      "text/plain": [
       "GridSearchCV(cv=10, estimator=MLPRegressor(),\n",
       "             param_grid={'activation': ['relu', 'logistic'],\n",
       "                         'alpha': [0.01, 0.05, 0.1, 0.5],\n",
       "                         'hidden_layer_sizes': [(10, 10), (5, 15, 25),\n",
       "                                                (100, 200, 300)]})"
      ]
     },
     "execution_count": 321,
     "metadata": {},
     "output_type": "execute_result"
    }
   ],
   "source": [
    "model_mlp_cv.fit(scaled_X_train,y_train)"
   ]
  },
  {
   "cell_type": "code",
   "execution_count": 322,
   "id": "9d997e98",
   "metadata": {},
   "outputs": [
    {
     "data": {
      "text/plain": [
       "{'activation': 'relu', 'alpha': 0.05, 'hidden_layer_sizes': (100, 200, 300)}"
      ]
     },
     "execution_count": 322,
     "metadata": {},
     "output_type": "execute_result"
    }
   ],
   "source": [
    "model_mlp_cv.best_params_"
   ]
  },
  {
   "cell_type": "markdown",
   "id": "be1725c3",
   "metadata": {},
   "source": [
    "FINALLY MODEL"
   ]
  },
  {
   "cell_type": "code",
   "execution_count": 323,
   "id": "0b68eda0",
   "metadata": {},
   "outputs": [],
   "source": [
    "finally_model=MLPRegressor(alpha=0.01, hidden_layer_sizes=(5,15,25)).fit(scaled_X_train, y_train)"
   ]
  },
  {
   "cell_type": "code",
   "execution_count": 324,
   "id": "9ac9cf6e",
   "metadata": {},
   "outputs": [],
   "source": [
    "y_predict=finally_model.predict(scaled_X_test)"
   ]
  },
  {
   "cell_type": "code",
   "execution_count": 325,
   "id": "84a685cd",
   "metadata": {},
   "outputs": [
    {
     "data": {
      "text/plain": [
       "0.10444811208352944"
      ]
     },
     "execution_count": 325,
     "metadata": {},
     "output_type": "execute_result"
    }
   ],
   "source": [
    "np.sqrt(mean_squared_error(y_test, y_predict))"
   ]
  },
  {
   "cell_type": "markdown",
   "id": "f4610adb",
   "metadata": {},
   "source": [
    "### CLASSIFICATION AND REGRESSION TREES  -  CART ###"
   ]
  },
  {
   "cell_type": "markdown",
   "id": "8973e9a5",
   "metadata": {},
   "source": [
    "It is a decision tree where each fork is split in a predictor variable and each node at the end has a prediction for the target variable."
   ]
  },
  {
   "cell_type": "code",
   "execution_count": 326,
   "id": "9e17e369",
   "metadata": {},
   "outputs": [],
   "source": [
    "from sklearn.tree import DecisionTreeRegressor"
   ]
  },
  {
   "cell_type": "code",
   "execution_count": 327,
   "id": "77698a76",
   "metadata": {},
   "outputs": [
    {
     "data": {
      "text/html": [
       "<div>\n",
       "<style scoped>\n",
       "    .dataframe tbody tr th:only-of-type {\n",
       "        vertical-align: middle;\n",
       "    }\n",
       "\n",
       "    .dataframe tbody tr th {\n",
       "        vertical-align: top;\n",
       "    }\n",
       "\n",
       "    .dataframe thead th {\n",
       "        text-align: right;\n",
       "    }\n",
       "</style>\n",
       "<table border=\"1\" class=\"dataframe\">\n",
       "  <thead>\n",
       "    <tr style=\"text-align: right;\">\n",
       "      <th></th>\n",
       "      <th>timepoint</th>\n",
       "      <th>region_parietal</th>\n",
       "      <th>event_stim</th>\n",
       "      <th>subject_s0</th>\n",
       "      <th>subject_s1</th>\n",
       "      <th>subject_s10</th>\n",
       "      <th>subject_s11</th>\n",
       "      <th>subject_s12</th>\n",
       "      <th>subject_s13</th>\n",
       "      <th>subject_s2</th>\n",
       "      <th>subject_s3</th>\n",
       "      <th>subject_s4</th>\n",
       "      <th>subject_s5</th>\n",
       "      <th>subject_s6</th>\n",
       "      <th>subject_s7</th>\n",
       "      <th>subject_s8</th>\n",
       "      <th>subject_s9</th>\n",
       "    </tr>\n",
       "  </thead>\n",
       "  <tbody>\n",
       "    <tr>\n",
       "      <th>72</th>\n",
       "      <td>13</td>\n",
       "      <td>1</td>\n",
       "      <td>1</td>\n",
       "      <td>0</td>\n",
       "      <td>0</td>\n",
       "      <td>0</td>\n",
       "      <td>0</td>\n",
       "      <td>1</td>\n",
       "      <td>0</td>\n",
       "      <td>0</td>\n",
       "      <td>0</td>\n",
       "      <td>0</td>\n",
       "      <td>0</td>\n",
       "      <td>0</td>\n",
       "      <td>0</td>\n",
       "      <td>0</td>\n",
       "      <td>0</td>\n",
       "    </tr>\n",
       "    <tr>\n",
       "      <th>903</th>\n",
       "      <td>11</td>\n",
       "      <td>1</td>\n",
       "      <td>0</td>\n",
       "      <td>0</td>\n",
       "      <td>0</td>\n",
       "      <td>0</td>\n",
       "      <td>0</td>\n",
       "      <td>0</td>\n",
       "      <td>0</td>\n",
       "      <td>0</td>\n",
       "      <td>0</td>\n",
       "      <td>0</td>\n",
       "      <td>0</td>\n",
       "      <td>0</td>\n",
       "      <td>1</td>\n",
       "      <td>0</td>\n",
       "      <td>0</td>\n",
       "    </tr>\n",
       "    <tr>\n",
       "      <th>44</th>\n",
       "      <td>15</td>\n",
       "      <td>1</td>\n",
       "      <td>1</td>\n",
       "      <td>0</td>\n",
       "      <td>0</td>\n",
       "      <td>0</td>\n",
       "      <td>0</td>\n",
       "      <td>1</td>\n",
       "      <td>0</td>\n",
       "      <td>0</td>\n",
       "      <td>0</td>\n",
       "      <td>0</td>\n",
       "      <td>0</td>\n",
       "      <td>0</td>\n",
       "      <td>0</td>\n",
       "      <td>0</td>\n",
       "      <td>0</td>\n",
       "    </tr>\n",
       "    <tr>\n",
       "      <th>309</th>\n",
       "      <td>3</td>\n",
       "      <td>0</td>\n",
       "      <td>1</td>\n",
       "      <td>0</td>\n",
       "      <td>1</td>\n",
       "      <td>0</td>\n",
       "      <td>0</td>\n",
       "      <td>0</td>\n",
       "      <td>0</td>\n",
       "      <td>0</td>\n",
       "      <td>0</td>\n",
       "      <td>0</td>\n",
       "      <td>0</td>\n",
       "      <td>0</td>\n",
       "      <td>0</td>\n",
       "      <td>0</td>\n",
       "      <td>0</td>\n",
       "    </tr>\n",
       "    <tr>\n",
       "      <th>788</th>\n",
       "      <td>16</td>\n",
       "      <td>0</td>\n",
       "      <td>0</td>\n",
       "      <td>0</td>\n",
       "      <td>0</td>\n",
       "      <td>0</td>\n",
       "      <td>0</td>\n",
       "      <td>0</td>\n",
       "      <td>0</td>\n",
       "      <td>0</td>\n",
       "      <td>0</td>\n",
       "      <td>0</td>\n",
       "      <td>0</td>\n",
       "      <td>0</td>\n",
       "      <td>0</td>\n",
       "      <td>0</td>\n",
       "      <td>1</td>\n",
       "    </tr>\n",
       "  </tbody>\n",
       "</table>\n",
       "</div>"
      ],
      "text/plain": [
       "     timepoint  region_parietal  event_stim  subject_s0  subject_s1  \\\n",
       "72          13                1           1           0           0   \n",
       "903         11                1           0           0           0   \n",
       "44          15                1           1           0           0   \n",
       "309          3                0           1           0           1   \n",
       "788         16                0           0           0           0   \n",
       "\n",
       "     subject_s10  subject_s11  subject_s12  subject_s13  subject_s2  \\\n",
       "72             0            0            1            0           0   \n",
       "903            0            0            0            0           0   \n",
       "44             0            0            1            0           0   \n",
       "309            0            0            0            0           0   \n",
       "788            0            0            0            0           0   \n",
       "\n",
       "     subject_s3  subject_s4  subject_s5  subject_s6  subject_s7  subject_s8  \\\n",
       "72            0           0           0           0           0           0   \n",
       "903           0           0           0           0           1           0   \n",
       "44            0           0           0           0           0           0   \n",
       "309           0           0           0           0           0           0   \n",
       "788           0           0           0           0           0           0   \n",
       "\n",
       "     subject_s9  \n",
       "72            0  \n",
       "903           0  \n",
       "44            0  \n",
       "309           0  \n",
       "788           1  "
      ]
     },
     "execution_count": 327,
     "metadata": {},
     "output_type": "execute_result"
    }
   ],
   "source": [
    "X_train[:5]"
   ]
  },
  {
   "cell_type": "code",
   "execution_count": 328,
   "id": "c8658fcb",
   "metadata": {},
   "outputs": [
    {
     "data": {
      "text/plain": [
       "72    -0.056306\n",
       "903   -0.020266\n",
       "44    -0.080698\n",
       "309    0.057598\n",
       "788   -0.004290\n",
       "Name: signal, dtype: float64"
      ]
     },
     "execution_count": 328,
     "metadata": {},
     "output_type": "execute_result"
    }
   ],
   "source": [
    "y_train[:5]"
   ]
  },
  {
   "cell_type": "code",
   "execution_count": 329,
   "id": "0dc1c783",
   "metadata": {},
   "outputs": [
    {
     "data": {
      "text/plain": [
       "(851, 1)"
      ]
     },
     "execution_count": 329,
     "metadata": {},
     "output_type": "execute_result"
    }
   ],
   "source": [
    "X_train=pd.DataFrame(X_train['timepoint'])\n",
    "X_train.shape"
   ]
  },
  {
   "cell_type": "code",
   "execution_count": 330,
   "id": "3aa6afb8",
   "metadata": {},
   "outputs": [
    {
     "data": {
      "text/plain": [
       "(851, 1)"
      ]
     },
     "execution_count": 330,
     "metadata": {},
     "output_type": "execute_result"
    }
   ],
   "source": [
    "X_test=pd.DataFrame(X_train['timepoint'])\n",
    "X_test.shape"
   ]
  },
  {
   "cell_type": "code",
   "execution_count": 331,
   "id": "97eff91d",
   "metadata": {},
   "outputs": [],
   "source": [
    "model_cart=DecisionTreeRegressor(max_leaf_nodes=10).fit(X_train, y_train)"
   ]
  },
  {
   "cell_type": "code",
   "execution_count": 332,
   "id": "1b94b624",
   "metadata": {},
   "outputs": [
    {
     "name": "stdout",
     "output_type": "stream",
     "text": [
      "Requirement already satisfied: skompiler in c:\\users\\user202\\appdata\\local\\programs\\python\\python37\\lib\\site-packages (0.7)\n",
      "Requirement already satisfied: scikit-learn>=0.22 in c:\\users\\user202\\appdata\\local\\programs\\python\\python37\\lib\\site-packages (from skompiler) (1.0.2)\n",
      "Requirement already satisfied: scipy>=1.1.0 in c:\\users\\user202\\appdata\\local\\programs\\python\\python37\\lib\\site-packages (from scikit-learn>=0.22->skompiler) (1.6.3)\n",
      "Requirement already satisfied: joblib>=0.11 in c:\\users\\user202\\appdata\\local\\programs\\python\\python37\\lib\\site-packages (from scikit-learn>=0.22->skompiler) (1.0.1)\n",
      "Requirement already satisfied: numpy>=1.14.6 in c:\\users\\user202\\appdata\\local\\programs\\python\\python37\\lib\\site-packages (from scikit-learn>=0.22->skompiler) (1.19.5)\n",
      "Requirement already satisfied: threadpoolctl>=2.0.0 in c:\\users\\user202\\appdata\\local\\programs\\python\\python37\\lib\\site-packages (from scikit-learn>=0.22->skompiler) (2.1.0)\n"
     ]
    }
   ],
   "source": [
    "!pip install skompiler"
   ]
  },
  {
   "cell_type": "code",
   "execution_count": 333,
   "id": "3964c12d",
   "metadata": {},
   "outputs": [],
   "source": [
    "from skompiler import skompile"
   ]
  },
  {
   "cell_type": "code",
   "execution_count": 334,
   "id": "dddca6ce",
   "metadata": {},
   "outputs": [
    {
     "ename": "NameError",
     "evalue": "name 'python' is not defined",
     "output_type": "error",
     "traceback": [
      "\u001b[1;31m---------------------------------------------------------------------------\u001b[0m",
      "\u001b[1;31mNameError\u001b[0m                                 Traceback (most recent call last)",
      "\u001b[1;32m<ipython-input-334-ec0b23d19474>\u001b[0m in \u001b[0;36m<module>\u001b[1;34m\u001b[0m\n\u001b[1;32m----> 1\u001b[1;33m \u001b[0mprint\u001b[0m\u001b[1;33m(\u001b[0m\u001b[0mskompile\u001b[0m\u001b[1;33m(\u001b[0m\u001b[0mmodel_cart\u001b[0m\u001b[1;33m.\u001b[0m\u001b[0mpredict\u001b[0m\u001b[1;33m)\u001b[0m\u001b[1;33m.\u001b[0m\u001b[0mto\u001b[0m\u001b[1;33m(\u001b[0m\u001b[0mpython\u001b[0m\u001b[1;33m/\u001b[0m\u001b[0mcode\u001b[0m\u001b[1;33m)\u001b[0m\u001b[1;33m)\u001b[0m\u001b[1;33m\u001b[0m\u001b[0m\n\u001b[0m",
      "\u001b[1;31mNameError\u001b[0m: name 'python' is not defined"
     ]
    }
   ],
   "source": [
    "print(skompile(model_cart.predict).to(python/code))"
   ]
  },
  {
   "cell_type": "markdown",
   "id": "80bb4281",
   "metadata": {},
   "source": [
    "PREDİCT"
   ]
  },
  {
   "cell_type": "code",
   "execution_count": null,
   "id": "f188aa3c",
   "metadata": {},
   "outputs": [],
   "source": [
    "x=11"
   ]
  },
  {
   "cell_type": "code",
   "execution_count": null,
   "id": "e50ddab8",
   "metadata": {},
   "outputs": [],
   "source": [
    "print(skompile(model_cart.predict).to(python/code))"
   ]
  },
  {
   "cell_type": "code",
   "execution_count": null,
   "id": "a104e32e",
   "metadata": {},
   "outputs": [],
   "source": [
    "y_predict=model_cart.predict(X_test)[:5]"
   ]
  },
  {
   "cell_type": "code",
   "execution_count": null,
   "id": "7e25e85a",
   "metadata": {},
   "outputs": [],
   "source": [
    "np.sqrt(mean_squared_error(y_test, y_predict))"
   ]
  },
  {
   "cell_type": "markdown",
   "id": "9ebe60d7",
   "metadata": {},
   "source": [
    "MODEL TUNİNG"
   ]
  },
  {
   "cell_type": "code",
   "execution_count": null,
   "id": "6561e562",
   "metadata": {},
   "outputs": [],
   "source": [
    "cart_params={'min_samples_split':range(2,8),\n",
    "       'max_leaf_nodes':range(1,10)}"
   ]
  },
  {
   "cell_type": "code",
   "execution_count": null,
   "id": "15e5a664",
   "metadata": {},
   "outputs": [],
   "source": [
    "model_cart_cv=GridSearchCV(model_cart, cart_params, cv=10).fit(X_train, y_train)"
   ]
  },
  {
   "cell_type": "code",
   "execution_count": null,
   "id": "867d663d",
   "metadata": {},
   "outputs": [],
   "source": [
    "model_cart_cv.best_params_"
   ]
  },
  {
   "cell_type": "markdown",
   "id": "1a8d8692",
   "metadata": {},
   "source": [
    "FINALLY MODEL"
   ]
  },
  {
   "cell_type": "code",
   "execution_count": null,
   "id": "bf9925e5",
   "metadata": {},
   "outputs": [],
   "source": [
    "finally_model=DecisionTreeRegressor(max_leaf_nodes=2, min_samples_split=2)"
   ]
  },
  {
   "cell_type": "code",
   "execution_count": null,
   "id": "115eab27",
   "metadata": {},
   "outputs": [],
   "source": [
    "finally_model.fit(X_train, y_train)"
   ]
  },
  {
   "cell_type": "code",
   "execution_count": null,
   "id": "406911f7",
   "metadata": {},
   "outputs": [],
   "source": [
    "y_predict=finally_model.predict(X_test)"
   ]
  },
  {
   "cell_type": "code",
   "execution_count": null,
   "id": "8419d7e3",
   "metadata": {},
   "outputs": [],
   "source": [
    "np.sqrt(mean_squared_error(y_test, y_predict))"
   ]
  },
  {
   "cell_type": "markdown",
   "id": "09c45992",
   "metadata": {},
   "source": [
    "\n",
    "\n",
    "### BAGGED TREES for Regression(Ensemble) ### "
   ]
  },
  {
   "cell_type": "markdown",
   "id": "ac38875b",
   "metadata": {},
   "source": [
    "Bagging regression trees\n",
    "Bagging on decision trees is done by creating bootstrap samples from the training data set and then built trees on bootstrap samples and then aggregating the output from all the trees and predicting the output."
   ]
  },
  {
   "cell_type": "code",
   "execution_count": null,
   "id": "ee2ecb5d",
   "metadata": {},
   "outputs": [],
   "source": [
    "X=df.loc[:,df.columns!='signal']"
   ]
  },
  {
   "cell_type": "code",
   "execution_count": null,
   "id": "d4f1a226",
   "metadata": {},
   "outputs": [],
   "source": [
    "y=df['signal']"
   ]
  },
  {
   "cell_type": "code",
   "execution_count": null,
   "id": "0f25e8d3",
   "metadata": {},
   "outputs": [],
   "source": [
    "X_train, X_test, y_train, y_test=train_test_split(X, y, test_size=0.20, random_state=42)"
   ]
  },
  {
   "cell_type": "code",
   "execution_count": null,
   "id": "79dcd72e",
   "metadata": {},
   "outputs": [],
   "source": [
    "print(X_train.shape, X_train.shape, y_train.shape, y_test.shape)"
   ]
  },
  {
   "cell_type": "markdown",
   "id": "9fae4a14",
   "metadata": {},
   "source": [
    "MODEL"
   ]
  },
  {
   "cell_type": "code",
   "execution_count": null,
   "id": "ab9f75d2",
   "metadata": {},
   "outputs": [],
   "source": [
    "from sklearn.ensemble import BaggingRegressor"
   ]
  },
  {
   "cell_type": "code",
   "execution_count": null,
   "id": "cee5037b",
   "metadata": {},
   "outputs": [],
   "source": [
    "model_bagging=BaggingRegressor(bootstrap_features=True).fit(X_train, y_train)"
   ]
  },
  {
   "cell_type": "code",
   "execution_count": null,
   "id": "ad43d92c",
   "metadata": {},
   "outputs": [],
   "source": [
    "model_bagging.estimators_"
   ]
  },
  {
   "cell_type": "code",
   "execution_count": null,
   "id": "bfee50f7",
   "metadata": {},
   "outputs": [],
   "source": [
    "model_bagging.estimators_[0]"
   ]
  },
  {
   "cell_type": "code",
   "execution_count": null,
   "id": "942ca07c",
   "metadata": {},
   "outputs": [],
   "source": [
    "model_bagging.n_estimators"
   ]
  },
  {
   "cell_type": "code",
   "execution_count": null,
   "id": "59fff5d4",
   "metadata": {},
   "outputs": [],
   "source": [
    "model_bagging.estimators_samples_"
   ]
  },
  {
   "cell_type": "code",
   "execution_count": null,
   "id": "581b4bf2",
   "metadata": {},
   "outputs": [],
   "source": [
    "model_bagging.estimators_features_"
   ]
  },
  {
   "cell_type": "markdown",
   "id": "f0e9c6a1",
   "metadata": {},
   "source": [
    "PREDICT"
   ]
  },
  {
   "cell_type": "code",
   "execution_count": null,
   "id": "53942a85",
   "metadata": {},
   "outputs": [],
   "source": [
    "y_predict=model_bagging.predict(X_test)"
   ]
  },
  {
   "cell_type": "code",
   "execution_count": null,
   "id": "5d5b477b",
   "metadata": {},
   "outputs": [],
   "source": [
    "np.sqrt(mean_squared_error(y_test, y_predict))"
   ]
  },
  {
   "cell_type": "code",
   "execution_count": null,
   "id": "2d2ced4b",
   "metadata": {},
   "outputs": [],
   "source": [
    "first_y_predict=model_bagging[8].fit(X_train, y_train).predict(X_test)\n",
    "first_y_predict"
   ]
  },
  {
   "cell_type": "code",
   "execution_count": null,
   "id": "2236864b",
   "metadata": {},
   "outputs": [],
   "source": [
    "np.sqrt(mean_squared_error(y_test, first_y_predict))"
   ]
  },
  {
   "cell_type": "markdown",
   "id": "03031991",
   "metadata": {},
   "source": [
    "MODEL TUNİNG"
   ]
  },
  {
   "cell_type": "code",
   "execution_count": null,
   "id": "ee164dad",
   "metadata": {},
   "outputs": [],
   "source": [
    "bagging_params={'n_estimators':range(2,20)}"
   ]
  },
  {
   "cell_type": "code",
   "execution_count": null,
   "id": "8e1d5fd7",
   "metadata": {},
   "outputs": [],
   "source": [
    "model_bagging_cv=GridSearchCV(model_bagging, bagging_params, cv=10).fit(X_train, y_train)"
   ]
  },
  {
   "cell_type": "code",
   "execution_count": null,
   "id": "cb34a7ff",
   "metadata": {},
   "outputs": [],
   "source": [
    "model_bagging_cv.best_params_"
   ]
  },
  {
   "cell_type": "code",
   "execution_count": null,
   "id": "a9e562e8",
   "metadata": {},
   "outputs": [],
   "source": [
    "finally_model=BaggingRegressor(n_estimators=13, random_state=42).fit(X_train, y_train)"
   ]
  },
  {
   "cell_type": "code",
   "execution_count": null,
   "id": "12826e8e",
   "metadata": {},
   "outputs": [],
   "source": [
    "y_predict=finally_model.predict(X_test)\n",
    "y_predict[:5]"
   ]
  },
  {
   "cell_type": "code",
   "execution_count": null,
   "id": "e1892824",
   "metadata": {},
   "outputs": [],
   "source": [
    "np.sqrt(mean_squared_error(y_test, y_predict))"
   ]
  },
  {
   "cell_type": "markdown",
   "id": "419cf701",
   "metadata": {},
   "source": [
    "### RANDOM FORESTS ###"
   ]
  },
  {
   "cell_type": "markdown",
   "id": "6a1f6c08",
   "metadata": {},
   "source": [
    "Random Forest Regression is a supervised learning algorithm that uses ensemble learning method for regression. Ensemble learning method is a technique that combines predictions from multiple machine learning algorithms to make a more accurate prediction than a single model"
   ]
  },
  {
   "cell_type": "code",
   "execution_count": null,
   "id": "ee008a71",
   "metadata": {},
   "outputs": [],
   "source": [
    "from sklearn.ensemble import RandomForestRegressor"
   ]
  },
  {
   "cell_type": "code",
   "execution_count": null,
   "id": "173b7343",
   "metadata": {},
   "outputs": [],
   "source": [
    "model_forest=RandomForestRegressor(random_state=45).fit(X_train, y_train)"
   ]
  },
  {
   "cell_type": "code",
   "execution_count": null,
   "id": "b7db8165",
   "metadata": {},
   "outputs": [],
   "source": [
    "RandomForestRegressor?"
   ]
  },
  {
   "cell_type": "markdown",
   "id": "d495dccd",
   "metadata": {},
   "source": [
    "Init signature:\n",
    "RandomForestRegressor(\n",
    "    n_estimators=100,\n",
    "    *,\n",
    "    criterion='mse',\n",
    "    max_depth=None,\n",
    "    min_samples_split=2,\n",
    "    min_samples_leaf=1,\n",
    "    min_weight_fraction_leaf=0.0,\n",
    "    max_features='auto',\n",
    "    max_leaf_nodes=None,\n",
    "    min_impurity_decrease=0.0,\n",
    "    min_impurity_split=None,\n",
    "    bootstrap=True,\n",
    "    oob_score=False,\n",
    "    n_jobs=None,\n",
    "    random_state=None,\n",
    "    verbose=0,\n",
    "    warm_start=False,\n",
    "    ccp_alpha=0.0,\n",
    "    max_samples=None,"
   ]
  },
  {
   "cell_type": "markdown",
   "id": "58184cc8",
   "metadata": {},
   "source": [
    "PREDICT"
   ]
  },
  {
   "cell_type": "code",
   "execution_count": null,
   "id": "f37c3e31",
   "metadata": {},
   "outputs": [],
   "source": [
    "y_predict=model_forest.predict(X_test)"
   ]
  },
  {
   "cell_type": "code",
   "execution_count": null,
   "id": "146153f6",
   "metadata": {},
   "outputs": [],
   "source": [
    "np.sqrt(mean_squared_error(y_test, y_predict))"
   ]
  },
  {
   "cell_type": "markdown",
   "id": "ace91bbf",
   "metadata": {},
   "source": [
    "MODEL TUNİNG"
   ]
  },
  {
   "cell_type": "code",
   "execution_count": null,
   "id": "d2f76cf4",
   "metadata": {},
   "outputs": [],
   "source": [
    "random_forest_params={'max_depth':list(range(1,10)), 'max_features':(1,2,4), 'n_estimators':[100,200,500,1000]}"
   ]
  },
  {
   "cell_type": "code",
   "execution_count": null,
   "id": "aa475a61",
   "metadata": {},
   "outputs": [],
   "source": [
    "model_random=RandomForestRegressor(random_state=45)"
   ]
  },
  {
   "cell_type": "code",
   "execution_count": null,
   "id": "96271471",
   "metadata": {},
   "outputs": [],
   "source": [
    "model_random_cv=GridSearchCV(model_random, random_forest_params, cv=10, n_jobs=-1).fit(X_train, y_train)"
   ]
  },
  {
   "cell_type": "code",
   "execution_count": null,
   "id": "af241b30",
   "metadata": {},
   "outputs": [],
   "source": [
    "model_random_cv.best_params_"
   ]
  },
  {
   "cell_type": "markdown",
   "id": "3e7f8c53",
   "metadata": {},
   "source": [
    "FINALLY MODEL"
   ]
  },
  {
   "cell_type": "markdown",
   "id": "fe531692",
   "metadata": {},
   "source": [
    "finally_model=RandomForestRegressor(max_depth=9, max_features=1, n_estimators=500).fit(X_train, y_train)"
   ]
  },
  {
   "cell_type": "code",
   "execution_count": null,
   "id": "ee7942c7",
   "metadata": {},
   "outputs": [],
   "source": [
    "y_predict=finally_model.predict(X_test)"
   ]
  },
  {
   "cell_type": "code",
   "execution_count": null,
   "id": "20b3a8ce",
   "metadata": {},
   "outputs": [],
   "source": [
    "np.sqrt(mean_squared_error(y_test, y_predict))"
   ]
  },
  {
   "cell_type": "markdown",
   "id": "c3f8a84e",
   "metadata": {},
   "source": [
    "### Feature Selection ###"
   ]
  },
  {
   "cell_type": "code",
   "execution_count": null,
   "id": "ba8831c6",
   "metadata": {},
   "outputs": [],
   "source": [
    "imp=pd.DataFrame({'importance':finally_model.feature_importances_*100},index=X_train.columns)"
   ]
  },
  {
   "cell_type": "code",
   "execution_count": null,
   "id": "6c25a9e9",
   "metadata": {},
   "outputs": [],
   "source": [
    "imp.sort_values(by='importance', axis=0, ascending=True)"
   ]
  },
  {
   "cell_type": "markdown",
   "id": "78cf8313",
   "metadata": {},
   "source": [
    "### GRADİENT BOOSTİNG MACHINES- GBM ###"
   ]
  },
  {
   "cell_type": "markdown",
   "id": "4deef4b7",
   "metadata": {},
   "source": [
    "Gradient boosting Regression calculates the difference between the current prediction and the known correct target value. This difference is called residual. After that Gradient boosting Regression trains a weak model that maps features to that residual."
   ]
  },
  {
   "cell_type": "code",
   "execution_count": null,
   "id": "1a3bb651",
   "metadata": {},
   "outputs": [],
   "source": [
    "from sklearn.ensemble import GradientBoostingRegressor"
   ]
  },
  {
   "cell_type": "markdown",
   "id": "ed41fc23",
   "metadata": {},
   "source": [
    "MODEL"
   ]
  },
  {
   "cell_type": "code",
   "execution_count": null,
   "id": "ca75a3cd",
   "metadata": {},
   "outputs": [],
   "source": [
    "moodel_gbm=GradientBoostingRegressor().fit(X_train, y_train)"
   ]
  },
  {
   "cell_type": "markdown",
   "id": "3a0e8f96",
   "metadata": {},
   "source": [
    "PREDİCT"
   ]
  },
  {
   "cell_type": "code",
   "execution_count": null,
   "id": "6667d955",
   "metadata": {},
   "outputs": [],
   "source": [
    "y_predict=moodel_gbm.predict(X_test)\n",
    "y_predict[:5]"
   ]
  },
  {
   "cell_type": "code",
   "execution_count": null,
   "id": "aa740b8c",
   "metadata": {},
   "outputs": [],
   "source": [
    "np.sqrt(mean_squared_error(y_test, y_predict))"
   ]
  },
  {
   "cell_type": "markdown",
   "id": "5edf0001",
   "metadata": {},
   "source": [
    "MODEL TUNİNG"
   ]
  },
  {
   "cell_type": "code",
   "execution_count": null,
   "id": "33b657bb",
   "metadata": {},
   "outputs": [],
   "source": [
    "gbm_params={'learning_rate':[0.001,0.01,0.01,0.1],'max_depth':[3,5,7,10],'n_estimators':[200,300,500,1000,2000],'subsample':[1,0.5]}"
   ]
  },
  {
   "cell_type": "code",
   "execution_count": null,
   "id": "9a3d3dc6",
   "metadata": {},
   "outputs": [],
   "source": [
    "model_gbm_cv=GridSearchCV(GradientBoostingRegressor(), gbm_params, cv=10, n_jobs=-1, verbose=2)"
   ]
  },
  {
   "cell_type": "code",
   "execution_count": null,
   "id": "c9aa05b7",
   "metadata": {},
   "outputs": [],
   "source": [
    "model_gbm_cv.fit(X_train, y_train)"
   ]
  },
  {
   "cell_type": "code",
   "execution_count": null,
   "id": "755d4cb3",
   "metadata": {},
   "outputs": [],
   "source": [
    "model_gbm_cv.best_params_"
   ]
  },
  {
   "cell_type": "markdown",
   "id": "dcbd3bb6",
   "metadata": {},
   "source": [
    "FINALLY MODEL"
   ]
  },
  {
   "cell_type": "code",
   "execution_count": null,
   "id": "391896df",
   "metadata": {},
   "outputs": [],
   "source": [
    "fınally_model=GradientBoostingRegressor(learning_rate=0.01, max_depth=3, n_estimators=300, subsample=0.5)"
   ]
  },
  {
   "cell_type": "code",
   "execution_count": null,
   "id": "4ac7af01",
   "metadata": {},
   "outputs": [],
   "source": [
    "fınally_model.fit(X_train, y_train)"
   ]
  },
  {
   "cell_type": "markdown",
   "id": "0b07b5b0",
   "metadata": {},
   "source": [
    "PREDİCT"
   ]
  },
  {
   "cell_type": "code",
   "execution_count": null,
   "id": "7d2b63a0",
   "metadata": {},
   "outputs": [],
   "source": [
    "y_predict=finally_model.predict(X_test)"
   ]
  },
  {
   "cell_type": "code",
   "execution_count": null,
   "id": "d359013a",
   "metadata": {},
   "outputs": [],
   "source": [
    "np.sqrt(mean_squared_error(y_test, y_predict))"
   ]
  },
  {
   "cell_type": "markdown",
   "id": "64c3c48f",
   "metadata": {},
   "source": [
    "### XGBoost - EXTREME GRADİENT BOOSTİNG ###"
   ]
  },
  {
   "cell_type": "markdown",
   "id": "7426da18",
   "metadata": {},
   "source": [
    "During training, XGBoost uses parallel computation to build trees across all CPUs. The ‘max depth’ option is used in place of the conventional stopping criteria (i.e., criterion first), and tree pruning is initiated from the backward direction. This greatly enhances XGBoost’s computational efficiency and speed compared to competing GBM frameworks."
   ]
  },
  {
   "cell_type": "code",
   "execution_count": null,
   "id": "bbcfb683",
   "metadata": {},
   "outputs": [],
   "source": [
    "print(X_train.shape, X_test.shape, y_train.shape, y_test.shape)"
   ]
  },
  {
   "cell_type": "code",
   "execution_count": null,
   "id": "63535f27",
   "metadata": {},
   "outputs": [],
   "source": [
    "!pip install xgboost"
   ]
  },
  {
   "cell_type": "code",
   "execution_count": null,
   "id": "8e079948",
   "metadata": {},
   "outputs": [],
   "source": [
    "import xgboost as xgb"
   ]
  },
  {
   "cell_type": "code",
   "execution_count": null,
   "id": "b650499b",
   "metadata": {},
   "outputs": [],
   "source": [
    "dm_train=xgb.DMatrix(data=X_train, label=y_train)\n",
    "dm_test=xgb.DMatrix(data=X_test, label=y_test)"
   ]
  },
  {
   "cell_type": "code",
   "execution_count": null,
   "id": "14c7e741",
   "metadata": {},
   "outputs": [],
   "source": [
    "from xgboost import XGBRegressor"
   ]
  },
  {
   "cell_type": "markdown",
   "id": "95e3517c",
   "metadata": {},
   "source": [
    "MODEL"
   ]
  },
  {
   "cell_type": "code",
   "execution_count": null,
   "id": "d958d66c",
   "metadata": {},
   "outputs": [],
   "source": [
    "model_xgboost=XGBRegressor().fit(X_train, y_train)"
   ]
  },
  {
   "cell_type": "markdown",
   "id": "90cbf60f",
   "metadata": {},
   "source": [
    "PREDİCT"
   ]
  },
  {
   "cell_type": "code",
   "execution_count": null,
   "id": "43b6ef9e",
   "metadata": {},
   "outputs": [],
   "source": [
    "y_predict=model_xgboost.predict(X_test)\n",
    "y_predict[:5]"
   ]
  },
  {
   "cell_type": "code",
   "execution_count": null,
   "id": "1257ff44",
   "metadata": {},
   "outputs": [],
   "source": [
    "np.sqrt(mean_squared_error(y_test, y_predict))"
   ]
  },
  {
   "cell_type": "markdown",
   "id": "69e52b7f",
   "metadata": {},
   "source": [
    "MODEL TUNİNG"
   ]
  },
  {
   "cell_type": "code",
   "execution_count": null,
   "id": "46e3fc07",
   "metadata": {},
   "outputs": [],
   "source": [
    "xgb_params={'colsample_bytree':[0.4,0.5,0.6], 'n_estimators':[200,300,500,1000,2000], 'max_depth':[3,5,7,10], 'learning_rate':[0.001,0.01,0.01,0.1]}"
   ]
  },
  {
   "cell_type": "code",
   "execution_count": null,
   "id": "7c4d43eb",
   "metadata": {},
   "outputs": [],
   "source": [
    "model_XGBoost_cv=GridSearchCV(XGBRegressor(), xgb_params, cv=10, n_jobs=-1, verbose=2)"
   ]
  },
  {
   "cell_type": "code",
   "execution_count": null,
   "id": "5cb18911",
   "metadata": {},
   "outputs": [],
   "source": [
    "model_XGBoost_cv.fit(X_train, y_train)"
   ]
  },
  {
   "cell_type": "code",
   "execution_count": null,
   "id": "db504159",
   "metadata": {},
   "outputs": [],
   "source": [
    "model_XGBoost_cv.best.params_"
   ]
  },
  {
   "cell_type": "code",
   "execution_count": null,
   "id": "ed3f6632",
   "metadata": {},
   "outputs": [],
   "source": [
    "fınally_model=XGBRegressor(learning_rate=0.01, max_depth=3, n_estimators=300, colsample_bytree=0.4)"
   ]
  },
  {
   "cell_type": "markdown",
   "id": "5746cfa9",
   "metadata": {},
   "source": [
    "PREDİCT"
   ]
  },
  {
   "cell_type": "code",
   "execution_count": null,
   "id": "bef5ce95",
   "metadata": {},
   "outputs": [],
   "source": [
    "y_predict=fınally_model.predict(X_test)"
   ]
  },
  {
   "cell_type": "code",
   "execution_count": null,
   "id": "40f8f7ac",
   "metadata": {},
   "outputs": [],
   "source": [
    "np.sqrt(mean_squared_error(y_test, y_predict))"
   ]
  },
  {
   "cell_type": "markdown",
   "id": "c14547f4",
   "metadata": {},
   "source": [
    "### LIGHT GBM ###"
   ]
  },
  {
   "cell_type": "markdown",
   "id": "01e141fd",
   "metadata": {},
   "source": [
    "LightGBM is a gradient boosting framework based on decision trees to increases the efficiency of the model and reduces memory usage.It is more efficient than XGBoost. "
   ]
  },
  {
   "cell_type": "code",
   "execution_count": null,
   "id": "cab977e2",
   "metadata": {},
   "outputs": [],
   "source": [
    "!pip install light gbm"
   ]
  },
  {
   "cell_type": "code",
   "execution_count": null,
   "id": "bcc8f887",
   "metadata": {},
   "outputs": [],
   "source": [
    "from lightgbm import LGBMRegressor"
   ]
  },
  {
   "cell_type": "code",
   "execution_count": null,
   "id": "7392e9db",
   "metadata": {},
   "outputs": [],
   "source": [
    "conda install -c conda -forge lightgbm"
   ]
  },
  {
   "cell_type": "markdown",
   "id": "ac155c19",
   "metadata": {},
   "source": [
    "MODEL"
   ]
  },
  {
   "cell_type": "code",
   "execution_count": null,
   "id": "f760cf01",
   "metadata": {},
   "outputs": [],
   "source": [
    "model_lgbm=LGBMRegressor.fit(X_train, y_train)"
   ]
  },
  {
   "cell_type": "markdown",
   "id": "817d143a",
   "metadata": {},
   "source": [
    "PREDİCT"
   ]
  },
  {
   "cell_type": "code",
   "execution_count": null,
   "id": "068a8701",
   "metadata": {},
   "outputs": [],
   "source": [
    "y_predict=model_lgbm.predict(X_test, num_iteration=model_gbm.best_iteration_)"
   ]
  },
  {
   "cell_type": "code",
   "execution_count": null,
   "id": "d118c5ce",
   "metadata": {},
   "outputs": [],
   "source": [
    "np.sqrt(mean_squared_error(y_test, y_predict))"
   ]
  },
  {
   "cell_type": "code",
   "execution_count": null,
   "id": "7bda2687",
   "metadata": {},
   "outputs": [],
   "source": [
    "lgbm_params={'learning_rate':[0.01,0.05,0.1,0.2], 'n_estimators':[20,50,80,500,1000,2000], 'max_depth':[2,3,4,5], 'colsample_bytree':[0.01,0.1,0.4,0.8]}"
   ]
  },
  {
   "cell_type": "code",
   "execution_count": null,
   "id": "698eff2d",
   "metadata": {},
   "outputs": [],
   "source": [
    "model_lgbm_cv=GridSearchCV(LGBMRegressor(), lgbm_params, cv=10, n_jobs=-1, verbose=2).fit(X_train, y_train)"
   ]
  },
  {
   "cell_type": "code",
   "execution_count": null,
   "id": "41c08611",
   "metadata": {},
   "outputs": [],
   "source": [
    "model_lgbm_cv.best_params_"
   ]
  },
  {
   "cell_type": "markdown",
   "id": "af11b105",
   "metadata": {},
   "source": [
    "FINALLY MODEL"
   ]
  },
  {
   "cell_type": "code",
   "execution_count": null,
   "id": "8d0aa50d",
   "metadata": {},
   "outputs": [],
   "source": [
    "finally_model=LGBMRegressor(learning_rate=0.01, n_estimators=7, max_depth=2, colsample_bytree=0.4).fit(X_train, y_train)"
   ]
  },
  {
   "cell_type": "code",
   "execution_count": null,
   "id": "18c44362",
   "metadata": {},
   "outputs": [],
   "source": [
    "y_predict=finally_model.predict(X_test)"
   ]
  },
  {
   "cell_type": "code",
   "execution_count": null,
   "id": "861bc108",
   "metadata": {},
   "outputs": [],
   "source": [
    "np.sqrt(mean_squared_error(y_test, y_predict))"
   ]
  },
  {
   "cell_type": "markdown",
   "id": "9f5ad43f",
   "metadata": {},
   "source": [
    "### CATBOOST - Category Boosting ###"
   ]
  },
  {
   "cell_type": "markdown",
   "id": "f0720185",
   "metadata": {},
   "source": [
    "One of CatBoost’s core edges is its ability to integrate a variety of different data types, such as images, audio, or text features into one framework. But CatBoost also offers an idiosyncratic way of handling categorical data, requiring a minimum of categorical feature transformation, opposed to the majority of other machine learning algorithms, that cannot handle non-numeric values. "
   ]
  },
  {
   "cell_type": "code",
   "execution_count": null,
   "id": "e0bd3e4d",
   "metadata": {},
   "outputs": [],
   "source": [
    "print(X_train.shape, X_test.shape, y_train.shape, y_test.shape)"
   ]
  },
  {
   "cell_type": "code",
   "execution_count": null,
   "id": "9edf0ee5",
   "metadata": {},
   "outputs": [],
   "source": [
    "!pip install catboost"
   ]
  },
  {
   "cell_type": "code",
   "execution_count": null,
   "id": "08640f70",
   "metadata": {},
   "outputs": [],
   "source": [
    "from catboost import CatBoostRegressor"
   ]
  },
  {
   "cell_type": "markdown",
   "id": "0ac8a07b",
   "metadata": {},
   "source": [
    "MODEL"
   ]
  },
  {
   "cell_type": "code",
   "execution_count": null,
   "id": "e4dd1696",
   "metadata": {},
   "outputs": [],
   "source": [
    "model_cat_boost=CatBoostRegressor().fit(X_train, y_train)"
   ]
  },
  {
   "cell_type": "markdown",
   "id": "e8dd2e69",
   "metadata": {},
   "source": [
    "PREDİCT"
   ]
  },
  {
   "cell_type": "code",
   "execution_count": null,
   "id": "94577ea7",
   "metadata": {},
   "outputs": [],
   "source": [
    "y_predict=model_cat_boost.predict(X_test)\n",
    "y_predict"
   ]
  },
  {
   "cell_type": "code",
   "execution_count": null,
   "id": "15fc16d3",
   "metadata": {},
   "outputs": [],
   "source": [
    "np.sqrt(mean_squared_error(y_test, y_predict))"
   ]
  },
  {
   "cell_type": "code",
   "execution_count": null,
   "id": "3c482ed2",
   "metadata": {},
   "outputs": [],
   "source": [
    "cboost_params={'iteration':[200,500,1000,2500], 'depth':[2,3,4,6,7], 'learning_rate':[0.01,0.2,0.3,0.5]}"
   ]
  },
  {
   "cell_type": "code",
   "execution_count": null,
   "id": "b13e5848",
   "metadata": {},
   "outputs": [],
   "source": [
    "model_cat_boost_cv=GridSearchCV(CatBoostRegressor(), cboost_params, cv=10, n_jobs=-1, verbose=2).fit(X_train, y_train)"
   ]
  },
  {
   "cell_type": "code",
   "execution_count": null,
   "id": "4e7fbd2b",
   "metadata": {},
   "outputs": [],
   "source": [
    "model_cat_boost_cv.best_params_"
   ]
  },
  {
   "cell_type": "code",
   "execution_count": null,
   "id": "4ca756b9",
   "metadata": {},
   "outputs": [],
   "source": [
    "finally_model=CatBoostRegressor(iteration=200, depth=3, learning_rate=0.2).fit(X_train, y_train)"
   ]
  },
  {
   "cell_type": "markdown",
   "id": "ef5d8158",
   "metadata": {},
   "source": [
    "PREDİCT"
   ]
  },
  {
   "cell_type": "code",
   "execution_count": null,
   "id": "63093f03",
   "metadata": {},
   "outputs": [],
   "source": [
    "y_predict=finally_model.predict(X_test)"
   ]
  },
  {
   "cell_type": "code",
   "execution_count": null,
   "id": "8f7eab52",
   "metadata": {},
   "outputs": [],
   "source": [
    "np.sqrt(mean_squared_error(y_test, y_predict))"
   ]
  }
 ],
 "metadata": {
  "kernelspec": {
   "display_name": "Python 3",
   "language": "python",
   "name": "python3"
  },
  "language_info": {
   "codemirror_mode": {
    "name": "ipython",
    "version": 3
   },
   "file_extension": ".py",
   "mimetype": "text/x-python",
   "name": "python",
   "nbconvert_exporter": "python",
   "pygments_lexer": "ipython3",
   "version": "3.7.0"
  }
 },
 "nbformat": 4,
 "nbformat_minor": 5
}
